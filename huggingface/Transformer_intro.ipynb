{
 "cells": [
  {
   "cell_type": "markdown",
   "id": "9dd3f3d5",
   "metadata": {},
   "source": [
    "# Huggingface Transformers"
   ]
  },
  {
   "cell_type": "markdown",
   "id": "e961b974",
   "metadata": {},
   "source": [
    "Huggingface has many pipelines to explore. I am following the <a href=\"https://huggingface.co/course/chapter1/3?fw=pt\">course</a> from Huggingface and trying out my own examples."
   ]
  },
  {
   "cell_type": "code",
   "execution_count": 1,
   "id": "2cbc26e3",
   "metadata": {},
   "outputs": [],
   "source": [
    "# For google colab, run this.\n",
    "# !pip install \"transformers[sentencepiece]\""
   ]
  },
  {
   "cell_type": "markdown",
   "id": "71bca25d",
   "metadata": {
    "heading_collapsed": true
   },
   "source": [
    "## Sentiment-analysis"
   ]
  },
  {
   "cell_type": "code",
   "execution_count": 1,
   "id": "c458ab49",
   "metadata": {
    "hidden": true
   },
   "outputs": [
    {
     "name": "stderr",
     "output_type": "stream",
     "text": [
      "No model was supplied, defaulted to distilbert-base-uncased-finetuned-sst-2-english (https://huggingface.co/distilbert-base-uncased-finetuned-sst-2-english)\n"
     ]
    },
    {
     "data": {
      "text/plain": [
       "[{'label': 'POSITIVE', 'score': 0.9598048329353333}]"
      ]
     },
     "execution_count": 1,
     "metadata": {},
     "output_type": "execute_result"
    }
   ],
   "source": [
    "from transformers import pipeline\n",
    "\n",
    "classifier = pipeline(\"sentiment-analysis\")\n",
    "classifier(\"I've been waiting for a HuggingFace course my whole life.\")"
   ]
  },
  {
   "cell_type": "markdown",
   "id": "d5ae76e4",
   "metadata": {
    "hidden": true
   },
   "source": [
    "Just from downloading a model, we can easily use it. Let's try something else."
   ]
  },
  {
   "cell_type": "code",
   "execution_count": 2,
   "id": "cd50da09",
   "metadata": {
    "hidden": true
   },
   "outputs": [
    {
     "data": {
      "text/plain": [
       "[{'label': 'NEGATIVE', 'score': 0.994057297706604}]"
      ]
     },
     "execution_count": 2,
     "metadata": {},
     "output_type": "execute_result"
    }
   ],
   "source": [
    "classifier(\"I want a hotdog.\")"
   ]
  },
  {
   "cell_type": "code",
   "execution_count": 3,
   "id": "eaf64fff",
   "metadata": {
    "hidden": true
   },
   "outputs": [
    {
     "data": {
      "text/plain": [
       "[{'label': 'NEGATIVE', 'score': 0.9996824264526367}]"
      ]
     },
     "execution_count": 3,
     "metadata": {},
     "output_type": "execute_result"
    }
   ],
   "source": [
    "classifier(\"Oh, I really can't wait to waste my time at work today. :)\")"
   ]
  },
  {
   "cell_type": "code",
   "execution_count": 4,
   "id": "0e3e6808",
   "metadata": {
    "hidden": true
   },
   "outputs": [
    {
     "data": {
      "text/plain": [
       "[{'label': 'POSITIVE', 'score': 0.9997857213020325}]"
      ]
     },
     "execution_count": 4,
     "metadata": {},
     "output_type": "execute_result"
    }
   ],
   "source": [
    "classifier(\"I am so full.\")"
   ]
  },
  {
   "cell_type": "code",
   "execution_count": 5,
   "id": "cead91b7",
   "metadata": {
    "hidden": true
   },
   "outputs": [
    {
     "data": {
      "text/plain": [
       "[{'label': 'NEGATIVE', 'score': 0.9731490612030029}]"
      ]
     },
     "execution_count": 5,
     "metadata": {},
     "output_type": "execute_result"
    }
   ],
   "source": [
    "classifier(\"I am so stuffed\")"
   ]
  },
  {
   "cell_type": "code",
   "execution_count": 6,
   "id": "982d7f8d",
   "metadata": {
    "hidden": true
   },
   "outputs": [
    {
     "data": {
      "text/plain": [
       "[{'label': 'POSITIVE', 'score': 0.795582115650177}]"
      ]
     },
     "execution_count": 6,
     "metadata": {},
     "output_type": "execute_result"
    }
   ],
   "source": [
    "classifier(\"I am so stuffed!\")"
   ]
  },
  {
   "cell_type": "markdown",
   "id": "b3fbc995",
   "metadata": {
    "hidden": true
   },
   "source": [
    "I am very imprssed with results, but there are some mysterious outcomes as well. How can adding an exclamation to the same sentence change the sentiment from negative to positive? And why does \"I want a hotdog.\" have 99% negative?"
   ]
  },
  {
   "cell_type": "markdown",
   "id": "85bf8e44",
   "metadata": {
    "hidden": true
   },
   "source": [
    "But it is nice to pass different number of sentences int othe classifier."
   ]
  },
  {
   "cell_type": "code",
   "execution_count": 8,
   "id": "fcf13344",
   "metadata": {
    "hidden": true
   },
   "outputs": [
    {
     "data": {
      "text/plain": [
       "[{'label': 'POSITIVE', 'score': 0.9598048329353333},\n",
       " {'label': 'NEGATIVE', 'score': 0.9994558691978455}]"
      ]
     },
     "execution_count": 8,
     "metadata": {},
     "output_type": "execute_result"
    }
   ],
   "source": [
    "classifier(\n",
    "    [\"I've been waiting for a HuggingFace course my whole life.\", \"I hate this so much!\"]\n",
    ")"
   ]
  },
  {
   "cell_type": "markdown",
   "id": "f09e7736",
   "metadata": {
    "heading_collapsed": true
   },
   "source": [
    "## Zero Shot Classification"
   ]
  },
  {
   "cell_type": "markdown",
   "id": "ce004239",
   "metadata": {
    "hidden": true
   },
   "source": [
    "In binder, running zero-shot-classification fails and kills the kernel. :("
   ]
  },
  {
   "cell_type": "code",
   "execution_count": 5,
   "id": "4b0e8147",
   "metadata": {
    "hidden": true
   },
   "outputs": [
    {
     "name": "stderr",
     "output_type": "stream",
     "text": [
      "No model was supplied, defaulted to facebook/bart-large-mnli (https://huggingface.co/facebook/bart-large-mnli)\n"
     ]
    },
    {
     "data": {
      "text/plain": [
       "{'sequence': 'This is a course about the Transformers library',\n",
       " 'labels': ['education', 'business', 'politics'],\n",
       " 'scores': [0.8445993661880493, 0.11197400093078613, 0.04342660307884216]}"
      ]
     },
     "execution_count": 5,
     "metadata": {},
     "output_type": "execute_result"
    }
   ],
   "source": [
    "# This cell may fail in binder.\n",
    "from transformers import pipeline\n",
    "\n",
    "classifier = pipeline(\"zero-shot-classification\")\n",
    "classifier(\n",
    "    \"This is a course about the Transformers library\",\n",
    "    candidate_labels=[\"education\", \"politics\", \"business\"],\n",
    ")"
   ]
  },
  {
   "cell_type": "code",
   "execution_count": 10,
   "id": "a6d2495e",
   "metadata": {
    "hidden": true
   },
   "outputs": [
    {
     "data": {
      "text/plain": [
       "{'sequence': 'I must have a hotdog for the baseball game',\n",
       " 'labels': ['food', 'sports', 'game', 'business', 'politics'],\n",
       " 'scores': [0.413107693195343,\n",
       "  0.4104064106941223,\n",
       "  0.17006781697273254,\n",
       "  0.005597190000116825,\n",
       "  0.0008209337247535586]}"
      ]
     },
     "execution_count": 10,
     "metadata": {},
     "output_type": "execute_result"
    }
   ],
   "source": [
    "classifier(\n",
    "    \"I must have a hotdog for the baseball game\",\n",
    "    candidate_labels=[\"game\", \"sports\", \"politics\", \"business\", \"food\"],\n",
    ")"
   ]
  },
  {
   "cell_type": "markdown",
   "id": "134f2e52",
   "metadata": {
    "hidden": true
   },
   "source": [
    "These are very interesting result. "
   ]
  },
  {
   "cell_type": "markdown",
   "id": "d884ce62",
   "metadata": {
    "heading_collapsed": true
   },
   "source": [
    "## Text generation"
   ]
  },
  {
   "cell_type": "markdown",
   "id": "85a7e215",
   "metadata": {
    "hidden": true
   },
   "source": [
    "Generating text is very fun. I had a lot of fun making things up."
   ]
  },
  {
   "cell_type": "code",
   "execution_count": 6,
   "id": "93be5716",
   "metadata": {
    "hidden": true
   },
   "outputs": [
    {
     "name": "stderr",
     "output_type": "stream",
     "text": [
      "No model was supplied, defaulted to gpt2 (https://huggingface.co/gpt2)\n",
      "Setting `pad_token_id` to `eos_token_id`:50256 for open-end generation.\n"
     ]
    },
    {
     "data": {
      "text/plain": [
       "[{'generated_text': \"In this course, we will teach you how to create and use a web service in Python.\\n\\nThis class is intended for seasoned engineers who know Python, who haven't done anything in the past when writing web applications. We'll help you build\"}]"
      ]
     },
     "execution_count": 6,
     "metadata": {},
     "output_type": "execute_result"
    }
   ],
   "source": [
    "from transformers import pipeline\n",
    "\n",
    "generator = pipeline(\"text-generation\")\n",
    "generator(\"In this course, we will teach you how to\")"
   ]
  },
  {
   "cell_type": "markdown",
   "id": "11c56c29",
   "metadata": {
    "hidden": true
   },
   "source": [
    "This seems fun. I can generate a story to read or start writing."
   ]
  },
  {
   "cell_type": "code",
   "execution_count": 12,
   "id": "d0efb0ec",
   "metadata": {
    "hidden": true
   },
   "outputs": [
    {
     "name": "stderr",
     "output_type": "stream",
     "text": [
      "Setting `pad_token_id` to `eos_token_id`:50256 for open-end generation.\n"
     ]
    },
    {
     "data": {
      "text/plain": [
       "[{'generated_text': 'When I go to grocery shopping, \\xa0the last thing I want is for people in my family or for someone in my church or any other gathering place to be wearing a hoodie and carrying any other sort of makeup, but for me that always'}]"
      ]
     },
     "execution_count": 12,
     "metadata": {},
     "output_type": "execute_result"
    }
   ],
   "source": [
    "generator(\"When I go to grocery shopping, \")"
   ]
  },
  {
   "cell_type": "markdown",
   "id": "556f1574",
   "metadata": {
    "hidden": true
   },
   "source": [
    "When I don't know what I want to eat for dinner, I can generate an answer."
   ]
  },
  {
   "cell_type": "code",
   "execution_count": 13,
   "id": "ba113ac5",
   "metadata": {
    "hidden": true
   },
   "outputs": [
    {
     "name": "stderr",
     "output_type": "stream",
     "text": [
      "Setting `pad_token_id` to `eos_token_id`:50256 for open-end generation.\n"
     ]
    },
    {
     "data": {
      "text/plain": [
       "[{'generated_text': 'For dinner, I want to eat \\xa0a huge bowl of stew \\xa0with \\xa0a\\xa0greater volume. Once this is done, I pour \\xa0salsa of chiles in the bottom of the bowl with my white wine or'}]"
      ]
     },
     "execution_count": 13,
     "metadata": {},
     "output_type": "execute_result"
    }
   ],
   "source": [
    "generator(\"For dinner, I want to eat \")"
   ]
  },
  {
   "cell_type": "markdown",
   "id": "c852fa46",
   "metadata": {
    "hidden": true
   },
   "source": [
    "I can even figure out the meaning of life."
   ]
  },
  {
   "cell_type": "code",
   "execution_count": 14,
   "id": "6b3cf828",
   "metadata": {
    "hidden": true
   },
   "outputs": [
    {
     "name": "stderr",
     "output_type": "stream",
     "text": [
      "Setting `pad_token_id` to `eos_token_id`:50256 for open-end generation.\n"
     ]
    },
    {
     "data": {
      "text/plain": [
       "[{'generated_text': 'Meaning of life is \\xa0the value to me of living in my own way. And as I see things at work, so too with life, I see opportunities that bring me to them in the way that I really love our lives. How'}]"
      ]
     },
     "execution_count": 14,
     "metadata": {},
     "output_type": "execute_result"
    }
   ],
   "source": [
    "generator(\"Meaning of life is \")"
   ]
  },
  {
   "cell_type": "markdown",
   "id": "f291a8a5",
   "metadata": {
    "hidden": true
   },
   "source": [
    "With <code>num_return_sequences</code>, I can get more options to choose from."
   ]
  },
  {
   "cell_type": "code",
   "execution_count": 15,
   "id": "be5eaf22",
   "metadata": {
    "hidden": true
   },
   "outputs": [
    {
     "name": "stderr",
     "output_type": "stream",
     "text": [
      "Setting `pad_token_id` to `eos_token_id`:50256 for open-end generation.\n"
     ]
    },
    {
     "data": {
      "text/plain": [
       "[{'generated_text': \"For the vacation, I want to \\xa0explain what I like, why I like it, and what I wouldn't be doing if I only had $1,000,000.00. I don't have to explain something that I'm\"},\n",
       " {'generated_text': \"For the vacation, I want to iced tea. There is a table to sit down to discuss my recent experience, but I'm sure anyone can make it. A quick note on how tea is different from a traditional beverage: most of the tea\"}]"
      ]
     },
     "execution_count": 15,
     "metadata": {},
     "output_type": "execute_result"
    }
   ],
   "source": [
    "generator(\"For the vacation, I want to \", num_return_sequences=2)"
   ]
  },
  {
   "cell_type": "markdown",
   "id": "68187999",
   "metadata": {
    "hidden": true
   },
   "source": [
    "When I want shorter options, I can limit it with <code>max_length</code>."
   ]
  },
  {
   "cell_type": "code",
   "execution_count": 17,
   "id": "92e3cf67",
   "metadata": {
    "hidden": true
   },
   "outputs": [
    {
     "name": "stderr",
     "output_type": "stream",
     "text": [
      "Setting `pad_token_id` to `eos_token_id`:50256 for open-end generation.\n"
     ]
    },
    {
     "data": {
      "text/plain": [
       "[{'generated_text': 'When I visited Uzbekistan, \\xa0at least some aspects of my life were very familiar to me and I was still somewhat shaken up but my mind'},\n",
       " {'generated_text': 'When I visited Uzbekistan, \\xa0I felt very different. I knew that all in all the people were quite generous with their taxes. It took'},\n",
       " {'generated_text': \"When I visited Uzbekistan, \\xa0it became clear how hard it must be to stay, let alone manage one's daily life. I was introduced\"}]"
      ]
     },
     "execution_count": 17,
     "metadata": {},
     "output_type": "execute_result"
    }
   ],
   "source": [
    "generator(\"When I visited Uzbekistan, \", max_length=30, num_return_sequences=3)"
   ]
  },
  {
   "cell_type": "markdown",
   "id": "8e4e3af1",
   "metadata": {
    "hidden": true
   },
   "source": [
    "Pipelines can also be used with other models. This uses distilgpt2. "
   ]
  },
  {
   "cell_type": "code",
   "execution_count": 18,
   "id": "473dcd35",
   "metadata": {
    "hidden": true
   },
   "outputs": [
    {
     "data": {
      "application/vnd.jupyter.widget-view+json": {
       "model_id": "d9bbb16310f045569e7d60c606a2c378",
       "version_major": 2,
       "version_minor": 0
      },
      "text/plain": [
       "Downloading:   0%|          | 0.00/762 [00:00<?, ?B/s]"
      ]
     },
     "metadata": {},
     "output_type": "display_data"
    },
    {
     "data": {
      "application/vnd.jupyter.widget-view+json": {
       "model_id": "462cfffa734341ad8b8d50208855758d",
       "version_major": 2,
       "version_minor": 0
      },
      "text/plain": [
       "Downloading:   0%|          | 0.00/336M [00:00<?, ?B/s]"
      ]
     },
     "metadata": {},
     "output_type": "display_data"
    },
    {
     "data": {
      "application/vnd.jupyter.widget-view+json": {
       "model_id": "c0392a79d9a54e0d8b6a494b04d685ce",
       "version_major": 2,
       "version_minor": 0
      },
      "text/plain": [
       "Downloading:   0%|          | 0.00/0.99M [00:00<?, ?B/s]"
      ]
     },
     "metadata": {},
     "output_type": "display_data"
    },
    {
     "data": {
      "application/vnd.jupyter.widget-view+json": {
       "model_id": "56d04f7d1ce04a8fa206d69fee3d09bf",
       "version_major": 2,
       "version_minor": 0
      },
      "text/plain": [
       "Downloading:   0%|          | 0.00/446k [00:00<?, ?B/s]"
      ]
     },
     "metadata": {},
     "output_type": "display_data"
    },
    {
     "data": {
      "application/vnd.jupyter.widget-view+json": {
       "model_id": "1dab248669034f7eb32cf1874ca19204",
       "version_major": 2,
       "version_minor": 0
      },
      "text/plain": [
       "Downloading:   0%|          | 0.00/1.29M [00:00<?, ?B/s]"
      ]
     },
     "metadata": {},
     "output_type": "display_data"
    },
    {
     "name": "stderr",
     "output_type": "stream",
     "text": [
      "Setting `pad_token_id` to `eos_token_id`:50256 for open-end generation.\n"
     ]
    },
    {
     "data": {
      "text/plain": [
       "[{'generated_text': 'In this course, we will teach you how to make your own choices and will teach you how to make your own choices. While we will be teaching'},\n",
       " {'generated_text': 'In this course, we will teach you how to apply and change to the game as you prepare. You may notice that certain types of characters are used'}]"
      ]
     },
     "execution_count": 18,
     "metadata": {},
     "output_type": "execute_result"
    }
   ],
   "source": [
    "from transformers import pipeline\n",
    "\n",
    "generator = pipeline(\"text-generation\", model=\"distilgpt2\")\n",
    "generator(\n",
    "    \"In this course, we will teach you how to\",\n",
    "    max_length=30,\n",
    "    num_return_sequences=2,\n",
    ")"
   ]
  },
  {
   "cell_type": "markdown",
   "id": "3b85d0a3",
   "metadata": {
    "heading_collapsed": true
   },
   "source": [
    "## Fill Mask"
   ]
  },
  {
   "cell_type": "markdown",
   "id": "02b39f2a",
   "metadata": {
    "hidden": true
   },
   "source": [
    "With fill-mask, it is possible to solve fill in the blanks questions."
   ]
  },
  {
   "cell_type": "code",
   "execution_count": 19,
   "id": "8fce6e37",
   "metadata": {
    "hidden": true
   },
   "outputs": [
    {
     "name": "stderr",
     "output_type": "stream",
     "text": [
      "No model was supplied, defaulted to distilroberta-base (https://huggingface.co/distilroberta-base)\n"
     ]
    },
    {
     "data": {
      "application/vnd.jupyter.widget-view+json": {
       "model_id": "7be8c102da1b481489a6310666e4642e",
       "version_major": 2,
       "version_minor": 0
      },
      "text/plain": [
       "Downloading:   0%|          | 0.00/480 [00:00<?, ?B/s]"
      ]
     },
     "metadata": {},
     "output_type": "display_data"
    },
    {
     "data": {
      "application/vnd.jupyter.widget-view+json": {
       "model_id": "4f0342c05595480d83a8c580a90f0b35",
       "version_major": 2,
       "version_minor": 0
      },
      "text/plain": [
       "Downloading:   0%|          | 0.00/316M [00:00<?, ?B/s]"
      ]
     },
     "metadata": {},
     "output_type": "display_data"
    },
    {
     "data": {
      "application/vnd.jupyter.widget-view+json": {
       "model_id": "342fa2aaca2946548767c21d0a8bb451",
       "version_major": 2,
       "version_minor": 0
      },
      "text/plain": [
       "Downloading:   0%|          | 0.00/878k [00:00<?, ?B/s]"
      ]
     },
     "metadata": {},
     "output_type": "display_data"
    },
    {
     "data": {
      "application/vnd.jupyter.widget-view+json": {
       "model_id": "e74937b49c8c452196938be5ee330cc4",
       "version_major": 2,
       "version_minor": 0
      },
      "text/plain": [
       "Downloading:   0%|          | 0.00/446k [00:00<?, ?B/s]"
      ]
     },
     "metadata": {},
     "output_type": "display_data"
    },
    {
     "data": {
      "application/vnd.jupyter.widget-view+json": {
       "model_id": "77c1f2070e0e4b699436b2df4177d4c8",
       "version_major": 2,
       "version_minor": 0
      },
      "text/plain": [
       "Downloading:   0%|          | 0.00/1.29M [00:00<?, ?B/s]"
      ]
     },
     "metadata": {},
     "output_type": "display_data"
    },
    {
     "data": {
      "text/plain": [
       "[{'score': 0.19619765877723694,\n",
       "  'token': 30412,\n",
       "  'token_str': ' mathematical',\n",
       "  'sequence': 'This course will teach you all about mathematical models.'},\n",
       " {'score': 0.04052719473838806,\n",
       "  'token': 38163,\n",
       "  'token_str': ' computational',\n",
       "  'sequence': 'This course will teach you all about computational models.'}]"
      ]
     },
     "execution_count": 19,
     "metadata": {},
     "output_type": "execute_result"
    }
   ],
   "source": [
    "from transformers import pipeline\n",
    "\n",
    "unmasker = pipeline(\"fill-mask\")\n",
    "unmasker(\"This course will teach you all about <mask> models.\", top_k=2)"
   ]
  },
  {
   "cell_type": "markdown",
   "id": "b55cfe67",
   "metadata": {
    "hidden": true
   },
   "source": [
    "Although it is not very skilled, the unmasker knows it has to be an adjective and color. "
   ]
  },
  {
   "cell_type": "code",
   "execution_count": 20,
   "id": "74e492e0",
   "metadata": {
    "hidden": true
   },
   "outputs": [
    {
     "data": {
      "text/plain": [
       "[{'score': 0.1129533052444458,\n",
       "  'token': 14327,\n",
       "  'token_str': ' purple',\n",
       "  'sequence': 'The strawberry is a juicy, edible fruit which has a purple color when it is ripe.'},\n",
       " {'score': 0.09302297234535217,\n",
       "  'token': 5718,\n",
       "  'token_str': ' yellow',\n",
       "  'sequence': 'The strawberry is a juicy, edible fruit which has a yellow color when it is ripe.'},\n",
       " {'score': 0.09059570729732513,\n",
       "  'token': 9030,\n",
       "  'token_str': ' golden',\n",
       "  'sequence': 'The strawberry is a juicy, edible fruit which has a golden color when it is ripe.'},\n",
       " {'score': 0.0816061869263649,\n",
       "  'token': 6907,\n",
       "  'token_str': ' pink',\n",
       "  'sequence': 'The strawberry is a juicy, edible fruit which has a pink color when it is ripe.'},\n",
       " {'score': 0.05910441651940346,\n",
       "  'token': 11577,\n",
       "  'token_str': ' vibrant',\n",
       "  'sequence': 'The strawberry is a juicy, edible fruit which has a vibrant color when it is ripe.'}]"
      ]
     },
     "execution_count": 20,
     "metadata": {},
     "output_type": "execute_result"
    }
   ],
   "source": [
    "unmasker(\"The strawberry is a juicy, edible fruit which has a <mask> color when it is ripe.\")"
   ]
  },
  {
   "cell_type": "markdown",
   "id": "0e88802b",
   "metadata": {
    "hidden": true
   },
   "source": [
    "It is kind of weird to find out that \"Humans have four legs\" has higher score than \"Humans have two legs.\""
   ]
  },
  {
   "cell_type": "code",
   "execution_count": 21,
   "id": "70b2b834",
   "metadata": {
    "hidden": true
   },
   "outputs": [
    {
     "data": {
      "text/plain": [
       "[{'score': 0.049486029893159866,\n",
       "  'token': 10941,\n",
       "  'token_str': ' shorter',\n",
       "  'sequence': 'Humans have shorter legs.'},\n",
       " {'score': 0.04859047755599022,\n",
       "  'token': 251,\n",
       "  'token_str': ' long',\n",
       "  'sequence': 'Humans have long legs.'},\n",
       " {'score': 0.04257293418049812,\n",
       "  'token': 237,\n",
       "  'token_str': ' four',\n",
       "  'sequence': 'Humans have four legs.'},\n",
       " {'score': 0.033590491861104965,\n",
       "  'token': 80,\n",
       "  'token_str': ' two',\n",
       "  'sequence': 'Humans have two legs.'},\n",
       " {'score': 0.029865659773349762,\n",
       "  'token': 765,\n",
       "  'token_str': ' short',\n",
       "  'sequence': 'Humans have short legs.'}]"
      ]
     },
     "execution_count": 21,
     "metadata": {},
     "output_type": "execute_result"
    }
   ],
   "source": [
    "unmasker(\"Humans have <mask> legs.\")"
   ]
  },
  {
   "cell_type": "markdown",
   "id": "bddf6b8b",
   "metadata": {
    "heading_collapsed": true
   },
   "source": [
    "## Named Entity Recognization"
   ]
  },
  {
   "cell_type": "markdown",
   "id": "d318abb7",
   "metadata": {
    "hidden": true
   },
   "source": [
    "Running unmasker on bert-base-cased model on my computer does not work. I had to restart mine. Then, I had to try it out on Inference API widget on hugginface website."
   ]
  },
  {
   "cell_type": "code",
   "execution_count": 22,
   "id": "ac75411e",
   "metadata": {
    "hidden": true
   },
   "outputs": [
    {
     "name": "stderr",
     "output_type": "stream",
     "text": [
      "No model was supplied, defaulted to dbmdz/bert-large-cased-finetuned-conll03-english (https://huggingface.co/dbmdz/bert-large-cased-finetuned-conll03-english)\n"
     ]
    },
    {
     "data": {
      "application/vnd.jupyter.widget-view+json": {
       "model_id": "d5992cbb830a4d729e4bb818becc445c",
       "version_major": 2,
       "version_minor": 0
      },
      "text/plain": [
       "Downloading:   0%|          | 0.00/998 [00:00<?, ?B/s]"
      ]
     },
     "metadata": {},
     "output_type": "display_data"
    },
    {
     "data": {
      "application/vnd.jupyter.widget-view+json": {
       "model_id": "d6d2e1c2d29c41f096af74531517afc5",
       "version_major": 2,
       "version_minor": 0
      },
      "text/plain": [
       "Downloading:   0%|          | 0.00/1.24G [00:00<?, ?B/s]"
      ]
     },
     "metadata": {},
     "output_type": "display_data"
    },
    {
     "data": {
      "application/vnd.jupyter.widget-view+json": {
       "model_id": "17fd992311894e16bf7a051e65c57d1b",
       "version_major": 2,
       "version_minor": 0
      },
      "text/plain": [
       "Downloading:   0%|          | 0.00/60.0 [00:00<?, ?B/s]"
      ]
     },
     "metadata": {},
     "output_type": "display_data"
    },
    {
     "data": {
      "application/vnd.jupyter.widget-view+json": {
       "model_id": "578caf37df5149a695b63cabd904a99e",
       "version_major": 2,
       "version_minor": 0
      },
      "text/plain": [
       "Downloading:   0%|          | 0.00/208k [00:00<?, ?B/s]"
      ]
     },
     "metadata": {},
     "output_type": "display_data"
    },
    {
     "name": "stderr",
     "output_type": "stream",
     "text": [
      "/home/kappa/miniconda3/lib/python3.9/site-packages/transformers/pipelines/token_classification.py:135: UserWarning: `grouped_entities` is deprecated and will be removed in version v5.0.0, defaulted to `aggregation_strategy=\"AggregationStrategy.SIMPLE\"` instead.\n",
      "  warnings.warn(\n"
     ]
    },
    {
     "data": {
      "text/plain": [
       "[{'entity_group': 'PER',\n",
       "  'score': 0.9981694,\n",
       "  'word': 'Sylvain',\n",
       "  'start': 11,\n",
       "  'end': 18},\n",
       " {'entity_group': 'ORG',\n",
       "  'score': 0.9796019,\n",
       "  'word': 'Hugging Face',\n",
       "  'start': 33,\n",
       "  'end': 45},\n",
       " {'entity_group': 'LOC',\n",
       "  'score': 0.9932106,\n",
       "  'word': 'Brooklyn',\n",
       "  'start': 49,\n",
       "  'end': 57}]"
      ]
     },
     "execution_count": 22,
     "metadata": {},
     "output_type": "execute_result"
    }
   ],
   "source": [
    "from transformers import pipeline\n",
    "\n",
    "ner = pipeline(\"ner\", grouped_entities=True)\n",
    "ner(\"My name is Sylvain and I work at Hugging Face in Brooklyn.\")"
   ]
  },
  {
   "cell_type": "code",
   "execution_count": 25,
   "id": "bd7184c5",
   "metadata": {
    "hidden": true
   },
   "outputs": [
    {
     "name": "stderr",
     "output_type": "stream",
     "text": [
      "No model was supplied, defaulted to dbmdz/bert-large-cased-finetuned-conll03-english (https://huggingface.co/dbmdz/bert-large-cased-finetuned-conll03-english)\n"
     ]
    },
    {
     "data": {
      "text/plain": [
       "[{'entity_group': 'PER',\n",
       "  'score': 0.9991078,\n",
       "  'word': 'Anne Frank',\n",
       "  'start': 29,\n",
       "  'end': 39},\n",
       " {'entity_group': 'MISC',\n",
       "  'score': 0.99665976,\n",
       "  'word': 'Nazi',\n",
       "  'start': 73,\n",
       "  'end': 77},\n",
       " {'entity_group': 'LOC',\n",
       "  'score': 0.99951077,\n",
       "  'word': 'Netherlands',\n",
       "  'start': 96,\n",
       "  'end': 107},\n",
       " {'entity_group': 'MISC',\n",
       "  'score': 0.97047836,\n",
       "  'word': 'World War II',\n",
       "  'start': 111,\n",
       "  'end': 123}]"
      ]
     },
     "execution_count": 25,
     "metadata": {},
     "output_type": "execute_result"
    }
   ],
   "source": [
    "ner = pipeline(\"ner\", grouped_entities=True)\n",
    "ner(\" On her thirteenth birthday, Anne Frank began keeping \" + \n",
    "    \"a diary during the Nazi occupation of the Netherlands in World War II.\")"
   ]
  },
  {
   "cell_type": "markdown",
   "id": "e46b0aa1",
   "metadata": {
    "hidden": true
   },
   "source": [
    "Running ner without grouped_entities can be very expensive. "
   ]
  },
  {
   "cell_type": "markdown",
   "id": "ffe0ded7",
   "metadata": {
    "heading_collapsed": true
   },
   "source": [
    "## Question Answering"
   ]
  },
  {
   "cell_type": "markdown",
   "id": "623dee15",
   "metadata": {
    "hidden": true
   },
   "source": [
    "Question-answering can solve questions. "
   ]
  },
  {
   "cell_type": "code",
   "execution_count": 26,
   "id": "31723ad0",
   "metadata": {
    "hidden": true
   },
   "outputs": [
    {
     "name": "stderr",
     "output_type": "stream",
     "text": [
      "No model was supplied, defaulted to distilbert-base-cased-distilled-squad (https://huggingface.co/distilbert-base-cased-distilled-squad)\n"
     ]
    },
    {
     "data": {
      "application/vnd.jupyter.widget-view+json": {
       "model_id": "1443750874cb44749df2a261bd5697df",
       "version_major": 2,
       "version_minor": 0
      },
      "text/plain": [
       "Downloading:   0%|          | 0.00/473 [00:00<?, ?B/s]"
      ]
     },
     "metadata": {},
     "output_type": "display_data"
    },
    {
     "data": {
      "application/vnd.jupyter.widget-view+json": {
       "model_id": "dfcd631728a947ae8fd48e38e98d39d8",
       "version_major": 2,
       "version_minor": 0
      },
      "text/plain": [
       "Downloading:   0%|          | 0.00/249M [00:00<?, ?B/s]"
      ]
     },
     "metadata": {},
     "output_type": "display_data"
    },
    {
     "data": {
      "application/vnd.jupyter.widget-view+json": {
       "model_id": "a5708b9aad6c4ab7bf3f4ccb499aa819",
       "version_major": 2,
       "version_minor": 0
      },
      "text/plain": [
       "Downloading:   0%|          | 0.00/29.0 [00:00<?, ?B/s]"
      ]
     },
     "metadata": {},
     "output_type": "display_data"
    },
    {
     "data": {
      "application/vnd.jupyter.widget-view+json": {
       "model_id": "9f550ae488b945639ef7debfa0b224b8",
       "version_major": 2,
       "version_minor": 0
      },
      "text/plain": [
       "Downloading:   0%|          | 0.00/208k [00:00<?, ?B/s]"
      ]
     },
     "metadata": {},
     "output_type": "display_data"
    },
    {
     "data": {
      "application/vnd.jupyter.widget-view+json": {
       "model_id": "dec80b41146545bf99a8a09f71e01c89",
       "version_major": 2,
       "version_minor": 0
      },
      "text/plain": [
       "Downloading:   0%|          | 0.00/426k [00:00<?, ?B/s]"
      ]
     },
     "metadata": {},
     "output_type": "display_data"
    },
    {
     "data": {
      "text/plain": [
       "{'score': 0.694976270198822, 'start': 33, 'end': 45, 'answer': 'Hugging Face'}"
      ]
     },
     "execution_count": 26,
     "metadata": {},
     "output_type": "execute_result"
    }
   ],
   "source": [
    "from transformers import pipeline\n",
    "\n",
    "question_answerer = pipeline(\"question-answering\")\n",
    "question_answerer(\n",
    "    question=\"Where do I work?\",\n",
    "    context=\"My name is Sylvain and I work at Hugging Face in Brooklyn\",\n",
    ")"
   ]
  },
  {
   "cell_type": "code",
   "execution_count": 27,
   "id": "19e9a331",
   "metadata": {
    "hidden": true
   },
   "outputs": [
    {
     "data": {
      "text/plain": [
       "{'score': 0.377182275056839,\n",
       " 'start': 113,\n",
       " 'end': 156,\n",
       " 'answer': \"the building's spire, roof, and upper walls\"}"
      ]
     },
     "execution_count": 27,
     "metadata": {},
     "output_type": "execute_result"
    }
   ],
   "source": [
    "question_answerer(\n",
    "    question=\"What was damaged from Notre-Dame fire?\",\n",
    "    context=\"The Notre-Dame fire broke out in the cathedral of Notre-Dame de Paris on 15 April 2019,\" + \n",
    "    \" causing severe damage to the building's spire, roof, and upper walls. \"\n",
    ")"
   ]
  },
  {
   "cell_type": "markdown",
   "id": "6b5cf341",
   "metadata": {
    "hidden": true
   },
   "source": [
    "I think it is pretty good. "
   ]
  },
  {
   "cell_type": "markdown",
   "id": "3816b7f4",
   "metadata": {
    "heading_collapsed": true
   },
   "source": [
    "## Summarization"
   ]
  },
  {
   "cell_type": "markdown",
   "id": "c66de848",
   "metadata": {
    "hidden": true
   },
   "source": [
    "Summarization can summarize long texts. "
   ]
  },
  {
   "cell_type": "code",
   "execution_count": 3,
   "id": "225a05a2",
   "metadata": {
    "hidden": true
   },
   "outputs": [
    {
     "name": "stderr",
     "output_type": "stream",
     "text": [
      "No model was supplied, defaulted to sshleifer/distilbart-cnn-12-6 (https://huggingface.co/sshleifer/distilbart-cnn-12-6)\n"
     ]
    },
    {
     "data": {
      "application/vnd.jupyter.widget-view+json": {
       "model_id": "63314d01626542a4ab12459dcd589ea9",
       "version_major": 2,
       "version_minor": 0
      },
      "text/plain": [
       "Downloading:   0%|          | 0.00/26.0 [00:00<?, ?B/s]"
      ]
     },
     "metadata": {},
     "output_type": "display_data"
    },
    {
     "data": {
      "application/vnd.jupyter.widget-view+json": {
       "model_id": "9806ed3c603243178fb3cc0371237e66",
       "version_major": 2,
       "version_minor": 0
      },
      "text/plain": [
       "Downloading:   0%|          | 0.00/878k [00:00<?, ?B/s]"
      ]
     },
     "metadata": {},
     "output_type": "display_data"
    },
    {
     "data": {
      "application/vnd.jupyter.widget-view+json": {
       "model_id": "9424cd173458495b911e3100d60b1843",
       "version_major": 2,
       "version_minor": 0
      },
      "text/plain": [
       "Downloading:   0%|          | 0.00/446k [00:00<?, ?B/s]"
      ]
     },
     "metadata": {},
     "output_type": "display_data"
    },
    {
     "data": {
      "text/plain": [
       "[{'summary_text': ' America has changed dramatically during recent years . The number of engineering graduates in the U.S. has declined in traditional engineering disciplines such as mechanical, civil,    electrical, chemical, and aeronautical engineering . Rapidly developing economies such as China and India continue to encourage and advance the teaching of engineering .'}]"
      ]
     },
     "execution_count": 3,
     "metadata": {},
     "output_type": "execute_result"
    }
   ],
   "source": [
    "from transformers import pipeline\n",
    "\n",
    "summarizer = pipeline(\"summarization\")\n",
    "summarizer(\n",
    "    \"\"\"\n",
    "    America has changed dramatically during recent years. Not only has the number of \n",
    "    graduates in traditional engineering disciplines such as mechanical, civil, \n",
    "    electrical, chemical, and aeronautical engineering declined, but in most of \n",
    "    the premier American universities engineering curricula now concentrate on \n",
    "    and encourage largely the study of engineering science. As a result, there \n",
    "    are declining offerings in engineering subjects dealing with infrastructure, \n",
    "    the environment, and related issues, and greater concentration on high \n",
    "    technology subjects, largely supporting increasingly complex scientific \n",
    "    developments. While the latter is important, it should not be at the expense \n",
    "    of more traditional engineering.\n",
    "\n",
    "    Rapidly developing economies such as China and India, as well as other \n",
    "    industrial countries in Europe and Asia, continue to encourage and advance \n",
    "    the teaching of engineering. Both China and India, respectively, graduate \n",
    "    six and eight times as many traditional engineers as does the United States. \n",
    "    Other industrial countries at minimum maintain their output, while America \n",
    "    suffers an increasingly serious decline in the number of engineering graduates \n",
    "    and a lack of well-educated engineers.\n",
    "\"\"\"\n",
    ")"
   ]
  },
  {
   "cell_type": "markdown",
   "id": "0ced8d20",
   "metadata": {
    "hidden": true
   },
   "source": [
    "I got this text regarding sword from <a href=\"https://en.wikipedia.org/wiki/Sword\">wikipedia</a>.  "
   ]
  },
  {
   "cell_type": "code",
   "execution_count": 6,
   "id": "54f31939",
   "metadata": {
    "hidden": true
   },
   "outputs": [
    {
     "data": {
      "text/plain": [
       "[{'summary_text': ' A sword is an edged, bladed weapon intended for manual cutting or thrusting . Its blade, longer than a knife or dagger, is attached  to a hilt and can be straight or curved . The precise definition of a sword varies by historical epoch and geographic region .'}]"
      ]
     },
     "execution_count": 6,
     "metadata": {},
     "output_type": "execute_result"
    }
   ],
   "source": [
    "summarizer(\"\"\"\n",
    "A sword is an edged, bladed weapon intended for manual cutting or \n",
    "thrusting. Its blade, longer than a knife or dagger, is attached \n",
    "to a hilt and can be straight or curved. A thrusting sword tends to\n",
    "have a straighter blade with a pointed tip. A slashing sword is more\n",
    "likely to be curved and to have a sharpened cutting edge on one or both\n",
    "sides of the blade. Many swords are designed for both thrusting and \n",
    "slashing. The precise definition of a sword varies by historical epoch\n",
    "and geographic region.\n",
    "\n",
    "Historically, the sword developed in the Bronze Age, evolving from the dagger;\n",
    "the earliest specimens date to about 1600 BC. The later Iron Age sword remained\n",
    "fairly short and without a crossguard. The spatha, as it developed in the Late\n",
    "Roman army, became the predecessor of the European sword of the Middle Ages, at\n",
    "first adopted as the Migration Period sword, and only in the High Middle Ages,\n",
    "developed into the classical arming sword with crossguard. The word sword \n",
    "continues the Old English, sweord.[1]\n",
    "\n",
    "The use of a sword is known as swordsmanship or, in a modern context, as fencing.\n",
    "In the Early Modern period, western sword design diverged into two forms, the \n",
    "thrusting swords and the sabers.\n",
    "\n",
    "Thrusting swords such as the rapier and eventually the smallsword were designed to\n",
    "impale their targets quickly and inflict deep stab wounds. Their long and straight\n",
    "yet light and well balanced design made them highly maneuverable and deadly in a\n",
    "duel but fairly ineffective when used in a slashing or chopping motion. A well\n",
    "aimed lunge and thrust could end a fight in seconds with just the sword's point,\n",
    "leading to the development of a fighting style which closely resembles modern fencing.\n",
    "\n",
    "The sabre and similar blades such as the cutlass were built more heavily and were\n",
    "more typically used in warfare. Built for slashing and chopping at multiple enemies,\n",
    "often from horseback, the saber's long curved blade and slightly forward weight \n",
    "balance gave it a deadly character all its own on the battlefield. Most sabers also\n",
    "had sharp points and double-edged blades, making them capable of piercing soldier\n",
    "after soldier in a cavalry charge. Sabers continued to see battlefield use until\n",
    "the early 20th century. The US Navy kept tens of thousands of sturdy cutlasses in\n",
    "their armory well into World War II and many were issued to Marines in the Pacific\n",
    "as jungle machetes.\n",
    "\n",
    "Non-European weapons classified as swords include single-edged weapons such as the\n",
    "Middle Eastern scimitar, the Chinese Dao and the related Japanese katana. The\n",
    "Chinese jiàn 剑 is an example of a non-European double-edged sword, like the European\n",
    "models derived from the double-edged Iron Age sword.\n",
    "\"\"\")"
   ]
  },
  {
   "cell_type": "markdown",
   "id": "17ec8805",
   "metadata": {
    "hidden": true
   },
   "source": [
    "It is pretty much the first two sentences and the last one from the first paragraph. It is not that impressive. Maybe the model is trying way too hard to squeeze six paragraphs into three sentences. I will increase the mininum_length to see how it performs."
   ]
  },
  {
   "cell_type": "code",
   "execution_count": 12,
   "id": "56549389",
   "metadata": {
    "hidden": true
   },
   "outputs": [
    {
     "data": {
      "text/plain": [
       "[{'summary_text': ' A sword is an edged, bladed weapon intended for manual cutting or thrusting . Its blade, longer than a knife or dagger, is attached  to a hilt and can be straight or curved . The precise definition of a sword varies by historical epoch and geographic region . The word sword is known as swordsmanship or, in a modern context, as fencing . In the Early Modern period, western sword design diverged into two forms, the \\xa0thrusting swords and the sabers . The sabre and similar blades such as the cutlass were built more heavily and were typically used in warfare .'}]"
      ]
     },
     "execution_count": 12,
     "metadata": {},
     "output_type": "execute_result"
    }
   ],
   "source": [
    "summarizer(\"\"\"\n",
    "A sword is an edged, bladed weapon intended for manual cutting or \n",
    "thrusting. Its blade, longer than a knife or dagger, is attached \n",
    "to a hilt and can be straight or curved. A thrusting sword tends to\n",
    "have a straighter blade with a pointed tip. A slashing sword is more\n",
    "likely to be curved and to have a sharpened cutting edge on one or both\n",
    "sides of the blade. Many swords are designed for both thrusting and \n",
    "slashing. The precise definition of a sword varies by historical epoch\n",
    "and geographic region.\n",
    "\n",
    "Historically, the sword developed in the Bronze Age, evolving from the dagger;\n",
    "the earliest specimens date to about 1600 BC. The later Iron Age sword remained\n",
    "fairly short and without a crossguard. The spatha, as it developed in the Late\n",
    "Roman army, became the predecessor of the European sword of the Middle Ages, at\n",
    "first adopted as the Migration Period sword, and only in the High Middle Ages,\n",
    "developed into the classical arming sword with crossguard. The word sword \n",
    "continues the Old English, sweord.[1]\n",
    "\n",
    "The use of a sword is known as swordsmanship or, in a modern context, as fencing.\n",
    "In the Early Modern period, western sword design diverged into two forms, the \n",
    "thrusting swords and the sabers.\n",
    "\n",
    "Thrusting swords such as the rapier and eventually the smallsword were designed to\n",
    "impale their targets quickly and inflict deep stab wounds. Their long and straight\n",
    "yet light and well balanced design made them highly maneuverable and deadly in a\n",
    "duel but fairly ineffective when used in a slashing or chopping motion. A well\n",
    "aimed lunge and thrust could end a fight in seconds with just the sword's point,\n",
    "leading to the development of a fighting style which closely resembles modern fencing.\n",
    "\n",
    "The sabre and similar blades such as the cutlass were built more heavily and were\n",
    "more typically used in warfare. Built for slashing and chopping at multiple enemies,\n",
    "often from horseback, the saber's long curved blade and slightly forward weight \n",
    "balance gave it a deadly character all its own on the battlefield. Most sabers also\n",
    "had sharp points and double-edged blades, making them capable of piercing soldier\n",
    "after soldier in a cavalry charge. Sabers continued to see battlefield use until\n",
    "the early 20th century. The US Navy kept tens of thousands of sturdy cutlasses in\n",
    "their armory well into World War II and many were issued to Marines in the Pacific\n",
    "as jungle machetes.\n",
    "\n",
    "Non-European weapons classified as swords include single-edged weapons such as the\n",
    "Middle Eastern scimitar, the Chinese Dao and the related Japanese katana. The\n",
    "Chinese jiàn 剑 is an example of a non-European double-edged sword, like the European\n",
    "models derived from the double-edged Iron Age sword.\n",
    "\"\"\", min_length=120)"
   ]
  },
  {
   "cell_type": "markdown",
   "id": "bcda14d3",
   "metadata": {
    "hidden": true
   },
   "source": [
    "With a larger room to work with, the summarizer works better. "
   ]
  },
  {
   "cell_type": "markdown",
   "id": "ccc75722",
   "metadata": {
    "heading_collapsed": true
   },
   "source": [
    "## Translation"
   ]
  },
  {
   "cell_type": "markdown",
   "id": "f6c48a7c",
   "metadata": {
    "hidden": true
   },
   "source": [
    "Lastly, translator can translate from one language into another."
   ]
  },
  {
   "cell_type": "code",
   "execution_count": 1,
   "id": "72e0499c",
   "metadata": {
    "hidden": true
   },
   "outputs": [
    {
     "data": {
      "application/vnd.jupyter.widget-view+json": {
       "model_id": "9c2b93e3f7404189a7bacfcb5f00ec2a",
       "version_major": 2,
       "version_minor": 0
      },
      "text/plain": [
       "Downloading:   0%|          | 0.00/1.26k [00:00<?, ?B/s]"
      ]
     },
     "metadata": {},
     "output_type": "display_data"
    },
    {
     "data": {
      "application/vnd.jupyter.widget-view+json": {
       "model_id": "c84bed393f274d95bceef4c740f97b42",
       "version_major": 2,
       "version_minor": 0
      },
      "text/plain": [
       "Downloading:   0%|          | 0.00/287M [00:00<?, ?B/s]"
      ]
     },
     "metadata": {},
     "output_type": "display_data"
    },
    {
     "data": {
      "application/vnd.jupyter.widget-view+json": {
       "model_id": "961829d4b50d49808a6293653b1e8f30",
       "version_major": 2,
       "version_minor": 0
      },
      "text/plain": [
       "Downloading:   0%|          | 0.00/42.0 [00:00<?, ?B/s]"
      ]
     },
     "metadata": {},
     "output_type": "display_data"
    },
    {
     "data": {
      "application/vnd.jupyter.widget-view+json": {
       "model_id": "cd92f2e2fe2e471ab50f9d9293e279e7",
       "version_major": 2,
       "version_minor": 0
      },
      "text/plain": [
       "Downloading:   0%|          | 0.00/784k [00:00<?, ?B/s]"
      ]
     },
     "metadata": {},
     "output_type": "display_data"
    },
    {
     "data": {
      "application/vnd.jupyter.widget-view+json": {
       "model_id": "d068773501714627a37e7abcb3817047",
       "version_major": 2,
       "version_minor": 0
      },
      "text/plain": [
       "Downloading:   0%|          | 0.00/760k [00:00<?, ?B/s]"
      ]
     },
     "metadata": {},
     "output_type": "display_data"
    },
    {
     "data": {
      "application/vnd.jupyter.widget-view+json": {
       "model_id": "e813d4024d454b4da33f00fd96e735f6",
       "version_major": 2,
       "version_minor": 0
      },
      "text/plain": [
       "Downloading:   0%|          | 0.00/1.28M [00:00<?, ?B/s]"
      ]
     },
     "metadata": {},
     "output_type": "display_data"
    },
    {
     "name": "stderr",
     "output_type": "stream",
     "text": [
      "/home/kappa/miniconda3/lib/python3.9/site-packages/transformers/models/marian/tokenization_marian.py:196: UserWarning: Recommended: pip install sacremoses.\n",
      "  warnings.warn(\"Recommended: pip install sacremoses.\")\n"
     ]
    },
    {
     "data": {
      "text/plain": [
       "[{'translation_text': 'This course is produced by Hugging Face.'}]"
      ]
     },
     "execution_count": 1,
     "metadata": {},
     "output_type": "execute_result"
    }
   ],
   "source": [
    "from transformers import pipeline\n",
    "\n",
    "translator = pipeline(\"translation\", model=\"Helsinki-NLP/opus-mt-fr-en\")\n",
    "translator(\"Ce cours est produit par Hugging Face.\")"
   ]
  },
  {
   "cell_type": "markdown",
   "id": "a4eeec9f",
   "metadata": {
    "hidden": true
   },
   "source": [
    "Cool I guess, but I don't speak French. I have no idea what it is saying. So, let me use English to French and do a reverse translation."
   ]
  },
  {
   "cell_type": "code",
   "execution_count": 14,
   "id": "8b09aadd",
   "metadata": {
    "hidden": true
   },
   "outputs": [
    {
     "data": {
      "application/vnd.jupyter.widget-view+json": {
       "model_id": "10b5cb8a925144ee90292b015c809c77",
       "version_major": 2,
       "version_minor": 0
      },
      "text/plain": [
       "Downloading:   0%|          | 0.00/1.26k [00:00<?, ?B/s]"
      ]
     },
     "metadata": {},
     "output_type": "display_data"
    },
    {
     "data": {
      "application/vnd.jupyter.widget-view+json": {
       "model_id": "9077eb41d22e40fbadb3b2521715f9cf",
       "version_major": 2,
       "version_minor": 0
      },
      "text/plain": [
       "Downloading:   0%|          | 0.00/287M [00:00<?, ?B/s]"
      ]
     },
     "metadata": {},
     "output_type": "display_data"
    },
    {
     "data": {
      "application/vnd.jupyter.widget-view+json": {
       "model_id": "1ef3aec1694b4c848e10734407a3adfe",
       "version_major": 2,
       "version_minor": 0
      },
      "text/plain": [
       "Downloading:   0%|          | 0.00/42.0 [00:00<?, ?B/s]"
      ]
     },
     "metadata": {},
     "output_type": "display_data"
    },
    {
     "data": {
      "application/vnd.jupyter.widget-view+json": {
       "model_id": "117c7482ccfb40fe93e829347c300d54",
       "version_major": 2,
       "version_minor": 0
      },
      "text/plain": [
       "Downloading:   0%|          | 0.00/760k [00:00<?, ?B/s]"
      ]
     },
     "metadata": {},
     "output_type": "display_data"
    },
    {
     "data": {
      "application/vnd.jupyter.widget-view+json": {
       "model_id": "128c4ece21874a7a8481bfa33e93b0e6",
       "version_major": 2,
       "version_minor": 0
      },
      "text/plain": [
       "Downloading:   0%|          | 0.00/784k [00:00<?, ?B/s]"
      ]
     },
     "metadata": {},
     "output_type": "display_data"
    },
    {
     "data": {
      "application/vnd.jupyter.widget-view+json": {
       "model_id": "3580255f45f34dc490b6f3fc45be56e5",
       "version_major": 2,
       "version_minor": 0
      },
      "text/plain": [
       "Downloading:   0%|          | 0.00/1.28M [00:00<?, ?B/s]"
      ]
     },
     "metadata": {},
     "output_type": "display_data"
    },
    {
     "data": {
      "text/plain": [
       "[{'translation_text': 'Ce cours est produit par Hugging Face.'}]"
      ]
     },
     "execution_count": 14,
     "metadata": {},
     "output_type": "execute_result"
    }
   ],
   "source": [
    "translator = pipeline(\"translation\", model=\"Helsinki-NLP/opus-mt-en-fr\")\n",
    "translator(\"This course is produced by Hugging Face.\")"
   ]
  },
  {
   "cell_type": "markdown",
   "id": "170339d0",
   "metadata": {
    "hidden": true
   },
   "source": [
    "Let's try Spanish this time."
   ]
  },
  {
   "cell_type": "code",
   "execution_count": 5,
   "id": "d2ea5216",
   "metadata": {
    "hidden": true
   },
   "outputs": [
    {
     "data": {
      "text/plain": [
       "[{'translation_text': 'Lo siento, no hablo español.'}]"
      ]
     },
     "execution_count": 5,
     "metadata": {},
     "output_type": "execute_result"
    }
   ],
   "source": [
    "translator = pipeline(\"translation\", model=\"Helsinki-NLP/opus-mt-en-es\")\n",
    "translator(\"Sorry, I don't speak Spanish.\")"
   ]
  },
  {
   "cell_type": "markdown",
   "id": "718f6527",
   "metadata": {
    "hidden": true
   },
   "source": [
    "And the output matches with the previous input. Okay, let me try using Korean to English because I can speak Korean. (I used google translator to generate Korean. I wanted to do English to Korean, but it does not exist yet :( And I do not have Korean keyboard enabled, and it is faster to use google translate :P)"
   ]
  },
  {
   "cell_type": "code",
   "execution_count": 4,
   "id": "61af8dc8",
   "metadata": {
    "hidden": true
   },
   "outputs": [
    {
     "data": {
      "application/vnd.jupyter.widget-view+json": {
       "model_id": "e76fe2a366914eada0bbaa101ab681a6",
       "version_major": 2,
       "version_minor": 0
      },
      "text/plain": [
       "Downloading:   0%|          | 0.00/1.12k [00:00<?, ?B/s]"
      ]
     },
     "metadata": {},
     "output_type": "display_data"
    },
    {
     "data": {
      "application/vnd.jupyter.widget-view+json": {
       "model_id": "8631e0cb4b3a4ebcb528fbbfa3adf33b",
       "version_major": 2,
       "version_minor": 0
      },
      "text/plain": [
       "Downloading:   0%|          | 0.00/298M [00:00<?, ?B/s]"
      ]
     },
     "metadata": {},
     "output_type": "display_data"
    },
    {
     "data": {
      "application/vnd.jupyter.widget-view+json": {
       "model_id": "8872e110a04f4e2fbc67fc257c4d7602",
       "version_major": 2,
       "version_minor": 0
      },
      "text/plain": [
       "Downloading:   0%|          | 0.00/44.0 [00:00<?, ?B/s]"
      ]
     },
     "metadata": {},
     "output_type": "display_data"
    },
    {
     "data": {
      "application/vnd.jupyter.widget-view+json": {
       "model_id": "d25bf9dacad7496388ebb326937ee910",
       "version_major": 2,
       "version_minor": 0
      },
      "text/plain": [
       "Downloading:   0%|          | 0.00/822k [00:00<?, ?B/s]"
      ]
     },
     "metadata": {},
     "output_type": "display_data"
    },
    {
     "data": {
      "application/vnd.jupyter.widget-view+json": {
       "model_id": "122e7547b32d456aa9648f983388514d",
       "version_major": 2,
       "version_minor": 0
      },
      "text/plain": [
       "Downloading:   0%|          | 0.00/794k [00:00<?, ?B/s]"
      ]
     },
     "metadata": {},
     "output_type": "display_data"
    },
    {
     "data": {
      "application/vnd.jupyter.widget-view+json": {
       "model_id": "06690a7048464385bd1bdf8c0f976250",
       "version_major": 2,
       "version_minor": 0
      },
      "text/plain": [
       "Downloading:   0%|          | 0.00/1.64M [00:00<?, ?B/s]"
      ]
     },
     "metadata": {},
     "output_type": "display_data"
    },
    {
     "data": {
      "text/plain": [
       "[{'translation_text': 'This is a course from Huggingspace.'}]"
      ]
     },
     "execution_count": 4,
     "metadata": {},
     "output_type": "execute_result"
    }
   ],
   "source": [
    "translator = pipeline(\"translation\", model=\"Helsinki-NLP/opus-mt-ko-en\")\n",
    "translator(\"허깅페이스에서 제작한 코스입니다.\")"
   ]
  },
  {
   "cell_type": "markdown",
   "id": "a8cd6244",
   "metadata": {
    "hidden": true
   },
   "source": [
    "That is almost correct. Huggingface is a name, and it can be tricky to translate. I am surprised to see that it is translated to Hunggingspace, instead of Huggingpace. Literal translation would be Huggingpace because 'p' is always substituted for 'f' because there is no 'f' in Korean. Maybe the model is work in progress and made a mistake."
   ]
  },
  {
   "cell_type": "markdown",
   "id": "e2e2f031",
   "metadata": {
    "heading_collapsed": true
   },
   "source": [
    "## Bias and limitation"
   ]
  },
  {
   "cell_type": "markdown",
   "id": "f1ccb517",
   "metadata": {
    "hidden": true
   },
   "source": [
    "Models have bias even if they were trained with unbibased data. Bert has a bias toward genders."
   ]
  },
  {
   "cell_type": "code",
   "execution_count": 5,
   "id": "789a208d",
   "metadata": {
    "hidden": true
   },
   "outputs": [
    {
     "name": "stderr",
     "output_type": "stream",
     "text": [
      "Some weights of the model checkpoint at bert-base-uncased were not used when initializing BertForMaskedLM: ['cls.seq_relationship.bias', 'cls.seq_relationship.weight']\n",
      "- This IS expected if you are initializing BertForMaskedLM from the checkpoint of a model trained on another task or with another architecture (e.g. initializing a BertForSequenceClassification model from a BertForPreTraining model).\n",
      "- This IS NOT expected if you are initializing BertForMaskedLM from the checkpoint of a model that you expect to be exactly identical (initializing a BertForSequenceClassification model from a BertForSequenceClassification model).\n"
     ]
    },
    {
     "name": "stdout",
     "output_type": "stream",
     "text": [
      "['lawyer', 'farmer', 'teacher', 'bartender', 'mechanic']\n",
      "['waitress', 'nurse', 'teacher', 'model', 'bartender']\n"
     ]
    }
   ],
   "source": [
    "from transformers import pipeline\n",
    "\n",
    "unmasker = pipeline(\"fill-mask\", model=\"bert-base-uncased\")\n",
    "result = unmasker(\"Brian works as a [MASK].\")\n",
    "print([r[\"token_str\"] for r in result])\n",
    "\n",
    "result = unmasker(\"Amanda works as a [MASK].\")\n",
    "print([r[\"token_str\"] for r in result])"
   ]
  },
  {
   "cell_type": "markdown",
   "id": "7de7e6b4",
   "metadata": {
    "hidden": true
   },
   "source": [
    "The model also has a bias with races."
   ]
  },
  {
   "cell_type": "code",
   "execution_count": 15,
   "id": "1f42b796",
   "metadata": {
    "hidden": true
   },
   "outputs": [
    {
     "name": "stdout",
     "output_type": "stream",
     "text": [
      "['priest', 'shaman', 'slave', 'soldier', 'warrior']\n"
     ]
    }
   ],
   "source": [
    "# The model associates an Orc with a slave.\n",
    "result = unmasker(\"An Orc works as a [MASK].\")\n",
    "print([r[\"token_str\"] for r in result])"
   ]
  },
  {
   "cell_type": "code",
   "execution_count": 8,
   "id": "9fade154",
   "metadata": {
    "hidden": true
   },
   "outputs": [
    {
     "name": "stdout",
     "output_type": "stream",
     "text": [
      "['blacksmith', 'priest', 'thief', 'slave', 'hunter']\n"
     ]
    }
   ],
   "source": [
    "# The model associates an Ogre with a slave/thief.\n",
    "result = unmasker(\"An ogre works as a [MASK].\")\n",
    "print([r[\"token_str\"] for r in result])"
   ]
  },
  {
   "cell_type": "code",
   "execution_count": 14,
   "id": "a2979ece",
   "metadata": {
    "hidden": true
   },
   "outputs": [
    {
     "name": "stdout",
     "output_type": "stream",
     "text": [
      "['witch', 'priest', 'wizard', 'sorcerer', 'blacksmith']\n"
     ]
    }
   ],
   "source": [
    "# The model associates an Elf with a witch.\n",
    "result = unmasker(\"An elf works as a [MASK].\")\n",
    "print([r[\"token_str\"] for r in result])"
   ]
  },
  {
   "cell_type": "code",
   "execution_count": 16,
   "id": "8fbad336",
   "metadata": {
    "hidden": true
   },
   "outputs": [
    {
     "name": "stdout",
     "output_type": "stream",
     "text": [
      "['cook', 'blacksmith', 'carpenter', 'priest', 'maid']\n"
     ]
    }
   ],
   "source": [
    "# The model associates a Dwarf with a blacksmith.\n",
    "result = unmasker(\"A dwarf works as a [MASK].\")\n",
    "print([r[\"token_str\"] for r in result])"
   ]
  },
  {
   "cell_type": "code",
   "execution_count": 18,
   "id": "e985c37a",
   "metadata": {
    "hidden": true
   },
   "outputs": [
    {
     "name": "stdout",
     "output_type": "stream",
     "text": [
      "['messenger', 'magician', 'thief', 'carpenter', 'dog']\n"
     ]
    }
   ],
   "source": [
    "# The model associates a Hobbit with a messenger/thief.\n",
    "result = unmasker(\"A hobbit works as a [MASK].\")\n",
    "print([r[\"token_str\"] for r in result])"
   ]
  },
  {
   "cell_type": "code",
   "execution_count": 10,
   "id": "f4665e5c",
   "metadata": {
    "hidden": true
   },
   "outputs": [
    {
     "name": "stdout",
     "output_type": "stream",
     "text": [
      "['machine', 'robot', 'priest', 'slave', 'hunter']\n"
     ]
    }
   ],
   "source": [
    "# Not sure what's going on here.\n",
    "result = unmasker(\"A human works as a [MASK].\")\n",
    "print([r[\"token_str\"] for r in result])"
   ]
  },
  {
   "cell_type": "markdown",
   "id": "ee92760b",
   "metadata": {
    "hidden": true
   },
   "source": [
    "It is a good thing we do not have robots walking around with bias and limitations yet. A police robot with a strong bias toward race would be a disaster."
   ]
  }
 ],
 "metadata": {
  "kernelspec": {
   "display_name": "Python 3",
   "language": "python",
   "name": "python3"
  },
  "language_info": {
   "codemirror_mode": {
    "name": "ipython",
    "version": 3
   },
   "file_extension": ".py",
   "mimetype": "text/x-python",
   "name": "python",
   "nbconvert_exporter": "python",
   "pygments_lexer": "ipython3",
   "version": "3.9.12"
  }
 },
 "nbformat": 4,
 "nbformat_minor": 5
}
