{
 "cells": [
  {
   "cell_type": "code",
   "execution_count": 1,
   "id": "f4d137ae-b6e8-4f2a-80fc-149f9ae34d77",
   "metadata": {},
   "outputs": [
    {
     "name": "stdout",
     "output_type": "stream",
     "text": [
      "I love notebook!\n"
     ]
    }
   ],
   "source": [
    "print(\"I love notebook!\")"
   ]
  },
  {
   "cell_type": "markdown",
   "id": "95f4ce8b-0911-4b92-aad7-ae5e1db7e2dc",
   "metadata": {},
   "source": [
    "Exploring some decorators."
   ]
  },
  {
   "cell_type": "code",
   "execution_count": 20,
   "id": "2294a54d-6564-4781-a4cb-4bb7edd5e91e",
   "metadata": {},
   "outputs": [],
   "source": [
    "def addone (fn):\n",
    "    return lambda x: fn(x) + 1"
   ]
  },
  {
   "cell_type": "code",
   "execution_count": 18,
   "id": "a3f6dd62-9b4c-48bb-a68d-703ef350acdf",
   "metadata": {},
   "outputs": [],
   "source": [
    "fn = addone(lambda x: x)"
   ]
  },
  {
   "cell_type": "code",
   "execution_count": 19,
   "id": "6b98b603-3456-4af7-9e9a-94b52b98dfcc",
   "metadata": {},
   "outputs": [
    {
     "data": {
      "text/plain": [
       "4"
      ]
     },
     "execution_count": 19,
     "metadata": {},
     "output_type": "execute_result"
    }
   ],
   "source": [
    "fn(3)"
   ]
  },
  {
   "cell_type": "markdown",
   "id": "19f61c09-4761-4628-8ae9-c94cf8989361",
   "metadata": {},
   "source": [
    "Here is another way to do the same thing."
   ]
  },
  {
   "cell_type": "code",
   "execution_count": 24,
   "id": "274d476b-4694-4c8b-8222-483b27ef7be2",
   "metadata": {},
   "outputs": [],
   "source": [
    "@addone\n",
    "def addone2 (x):\n",
    "    return x"
   ]
  },
  {
   "cell_type": "code",
   "execution_count": 25,
   "id": "6c78d1d1-d0d5-426d-b7d0-200f7dc088ce",
   "metadata": {},
   "outputs": [
    {
     "data": {
      "text/plain": [
       "2"
      ]
     },
     "execution_count": 25,
     "metadata": {},
     "output_type": "execute_result"
    }
   ],
   "source": [
    "addone2(1)"
   ]
  },
  {
   "cell_type": "code",
   "execution_count": 1,
   "id": "f1fefc3a-6e8a-4d42-a7d3-5ef54be36f3f",
   "metadata": {},
   "outputs": [],
   "source": [
    "d = dict()"
   ]
  },
  {
   "cell_type": "code",
   "execution_count": 2,
   "id": "fab9c2b9-a7ff-408b-94b8-67de1cbedd37",
   "metadata": {},
   "outputs": [
    {
     "data": {
      "text/plain": [
       "1"
      ]
     },
     "execution_count": 2,
     "metadata": {},
     "output_type": "execute_result"
    }
   ],
   "source": [
    "d['first'] = 1\n",
    "d['first']"
   ]
  },
  {
   "cell_type": "code",
   "execution_count": 3,
   "id": "6d0b3c72-92ca-470c-92bd-6f4e93218be8",
   "metadata": {},
   "outputs": [
    {
     "ename": "KeyError",
     "evalue": "'second'",
     "output_type": "error",
     "traceback": [
      "\u001b[0;31m---------------------------------------------------------------------------\u001b[0m",
      "\u001b[0;31mKeyError\u001b[0m                                  Traceback (most recent call last)",
      "\u001b[0;32m/tmp/ipykernel_62/3333520553.py\u001b[0m in \u001b[0;36m<module>\u001b[0;34m\u001b[0m\n\u001b[0;32m----> 1\u001b[0;31m \u001b[0md\u001b[0m\u001b[0;34m[\u001b[0m\u001b[0;34m'second'\u001b[0m\u001b[0;34m]\u001b[0m\u001b[0;34m\u001b[0m\u001b[0;34m\u001b[0m\u001b[0m\n\u001b[0m",
      "\u001b[0;31mKeyError\u001b[0m: 'second'"
     ]
    }
   ],
   "source": [
    "d['second']"
   ]
  },
  {
   "cell_type": "code",
   "execution_count": 4,
   "id": "f797be41-c13c-4f75-8022-9bcdbc6e13bf",
   "metadata": {},
   "outputs": [
    {
     "data": {
      "text/plain": [
       "dict_keys(['first'])"
      ]
     },
     "execution_count": 4,
     "metadata": {},
     "output_type": "execute_result"
    }
   ],
   "source": [
    "d.keys()"
   ]
  },
  {
   "cell_type": "code",
   "execution_count": 5,
   "id": "f6a61dab-9267-468d-a875-b5f927689b23",
   "metadata": {},
   "outputs": [],
   "source": [
    "def memoize (fn):\n",
    "    \"Memoize a function\"\n",
    "    results = dict()\n",
    "    def mem (x):\n",
    "        if x in results.keys():\n",
    "            return results[x]\n",
    "        else:\n",
    "            results[x] = fn(x)\n",
    "            return results[x]\n",
    "    return mem"
   ]
  },
  {
   "cell_type": "markdown",
   "id": "0412512c-3c47-4b2a-9d2c-74ab4b32c528",
   "metadata": {},
   "source": [
    "Let's try it out."
   ]
  },
  {
   "cell_type": "code",
   "execution_count": 6,
   "id": "c8625faf-680a-4903-8371-c52d07e79cd0",
   "metadata": {},
   "outputs": [],
   "source": [
    "import time"
   ]
  },
  {
   "cell_type": "code",
   "execution_count": 8,
   "id": "9a2fcc1d-955b-4630-ac97-c6e36b2dab8d",
   "metadata": {},
   "outputs": [],
   "source": [
    "%timeit\n",
    "time.sleep(1)"
   ]
  },
  {
   "cell_type": "code",
   "execution_count": 12,
   "id": "e06debd5-e627-40a6-9a9b-068ec49584a4",
   "metadata": {},
   "outputs": [],
   "source": [
    "@memoize\n",
    "def wait (n):\n",
    "    time.sleep(n)\n",
    "    return f\"Waited for {n} centuries!\""
   ]
  },
  {
   "cell_type": "code",
   "execution_count": 13,
   "id": "70b8a836-a19b-4173-8060-0b0fd5a8232e",
   "metadata": {},
   "outputs": [
    {
     "data": {
      "text/plain": [
       "'Waited for 1 centuries!'"
      ]
     },
     "execution_count": 13,
     "metadata": {},
     "output_type": "execute_result"
    }
   ],
   "source": [
    "wait(1)"
   ]
  },
  {
   "cell_type": "code",
   "execution_count": 14,
   "id": "74b4a291-5da0-44c6-b0a1-0dd710e74c41",
   "metadata": {},
   "outputs": [
    {
     "data": {
      "text/plain": [
       "'Waited for 1 centuries!'"
      ]
     },
     "execution_count": 14,
     "metadata": {},
     "output_type": "execute_result"
    }
   ],
   "source": [
    "wait(1)"
   ]
  },
  {
   "cell_type": "code",
   "execution_count": null,
   "id": "78e5b414-1edd-49f7-aaf2-3c1cee54e571",
   "metadata": {},
   "outputs": [],
   "source": []
  }
 ],
 "metadata": {
  "kernelspec": {
   "display_name": "Python 3 (ipykernel)",
   "language": "python",
   "name": "python3"
  },
  "language_info": {
   "codemirror_mode": {
    "name": "ipython",
    "version": 3
   },
   "file_extension": ".py",
   "mimetype": "text/x-python",
   "name": "python",
   "nbconvert_exporter": "python",
   "pygments_lexer": "ipython3",
   "version": "3.9.7"
  }
 },
 "nbformat": 4,
 "nbformat_minor": 5
}
