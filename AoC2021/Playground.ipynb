{
 "cells": [
  {
   "cell_type": "markdown",
   "id": "7eec8683",
   "metadata": {},
   "source": [
    "# Sand pit"
   ]
  },
  {
   "cell_type": "markdown",
   "id": "086ab715",
   "metadata": {},
   "source": [
    "When I worked on AoC 2015, I noticed I can do better than that. I had no idea what to expect, and my approach was horrible. After reading the assignment, I had to search the internet regarding certain features in python. However, I did not want to just sit down and read all the python documentations from the start to the end. So I got some important highlight of the language to focus on. So, I decided to get some hands on training on the toolset that Peter Norvig <a href='https://nbviewer.org/github/norvig/pytudes/blob/main/ipynb/Advent-2021.ipynb'>used</a>. After, I will solve the puzzles, then compare mine with his and see how horrible mine is."
   ]
  },
  {
   "cell_type": "code",
   "execution_count": 2,
   "id": "1affa156",
   "metadata": {},
   "outputs": [],
   "source": [
    "from __future__  import annotations\n",
    "from collections import Counter, defaultdict, namedtuple, deque\n",
    "from itertools   import permutations, combinations, chain, count as count_from, product as cross_product\n",
    "from typing      import *\n",
    "from statistics  import mean, median\n",
    "from math        import ceil, inf\n",
    "from functools   import lru_cache\n",
    "import matplotlib.pyplot as plt\n",
    "import re"
   ]
  },
  {
   "cell_type": "markdown",
   "id": "341c446d",
   "metadata": {
    "heading_collapsed": true
   },
   "source": [
    "## annotations"
   ]
  },
  {
   "cell_type": "markdown",
   "id": "3631cb80",
   "metadata": {
    "hidden": true
   },
   "source": [
    "<code>annotations</code> delays evaluation of function annotations. Without the future import, NameError is raised below. However, after the import, it works without any issue."
   ]
  },
  {
   "cell_type": "code",
   "execution_count": 2,
   "id": "957973f3",
   "metadata": {
    "hidden": true
   },
   "outputs": [],
   "source": [
    "class A:\n",
    "    def a(self) -> A:\n",
    "        return"
   ]
  },
  {
   "cell_type": "markdown",
   "id": "2a26fee8",
   "metadata": {},
   "source": [
    "## Collections"
   ]
  },
  {
   "cell_type": "markdown",
   "id": "12a5980d",
   "metadata": {
    "heading_collapsed": true
   },
   "source": [
    "### Counter "
   ]
  },
  {
   "cell_type": "markdown",
   "id": "210612ee",
   "metadata": {
    "hidden": true
   },
   "source": [
    "Counter can be used to count things."
   ]
  },
  {
   "cell_type": "markdown",
   "id": "856bb5ec",
   "metadata": {
    "hidden": true
   },
   "source": [
    "There are many ways to initiate the Counter."
   ]
  },
  {
   "cell_type": "code",
   "execution_count": 3,
   "id": "8a02f988",
   "metadata": {
    "hidden": true
   },
   "outputs": [
    {
     "data": {
      "text/plain": [
       "Counter()"
      ]
     },
     "execution_count": 3,
     "metadata": {},
     "output_type": "execute_result"
    }
   ],
   "source": [
    "Counter()"
   ]
  },
  {
   "cell_type": "code",
   "execution_count": 4,
   "id": "03af2c63",
   "metadata": {
    "hidden": true
   },
   "outputs": [
    {
     "data": {
      "text/plain": [
       "Counter({'D': 1, 'a': 1, 'r': 1, 'k': 1, 'n': 1, 'e': 1, 's': 2})"
      ]
     },
     "execution_count": 4,
     "metadata": {},
     "output_type": "execute_result"
    }
   ],
   "source": [
    "Counter('Darkness')"
   ]
  },
  {
   "cell_type": "code",
   "execution_count": 5,
   "id": "c7be1434",
   "metadata": {
    "hidden": true
   },
   "outputs": [
    {
     "data": {
      "text/plain": [
       "Counter({'bacon': 4, 'eggs': 30})"
      ]
     },
     "execution_count": 5,
     "metadata": {},
     "output_type": "execute_result"
    }
   ],
   "source": [
    "Counter({'bacon': 4, 'eggs': 30})"
   ]
  },
  {
   "cell_type": "code",
   "execution_count": 6,
   "id": "46765970",
   "metadata": {
    "hidden": true
   },
   "outputs": [
    {
     "data": {
      "text/plain": [
       "Counter({'onions': 2, 'cucumber': 19, 'potato': 11, 'sweet_potato': 38})"
      ]
     },
     "execution_count": 6,
     "metadata": {},
     "output_type": "execute_result"
    }
   ],
   "source": [
    "c = Counter(onions=2, cucumber=19, potato=11, sweet_potato=38)\n",
    "c"
   ]
  },
  {
   "cell_type": "markdown",
   "id": "9d2fe4eb",
   "metadata": {
    "hidden": true
   },
   "source": [
    "Counts can be retrieved by using keys. If it does not exist in the Counter, count is 0."
   ]
  },
  {
   "cell_type": "code",
   "execution_count": 7,
   "id": "75a4f2a5",
   "metadata": {
    "hidden": true
   },
   "outputs": [
    {
     "data": {
      "text/plain": [
       "(2, 0)"
      ]
     },
     "execution_count": 7,
     "metadata": {},
     "output_type": "execute_result"
    }
   ],
   "source": [
    "c['onions'], c['zombie']"
   ]
  },
  {
   "cell_type": "markdown",
   "id": "60f33a06",
   "metadata": {
    "hidden": true
   },
   "source": [
    "Counts can be changed. It can be 0 or negative. "
   ]
  },
  {
   "cell_type": "code",
   "execution_count": 8,
   "id": "9bcbb371",
   "metadata": {
    "hidden": true
   },
   "outputs": [
    {
     "data": {
      "text/plain": [
       "True"
      ]
     },
     "execution_count": 8,
     "metadata": {},
     "output_type": "execute_result"
    }
   ],
   "source": [
    "c['sweet_potato'] = 0\n",
    "'sweet_potato' in c"
   ]
  },
  {
   "cell_type": "code",
   "execution_count": 9,
   "id": "8c764f68",
   "metadata": {
    "hidden": true
   },
   "outputs": [
    {
     "data": {
      "text/plain": [
       "True"
      ]
     },
     "execution_count": 9,
     "metadata": {},
     "output_type": "execute_result"
    }
   ],
   "source": [
    "c['sweet_potato'] = -100\n",
    "'sweet_potato' in c"
   ]
  },
  {
   "cell_type": "markdown",
   "id": "6023c0d6",
   "metadata": {
    "hidden": true
   },
   "source": [
    "Elements in the Counts can be deleted with del. "
   ]
  },
  {
   "cell_type": "code",
   "execution_count": 10,
   "id": "0b6d2ee2",
   "metadata": {
    "hidden": true
   },
   "outputs": [
    {
     "data": {
      "text/plain": [
       "False"
      ]
     },
     "execution_count": 10,
     "metadata": {},
     "output_type": "execute_result"
    }
   ],
   "source": [
    "del c['sweet_potato']\n",
    "'sweet_potato' in c"
   ]
  },
  {
   "cell_type": "markdown",
   "id": "1c8c629b",
   "metadata": {
    "hidden": true
   },
   "source": [
    "Counter has help methods. <code>elements</code> returns an iterator that generates all the elements."
   ]
  },
  {
   "cell_type": "code",
   "execution_count": 11,
   "id": "d3333788",
   "metadata": {
    "hidden": true
   },
   "outputs": [
    {
     "data": {
      "text/plain": [
       "['onions',\n",
       " 'onions',\n",
       " 'cucumber',\n",
       " 'cucumber',\n",
       " 'cucumber',\n",
       " 'cucumber',\n",
       " 'cucumber',\n",
       " 'cucumber',\n",
       " 'cucumber',\n",
       " 'cucumber',\n",
       " 'cucumber',\n",
       " 'cucumber',\n",
       " 'cucumber',\n",
       " 'cucumber',\n",
       " 'cucumber',\n",
       " 'cucumber',\n",
       " 'cucumber',\n",
       " 'cucumber',\n",
       " 'cucumber',\n",
       " 'cucumber',\n",
       " 'cucumber',\n",
       " 'potato',\n",
       " 'potato',\n",
       " 'potato',\n",
       " 'potato',\n",
       " 'potato',\n",
       " 'potato',\n",
       " 'potato',\n",
       " 'potato',\n",
       " 'potato',\n",
       " 'potato',\n",
       " 'potato']"
      ]
     },
     "execution_count": 11,
     "metadata": {},
     "output_type": "execute_result"
    }
   ],
   "source": [
    "list(c.elements())"
   ]
  },
  {
   "cell_type": "markdown",
   "id": "65b8fa48",
   "metadata": {
    "hidden": true
   },
   "source": [
    "Most common items from top to bottom."
   ]
  },
  {
   "cell_type": "code",
   "execution_count": 14,
   "id": "08ee7f6f",
   "metadata": {
    "hidden": true
   },
   "outputs": [
    {
     "data": {
      "text/plain": [
       "[('cucumber', 19), ('potato', 11), ('onions', 2)]"
      ]
     },
     "execution_count": 14,
     "metadata": {},
     "output_type": "execute_result"
    }
   ],
   "source": [
    "c.most_common()"
   ]
  },
  {
   "cell_type": "code",
   "execution_count": 13,
   "id": "e2701580",
   "metadata": {
    "hidden": true
   },
   "outputs": [
    {
     "data": {
      "text/plain": [
       "[('cucumber', 19)]"
      ]
     },
     "execution_count": 13,
     "metadata": {},
     "output_type": "execute_result"
    }
   ],
   "source": [
    "c.most_common(1)"
   ]
  },
  {
   "cell_type": "markdown",
   "id": "766b0181",
   "metadata": {
    "hidden": true
   },
   "source": [
    "Counter can subtract others, such as mappings or iterables. It is not an error if some elemtns are missing."
   ]
  },
  {
   "cell_type": "code",
   "execution_count": 17,
   "id": "9eed9d95",
   "metadata": {
    "hidden": true
   },
   "outputs": [
    {
     "data": {
      "text/plain": [
       "Counter({'a': 3, 'b': 0, 'c': -3, 'd': -6})"
      ]
     },
     "execution_count": 17,
     "metadata": {},
     "output_type": "execute_result"
    }
   ],
   "source": [
    "c = Counter(a=4, b=2, c=0, d=-2)\n",
    "d = Counter(a=1, b=2, c=3, d=4)\n",
    "c.subtract(d)\n",
    "c"
   ]
  },
  {
   "cell_type": "code",
   "execution_count": 18,
   "id": "32ff1b42",
   "metadata": {
    "hidden": true
   },
   "outputs": [
    {
     "data": {
      "text/plain": [
       "Counter({'a': 4, 'b': 0, 'c': -3, 'd': -6})"
      ]
     },
     "execution_count": 18,
     "metadata": {},
     "output_type": "execute_result"
    }
   ],
   "source": [
    "# Missing subtract element\n",
    "c = Counter(a=4, b=2, c=0, d=-2)\n",
    "d = Counter(b=2, c=3, d=4)\n",
    "c.subtract(d)\n",
    "c"
   ]
  },
  {
   "cell_type": "code",
   "execution_count": 20,
   "id": "fef1010b",
   "metadata": {
    "hidden": true
   },
   "outputs": [
    {
     "data": {
      "text/plain": [
       "Counter({'a': 3, 'b': 0, 'c': -3, 'd': -4})"
      ]
     },
     "execution_count": 20,
     "metadata": {},
     "output_type": "execute_result"
    }
   ],
   "source": [
    "# Missing original element\n",
    "c = Counter(a=4, b=2, c=0)\n",
    "d = Counter(a=1, b=2, c=3, d=4)\n",
    "c.subtract(d)\n",
    "c"
   ]
  },
  {
   "cell_type": "code",
   "execution_count": 27,
   "id": "d35aec3b",
   "metadata": {
    "hidden": true
   },
   "outputs": [
    {
     "data": {
      "text/plain": [
       "Counter({'a': 1, 'b': 2, 'c': 0, 'd': -2})"
      ]
     },
     "execution_count": 27,
     "metadata": {},
     "output_type": "execute_result"
    }
   ],
   "source": [
    "# Subtracting dictionary\n",
    "c = Counter(a=4, b=2, c=0, d=-2)\n",
    "d = {'a':3}\n",
    "c.subtract(d)\n",
    "c"
   ]
  },
  {
   "cell_type": "markdown",
   "id": "655386eb",
   "metadata": {
    "hidden": true
   },
   "source": [
    "Counter can also add, but it is called update. Instead of replacing, it simply adds counts."
   ]
  },
  {
   "cell_type": "code",
   "execution_count": 28,
   "id": "e22c5b13",
   "metadata": {
    "hidden": true
   },
   "outputs": [
    {
     "data": {
      "text/plain": [
       "Counter({'a': 2, 'b': 4, 'c': 3, 'd': -2})"
      ]
     },
     "execution_count": 28,
     "metadata": {},
     "output_type": "execute_result"
    }
   ],
   "source": [
    "c.update('abbccc')\n",
    "c"
   ]
  },
  {
   "cell_type": "markdown",
   "id": "9affa13a",
   "metadata": {
    "hidden": true
   },
   "source": [
    "Mathematical operations can be used with Counter objects. Negative counts are removed."
   ]
  },
  {
   "cell_type": "code",
   "execution_count": 45,
   "id": "e4e2b6c0",
   "metadata": {
    "hidden": true
   },
   "outputs": [],
   "source": [
    "c = Counter(a=2, b=-4, c=0, d=10)\n",
    "d = Counter(a=-1, b=2, c=3, d=17)"
   ]
  },
  {
   "cell_type": "code",
   "execution_count": 47,
   "id": "d033f63a",
   "metadata": {
    "hidden": true
   },
   "outputs": [
    {
     "data": {
      "text/plain": [
       "Counter({'a': 1, 'c': 3, 'd': 27})"
      ]
     },
     "execution_count": 47,
     "metadata": {},
     "output_type": "execute_result"
    }
   ],
   "source": [
    "# Add\n",
    "c + d"
   ]
  },
  {
   "cell_type": "code",
   "execution_count": 48,
   "id": "b15c8e3e",
   "metadata": {
    "hidden": true
   },
   "outputs": [
    {
     "data": {
      "text/plain": [
       "Counter({'a': 3})"
      ]
     },
     "execution_count": 48,
     "metadata": {},
     "output_type": "execute_result"
    }
   ],
   "source": [
    "# Subtract\n",
    "c - d"
   ]
  },
  {
   "cell_type": "code",
   "execution_count": 49,
   "id": "70641449",
   "metadata": {
    "hidden": true
   },
   "outputs": [
    {
     "data": {
      "text/plain": [
       "Counter({'d': 10})"
      ]
     },
     "execution_count": 49,
     "metadata": {},
     "output_type": "execute_result"
    }
   ],
   "source": [
    "# Intersection\n",
    "c & d"
   ]
  },
  {
   "cell_type": "code",
   "execution_count": 50,
   "id": "ed52e948",
   "metadata": {
    "hidden": true
   },
   "outputs": [
    {
     "data": {
      "text/plain": [
       "Counter({'a': 2, 'b': 2, 'c': 3, 'd': 17})"
      ]
     },
     "execution_count": 50,
     "metadata": {},
     "output_type": "execute_result"
    }
   ],
   "source": [
    "# Union\n",
    "c | d"
   ]
  },
  {
   "cell_type": "markdown",
   "id": "2f13122c",
   "metadata": {
    "hidden": true
   },
   "source": [
    "Unary operator + gets rid of negative and zero elements, and - gets rid of positive and zero elements."
   ]
  },
  {
   "cell_type": "code",
   "execution_count": 33,
   "id": "cae93302",
   "metadata": {
    "hidden": true
   },
   "outputs": [
    {
     "data": {
      "text/plain": [
       "Counter({'a': 2})"
      ]
     },
     "execution_count": 33,
     "metadata": {},
     "output_type": "execute_result"
    }
   ],
   "source": [
    "c = Counter(a=2, b=-4, c=0)\n",
    "+c"
   ]
  },
  {
   "cell_type": "code",
   "execution_count": 34,
   "id": "92d4bf60",
   "metadata": {
    "hidden": true
   },
   "outputs": [
    {
     "data": {
      "text/plain": [
       "Counter({'b': 4})"
      ]
     },
     "execution_count": 34,
     "metadata": {},
     "output_type": "execute_result"
    }
   ],
   "source": [
    "-c"
   ]
  },
  {
   "cell_type": "markdown",
   "id": "49faca4e",
   "metadata": {},
   "source": [
    "### Defaultdict"
   ]
  },
  {
   "cell_type": "markdown",
   "id": "05be080c",
   "metadata": {},
   "source": [
    "Instead of using dictionary's <code>setdefault</code>, </code>defaultdict</code> can achieve higher efficiency and more flexibility. Here, it uses a list for the default value. "
   ]
  },
  {
   "cell_type": "code",
   "execution_count": 38,
   "id": "8140468e",
   "metadata": {},
   "outputs": [
    {
     "data": {
      "text/plain": [
       "defaultdict(list, {})"
      ]
     },
     "execution_count": 38,
     "metadata": {},
     "output_type": "execute_result"
    }
   ],
   "source": [
    "l = [('bacon', 3), ('egg', 10), ('oj', 1), ('oj', 3), ('bacon', 11)]\n",
    "d = defaultdict(list)\n",
    "d"
   ]
  },
  {
   "cell_type": "code",
   "execution_count": 16,
   "id": "e00381b3",
   "metadata": {},
   "outputs": [
    {
     "data": {
      "text/plain": [
       "[('bacon', [3, 11]), ('egg', [10]), ('oj', [1, 3])]"
      ]
     },
     "execution_count": 16,
     "metadata": {},
     "output_type": "execute_result"
    }
   ],
   "source": [
    "for k, v in l:\n",
    "    d[k].append(v)\n",
    "\n",
    "sorted(d.items())"
   ]
  },
  {
   "cell_type": "markdown",
   "id": "772dd335",
   "metadata": {},
   "source": [
    "Same thing could have achieved using plain dictionary's <code>setdefault</code>."
   ]
  },
  {
   "cell_type": "code",
   "execution_count": 18,
   "id": "c915a449",
   "metadata": {},
   "outputs": [
    {
     "data": {
      "text/plain": [
       "[('bacon', [3, 11]), ('egg', [10]), ('oj', [1, 3])]"
      ]
     },
     "execution_count": 18,
     "metadata": {},
     "output_type": "execute_result"
    }
   ],
   "source": [
    "d2 = {}\n",
    "for k, v in l:\n",
    "    d2.setdefault(k, []).append(v)\n",
    "sorted(d2.items())"
   ]
  },
  {
   "cell_type": "markdown",
   "id": "680024c8",
   "metadata": {},
   "source": [
    "<code>defaultdict</code> can also use other type for the default value, such as integer. If integer is used, it can be used as a counter."
   ]
  },
  {
   "cell_type": "code",
   "execution_count": 41,
   "id": "e6b8c9b6",
   "metadata": {},
   "outputs": [
    {
     "data": {
      "text/plain": [
       "[('bacon', 5), ('egg', 2), ('oj', 1)]"
      ]
     },
     "execution_count": 41,
     "metadata": {},
     "output_type": "execute_result"
    }
   ],
   "source": [
    "l = ['bacon', 'egg', 'egg', 'oj', 'bacon', 'bacon', 'bacon', 'bacon']\n",
    "d = defaultdict(int)\n",
    "for k in l:\n",
    "    d[k] += 1\n",
    "sorted(d.items())"
   ]
  },
  {
   "cell_type": "markdown",
   "id": "245ee566",
   "metadata": {},
   "source": [
    "If I need a counter, it is better to use Counter()."
   ]
  },
  {
   "cell_type": "code",
   "execution_count": 33,
   "id": "9e9dde53",
   "metadata": {},
   "outputs": [
    {
     "data": {
      "text/plain": [
       "Counter({'bacon': 5, 'egg': 2, 'oj': 1})"
      ]
     },
     "execution_count": 33,
     "metadata": {},
     "output_type": "execute_result"
    }
   ],
   "source": [
    "d2 = Counter(l)\n",
    "d2"
   ]
  },
  {
   "cell_type": "code",
   "execution_count": 35,
   "id": "96c752e1",
   "metadata": {},
   "outputs": [
    {
     "data": {
      "text/plain": [
       "['bacon', 'bacon', 'bacon', 'bacon', 'bacon', 'egg', 'egg', 'oj']"
      ]
     },
     "execution_count": 35,
     "metadata": {},
     "output_type": "execute_result"
    }
   ],
   "source": [
    "list(d2.elements())"
   ]
  },
  {
   "cell_type": "code",
   "execution_count": 36,
   "id": "6de36a68",
   "metadata": {},
   "outputs": [
    {
     "data": {
      "text/plain": [
       "[('bacon', 5), ('egg', 2)]"
      ]
     },
     "execution_count": 36,
     "metadata": {},
     "output_type": "execute_result"
    }
   ],
   "source": [
    "d2.most_common(2)"
   ]
  },
  {
   "cell_type": "markdown",
   "id": "f3601b91",
   "metadata": {},
   "source": [
    "Set can also be used as a default type."
   ]
  },
  {
   "cell_type": "code",
   "execution_count": 43,
   "id": "d5caafb7",
   "metadata": {},
   "outputs": [
    {
     "data": {
      "text/plain": [
       "[('bacon', {3}), ('egg', {10}), ('oj', {1, 3})]"
      ]
     },
     "execution_count": 43,
     "metadata": {},
     "output_type": "execute_result"
    }
   ],
   "source": [
    "l = [('bacon', 3), ('egg', 10), ('oj', 1), ('oj', 3), ('bacon', 3)]\n",
    "d = defaultdict(set)\n",
    "for k, v in l:\n",
    "    d[k].add(v)\n",
    "sorted(d.items())"
   ]
  },
  {
   "cell_type": "markdown",
   "id": "fef24b0e",
   "metadata": {},
   "source": [
    "Default value does not have to be set by the type. By passing a value with lambda, any constant value can be set to default."
   ]
  },
  {
   "cell_type": "code",
   "execution_count": 46,
   "id": "4a795072",
   "metadata": {},
   "outputs": [
    {
     "data": {
      "text/plain": [
       "'John ran to <missing>'"
      ]
     },
     "execution_count": 46,
     "metadata": {},
     "output_type": "execute_result"
    }
   ],
   "source": [
    "def constant_factory(value):\n",
    "    return lambda: value\n",
    "d = defaultdict(constant_factory('<missing>'))\n",
    "d.update(name='John', action='ran')\n",
    "'%(name)s %(action)s to %(object)s' % d"
   ]
  },
  {
   "cell_type": "code",
   "execution_count": 48,
   "id": "5d33d37a",
   "metadata": {},
   "outputs": [
    {
     "data": {
      "text/plain": [
       "[('bacon', ['Must Have!', 3, 10, 1, 3, 11]),\n",
       " ('egg', ['Must Have!', 3, 10, 1, 3, 11]),\n",
       " ('oj', ['Must Have!', 3, 10, 1, 3, 11])]"
      ]
     },
     "execution_count": 48,
     "metadata": {},
     "output_type": "execute_result"
    }
   ],
   "source": [
    "d2 = defaultdict(constant_factory(['Must Have!']))\n",
    "l = [('bacon', 3), ('egg', 10), ('oj', 1), ('oj', 3), ('bacon', 11)]\n",
    "for k,v in l:\n",
    "    d2[k].append(v)\n",
    "sorted(d2.items())"
   ]
  },
  {
   "cell_type": "code",
   "execution_count": null,
   "id": "efcdb137",
   "metadata": {},
   "outputs": [],
   "source": []
  }
 ],
 "metadata": {
  "kernelspec": {
   "display_name": "Python 3 (ipykernel)",
   "language": "python",
   "name": "python3"
  },
  "language_info": {
   "codemirror_mode": {
    "name": "ipython",
    "version": 3
   },
   "file_extension": ".py",
   "mimetype": "text/x-python",
   "name": "python",
   "nbconvert_exporter": "python",
   "pygments_lexer": "ipython3",
   "version": "3.9.7"
  }
 },
 "nbformat": 4,
 "nbformat_minor": 5
}
