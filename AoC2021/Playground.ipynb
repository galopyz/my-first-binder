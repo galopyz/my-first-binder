{
 "cells": [
  {
   "cell_type": "markdown",
   "id": "7eec8683",
   "metadata": {},
   "source": [
    "# Sand pit"
   ]
  },
  {
   "cell_type": "markdown",
   "id": "086ab715",
   "metadata": {},
   "source": [
    "When I worked on AoC 2015, I noticed I can do better than that. I had no idea what to expect, and my approach was horrible. After reading the assignment, I had to search the internet regarding certain features in python. However, I did not want to just sit down and read all the python documentations from the start to the end. So I got some important highlight of the language to focus on. So, I decided to get some hands on training on the toolset that Peter Norvig <a href='https://nbviewer.org/github/norvig/pytudes/blob/main/ipynb/Advent-2021.ipynb'>used</a>. After, I will solve the puzzles, then compare mine with his and see how horrible mine is."
   ]
  },
  {
   "cell_type": "code",
   "execution_count": 2,
   "id": "1affa156",
   "metadata": {},
   "outputs": [],
   "source": [
    "from __future__  import annotations\n",
    "from collections import Counter, defaultdict, namedtuple, deque\n",
    "from itertools   import permutations, combinations, chain, count as count_from, product as cross_product\n",
    "from typing      import *\n",
    "from statistics  import mean, median\n",
    "from math        import ceil, inf\n",
    "from functools   import lru_cache\n",
    "import matplotlib.pyplot as plt\n",
    "import re"
   ]
  },
  {
   "cell_type": "markdown",
   "id": "341c446d",
   "metadata": {
    "heading_collapsed": true
   },
   "source": [
    "## annotations"
   ]
  },
  {
   "cell_type": "markdown",
   "id": "3631cb80",
   "metadata": {
    "hidden": true
   },
   "source": [
    "<code>annotations</code> delays evaluation of function annotations. Without the future import, NameError is raised below. However, after the import, it works without any issue."
   ]
  },
  {
   "cell_type": "code",
   "execution_count": 1,
   "id": "957973f3",
   "metadata": {
    "hidden": true
   },
   "outputs": [
    {
     "ename": "NameError",
     "evalue": "name 'A' is not defined",
     "output_type": "error",
     "traceback": [
      "\u001b[0;31m---------------------------------------------------------------------------\u001b[0m",
      "\u001b[0;31mNameError\u001b[0m                                 Traceback (most recent call last)",
      "Input \u001b[0;32mIn [1]\u001b[0m, in \u001b[0;36m<cell line: 1>\u001b[0;34m()\u001b[0m\n\u001b[0;32m----> 1\u001b[0m \u001b[38;5;28;01mclass\u001b[39;00m \u001b[38;5;21;01mA\u001b[39;00m:\n\u001b[1;32m      2\u001b[0m     \u001b[38;5;28;01mdef\u001b[39;00m \u001b[38;5;21ma\u001b[39m(\u001b[38;5;28mself\u001b[39m) \u001b[38;5;241m-\u001b[39m\u001b[38;5;241m>\u001b[39m A:\n\u001b[1;32m      3\u001b[0m         \u001b[38;5;28;01mreturn\u001b[39;00m\n",
      "Input \u001b[0;32mIn [1]\u001b[0m, in \u001b[0;36mA\u001b[0;34m()\u001b[0m\n\u001b[1;32m      1\u001b[0m \u001b[38;5;28;01mclass\u001b[39;00m \u001b[38;5;21;01mA\u001b[39;00m:\n\u001b[0;32m----> 2\u001b[0m     \u001b[38;5;28;01mdef\u001b[39;00m \u001b[38;5;21ma\u001b[39m(\u001b[38;5;28mself\u001b[39m) \u001b[38;5;241m-\u001b[39m\u001b[38;5;241m>\u001b[39m \u001b[43mA\u001b[49m:\n\u001b[1;32m      3\u001b[0m         \u001b[38;5;28;01mreturn\u001b[39;00m\n",
      "\u001b[0;31mNameError\u001b[0m: name 'A' is not defined"
     ]
    }
   ],
   "source": [
    "class A:\n",
    "    def a(self) -> A:\n",
    "        return"
   ]
  },
  {
   "cell_type": "markdown",
   "id": "12a5980d",
   "metadata": {},
   "source": [
    "## Counter "
   ]
  },
  {
   "cell_type": "markdown",
   "id": "210612ee",
   "metadata": {},
   "source": [
    "Counter can be used to count things."
   ]
  },
  {
   "cell_type": "markdown",
   "id": "856bb5ec",
   "metadata": {},
   "source": [
    "There are many ways to initiate the Counter."
   ]
  },
  {
   "cell_type": "code",
   "execution_count": 7,
   "id": "8a02f988",
   "metadata": {},
   "outputs": [
    {
     "data": {
      "text/plain": [
       "Counter()"
      ]
     },
     "execution_count": 7,
     "metadata": {},
     "output_type": "execute_result"
    }
   ],
   "source": [
    "Counter()"
   ]
  },
  {
   "cell_type": "code",
   "execution_count": 8,
   "id": "03af2c63",
   "metadata": {},
   "outputs": [
    {
     "data": {
      "text/plain": [
       "Counter({'D': 1, 'a': 1, 'r': 1, 'k': 1, 'n': 1, 'e': 1, 's': 2})"
      ]
     },
     "execution_count": 8,
     "metadata": {},
     "output_type": "execute_result"
    }
   ],
   "source": [
    "Counter('Darkness')"
   ]
  },
  {
   "cell_type": "code",
   "execution_count": 10,
   "id": "c7be1434",
   "metadata": {},
   "outputs": [
    {
     "data": {
      "text/plain": [
       "Counter({'bacon': 4, 'eggs': 30})"
      ]
     },
     "execution_count": 10,
     "metadata": {},
     "output_type": "execute_result"
    }
   ],
   "source": [
    "Counter({'bacon': 4, 'eggs': 30})"
   ]
  },
  {
   "cell_type": "code",
   "execution_count": 15,
   "id": "46765970",
   "metadata": {},
   "outputs": [
    {
     "data": {
      "text/plain": [
       "Counter({'onions': 2, 'cucumber': 19, 'potato': 11, 'sweet_potato': 38})"
      ]
     },
     "execution_count": 15,
     "metadata": {},
     "output_type": "execute_result"
    }
   ],
   "source": [
    "c = Counter(onions=2, cucumber=19, potato=11, sweet_potato=38)\n",
    "c"
   ]
  },
  {
   "cell_type": "markdown",
   "id": "9d2fe4eb",
   "metadata": {},
   "source": [
    "Counts can be retrieved by using keys. If it does not exist in the Counter, count is 0."
   ]
  },
  {
   "cell_type": "code",
   "execution_count": 19,
   "id": "75a4f2a5",
   "metadata": {},
   "outputs": [
    {
     "data": {
      "text/plain": [
       "(2, 0)"
      ]
     },
     "execution_count": 19,
     "metadata": {},
     "output_type": "execute_result"
    }
   ],
   "source": [
    "c['onions'], c['zombie']"
   ]
  },
  {
   "cell_type": "markdown",
   "id": "60f33a06",
   "metadata": {},
   "source": [
    "Counts can be changed. It can be 0 or negative. "
   ]
  },
  {
   "cell_type": "code",
   "execution_count": 21,
   "id": "9bcbb371",
   "metadata": {},
   "outputs": [
    {
     "data": {
      "text/plain": [
       "True"
      ]
     },
     "execution_count": 21,
     "metadata": {},
     "output_type": "execute_result"
    }
   ],
   "source": [
    "c['sweet_potato'] = 0\n",
    "'sweet_potato' in c"
   ]
  },
  {
   "cell_type": "code",
   "execution_count": 22,
   "id": "8c764f68",
   "metadata": {},
   "outputs": [
    {
     "data": {
      "text/plain": [
       "True"
      ]
     },
     "execution_count": 22,
     "metadata": {},
     "output_type": "execute_result"
    }
   ],
   "source": [
    "c['sweet_potato'] = -100\n",
    "'sweet_potato' in c"
   ]
  },
  {
   "cell_type": "markdown",
   "id": "6023c0d6",
   "metadata": {},
   "source": [
    "Elements in the Counts can be deleted with del. "
   ]
  },
  {
   "cell_type": "code",
   "execution_count": 23,
   "id": "0b6d2ee2",
   "metadata": {},
   "outputs": [
    {
     "data": {
      "text/plain": [
       "False"
      ]
     },
     "execution_count": 23,
     "metadata": {},
     "output_type": "execute_result"
    }
   ],
   "source": [
    "del c['sweet_potato']\n",
    "'sweet_potato' in c"
   ]
  },
  {
   "cell_type": "markdown",
   "id": "1c8c629b",
   "metadata": {},
   "source": [
    "Counter has help methods. <code>elements</code> returns an iterator that generates all the elements."
   ]
  },
  {
   "cell_type": "code",
   "execution_count": 26,
   "id": "d3333788",
   "metadata": {},
   "outputs": [
    {
     "data": {
      "text/plain": [
       "['onions',\n",
       " 'onions',\n",
       " 'cucumber',\n",
       " 'cucumber',\n",
       " 'cucumber',\n",
       " 'cucumber',\n",
       " 'cucumber',\n",
       " 'cucumber',\n",
       " 'cucumber',\n",
       " 'cucumber',\n",
       " 'cucumber',\n",
       " 'cucumber',\n",
       " 'cucumber',\n",
       " 'cucumber',\n",
       " 'cucumber',\n",
       " 'cucumber',\n",
       " 'cucumber',\n",
       " 'cucumber',\n",
       " 'cucumber',\n",
       " 'cucumber',\n",
       " 'cucumber',\n",
       " 'potato',\n",
       " 'potato',\n",
       " 'potato',\n",
       " 'potato',\n",
       " 'potato',\n",
       " 'potato',\n",
       " 'potato',\n",
       " 'potato',\n",
       " 'potato',\n",
       " 'potato',\n",
       " 'potato']"
      ]
     },
     "execution_count": 26,
     "metadata": {},
     "output_type": "execute_result"
    }
   ],
   "source": [
    "list(c.elements())"
   ]
  },
  {
   "cell_type": "code",
   "execution_count": null,
   "id": "e2701580",
   "metadata": {},
   "outputs": [],
   "source": []
  }
 ],
 "metadata": {
  "kernelspec": {
   "display_name": "Python 3 (ipykernel)",
   "language": "python",
   "name": "python3"
  },
  "language_info": {
   "codemirror_mode": {
    "name": "ipython",
    "version": 3
   },
   "file_extension": ".py",
   "mimetype": "text/x-python",
   "name": "python",
   "nbconvert_exporter": "python",
   "pygments_lexer": "ipython3",
   "version": "3.9.7"
  }
 },
 "nbformat": 4,
 "nbformat_minor": 5
}
