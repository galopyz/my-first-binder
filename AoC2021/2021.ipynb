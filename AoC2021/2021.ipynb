{
 "cells": [
  {
   "cell_type": "markdown",
   "id": "c6a5c4f4",
   "metadata": {},
   "source": [
    "# Advent of Code 2021"
   ]
  },
  {
   "cell_type": "markdown",
   "id": "4ea40a6f",
   "metadata": {},
   "source": [
    "Here, I will solve problems from Advent of Code 2021 and compare my solution with Norvig's. After a quick glance at his solutions, I make improvements on mine. "
   ]
  },
  {
   "cell_type": "markdown",
   "id": "1464f90a",
   "metadata": {},
   "source": [
    "Import libraries and utilities."
   ]
  },
  {
   "cell_type": "code",
   "execution_count": 1,
   "id": "6356d62b",
   "metadata": {},
   "outputs": [],
   "source": [
    "from __future__  import annotations\n",
    "from collections import Counter, defaultdict, namedtuple, deque\n",
    "from itertools   import permutations, combinations, chain, count as count_from, product as cross_product\n",
    "from typing      import *\n",
    "from statistics  import mean, median\n",
    "from math        import ceil, inf\n",
    "from functools   import lru_cache\n",
    "import matplotlib.pyplot as plt\n",
    "import re\n",
    "\n",
    "def answer(puzzle_number, got, expected) -> bool:\n",
    "    \"\"\"Verify the answer we got was the expected answer.\"\"\"\n",
    "    assert got == expected, f'For {puzzle_number}, expected {expected} but got {got}.'\n",
    "    return True\n",
    "\n",
    "# Now able to parse given strings\n",
    "def parse(inp, parser=str, sep='\\n', print_lines=7) -> tuple:\n",
    "    \"\"\"Split the day's input file into entries separated by `sep`, \n",
    "    and apply `parser` to each. If a string is given, parse it instad.\"\"\"\n",
    "    if isinstance(inp, int):\n",
    "        title = f'input{inp}.txt' # Suited to my needs\n",
    "        text  = open(title).read()\n",
    "    elif isinstance(inp, str):\n",
    "        title = 'sample'\n",
    "        text = inp.strip()\n",
    "    entries = mapt(parser, text.rstrip().split(sep))\n",
    "    if print_lines:\n",
    "        all_lines = text.splitlines()\n",
    "        lines = all_lines[:print_lines]\n",
    "        head = f'{title} ➜ {len(text)} chars, {len(all_lines)} lines; first {len(lines)} lines:'\n",
    "        dash = \"-\" * 100\n",
    "        print(f'{dash}\\n{head}\\n{dash}')\n",
    "        for line in lines:\n",
    "            print(trunc(line))\n",
    "        print(f'{dash}\\nparse({inp}) ➜ {len(entries)} entries:\\n'\n",
    "              f'{dash}\\n{trunc(str(entries))}\\n{dash}')\n",
    "    return entries\n",
    "\n",
    "def trunc(s: str, left=70, right=25, dots=' ... ') -> str: \n",
    "    \"\"\"All of string s if it fits; else left and right ends of s with dots in the middle.\"\"\"\n",
    "#     dots = ' ... ' No need\n",
    "    return s if len(s) <= left + right + len(dots) else s[:left] + dots + s[-right:]\n",
    "\n",
    "Char = str # Intended as the type of a one-character string\n",
    "Atom = Union[float, int, str]\n",
    "\n",
    "def ints(text: str) -> Tuple[int]:\n",
    "    \"\"\"A tuple of all the integers in text, ignoring non-number characters.\"\"\"\n",
    "    return mapt(int, re.findall(r'-?[0-9]+', text))\n",
    "\n",
    "def digits(text: str) -> Tuple[int]:\n",
    "    \"\"\"A tuple of all the digits in text (as ints 0–9), ignoring non-digit characters.\"\"\"\n",
    "    return mapt(int, re.findall(r'[0-9]', text))\n",
    "\n",
    "def words(text: str) -> List[str]:\n",
    "    \"\"\"A list of all the alphabetic words in text, ignoring non-letters.\"\"\"\n",
    "    return re.findall(r'[a-zA-Z]+', text)\n",
    "\n",
    "def atoms(text: str) -> Tuple[Atom]:\n",
    "    \"\"\"A tuple of all the atoms (numbers or symbol names) in text.\"\"\"\n",
    "    return mapt(atom, re.findall(r'[a-zA-Z_0-9.+-]+', text))\n",
    "\n",
    "def atom(text: str) -> Atom:\n",
    "    \"\"\"Parse text into a single float or int or str.\"\"\"\n",
    "    try:\n",
    "        x = float(text)\n",
    "        return round(x) if round(x) == x else x\n",
    "    except ValueError:\n",
    "        return text\n",
    "    \n",
    "def mapt(fn, *args) -> tuple:\n",
    "    \"\"\"map(fn, *args) and return the result as a tuple.\"\"\"\n",
    "    return tuple(map(fn, *args))\n",
    "\n",
    "def quantify(iterable, pred=bool) -> int:\n",
    "    \"\"\"Count the number of items in iterable for which pred is true.\"\"\"\n",
    "    return sum(1 for item in iterable if pred(item))\n",
    "\n",
    "class multimap(defaultdict):\n",
    "    \"\"\"A mapping of {key: [val1, val2, ...]}.\"\"\"\n",
    "    def __init__(self, pairs: Iterable[tuple], symmetric=False):\n",
    "        \"\"\"Given (key, val) pairs, return {key: [val, ...], ...}.\n",
    "        If `symmetric` is True, treat (key, val) as (key, val) plus (val, key).\"\"\"\n",
    "        self.default_factory = list\n",
    "        for (key, val) in pairs:\n",
    "            self[key].append(val)\n",
    "            if symmetric:\n",
    "                self[val].append(key)\n",
    "\n",
    "def prod(numbers) -> float: # Will be math.prod in Python 3.8\n",
    "    \"\"\"The product formed by multiplying `numbers` together.\"\"\"\n",
    "    result = 1\n",
    "    for x in numbers:\n",
    "        result *= x\n",
    "    return result\n",
    "\n",
    "def total(counter: Counter) -> int: \n",
    "    \"\"\"The sum of all the counts in a Counter.\"\"\"\n",
    "    return sum(counter.values())\n",
    "\n",
    "def sign(x) -> int: return (0 if x == 0 else +1 if x > 0 else -1)\n",
    "\n",
    "def transpose(matrix) -> list: return list(zip(*matrix))\n",
    "\n",
    "def nothing(*args) -> None: return None\n",
    "\n",
    "cat     = ''.join\n",
    "flatten = chain.from_iterable\n",
    "cache   = lru_cache(None)\n",
    "\n",
    "Point = Tuple[int, int] # (x, y) points on a grid\n",
    "\n",
    "neighbors4 = ((0, 1), (1, 0), (0, -1), (-1, 0))               \n",
    "neighbors8 = ((1, 1), (1, -1), (-1, 1), (-1, -1)) + neighbors4\n",
    "\n",
    "class Grid(dict):\n",
    "    \"\"\"A 2D grid, implemented as a mapping of {(x, y): cell_contents}.\"\"\"\n",
    "    def __init__(self, mapping=(), rows=(), neighbors=neighbors4):\n",
    "        \"\"\"Initialize with, e.g., either `mapping={(0, 0): 1, (1, 0): 2, ...}`,\n",
    "        or `rows=[(1, 2, 3), (4, 5, 6)].\n",
    "        `neighbors` is a collection of (dx, dy) deltas to neighboring points.`\"\"\"\n",
    "        self.update(mapping if mapping else\n",
    "                    {(x, y): val \n",
    "                     for y, row in enumerate(rows) \n",
    "                     for x, val in enumerate(row)})\n",
    "        self.width  = max(x for x, y in self) + 1\n",
    "        self.height = max(y for x, y in self) + 1\n",
    "        self.deltas = neighbors\n",
    "        \n",
    "    def copy(self) -> Grid: return Grid(self, neighbors=self.deltas)\n",
    "    \n",
    "    def neighbors(self, point) -> List[Point]:\n",
    "        \"\"\"Points on the grid that neighbor `point`.\"\"\"\n",
    "        x, y = point\n",
    "        return [(x+dx, y+dy) for (dx, dy) in self.deltas \n",
    "                if (x+dx, y+dy) in self]\n",
    "    \n",
    "    def to_rows(self) -> List[List[object]]:\n",
    "        \"\"\"The contents of the grid in a rectangular list of lists.\"\"\"\n",
    "        return [[self[x, y] for x in range(self.width)]\n",
    "                for y in range(self.height)]"
   ]
  },
  {
   "cell_type": "markdown",
   "id": "47958130",
   "metadata": {
    "heading_collapsed": true
   },
   "source": [
    "## Day 1"
   ]
  },
  {
   "cell_type": "markdown",
   "id": "443fbe98",
   "metadata": {
    "hidden": true
   },
   "source": [
    "Problem 1.1: How many times the value increased from the previous one?"
   ]
  },
  {
   "cell_type": "code",
   "execution_count": 8,
   "id": "5774d9ec",
   "metadata": {
    "hidden": true
   },
   "outputs": [
    {
     "name": "stdout",
     "output_type": "stream",
     "text": [
      "----------------------------------------------------------------------------------------------------\n",
      "input1.txt ➜ 9777 chars, 2000 lines; first 7 lines:\n",
      "----------------------------------------------------------------------------------------------------\n",
      "151\n",
      "152\n",
      "153\n",
      "158\n",
      "159\n",
      "163\n",
      "164\n",
      "----------------------------------------------------------------------------------------------------\n",
      "parse(1) ➜ 2000 entries:\n",
      "----------------------------------------------------------------------------------------------------\n",
      "(151, 152, 153, 158, 159, 163, 164, 162, 161, 167, 169, 168, 169, 170, ... , 8078, 8081, 8112, 8127)\n",
      "----------------------------------------------------------------------------------------------------\n"
     ]
    }
   ],
   "source": [
    "inp1 = parse(1, parser=int)"
   ]
  },
  {
   "cell_type": "code",
   "execution_count": 51,
   "id": "a7c8f1ef",
   "metadata": {
    "hidden": true
   },
   "outputs": [],
   "source": [
    "# A sample provided by Advent of Code\n",
    "sample1 = [199, 200, 208, 210, 200, 207, 240, 269, 260, 263]"
   ]
  },
  {
   "cell_type": "code",
   "execution_count": 35,
   "id": "c3e05925",
   "metadata": {
    "hidden": true
   },
   "outputs": [],
   "source": [
    "# My naive attempt to solve\n",
    "def deeper(inputs):\n",
    "    return sum(1 for x, y in zip(inputs[:-1], inputs[1:]) if y > x)"
   ]
  },
  {
   "cell_type": "code",
   "execution_count": 94,
   "id": "4dd871a3",
   "metadata": {
    "hidden": true
   },
   "outputs": [],
   "source": [
    "# Way better version with quantify adopted from Norvig\n",
    "def deeper_quant(inputs):\n",
    "    return quantify(inputs[i + 1] > inputs[i] for i in range(len(inputs) - 1))"
   ]
  },
  {
   "cell_type": "code",
   "execution_count": 92,
   "id": "e54fe868",
   "metadata": {
    "hidden": true
   },
   "outputs": [
    {
     "data": {
      "text/plain": [
       "7"
      ]
     },
     "execution_count": 92,
     "metadata": {},
     "output_type": "execute_result"
    }
   ],
   "source": [
    "deeper(sample1)"
   ]
  },
  {
   "cell_type": "code",
   "execution_count": 95,
   "id": "2702db2f",
   "metadata": {
    "hidden": true
   },
   "outputs": [
    {
     "data": {
      "text/plain": [
       "True"
      ]
     },
     "execution_count": 95,
     "metadata": {},
     "output_type": "execute_result"
    }
   ],
   "source": [
    "answer('sample1', deeper_quant(sample1), 7)"
   ]
  },
  {
   "cell_type": "code",
   "execution_count": 37,
   "id": "84ce7a03",
   "metadata": {
    "hidden": true
   },
   "outputs": [
    {
     "data": {
      "text/plain": [
       "1564"
      ]
     },
     "execution_count": 37,
     "metadata": {},
     "output_type": "execute_result"
    }
   ],
   "source": [
    "deeper(inp1)"
   ]
  },
  {
   "cell_type": "code",
   "execution_count": 96,
   "id": "4862be91",
   "metadata": {
    "hidden": true
   },
   "outputs": [
    {
     "data": {
      "text/plain": [
       "True"
      ]
     },
     "execution_count": 96,
     "metadata": {},
     "output_type": "execute_result"
    }
   ],
   "source": [
    "answer(1.1, deeper_quant(inp1), 1564)"
   ]
  },
  {
   "cell_type": "markdown",
   "id": "5382bf34",
   "metadata": {
    "hidden": true
   },
   "source": [
    "Problem 1.2: Three-measurement sliding window. Instead of comparing one item to another, we now compare a tripplet to next tripplet."
   ]
  },
  {
   "cell_type": "code",
   "execution_count": 54,
   "id": "029ba685",
   "metadata": {
    "hidden": true
   },
   "outputs": [],
   "source": [
    "# My naive version\n",
    "def deeper2(inputs):\n",
    "    three_measurements = [x+y+z for x, y, z in \n",
    "                          zip(inputs[:-2], inputs[1:-1], inputs[2:])]\n",
    "    return sum(1 for x, y in zip(three_measurements[:-1], three_measurements[1:]) if y > x)"
   ]
  },
  {
   "cell_type": "code",
   "execution_count": 86,
   "id": "5e1eb7f7",
   "metadata": {
    "hidden": true
   },
   "outputs": [],
   "source": [
    "# Better version with quantify\n",
    "def deeper_quant2(inputs):\n",
    "    return quantify(sum(inputs[i:i+3]) < sum(inputs[i+1:i+4])\n",
    "                   for i in range(len(inputs) - 3))"
   ]
  },
  {
   "cell_type": "code",
   "execution_count": 55,
   "id": "6f6dd7d2",
   "metadata": {
    "hidden": true
   },
   "outputs": [
    {
     "data": {
      "text/plain": [
       "5"
      ]
     },
     "execution_count": 55,
     "metadata": {},
     "output_type": "execute_result"
    }
   ],
   "source": [
    "deeper2(sample1)"
   ]
  },
  {
   "cell_type": "code",
   "execution_count": 87,
   "id": "ebe4eae6",
   "metadata": {
    "hidden": true
   },
   "outputs": [
    {
     "data": {
      "text/plain": [
       "True"
      ]
     },
     "execution_count": 87,
     "metadata": {},
     "output_type": "execute_result"
    }
   ],
   "source": [
    "answer('sample1', deeper_quant2(sample1), 5)"
   ]
  },
  {
   "cell_type": "code",
   "execution_count": 56,
   "id": "c440706d",
   "metadata": {
    "hidden": true
   },
   "outputs": [
    {
     "data": {
      "text/plain": [
       "6"
      ]
     },
     "execution_count": 56,
     "metadata": {},
     "output_type": "execute_result"
    }
   ],
   "source": [
    "deeper2(inp1[:10])"
   ]
  },
  {
   "cell_type": "code",
   "execution_count": 57,
   "id": "27ed46eb",
   "metadata": {
    "hidden": true
   },
   "outputs": [
    {
     "data": {
      "text/plain": [
       "1611"
      ]
     },
     "execution_count": 57,
     "metadata": {},
     "output_type": "execute_result"
    }
   ],
   "source": [
    "deeper2(inp1)"
   ]
  },
  {
   "cell_type": "code",
   "execution_count": 88,
   "id": "6ade058e",
   "metadata": {
    "hidden": true
   },
   "outputs": [
    {
     "data": {
      "text/plain": [
       "True"
      ]
     },
     "execution_count": 88,
     "metadata": {},
     "output_type": "execute_result"
    }
   ],
   "source": [
    "answer('sample1', deeper_quant2(inp1), 1611)"
   ]
  },
  {
   "cell_type": "markdown",
   "id": "26b4351f",
   "metadata": {
    "heading_collapsed": true
   },
   "source": [
    "## Day 2"
   ]
  },
  {
   "cell_type": "markdown",
   "id": "becb2cc4",
   "metadata": {
    "hidden": true
   },
   "source": [
    "Problem 2.1: What is the product of distance travelled? "
   ]
  },
  {
   "cell_type": "code",
   "execution_count": 52,
   "id": "efbc89bf",
   "metadata": {
    "hidden": true
   },
   "outputs": [
    {
     "name": "stdout",
     "output_type": "stream",
     "text": [
      "----------------------------------------------------------------------------------------------------\n",
      "input2.txt ➜ 7793 chars, 1000 lines; first 7 lines:\n",
      "----------------------------------------------------------------------------------------------------\n",
      "forward 6\n",
      "down 2\n",
      "forward 2\n",
      "down 8\n",
      "forward 3\n",
      "down 6\n",
      "down 8\n",
      "----------------------------------------------------------------------------------------------------\n",
      "parse(2) ➜ 1000 entries:\n",
      "----------------------------------------------------------------------------------------------------\n",
      "(['forward', '6'], ['down', '2'], ['forward', '2'], ['down', '8'], ['f ... , '9'], ['forward', '8'])\n",
      "----------------------------------------------------------------------------------------------------\n"
     ]
    }
   ],
   "source": [
    "inp2 = parse(2, parser=lambda x: x.split() )"
   ]
  },
  {
   "cell_type": "code",
   "execution_count": 53,
   "id": "39549fa0",
   "metadata": {
    "hidden": true
   },
   "outputs": [
    {
     "data": {
      "text/plain": [
       "[0, 0]"
      ]
     },
     "execution_count": 53,
     "metadata": {},
     "output_type": "execute_result"
    }
   ],
   "source": [
    "point = [0, 0]\n",
    "point"
   ]
  },
  {
   "cell_type": "code",
   "execution_count": 55,
   "id": "b0e3b717",
   "metadata": {
    "hidden": true
   },
   "outputs": [],
   "source": [
    "def dive(point, direction):\n",
    "    \"\"\"Follow direction from the point.\"\"\"\n",
    "    heading, distance = direction\n",
    "    distance = int(distance)\n",
    "    if heading == 'forward':\n",
    "        point[0] += distance\n",
    "    elif heading == 'down':\n",
    "        point[1] += distance\n",
    "    elif heading == 'up':\n",
    "        point[1] -= distance\n",
    "    else:\n",
    "        raise ValueError('Invalid direction')"
   ]
  },
  {
   "cell_type": "code",
   "execution_count": 103,
   "id": "62fa3125",
   "metadata": {
    "hidden": true
   },
   "outputs": [
    {
     "name": "stdout",
     "output_type": "stream",
     "text": [
      "----------------------------------------------------------------------------------------------------\n",
      "sample ➜ 48 chars, 6 lines; first 6 lines:\n",
      "----------------------------------------------------------------------------------------------------\n",
      "forward 5\n",
      "down 5\n",
      "forward 8\n",
      "up 3\n",
      "down 8\n",
      "forward 2\n",
      "----------------------------------------------------------------------------------------------------\n",
      "parse(\n",
      "forward 5\n",
      "down 5\n",
      "forward 8\n",
      "up 3\n",
      "down 8\n",
      "forward 2\n",
      ") ➜ 6 entries:\n",
      "----------------------------------------------------------------------------------------------------\n",
      "(('forward', 5), ('down', 5), ('forward', 8), ('up', 3), ('down', 8), ('forward', 2))\n",
      "----------------------------------------------------------------------------------------------------\n"
     ]
    }
   ],
   "source": [
    "sample_inp2 = '''\n",
    "forward 5\n",
    "down 5\n",
    "forward 8\n",
    "up 3\n",
    "down 8\n",
    "forward 2\n",
    "'''\n",
    "samples2 = parse(sample_inp2, parser=lambda x: x.split())"
   ]
  },
  {
   "cell_type": "code",
   "execution_count": 67,
   "id": "363c43e4",
   "metadata": {
    "hidden": true
   },
   "outputs": [],
   "source": [
    "def solve2_1(directions):\n",
    "    \"\"\"Solve problem 2.1\"\"\"\n",
    "    point = [0, 0]\n",
    "    for direction in directions:\n",
    "        dive(point, direction)\n",
    "    return prod(point)"
   ]
  },
  {
   "cell_type": "code",
   "execution_count": 70,
   "id": "3f7134d7",
   "metadata": {
    "hidden": true
   },
   "outputs": [
    {
     "data": {
      "text/plain": [
       "True"
      ]
     },
     "execution_count": 70,
     "metadata": {},
     "output_type": "execute_result"
    }
   ],
   "source": [
    "answer('sample 2.1', solve2_1(samples2), 150)"
   ]
  },
  {
   "cell_type": "code",
   "execution_count": 64,
   "id": "3e7e43d1",
   "metadata": {
    "hidden": true
   },
   "outputs": [
    {
     "data": {
      "text/plain": [
       "2322630"
      ]
     },
     "execution_count": 64,
     "metadata": {},
     "output_type": "execute_result"
    }
   ],
   "source": [
    "solve2_1(inp2)"
   ]
  },
  {
   "cell_type": "markdown",
   "id": "8b7df1a7",
   "metadata": {
    "hidden": true
   },
   "source": [
    "Problem 2.2: Now, down increases aim by X, up decreases aim by X, and forward moves horizontal distance and increases depth by aim multiplied by X."
   ]
  },
  {
   "cell_type": "code",
   "execution_count": 85,
   "id": "1fe59756",
   "metadata": {
    "hidden": true
   },
   "outputs": [],
   "source": [
    "def dive2(point, direction):\n",
    "    \"\"\"Follow direction from the point with aim.\"\"\"\n",
    "    heading, distance = direction\n",
    "    distance = int(distance)\n",
    "    if heading == 'forward':\n",
    "        point[0] += distance\n",
    "        point[1] += point[2] * distance\n",
    "    elif heading == 'down':\n",
    "        point[2] += distance\n",
    "    elif heading == 'up':\n",
    "        point[2] -= distance\n",
    "    else:\n",
    "        raise ValueError('Invalid direction')"
   ]
  },
  {
   "cell_type": "code",
   "execution_count": 90,
   "id": "c4c317fe",
   "metadata": {
    "hidden": true
   },
   "outputs": [],
   "source": [
    "def solve2_2(directions):\n",
    "    \"\"\"Solve problem 2.2\"\"\"\n",
    "    point = [0, 0, 0] # x, y, aim\n",
    "    for direction in directions:\n",
    "        dive2(point, direction)\n",
    "    return point[0] * point[1]"
   ]
  },
  {
   "cell_type": "code",
   "execution_count": 92,
   "id": "285680c2",
   "metadata": {
    "hidden": true
   },
   "outputs": [
    {
     "data": {
      "text/plain": [
       "True"
      ]
     },
     "execution_count": 92,
     "metadata": {},
     "output_type": "execute_result"
    }
   ],
   "source": [
    "answer('sample 2.2', solve2_2(samples2), 900)"
   ]
  },
  {
   "cell_type": "code",
   "execution_count": 93,
   "id": "35390f3f",
   "metadata": {
    "hidden": true
   },
   "outputs": [
    {
     "data": {
      "text/plain": [
       "2105273490"
      ]
     },
     "execution_count": 93,
     "metadata": {},
     "output_type": "execute_result"
    }
   ],
   "source": [
    "solve2_2(inp2)"
   ]
  },
  {
   "cell_type": "markdown",
   "id": "df699662",
   "metadata": {
    "hidden": true
   },
   "source": [
    "I used a list to store x, y, and aim, but I did not have to. Because it is such a simple problem, Norvig did not bother making a list. When parsing the input, I splitted the inputs by using lambda function, but atoms function can do exactly what I wanted to achieve by parsing integer as int."
   ]
  },
  {
   "cell_type": "code",
   "execution_count": 97,
   "id": "d1eafb4b",
   "metadata": {
    "hidden": true
   },
   "outputs": [
    {
     "name": "stdout",
     "output_type": "stream",
     "text": [
      "----------------------------------------------------------------------------------------------------\n",
      "input2.txt ➜ 7793 chars, 1000 lines; first 7 lines:\n",
      "----------------------------------------------------------------------------------------------------\n",
      "forward 6\n",
      "down 2\n",
      "forward 2\n",
      "down 8\n",
      "forward 3\n",
      "down 6\n",
      "down 8\n",
      "----------------------------------------------------------------------------------------------------\n",
      "parse(2) ➜ 1000 entries:\n",
      "----------------------------------------------------------------------------------------------------\n",
      "(('forward', 6), ('down', 2), ('forward', 2), ('down', 8), ('forward', ... own', 9), ('forward', 8))\n",
      "----------------------------------------------------------------------------------------------------\n"
     ]
    }
   ],
   "source": [
    "inp2 = parse(2, atoms)"
   ]
  },
  {
   "cell_type": "code",
   "execution_count": 104,
   "id": "87449ad7",
   "metadata": {
    "hidden": true
   },
   "outputs": [
    {
     "name": "stdout",
     "output_type": "stream",
     "text": [
      "----------------------------------------------------------------------------------------------------\n",
      "sample ➜ 48 chars, 6 lines; first 6 lines:\n",
      "----------------------------------------------------------------------------------------------------\n",
      "forward 5\n",
      "down 5\n",
      "forward 8\n",
      "up 3\n",
      "down 8\n",
      "forward 2\n",
      "----------------------------------------------------------------------------------------------------\n",
      "parse(\n",
      "forward 5\n",
      "down 5\n",
      "forward 8\n",
      "up 3\n",
      "down 8\n",
      "forward 2\n",
      ") ➜ 6 entries:\n",
      "----------------------------------------------------------------------------------------------------\n",
      "(('forward', 5), ('down', 5), ('forward', 8), ('up', 3), ('down', 8), ('forward', 2))\n",
      "----------------------------------------------------------------------------------------------------\n"
     ]
    }
   ],
   "source": [
    "sample_inp2 = '''\n",
    "forward 5\n",
    "down 5\n",
    "forward 8\n",
    "up 3\n",
    "down 8\n",
    "forward 2\n",
    "'''\n",
    "samples2 = parse(sample_inp2, atoms)"
   ]
  },
  {
   "cell_type": "code",
   "execution_count": 110,
   "id": "67291ed9",
   "metadata": {
    "hidden": true
   },
   "outputs": [],
   "source": [
    "def improved_solve2_1(directions):\n",
    "    x = y = 0\n",
    "    for heading, n in directions:\n",
    "        if heading == 'forward': x += n\n",
    "        elif heading == 'down': y += n\n",
    "        elif heading == 'up': y -= n\n",
    "    return x * y"
   ]
  },
  {
   "cell_type": "code",
   "execution_count": 111,
   "id": "24f04270",
   "metadata": {
    "hidden": true
   },
   "outputs": [
    {
     "data": {
      "text/plain": [
       "True"
      ]
     },
     "execution_count": 111,
     "metadata": {},
     "output_type": "execute_result"
    }
   ],
   "source": [
    "answer('improved sample 2.1', improved_solve2_1(samples2), 150)"
   ]
  },
  {
   "cell_type": "code",
   "execution_count": 112,
   "id": "4d4afa4c",
   "metadata": {
    "hidden": true
   },
   "outputs": [
    {
     "data": {
      "text/plain": [
       "True"
      ]
     },
     "execution_count": 112,
     "metadata": {},
     "output_type": "execute_result"
    }
   ],
   "source": [
    "answer('improved 2.1', improved_solve2_1(inp2), 2322630)"
   ]
  },
  {
   "cell_type": "code",
   "execution_count": 113,
   "id": "eb8cb325",
   "metadata": {
    "hidden": true
   },
   "outputs": [],
   "source": [
    "def improved_solve_2_2(directions):\n",
    "    x = y = aim = 0\n",
    "    for heading, n in directions:\n",
    "        if heading == 'forward': \n",
    "            x += n\n",
    "            y += n * aim\n",
    "        elif heading == 'down': \n",
    "            aim += n\n",
    "        elif heading == 'up': \n",
    "            aim -= n\n",
    "    return x * y"
   ]
  },
  {
   "cell_type": "code",
   "execution_count": 114,
   "id": "b7bd25f4",
   "metadata": {
    "hidden": true
   },
   "outputs": [
    {
     "data": {
      "text/plain": [
       "True"
      ]
     },
     "execution_count": 114,
     "metadata": {},
     "output_type": "execute_result"
    }
   ],
   "source": [
    "answer('sample 2.2', solve2_2(samples2), 900)"
   ]
  },
  {
   "cell_type": "code",
   "execution_count": 115,
   "id": "48e0d766",
   "metadata": {
    "hidden": true
   },
   "outputs": [
    {
     "data": {
      "text/plain": [
       "True"
      ]
     },
     "execution_count": 115,
     "metadata": {},
     "output_type": "execute_result"
    }
   ],
   "source": [
    "answer('sample 2.2', solve2_2(inp2), 2105273490)"
   ]
  },
  {
   "cell_type": "markdown",
   "id": "fbb71548",
   "metadata": {
    "heading_collapsed": true
   },
   "source": [
    "## Day 3"
   ]
  },
  {
   "cell_type": "markdown",
   "id": "e8d9acc0",
   "metadata": {
    "hidden": true
   },
   "source": [
    "Problem 3.1: What is a value of the most and least common digits in binary, convert them to decimal, then multiplied together?"
   ]
  },
  {
   "cell_type": "code",
   "execution_count": 9,
   "id": "1d476c1c",
   "metadata": {
    "hidden": true
   },
   "outputs": [
    {
     "name": "stdout",
     "output_type": "stream",
     "text": [
      "----------------------------------------------------------------------------------------------------\n",
      "input3.txt ➜ 12999 chars, 1000 lines; first 7 lines:\n",
      "----------------------------------------------------------------------------------------------------\n",
      "100100110110\n",
      "101110110110\n",
      "010100010100\n",
      "011001110000\n",
      "000000000111\n",
      "000010110001\n",
      "001111000001\n",
      "----------------------------------------------------------------------------------------------------\n",
      "parse(3) ➜ 1000 entries:\n",
      "----------------------------------------------------------------------------------------------------\n",
      "('100100110110', '101110110110', '010100010100', '011001110000', '0000 ... 1110010', '111100110011')\n",
      "----------------------------------------------------------------------------------------------------\n"
     ]
    }
   ],
   "source": [
    "inp3 = parse(3, lambda x: x)"
   ]
  },
  {
   "cell_type": "code",
   "execution_count": 20,
   "id": "c7fde88e",
   "metadata": {
    "hidden": true
   },
   "outputs": [
    {
     "data": {
      "text/plain": [
       "[('1', '0', '0'), ('0', '1', '0'), ('0', '1', '0'), ('1', '1', '0')]"
      ]
     },
     "execution_count": 20,
     "metadata": {},
     "output_type": "execute_result"
    }
   ],
   "source": [
    "nums = list(zip('1001', '0111', '0000'))\n",
    "nums"
   ]
  },
  {
   "cell_type": "code",
   "execution_count": 109,
   "id": "b870a8c6",
   "metadata": {
    "hidden": true
   },
   "outputs": [
    {
     "data": {
      "text/plain": [
       "[('0', 2), ('1', 1)]"
      ]
     },
     "execution_count": 109,
     "metadata": {},
     "output_type": "execute_result"
    }
   ],
   "source": [
    "c = Counter(nums[0])\n",
    "c.most_common()"
   ]
  },
  {
   "cell_type": "code",
   "execution_count": 39,
   "id": "4eb25fff",
   "metadata": {
    "hidden": true
   },
   "outputs": [
    {
     "data": {
      "text/plain": [
       "'0'"
      ]
     },
     "execution_count": 39,
     "metadata": {},
     "output_type": "execute_result"
    }
   ],
   "source": [
    "c.most_common()[0][0]"
   ]
  },
  {
   "cell_type": "code",
   "execution_count": 112,
   "id": "eb5b4481",
   "metadata": {
    "hidden": true
   },
   "outputs": [
    {
     "data": {
      "text/plain": [
       "[1, 2]"
      ]
     },
     "execution_count": 112,
     "metadata": {},
     "output_type": "execute_result"
    }
   ],
   "source": [
    "list(c.values())"
   ]
  },
  {
   "cell_type": "code",
   "execution_count": 28,
   "id": "95eed484",
   "metadata": {
    "hidden": true
   },
   "outputs": [
    {
     "data": {
      "text/plain": [
       "2"
      ]
     },
     "execution_count": 28,
     "metadata": {},
     "output_type": "execute_result"
    }
   ],
   "source": [
    "int('0b10', 2)"
   ]
  },
  {
   "cell_type": "code",
   "execution_count": 35,
   "id": "38223abc",
   "metadata": {
    "hidden": true
   },
   "outputs": [
    {
     "name": "stdout",
     "output_type": "stream",
     "text": [
      "----------------------------------------------------------------------------------------------------\n",
      "sample ➜ 71 chars, 12 lines; first 7 lines:\n",
      "----------------------------------------------------------------------------------------------------\n",
      "00100\n",
      "11110\n",
      "10110\n",
      "10111\n",
      "10101\n",
      "01111\n",
      "00111\n",
      "----------------------------------------------------------------------------------------------------\n",
      "parse(\n",
      "00100\n",
      "11110\n",
      "10110\n",
      "10111\n",
      "10101\n",
      "01111\n",
      "00111\n",
      "11100\n",
      "10000\n",
      "11001\n",
      "00010\n",
      "01010\n",
      ") ➜ 12 entries:\n",
      "----------------------------------------------------------------------------------------------------\n",
      "('00100', '11110', '10110', '10111', '10101', '01111', '00111', '11100 ... 11001', '00010', '01010')\n",
      "----------------------------------------------------------------------------------------------------\n"
     ]
    }
   ],
   "source": [
    "sample_inp3 = '''\n",
    "00100\n",
    "11110\n",
    "10110\n",
    "10111\n",
    "10101\n",
    "01111\n",
    "00111\n",
    "11100\n",
    "10000\n",
    "11001\n",
    "00010\n",
    "01010\n",
    "'''\n",
    "samples3 = parse(sample_inp3)"
   ]
  },
  {
   "cell_type": "code",
   "execution_count": 83,
   "id": "5447e32a",
   "metadata": {
    "hidden": true
   },
   "outputs": [],
   "source": [
    "def get_commons(iterable, rank=0):\n",
    "    \"\"\"Grab the most common item from an iterable and convert it to decimal number.\"\"\"\n",
    "    return int(cat(Counter(inp).most_common()[rank][0] for inp in zip(*iterable)), 2)"
   ]
  },
  {
   "cell_type": "code",
   "execution_count": 88,
   "id": "ac16bc35",
   "metadata": {
    "hidden": true
   },
   "outputs": [],
   "source": [
    "def solve3_1(iterable):\n",
    "    return get_commons(iterable) * get_commons(iterable, 1)"
   ]
  },
  {
   "cell_type": "code",
   "execution_count": 84,
   "id": "1a141523",
   "metadata": {
    "hidden": true
   },
   "outputs": [
    {
     "data": {
      "text/plain": [
       "True"
      ]
     },
     "execution_count": 84,
     "metadata": {},
     "output_type": "execute_result"
    }
   ],
   "source": [
    "answer('sample3.1', get_commons(samples3), 22)"
   ]
  },
  {
   "cell_type": "code",
   "execution_count": 85,
   "id": "5b50efd9",
   "metadata": {
    "hidden": true
   },
   "outputs": [
    {
     "data": {
      "text/plain": [
       "True"
      ]
     },
     "execution_count": 85,
     "metadata": {},
     "output_type": "execute_result"
    }
   ],
   "source": [
    "answer('sample3.1', get_commons(samples3, 1), 9)"
   ]
  },
  {
   "cell_type": "code",
   "execution_count": 89,
   "id": "8638a4c8",
   "metadata": {
    "hidden": true
   },
   "outputs": [
    {
     "data": {
      "text/plain": [
       "True"
      ]
     },
     "execution_count": 89,
     "metadata": {},
     "output_type": "execute_result"
    }
   ],
   "source": [
    "answer('sample3.1', solve3_1(samples3), 198)"
   ]
  },
  {
   "cell_type": "code",
   "execution_count": 90,
   "id": "5bbab179",
   "metadata": {
    "hidden": true
   },
   "outputs": [
    {
     "data": {
      "text/plain": [
       "2003336"
      ]
     },
     "execution_count": 90,
     "metadata": {},
     "output_type": "execute_result"
    }
   ],
   "source": [
    "solve3_1(inp3)"
   ]
  },
  {
   "cell_type": "markdown",
   "id": "1927500f",
   "metadata": {
    "hidden": true
   },
   "source": [
    "Problem 3.2: We need to find O2 generator rating and CO2 scrubber rating. Here is how we find O2 generator rating. For first digit, find a most frequent digit, and filter numbers with that digit. Keep doing it until the last number is left or if there is a tie. If tie, keep the number with 1. To find CO2 scrubber rating, grab second frequent digits, and if there is a tie, grab a digit with 0. Then multiply O2 generator rating with CO2 scrubber rating."
   ]
  },
  {
   "cell_type": "code",
   "execution_count": 172,
   "id": "f8319fc2",
   "metadata": {
    "hidden": true
   },
   "outputs": [
    {
     "name": "stdout",
     "output_type": "stream",
     "text": [
      "0 checked\n",
      "2 checked\n",
      "4 checked\n"
     ]
    },
    {
     "data": {
      "text/plain": [
       "[1, 3, 5, 6, 7, 8, 9]"
      ]
     },
     "execution_count": 172,
     "metadata": {},
     "output_type": "execute_result"
    }
   ],
   "source": [
    "l = list(range(10))\n",
    "for n in l:\n",
    "    if len(l) == 7:\n",
    "        break\n",
    "    if n % 2 == 0:\n",
    "        l.remove(n)\n",
    "    print(f'{n} checked')\n",
    "l"
   ]
  },
  {
   "cell_type": "code",
   "execution_count": 282,
   "id": "5781b19b",
   "metadata": {
    "hidden": true
   },
   "outputs": [],
   "source": [
    "def get_commons2(iterable, rank=0):\n",
    "    \"\"\"For each digit, count occurrences and find a comparing number to compare.\n",
    "    Compare the number with result and filter out ones that don't satisfy the condition.\"\"\"\n",
    "    result = list(iterable)\n",
    "    for i in range(len(iterable[0])):\n",
    "        if len(result) == 1:\n",
    "            return result[0]\n",
    "        compare = find_comparing_num(result, rank, i)\n",
    "        result = list(filter(lambda x: x[i] == compare, result))\n",
    "    return result[0]\n",
    "\n",
    "def find_comparing_num(result, rank, i):\n",
    "    \"\"\"Find a number to compare with result by checking 'i'th digit of result.\"\"\"\n",
    "    most_common = Counter(res[i] for res in result).most_common()\n",
    "    compare = most_common[rank][0] \n",
    "    if most_common[0][1] == most_common[1][1]:\n",
    "        if rank == 0:\n",
    "            compare = '1'\n",
    "        else:\n",
    "            compare = '0'\n",
    "    return compare"
   ]
  },
  {
   "cell_type": "code",
   "execution_count": 283,
   "id": "4e7be37d",
   "metadata": {
    "hidden": true
   },
   "outputs": [
    {
     "data": {
      "text/plain": [
       "True"
      ]
     },
     "execution_count": 283,
     "metadata": {},
     "output_type": "execute_result"
    }
   ],
   "source": [
    "answer(3.2, get_commons2(samples3), '10111')"
   ]
  },
  {
   "cell_type": "code",
   "execution_count": 284,
   "id": "7bbe720d",
   "metadata": {
    "hidden": true
   },
   "outputs": [
    {
     "data": {
      "text/plain": [
       "True"
      ]
     },
     "execution_count": 284,
     "metadata": {},
     "output_type": "execute_result"
    }
   ],
   "source": [
    "answer(3.2, get_commons2(samples3, 1), '01010')"
   ]
  },
  {
   "cell_type": "code",
   "execution_count": 285,
   "id": "17a2715c",
   "metadata": {
    "hidden": true
   },
   "outputs": [],
   "source": [
    "def solve3_2(inputs):\n",
    "    return int(get_commons2(inputs), 2) * int(get_commons2(inputs, 1), 2)"
   ]
  },
  {
   "cell_type": "code",
   "execution_count": 286,
   "id": "e0f173f7",
   "metadata": {
    "hidden": true
   },
   "outputs": [
    {
     "data": {
      "text/plain": [
       "True"
      ]
     },
     "execution_count": 286,
     "metadata": {},
     "output_type": "execute_result"
    }
   ],
   "source": [
    "answer('sample3.2', solve3_2(samples3), 230)"
   ]
  },
  {
   "cell_type": "code",
   "execution_count": 287,
   "id": "ac390863",
   "metadata": {
    "hidden": true
   },
   "outputs": [
    {
     "data": {
      "text/plain": [
       "1877139"
      ]
     },
     "execution_count": 287,
     "metadata": {},
     "output_type": "execute_result"
    }
   ],
   "source": [
    "solve3_2(inp3)"
   ]
  },
  {
   "cell_type": "markdown",
   "id": "8fac2cde",
   "metadata": {
    "hidden": true
   },
   "source": [
    "I used Counter to count occurrences, but Norvig used str.count instead. Also, I used iterative approaches, but his version used recursive one. I love recursion, and I wish python transforms tail recursion into iterative version. I wrote my own recursive version just for fun."
   ]
  },
  {
   "cell_type": "code",
   "execution_count": 290,
   "id": "953e14b3",
   "metadata": {
    "hidden": true
   },
   "outputs": [],
   "source": [
    "def get_commons2_rec(binaries, rank=0, i=0):\n",
    "    \"\"\"Solve problem 3.2 recursively.\"\"\"\n",
    "    if len(binaries) == 1:\n",
    "        return binaries[0]\n",
    "    compare = find_comparing_num(binaries, rank, i)\n",
    "    return get_commons2_rec(list(filter(lambda x: x[i] == compare, binaries)), rank, i + 1)"
   ]
  },
  {
   "cell_type": "code",
   "execution_count": 293,
   "id": "1ec8ddae",
   "metadata": {
    "hidden": true
   },
   "outputs": [],
   "source": [
    "def solve3_2_rec(inputs):\n",
    "    return int(get_commons2_rec(inputs), 2) * int(get_commons2_rec(inputs, 1), 2)"
   ]
  },
  {
   "cell_type": "code",
   "execution_count": 291,
   "id": "574dbb20",
   "metadata": {
    "hidden": true
   },
   "outputs": [
    {
     "data": {
      "text/plain": [
       "True"
      ]
     },
     "execution_count": 291,
     "metadata": {},
     "output_type": "execute_result"
    }
   ],
   "source": [
    "answer(3.2, get_commons2_rec(samples3), '10111')"
   ]
  },
  {
   "cell_type": "code",
   "execution_count": 292,
   "id": "39b5f02e",
   "metadata": {
    "hidden": true
   },
   "outputs": [
    {
     "data": {
      "text/plain": [
       "True"
      ]
     },
     "execution_count": 292,
     "metadata": {},
     "output_type": "execute_result"
    }
   ],
   "source": [
    "answer(3.2, get_commons2_rec(samples3, 1), '01010')"
   ]
  },
  {
   "cell_type": "code",
   "execution_count": 294,
   "id": "25003baf",
   "metadata": {
    "hidden": true
   },
   "outputs": [
    {
     "data": {
      "text/plain": [
       "True"
      ]
     },
     "execution_count": 294,
     "metadata": {},
     "output_type": "execute_result"
    }
   ],
   "source": [
    "answer('sample3.2', solve3_2_rec(samples3), 230)"
   ]
  },
  {
   "cell_type": "code",
   "execution_count": 295,
   "id": "6dfee2c6",
   "metadata": {
    "hidden": true
   },
   "outputs": [
    {
     "data": {
      "text/plain": [
       "True"
      ]
     },
     "execution_count": 295,
     "metadata": {},
     "output_type": "execute_result"
    }
   ],
   "source": [
    "answer(3.2, solve3_2_rec(inp3), 1877139)"
   ]
  },
  {
   "cell_type": "markdown",
   "id": "b2717ce3",
   "metadata": {},
   "source": [
    "## Day 4"
   ]
  },
  {
   "cell_type": "code",
   "execution_count": null,
   "id": "5eb3c1cf",
   "metadata": {},
   "outputs": [],
   "source": []
  }
 ],
 "metadata": {
  "kernelspec": {
   "display_name": "Python 3 (ipykernel)",
   "language": "python",
   "name": "python3"
  },
  "language_info": {
   "codemirror_mode": {
    "name": "ipython",
    "version": 3
   },
   "file_extension": ".py",
   "mimetype": "text/x-python",
   "name": "python",
   "nbconvert_exporter": "python",
   "pygments_lexer": "ipython3",
   "version": "3.8.10"
  }
 },
 "nbformat": 4,
 "nbformat_minor": 5
}
