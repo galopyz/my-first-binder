{
 "cells": [
  {
   "cell_type": "markdown",
   "id": "9dd3f3d5",
   "metadata": {},
   "source": [
    "# Huggingface Transformers"
   ]
  },
  {
   "cell_type": "markdown",
   "id": "e961b974",
   "metadata": {},
   "source": [
    "Huggingface has many pipelines to explore. I am following the <a href=\"https://huggingface.co/course/chapter1/3?fw=pt\">course</a> from Huggingface and trying out my own examples."
   ]
  },
  {
   "cell_type": "code",
   "execution_count": null,
   "id": "2cbc26e3",
   "metadata": {},
   "outputs": [],
   "source": [
    "# For google colab, run this.\n",
    "# !pip install \"transformers[sentencepiece]\""
   ]
  },
  {
   "cell_type": "markdown",
   "id": "71bca25d",
   "metadata": {
    "heading_collapsed": true
   },
   "source": [
    "## Sentiment-analysis"
   ]
  },
  {
   "cell_type": "code",
   "execution_count": 1,
   "id": "c458ab49",
   "metadata": {
    "hidden": true
   },
   "outputs": [
    {
     "name": "stderr",
     "output_type": "stream",
     "text": [
      "No model was supplied, defaulted to distilbert-base-uncased-finetuned-sst-2-english (https://huggingface.co/distilbert-base-uncased-finetuned-sst-2-english)\n"
     ]
    },
    {
     "data": {
      "text/plain": [
       "[{'label': 'POSITIVE', 'score': 0.9598048329353333}]"
      ]
     },
     "execution_count": 1,
     "metadata": {},
     "output_type": "execute_result"
    }
   ],
   "source": [
    "from transformers import pipeline\n",
    "\n",
    "classifier = pipeline(\"sentiment-analysis\")\n",
    "classifier(\"I've been waiting for a HuggingFace course my whole life.\")"
   ]
  },
  {
   "cell_type": "markdown",
   "id": "d5ae76e4",
   "metadata": {
    "hidden": true
   },
   "source": [
    "That is crazy! Let me try something else."
   ]
  },
  {
   "cell_type": "code",
   "execution_count": 2,
   "id": "cd50da09",
   "metadata": {
    "hidden": true
   },
   "outputs": [
    {
     "data": {
      "text/plain": [
       "[{'label': 'NEGATIVE', 'score': 0.994057297706604}]"
      ]
     },
     "execution_count": 2,
     "metadata": {},
     "output_type": "execute_result"
    }
   ],
   "source": [
    "classifier(\"I want a hotdog.\")"
   ]
  },
  {
   "cell_type": "code",
   "execution_count": 3,
   "id": "eaf64fff",
   "metadata": {
    "hidden": true
   },
   "outputs": [
    {
     "data": {
      "text/plain": [
       "[{'label': 'NEGATIVE', 'score': 0.9984250068664551}]"
      ]
     },
     "execution_count": 3,
     "metadata": {},
     "output_type": "execute_result"
    }
   ],
   "source": [
    "classifier(\"Oh, I really can't wait to see myself get killed today.\")"
   ]
  },
  {
   "cell_type": "code",
   "execution_count": 4,
   "id": "0e3e6808",
   "metadata": {
    "hidden": true
   },
   "outputs": [
    {
     "data": {
      "text/plain": [
       "[{'label': 'POSITIVE', 'score': 0.999748170375824}]"
      ]
     },
     "execution_count": 4,
     "metadata": {},
     "output_type": "execute_result"
    }
   ],
   "source": [
    "classifier(\"I am so full\")"
   ]
  },
  {
   "cell_type": "code",
   "execution_count": 5,
   "id": "cead91b7",
   "metadata": {
    "hidden": true
   },
   "outputs": [
    {
     "data": {
      "text/plain": [
       "[{'label': 'NEGATIVE', 'score': 0.9731490612030029}]"
      ]
     },
     "execution_count": 5,
     "metadata": {},
     "output_type": "execute_result"
    }
   ],
   "source": [
    "classifier(\"I am so stuffed\")"
   ]
  },
  {
   "cell_type": "code",
   "execution_count": 6,
   "id": "982d7f8d",
   "metadata": {
    "hidden": true
   },
   "outputs": [
    {
     "data": {
      "text/plain": [
       "[{'label': 'POSITIVE', 'score': 0.795582115650177}]"
      ]
     },
     "execution_count": 6,
     "metadata": {},
     "output_type": "execute_result"
    }
   ],
   "source": [
    "classifier(\"I am so stuffed!\")"
   ]
  },
  {
   "cell_type": "markdown",
   "id": "b3fbc995",
   "metadata": {
    "hidden": true
   },
   "source": [
    "I am very imprssed with results, but there are some mysterious outcomes as well. How can adding an exclamation to the same sentence change the sentiment from negative to positive? And why does \"I want a hotdog.\" have 99% negative?"
   ]
  },
  {
   "cell_type": "markdown",
   "id": "85bf8e44",
   "metadata": {
    "hidden": true
   },
   "source": [
    "But it is nice to pass different number of sentences int othe classifier."
   ]
  },
  {
   "cell_type": "code",
   "execution_count": 7,
   "id": "fcf13344",
   "metadata": {
    "hidden": true
   },
   "outputs": [
    {
     "data": {
      "text/plain": [
       "[{'label': 'POSITIVE', 'score': 0.9598048329353333},\n",
       " {'label': 'NEGATIVE', 'score': 0.9994558691978455}]"
      ]
     },
     "execution_count": 7,
     "metadata": {},
     "output_type": "execute_result"
    }
   ],
   "source": [
    "classifier(\n",
    "    [\"I've been waiting for a HuggingFace course my whole life.\", \"I hate this so much!\"]\n",
    ")"
   ]
  },
  {
   "cell_type": "markdown",
   "id": "f09e7736",
   "metadata": {
    "heading_collapsed": true
   },
   "source": [
    "## Zero Shot Classification"
   ]
  },
  {
   "cell_type": "markdown",
   "id": "ce004239",
   "metadata": {
    "hidden": true
   },
   "source": [
    "In binder, running zero-shot-classification fails kills the kernel. :("
   ]
  },
  {
   "cell_type": "code",
   "execution_count": 1,
   "id": "4b0e8147",
   "metadata": {
    "hidden": true
   },
   "outputs": [
    {
     "name": "stderr",
     "output_type": "stream",
     "text": [
      "No model was supplied, defaulted to facebook/bart-large-mnli (https://huggingface.co/facebook/bart-large-mnli)\n"
     ]
    },
    {
     "data": {
      "text/plain": [
       "{'sequence': 'This is a course about the Transformers library',\n",
       " 'labels': ['education', 'business', 'politics'],\n",
       " 'scores': [0.8445993661880493, 0.11197400093078613, 0.04342660307884216]}"
      ]
     },
     "execution_count": 1,
     "metadata": {},
     "output_type": "execute_result"
    }
   ],
   "source": [
    "# This cell may fail in binder.\n",
    "from transformers import pipeline\n",
    "\n",
    "classifier = pipeline(\"zero-shot-classification\")\n",
    "classifier(\n",
    "    \"This is a course about the Transformers library\",\n",
    "    candidate_labels=[\"education\", \"politics\", \"business\"],\n",
    ")"
   ]
  },
  {
   "cell_type": "code",
   "execution_count": 2,
   "id": "a6d2495e",
   "metadata": {
    "hidden": true
   },
   "outputs": [
    {
     "data": {
      "text/plain": [
       "{'sequence': 'I must have a hotdog for the baseball game',\n",
       " 'labels': ['food', 'sports', 'game', 'business', 'politics'],\n",
       " 'scores': [0.413107693195343,\n",
       "  0.4104064106941223,\n",
       "  0.17006781697273254,\n",
       "  0.005597190000116825,\n",
       "  0.0008209337247535586]}"
      ]
     },
     "execution_count": 2,
     "metadata": {},
     "output_type": "execute_result"
    }
   ],
   "source": [
    "classifier(\n",
    "    \"I must have a hotdog for the baseball game\",\n",
    "    candidate_labels=[\"game\", \"sports\", \"politics\", \"business\", \"food\"],\n",
    ")"
   ]
  },
  {
   "cell_type": "markdown",
   "id": "134f2e52",
   "metadata": {
    "hidden": true
   },
   "source": [
    "These are very interesting result. "
   ]
  },
  {
   "cell_type": "markdown",
   "id": "d884ce62",
   "metadata": {
    "heading_collapsed": true
   },
   "source": [
    "## Text generation"
   ]
  },
  {
   "cell_type": "markdown",
   "id": "85a7e215",
   "metadata": {
    "hidden": true
   },
   "source": [
    "Generating text is very fun. I had a lot of fun making things up."
   ]
  },
  {
   "cell_type": "code",
   "execution_count": 3,
   "id": "93be5716",
   "metadata": {
    "hidden": true
   },
   "outputs": [
    {
     "name": "stderr",
     "output_type": "stream",
     "text": [
      "No model was supplied, defaulted to gpt2 (https://huggingface.co/gpt2)\n"
     ]
    },
    {
     "data": {
      "application/vnd.jupyter.widget-view+json": {
       "model_id": "f3719129b0fa4a02af60af057243c788",
       "version_major": 2,
       "version_minor": 0
      },
      "text/plain": [
       "Downloading:   0%|          | 0.00/665 [00:00<?, ?B/s]"
      ]
     },
     "metadata": {},
     "output_type": "display_data"
    },
    {
     "data": {
      "application/vnd.jupyter.widget-view+json": {
       "model_id": "faebd7a054a44e8e9bea6b09b2017adc",
       "version_major": 2,
       "version_minor": 0
      },
      "text/plain": [
       "Downloading:   0%|          | 0.00/523M [00:00<?, ?B/s]"
      ]
     },
     "metadata": {},
     "output_type": "display_data"
    },
    {
     "data": {
      "application/vnd.jupyter.widget-view+json": {
       "model_id": "251db8739e68438b84aeda76801c7353",
       "version_major": 2,
       "version_minor": 0
      },
      "text/plain": [
       "Downloading:   0%|          | 0.00/0.99M [00:00<?, ?B/s]"
      ]
     },
     "metadata": {},
     "output_type": "display_data"
    },
    {
     "data": {
      "application/vnd.jupyter.widget-view+json": {
       "model_id": "d314a847c09b45d0b1a3e88671848cee",
       "version_major": 2,
       "version_minor": 0
      },
      "text/plain": [
       "Downloading:   0%|          | 0.00/446k [00:00<?, ?B/s]"
      ]
     },
     "metadata": {},
     "output_type": "display_data"
    },
    {
     "data": {
      "application/vnd.jupyter.widget-view+json": {
       "model_id": "fc544af4069e476cb31462614ae3ede2",
       "version_major": 2,
       "version_minor": 0
      },
      "text/plain": [
       "Downloading:   0%|          | 0.00/1.29M [00:00<?, ?B/s]"
      ]
     },
     "metadata": {},
     "output_type": "display_data"
    },
    {
     "name": "stderr",
     "output_type": "stream",
     "text": [
      "Setting `pad_token_id` to `eos_token_id`:50256 for open-end generation.\n"
     ]
    },
    {
     "data": {
      "text/plain": [
       "[{'generated_text': 'In this course, we will teach you how to use C++ templates in your Java application. But first we will also see how to find the proper path on Android devices.\\n\\nHow Should I Prepare my Google Cloud Apps for a Virtual Machine ('}]"
      ]
     },
     "execution_count": 3,
     "metadata": {},
     "output_type": "execute_result"
    }
   ],
   "source": [
    "from transformers import pipeline\n",
    "\n",
    "generator = pipeline(\"text-generation\")\n",
    "generator(\"In this course, we will teach you how to\")"
   ]
  },
  {
   "cell_type": "markdown",
   "id": "11c56c29",
   "metadata": {
    "hidden": true
   },
   "source": [
    "This seems fun. I can generate a story to read or start writing."
   ]
  },
  {
   "cell_type": "code",
   "execution_count": 4,
   "id": "d0efb0ec",
   "metadata": {
    "hidden": true
   },
   "outputs": [
    {
     "name": "stderr",
     "output_type": "stream",
     "text": [
      "Setting `pad_token_id` to `eos_token_id`:50256 for open-end generation.\n"
     ]
    },
    {
     "data": {
      "text/plain": [
       "[{'generated_text': 'When I go to grocery shopping, \\xa0I often try to give my daughter an empty bag and just leave it on the counter until she\\'s done. I tell her my favorite foods, when she asks I\\'ve had a \"temptation.\"'}]"
      ]
     },
     "execution_count": 4,
     "metadata": {},
     "output_type": "execute_result"
    }
   ],
   "source": [
    "generator(\"When I go to grocery shopping, \")"
   ]
  },
  {
   "cell_type": "markdown",
   "id": "556f1574",
   "metadata": {
    "hidden": true
   },
   "source": [
    "When I don't know what I want to eat for dinner, I can generate an answer."
   ]
  },
  {
   "cell_type": "code",
   "execution_count": 7,
   "id": "ba113ac5",
   "metadata": {
    "hidden": true
   },
   "outputs": [
    {
     "name": "stderr",
     "output_type": "stream",
     "text": [
      "Setting `pad_token_id` to `eos_token_id`:50256 for open-end generation.\n"
     ]
    },
    {
     "data": {
      "text/plain": [
       "[{'generated_text': 'For dinner, I want to eat iced coffee with a bunch of coffee grilling to a taste soapy and not overly spicy.\\n\\nThen I want to cook my dessert with cream cheese and a couple of chopped berries on top. If I'}]"
      ]
     },
     "execution_count": 7,
     "metadata": {},
     "output_type": "execute_result"
    }
   ],
   "source": [
    "generator(\"For dinner, I want to eat \")"
   ]
  },
  {
   "cell_type": "markdown",
   "id": "c852fa46",
   "metadata": {
    "hidden": true
   },
   "source": [
    "I can even figure out the meaning of life."
   ]
  },
  {
   "cell_type": "code",
   "execution_count": 6,
   "id": "6b3cf828",
   "metadata": {
    "hidden": true
   },
   "outputs": [
    {
     "name": "stderr",
     "output_type": "stream",
     "text": [
      "Setting `pad_token_id` to `eos_token_id`:50256 for open-end generation.\n"
     ]
    },
    {
     "data": {
      "text/plain": [
       "[{'generated_text': 'Meaning of life is \\xa0a gift that gives you that life you\\'ve always wanted or will forever have. What other value does life have? A big part of this \"big life\" is a little thing called the self.\\xa0 You\\'re'}]"
      ]
     },
     "execution_count": 6,
     "metadata": {},
     "output_type": "execute_result"
    }
   ],
   "source": [
    "generator(\"Meaning of life is \")"
   ]
  },
  {
   "cell_type": "markdown",
   "id": "f291a8a5",
   "metadata": {
    "hidden": true
   },
   "source": [
    "With <code>num_return_sequences</code>, I can get more options to choose from."
   ]
  },
  {
   "cell_type": "code",
   "execution_count": 9,
   "id": "be5eaf22",
   "metadata": {
    "hidden": true
   },
   "outputs": [
    {
     "name": "stderr",
     "output_type": "stream",
     "text": [
      "Setting `pad_token_id` to `eos_token_id`:50256 for open-end generation.\n"
     ]
    },
    {
     "data": {
      "text/plain": [
       "[{'generated_text': \"For the vacation, I want to \\xa0try out my new wardrobe. After seeing the runway, I love the look I've got here; I've had so much fun. I really feel like I'm getting my legs built because of these changes\"},\n",
       " {'generated_text': 'For the vacation, I want to \\xa0just relax a little bit and go for a walk and a little yoga.\\xa0 I do a lot of meditation exercises to break my hang-ups (and I did a lot of my relaxation stuff before I'}]"
      ]
     },
     "execution_count": 9,
     "metadata": {},
     "output_type": "execute_result"
    }
   ],
   "source": [
    "generator(\"For the vacation, I want to \", num_return_sequences=2)"
   ]
  },
  {
   "cell_type": "markdown",
   "id": "68187999",
   "metadata": {
    "hidden": true
   },
   "source": [
    "When I want shorter options, I can limit it with <code>max_length</code>."
   ]
  },
  {
   "cell_type": "code",
   "execution_count": 11,
   "id": "92e3cf67",
   "metadata": {
    "hidden": true
   },
   "outputs": [
    {
     "name": "stderr",
     "output_type": "stream",
     "text": [
      "Setting `pad_token_id` to `eos_token_id`:50256 for open-end generation.\n"
     ]
    },
    {
     "data": {
      "text/plain": [
       "[{'generated_text': 'When I visited Uzbekistan, \\xa0I learnt through word of mouth that this town was a major'},\n",
       " {'generated_text': 'When I visited Uzbekistan, \\xa0I came across some fantastic stories from that country.\\xa0\\n'},\n",
       " {'generated_text': \"When I visited Uzbekistan, \\xa0it's been my job to show our country what it does\"}]"
      ]
     },
     "execution_count": 11,
     "metadata": {},
     "output_type": "execute_result"
    }
   ],
   "source": [
    "generator(\"When I visited Uzbekistan, \", max_length=20, num_return_sequences=3)"
   ]
  },
  {
   "cell_type": "markdown",
   "id": "8e4e3af1",
   "metadata": {
    "hidden": true
   },
   "source": [
    "Pipelines can also be used with other models. This uses distilgpt2. "
   ]
  },
  {
   "cell_type": "code",
   "execution_count": 2,
   "id": "473dcd35",
   "metadata": {
    "hidden": true
   },
   "outputs": [
    {
     "data": {
      "application/vnd.jupyter.widget-view+json": {
       "model_id": "c7dbe587d6de4cb995257e033fdb724f",
       "version_major": 2,
       "version_minor": 0
      },
      "text/plain": [
       "Downloading:   0%|          | 0.00/762 [00:00<?, ?B/s]"
      ]
     },
     "metadata": {},
     "output_type": "display_data"
    },
    {
     "data": {
      "application/vnd.jupyter.widget-view+json": {
       "model_id": "ed2cbc8c33e4417cb25d8181c33beb3a",
       "version_major": 2,
       "version_minor": 0
      },
      "text/plain": [
       "Downloading:   0%|          | 0.00/336M [00:00<?, ?B/s]"
      ]
     },
     "metadata": {},
     "output_type": "display_data"
    },
    {
     "data": {
      "application/vnd.jupyter.widget-view+json": {
       "model_id": "9ef14246339c447e8a05f7dc752cae9e",
       "version_major": 2,
       "version_minor": 0
      },
      "text/plain": [
       "Downloading:   0%|          | 0.00/0.99M [00:00<?, ?B/s]"
      ]
     },
     "metadata": {},
     "output_type": "display_data"
    },
    {
     "data": {
      "application/vnd.jupyter.widget-view+json": {
       "model_id": "2f58b50cc42d4a01a28faaf02aae3fe7",
       "version_major": 2,
       "version_minor": 0
      },
      "text/plain": [
       "Downloading:   0%|          | 0.00/446k [00:00<?, ?B/s]"
      ]
     },
     "metadata": {},
     "output_type": "display_data"
    },
    {
     "data": {
      "application/vnd.jupyter.widget-view+json": {
       "model_id": "49fcdc74efc94b57837b2a32e2455a6b",
       "version_major": 2,
       "version_minor": 0
      },
      "text/plain": [
       "Downloading:   0%|          | 0.00/1.29M [00:00<?, ?B/s]"
      ]
     },
     "metadata": {},
     "output_type": "display_data"
    },
    {
     "name": "stderr",
     "output_type": "stream",
     "text": [
      "Setting `pad_token_id` to `eos_token_id`:50256 for open-end generation.\n"
     ]
    },
    {
     "data": {
      "text/plain": [
       "[{'generated_text': 'In this course, we will teach you how to perform multiple events together in your new game that will not interfere with a game, and we will focus'},\n",
       " {'generated_text': 'In this course, we will teach you how to best use this class to practice and improve your training. Please be respectful of the opinions and opinions posted'}]"
      ]
     },
     "execution_count": 2,
     "metadata": {},
     "output_type": "execute_result"
    }
   ],
   "source": [
    "from transformers import pipeline\n",
    "\n",
    "generator = pipeline(\"text-generation\", model=\"distilgpt2\")\n",
    "generator(\n",
    "    \"In this course, we will teach you how to\",\n",
    "    max_length=30,\n",
    "    num_return_sequences=2,\n",
    ")"
   ]
  },
  {
   "cell_type": "markdown",
   "id": "3b85d0a3",
   "metadata": {
    "heading_collapsed": true
   },
   "source": [
    "## Fill Mask"
   ]
  },
  {
   "cell_type": "markdown",
   "id": "02b39f2a",
   "metadata": {
    "hidden": true
   },
   "source": [
    "With fill-mask, it is possible to solve fill in the blanks questions."
   ]
  },
  {
   "cell_type": "code",
   "execution_count": 4,
   "id": "8fce6e37",
   "metadata": {
    "hidden": true
   },
   "outputs": [
    {
     "name": "stderr",
     "output_type": "stream",
     "text": [
      "No model was supplied, defaulted to distilroberta-base (https://huggingface.co/distilroberta-base)\n"
     ]
    },
    {
     "data": {
      "application/vnd.jupyter.widget-view+json": {
       "model_id": "20f0361c5b7e49e7af434595f41b2c3e",
       "version_major": 2,
       "version_minor": 0
      },
      "text/plain": [
       "Downloading:   0%|          | 0.00/480 [00:00<?, ?B/s]"
      ]
     },
     "metadata": {},
     "output_type": "display_data"
    },
    {
     "data": {
      "application/vnd.jupyter.widget-view+json": {
       "model_id": "78b54694120d41099651f93256692329",
       "version_major": 2,
       "version_minor": 0
      },
      "text/plain": [
       "Downloading:   0%|          | 0.00/316M [00:00<?, ?B/s]"
      ]
     },
     "metadata": {},
     "output_type": "display_data"
    },
    {
     "data": {
      "application/vnd.jupyter.widget-view+json": {
       "model_id": "91f13f99690c4451a9d65b63b7cbb309",
       "version_major": 2,
       "version_minor": 0
      },
      "text/plain": [
       "Downloading:   0%|          | 0.00/878k [00:00<?, ?B/s]"
      ]
     },
     "metadata": {},
     "output_type": "display_data"
    },
    {
     "data": {
      "application/vnd.jupyter.widget-view+json": {
       "model_id": "a6dd5587f3a44a23a28d274f0835e7fc",
       "version_major": 2,
       "version_minor": 0
      },
      "text/plain": [
       "Downloading:   0%|          | 0.00/446k [00:00<?, ?B/s]"
      ]
     },
     "metadata": {},
     "output_type": "display_data"
    },
    {
     "data": {
      "application/vnd.jupyter.widget-view+json": {
       "model_id": "aaa73b4cb5d44a4bbdaa528ca26f957b",
       "version_major": 2,
       "version_minor": 0
      },
      "text/plain": [
       "Downloading:   0%|          | 0.00/1.29M [00:00<?, ?B/s]"
      ]
     },
     "metadata": {},
     "output_type": "display_data"
    },
    {
     "data": {
      "text/plain": [
       "[{'score': 0.19619765877723694,\n",
       "  'token': 30412,\n",
       "  'token_str': ' mathematical',\n",
       "  'sequence': 'This course will teach you all about mathematical models.'},\n",
       " {'score': 0.04052719473838806,\n",
       "  'token': 38163,\n",
       "  'token_str': ' computational',\n",
       "  'sequence': 'This course will teach you all about computational models.'}]"
      ]
     },
     "execution_count": 4,
     "metadata": {},
     "output_type": "execute_result"
    }
   ],
   "source": [
    "from transformers import pipeline\n",
    "\n",
    "unmasker = pipeline(\"fill-mask\")\n",
    "unmasker(\"This course will teach you all about <mask> models.\", top_k=2)"
   ]
  },
  {
   "cell_type": "markdown",
   "id": "b55cfe67",
   "metadata": {
    "hidden": true
   },
   "source": [
    "Although it is not very skilled, the unmasker knows it has to be an adjective and color. "
   ]
  },
  {
   "cell_type": "code",
   "execution_count": 7,
   "id": "74e492e0",
   "metadata": {
    "hidden": true
   },
   "outputs": [
    {
     "data": {
      "text/plain": [
       "[{'score': 0.1129533052444458,\n",
       "  'token': 14327,\n",
       "  'token_str': ' purple',\n",
       "  'sequence': 'The strawberry is a juicy, edible fruit which has a purple color when it is ripe.'},\n",
       " {'score': 0.09302297234535217,\n",
       "  'token': 5718,\n",
       "  'token_str': ' yellow',\n",
       "  'sequence': 'The strawberry is a juicy, edible fruit which has a yellow color when it is ripe.'},\n",
       " {'score': 0.09059570729732513,\n",
       "  'token': 9030,\n",
       "  'token_str': ' golden',\n",
       "  'sequence': 'The strawberry is a juicy, edible fruit which has a golden color when it is ripe.'},\n",
       " {'score': 0.0816061869263649,\n",
       "  'token': 6907,\n",
       "  'token_str': ' pink',\n",
       "  'sequence': 'The strawberry is a juicy, edible fruit which has a pink color when it is ripe.'},\n",
       " {'score': 0.05910441651940346,\n",
       "  'token': 11577,\n",
       "  'token_str': ' vibrant',\n",
       "  'sequence': 'The strawberry is a juicy, edible fruit which has a vibrant color when it is ripe.'}]"
      ]
     },
     "execution_count": 7,
     "metadata": {},
     "output_type": "execute_result"
    }
   ],
   "source": [
    "unmasker(\"The strawberry is a juicy, edible fruit which has a <mask> color when it is ripe.\")"
   ]
  },
  {
   "cell_type": "markdown",
   "id": "0e88802b",
   "metadata": {
    "hidden": true
   },
   "source": [
    "It is kind of weird to find out that \"Humans have four legs\" has higher score than \"Humans have two legs.\""
   ]
  },
  {
   "cell_type": "code",
   "execution_count": 8,
   "id": "70b2b834",
   "metadata": {
    "hidden": true
   },
   "outputs": [
    {
     "data": {
      "text/plain": [
       "[{'score': 0.049486029893159866,\n",
       "  'token': 10941,\n",
       "  'token_str': ' shorter',\n",
       "  'sequence': 'Humans have shorter legs.'},\n",
       " {'score': 0.04859047755599022,\n",
       "  'token': 251,\n",
       "  'token_str': ' long',\n",
       "  'sequence': 'Humans have long legs.'},\n",
       " {'score': 0.04257293418049812,\n",
       "  'token': 237,\n",
       "  'token_str': ' four',\n",
       "  'sequence': 'Humans have four legs.'},\n",
       " {'score': 0.033590491861104965,\n",
       "  'token': 80,\n",
       "  'token_str': ' two',\n",
       "  'sequence': 'Humans have two legs.'},\n",
       " {'score': 0.029865659773349762,\n",
       "  'token': 765,\n",
       "  'token_str': ' short',\n",
       "  'sequence': 'Humans have short legs.'}]"
      ]
     },
     "execution_count": 8,
     "metadata": {},
     "output_type": "execute_result"
    }
   ],
   "source": [
    "unmasker(\"Humans have <mask> legs.\")"
   ]
  },
  {
   "cell_type": "markdown",
   "id": "bddf6b8b",
   "metadata": {
    "heading_collapsed": true
   },
   "source": [
    "## Named Entity Recognization"
   ]
  },
  {
   "cell_type": "markdown",
   "id": "d318abb7",
   "metadata": {
    "hidden": true
   },
   "source": [
    "Running unmasker on bert-base-cased model on my computer does not work. I had to restart mine. Then, I had to try it out on Inference API widget on hugginface website."
   ]
  },
  {
   "cell_type": "code",
   "execution_count": 1,
   "id": "ac75411e",
   "metadata": {
    "hidden": true
   },
   "outputs": [
    {
     "name": "stderr",
     "output_type": "stream",
     "text": [
      "No model was supplied, defaulted to dbmdz/bert-large-cased-finetuned-conll03-english (https://huggingface.co/dbmdz/bert-large-cased-finetuned-conll03-english)\n"
     ]
    },
    {
     "data": {
      "application/vnd.jupyter.widget-view+json": {
       "model_id": "c2506c48034440f5970ce81a034fee18",
       "version_major": 2,
       "version_minor": 0
      },
      "text/plain": [
       "Downloading:   0%|          | 0.00/998 [00:00<?, ?B/s]"
      ]
     },
     "metadata": {},
     "output_type": "display_data"
    },
    {
     "data": {
      "application/vnd.jupyter.widget-view+json": {
       "model_id": "7d731e652e6645c4b027b9b52488214f",
       "version_major": 2,
       "version_minor": 0
      },
      "text/plain": [
       "Downloading:   0%|          | 0.00/1.24G [00:00<?, ?B/s]"
      ]
     },
     "metadata": {},
     "output_type": "display_data"
    },
    {
     "data": {
      "application/vnd.jupyter.widget-view+json": {
       "model_id": "7c71a9754c87483c834ef929030e1d5b",
       "version_major": 2,
       "version_minor": 0
      },
      "text/plain": [
       "Downloading:   0%|          | 0.00/60.0 [00:00<?, ?B/s]"
      ]
     },
     "metadata": {},
     "output_type": "display_data"
    },
    {
     "data": {
      "application/vnd.jupyter.widget-view+json": {
       "model_id": "e4a602a658d3416aacd14d3c966aa10e",
       "version_major": 2,
       "version_minor": 0
      },
      "text/plain": [
       "Downloading:   0%|          | 0.00/208k [00:00<?, ?B/s]"
      ]
     },
     "metadata": {},
     "output_type": "display_data"
    },
    {
     "name": "stderr",
     "output_type": "stream",
     "text": [
      "/home/galopy/miniconda3/lib/python3.9/site-packages/transformers/pipelines/token_classification.py:135: UserWarning: `grouped_entities` is deprecated and will be removed in version v5.0.0, defaulted to `aggregation_strategy=\"AggregationStrategy.SIMPLE\"` instead.\n",
      "  warnings.warn(\n"
     ]
    },
    {
     "data": {
      "text/plain": [
       "[{'entity_group': 'PER',\n",
       "  'score': 0.9981694,\n",
       "  'word': 'Sylvain',\n",
       "  'start': 11,\n",
       "  'end': 18},\n",
       " {'entity_group': 'ORG',\n",
       "  'score': 0.9796019,\n",
       "  'word': 'Hugging Face',\n",
       "  'start': 33,\n",
       "  'end': 45},\n",
       " {'entity_group': 'LOC',\n",
       "  'score': 0.9932106,\n",
       "  'word': 'Brooklyn',\n",
       "  'start': 49,\n",
       "  'end': 57}]"
      ]
     },
     "execution_count": 1,
     "metadata": {},
     "output_type": "execute_result"
    }
   ],
   "source": [
    "from transformers import pipeline\n",
    "\n",
    "ner = pipeline(\"ner\", grouped_entities=True)\n",
    "ner(\"My name is Sylvain and I work at Hugging Face in Brooklyn.\")"
   ]
  },
  {
   "cell_type": "markdown",
   "id": "e46b0aa1",
   "metadata": {
    "hidden": true
   },
   "source": [
    "Running ner without grouped_entities can be very expensive. "
   ]
  },
  {
   "cell_type": "markdown",
   "id": "ffe0ded7",
   "metadata": {
    "heading_collapsed": true
   },
   "source": [
    "## Question Answering"
   ]
  },
  {
   "cell_type": "markdown",
   "id": "623dee15",
   "metadata": {
    "hidden": true
   },
   "source": [
    "Question-answering can solve questions. "
   ]
  },
  {
   "cell_type": "code",
   "execution_count": 1,
   "id": "31723ad0",
   "metadata": {
    "hidden": true
   },
   "outputs": [
    {
     "name": "stderr",
     "output_type": "stream",
     "text": [
      "No model was supplied, defaulted to distilbert-base-cased-distilled-squad (https://huggingface.co/distilbert-base-cased-distilled-squad)\n"
     ]
    },
    {
     "data": {
      "application/vnd.jupyter.widget-view+json": {
       "model_id": "01ffcfa1d3f14a049d50b9b3e16c374d",
       "version_major": 2,
       "version_minor": 0
      },
      "text/plain": [
       "Downloading:   0%|          | 0.00/473 [00:00<?, ?B/s]"
      ]
     },
     "metadata": {},
     "output_type": "display_data"
    },
    {
     "data": {
      "application/vnd.jupyter.widget-view+json": {
       "model_id": "487dcd43fc73435592e8d6c61c60d99a",
       "version_major": 2,
       "version_minor": 0
      },
      "text/plain": [
       "Downloading:   0%|          | 0.00/249M [00:00<?, ?B/s]"
      ]
     },
     "metadata": {},
     "output_type": "display_data"
    },
    {
     "data": {
      "application/vnd.jupyter.widget-view+json": {
       "model_id": "020d0013f55c4b579ba6bf590e56f2f1",
       "version_major": 2,
       "version_minor": 0
      },
      "text/plain": [
       "Downloading:   0%|          | 0.00/29.0 [00:00<?, ?B/s]"
      ]
     },
     "metadata": {},
     "output_type": "display_data"
    },
    {
     "data": {
      "application/vnd.jupyter.widget-view+json": {
       "model_id": "50046d54ffac4ee7b643167f8facf01d",
       "version_major": 2,
       "version_minor": 0
      },
      "text/plain": [
       "Downloading:   0%|          | 0.00/208k [00:00<?, ?B/s]"
      ]
     },
     "metadata": {},
     "output_type": "display_data"
    },
    {
     "data": {
      "application/vnd.jupyter.widget-view+json": {
       "model_id": "dd7cc717a7044948b1737af26de15c07",
       "version_major": 2,
       "version_minor": 0
      },
      "text/plain": [
       "Downloading:   0%|          | 0.00/426k [00:00<?, ?B/s]"
      ]
     },
     "metadata": {},
     "output_type": "display_data"
    },
    {
     "data": {
      "text/plain": [
       "{'score': 0.6949764490127563, 'start': 33, 'end': 45, 'answer': 'Hugging Face'}"
      ]
     },
     "execution_count": 1,
     "metadata": {},
     "output_type": "execute_result"
    }
   ],
   "source": [
    "from transformers import pipeline\n",
    "\n",
    "question_answerer = pipeline(\"question-answering\")\n",
    "question_answerer(\n",
    "    question=\"Where do I work?\",\n",
    "    context=\"My name is Sylvain and I work at Hugging Face in Brooklyn\",\n",
    ")"
   ]
  },
  {
   "cell_type": "code",
   "execution_count": 2,
   "id": "19e9a331",
   "metadata": {
    "hidden": true
   },
   "outputs": [
    {
     "data": {
      "text/plain": [
       "{'score': 0.535124659538269, 'start': 14, 'end': 26, 'answer': 'dig tranches'}"
      ]
     },
     "execution_count": 2,
     "metadata": {},
     "output_type": "execute_result"
    }
   ],
   "source": [
    "question_answerer(\n",
    "    question=\"What do I do for living?\",\n",
    "    context=\"I wake up and dig tranches without eating breakfast. I eat a little snack later.\"\n",
    ")"
   ]
  },
  {
   "cell_type": "markdown",
   "id": "6b5cf341",
   "metadata": {
    "hidden": true
   },
   "source": [
    "I think it is pretty good. "
   ]
  },
  {
   "cell_type": "markdown",
   "id": "3816b7f4",
   "metadata": {
    "heading_collapsed": true
   },
   "source": [
    "## Summarization"
   ]
  },
  {
   "cell_type": "markdown",
   "id": "c66de848",
   "metadata": {
    "hidden": true
   },
   "source": [
    "Summarization can summarize long texts. "
   ]
  },
  {
   "cell_type": "code",
   "execution_count": 3,
   "id": "225a05a2",
   "metadata": {
    "hidden": true
   },
   "outputs": [
    {
     "name": "stderr",
     "output_type": "stream",
     "text": [
      "No model was supplied, defaulted to sshleifer/distilbart-cnn-12-6 (https://huggingface.co/sshleifer/distilbart-cnn-12-6)\n"
     ]
    },
    {
     "data": {
      "application/vnd.jupyter.widget-view+json": {
       "model_id": "cbfd7ade038a4a08b7ccb46faae354e6",
       "version_major": 2,
       "version_minor": 0
      },
      "text/plain": [
       "Downloading:   0%|          | 0.00/1.76k [00:00<?, ?B/s]"
      ]
     },
     "metadata": {},
     "output_type": "display_data"
    },
    {
     "data": {
      "application/vnd.jupyter.widget-view+json": {
       "model_id": "88442c0674534181ab03e85bfaad32c1",
       "version_major": 2,
       "version_minor": 0
      },
      "text/plain": [
       "Downloading:   0%|          | 0.00/1.14G [00:00<?, ?B/s]"
      ]
     },
     "metadata": {},
     "output_type": "display_data"
    },
    {
     "data": {
      "application/vnd.jupyter.widget-view+json": {
       "model_id": "70fd355c3b4f4cc09a3b8fe71162fcc0",
       "version_major": 2,
       "version_minor": 0
      },
      "text/plain": [
       "Downloading:   0%|          | 0.00/26.0 [00:00<?, ?B/s]"
      ]
     },
     "metadata": {},
     "output_type": "display_data"
    },
    {
     "data": {
      "application/vnd.jupyter.widget-view+json": {
       "model_id": "a81cbee26f0a4844884cd6ef874bdb1f",
       "version_major": 2,
       "version_minor": 0
      },
      "text/plain": [
       "Downloading:   0%|          | 0.00/878k [00:00<?, ?B/s]"
      ]
     },
     "metadata": {},
     "output_type": "display_data"
    },
    {
     "data": {
      "application/vnd.jupyter.widget-view+json": {
       "model_id": "9fbfc00985f64ed1925bc4ebf01bd3aa",
       "version_major": 2,
       "version_minor": 0
      },
      "text/plain": [
       "Downloading:   0%|          | 0.00/446k [00:00<?, ?B/s]"
      ]
     },
     "metadata": {},
     "output_type": "display_data"
    },
    {
     "data": {
      "text/plain": [
       "[{'summary_text': ' America has changed dramatically during recent years . The number of engineering graduates in the U.S. has declined in traditional engineering disciplines such as mechanical, civil,    electrical, chemical, and aeronautical engineering . Rapidly developing economies such as China and India continue to encourage and advance the teaching of engineering .'}]"
      ]
     },
     "execution_count": 3,
     "metadata": {},
     "output_type": "execute_result"
    }
   ],
   "source": [
    "from transformers import pipeline\n",
    "\n",
    "summarizer = pipeline(\"summarization\")\n",
    "summarizer(\n",
    "    \"\"\"\n",
    "    America has changed dramatically during recent years. Not only has the number of \n",
    "    graduates in traditional engineering disciplines such as mechanical, civil, \n",
    "    electrical, chemical, and aeronautical engineering declined, but in most of \n",
    "    the premier American universities engineering curricula now concentrate on \n",
    "    and encourage largely the study of engineering science. As a result, there \n",
    "    are declining offerings in engineering subjects dealing with infrastructure, \n",
    "    the environment, and related issues, and greater concentration on high \n",
    "    technology subjects, largely supporting increasingly complex scientific \n",
    "    developments. While the latter is important, it should not be at the expense \n",
    "    of more traditional engineering.\n",
    "\n",
    "    Rapidly developing economies such as China and India, as well as other \n",
    "    industrial countries in Europe and Asia, continue to encourage and advance \n",
    "    the teaching of engineering. Both China and India, respectively, graduate \n",
    "    six and eight times as many traditional engineers as does the United States. \n",
    "    Other industrial countries at minimum maintain their output, while America \n",
    "    suffers an increasingly serious decline in the number of engineering graduates \n",
    "    and a lack of well-educated engineers.\n",
    "\"\"\"\n",
    ")"
   ]
  },
  {
   "cell_type": "markdown",
   "id": "0ced8d20",
   "metadata": {
    "hidden": true
   },
   "source": [
    "I got this text regarding sword from <a href=\"https://en.wikipedia.org/wiki/Sword\">wikipedia</a>.  "
   ]
  },
  {
   "cell_type": "code",
   "execution_count": 6,
   "id": "54f31939",
   "metadata": {
    "hidden": true
   },
   "outputs": [
    {
     "data": {
      "text/plain": [
       "[{'summary_text': ' A sword is an edged, bladed weapon intended for manual cutting or thrusting . Its blade, longer than a knife or dagger, is attached  to a hilt and can be straight or curved . The precise definition of a sword varies by historical epoch and geographic region .'}]"
      ]
     },
     "execution_count": 6,
     "metadata": {},
     "output_type": "execute_result"
    }
   ],
   "source": [
    "summarizer(\"\"\"\n",
    "A sword is an edged, bladed weapon intended for manual cutting or \n",
    "thrusting. Its blade, longer than a knife or dagger, is attached \n",
    "to a hilt and can be straight or curved. A thrusting sword tends to\n",
    "have a straighter blade with a pointed tip. A slashing sword is more\n",
    "likely to be curved and to have a sharpened cutting edge on one or both\n",
    "sides of the blade. Many swords are designed for both thrusting and \n",
    "slashing. The precise definition of a sword varies by historical epoch\n",
    "and geographic region.\n",
    "\n",
    "Historically, the sword developed in the Bronze Age, evolving from the dagger;\n",
    "the earliest specimens date to about 1600 BC. The later Iron Age sword remained\n",
    "fairly short and without a crossguard. The spatha, as it developed in the Late\n",
    "Roman army, became the predecessor of the European sword of the Middle Ages, at\n",
    "first adopted as the Migration Period sword, and only in the High Middle Ages,\n",
    "developed into the classical arming sword with crossguard. The word sword \n",
    "continues the Old English, sweord.[1]\n",
    "\n",
    "The use of a sword is known as swordsmanship or, in a modern context, as fencing.\n",
    "In the Early Modern period, western sword design diverged into two forms, the \n",
    "thrusting swords and the sabers.\n",
    "\n",
    "Thrusting swords such as the rapier and eventually the smallsword were designed to\n",
    "impale their targets quickly and inflict deep stab wounds. Their long and straight\n",
    "yet light and well balanced design made them highly maneuverable and deadly in a\n",
    "duel but fairly ineffective when used in a slashing or chopping motion. A well\n",
    "aimed lunge and thrust could end a fight in seconds with just the sword's point,\n",
    "leading to the development of a fighting style which closely resembles modern fencing.\n",
    "\n",
    "The sabre and similar blades such as the cutlass were built more heavily and were\n",
    "more typically used in warfare. Built for slashing and chopping at multiple enemies,\n",
    "often from horseback, the saber's long curved blade and slightly forward weight \n",
    "balance gave it a deadly character all its own on the battlefield. Most sabers also\n",
    "had sharp points and double-edged blades, making them capable of piercing soldier\n",
    "after soldier in a cavalry charge. Sabers continued to see battlefield use until\n",
    "the early 20th century. The US Navy kept tens of thousands of sturdy cutlasses in\n",
    "their armory well into World War II and many were issued to Marines in the Pacific\n",
    "as jungle machetes.\n",
    "\n",
    "Non-European weapons classified as swords include single-edged weapons such as the\n",
    "Middle Eastern scimitar, the Chinese Dao and the related Japanese katana. The\n",
    "Chinese jiàn 剑 is an example of a non-European double-edged sword, like the European\n",
    "models derived from the double-edged Iron Age sword.\n",
    "\"\"\")"
   ]
  },
  {
   "cell_type": "markdown",
   "id": "17ec8805",
   "metadata": {
    "hidden": true
   },
   "source": [
    "It is pretty much the first two sentences and the last one from the first paragraph. It is not that impressive. Maybe the model is trying way too hard to squeeze six paragraphs into three sentences. I will increase the mininum_length to see how it performs."
   ]
  },
  {
   "cell_type": "code",
   "execution_count": 12,
   "id": "56549389",
   "metadata": {
    "hidden": true
   },
   "outputs": [
    {
     "data": {
      "text/plain": [
       "[{'summary_text': ' A sword is an edged, bladed weapon intended for manual cutting or thrusting . Its blade, longer than a knife or dagger, is attached  to a hilt and can be straight or curved . The precise definition of a sword varies by historical epoch and geographic region . The word sword is known as swordsmanship or, in a modern context, as fencing . In the Early Modern period, western sword design diverged into two forms, the \\xa0thrusting swords and the sabers . The sabre and similar blades such as the cutlass were built more heavily and were typically used in warfare .'}]"
      ]
     },
     "execution_count": 12,
     "metadata": {},
     "output_type": "execute_result"
    }
   ],
   "source": [
    "summarizer(\"\"\"\n",
    "A sword is an edged, bladed weapon intended for manual cutting or \n",
    "thrusting. Its blade, longer than a knife or dagger, is attached \n",
    "to a hilt and can be straight or curved. A thrusting sword tends to\n",
    "have a straighter blade with a pointed tip. A slashing sword is more\n",
    "likely to be curved and to have a sharpened cutting edge on one or both\n",
    "sides of the blade. Many swords are designed for both thrusting and \n",
    "slashing. The precise definition of a sword varies by historical epoch\n",
    "and geographic region.\n",
    "\n",
    "Historically, the sword developed in the Bronze Age, evolving from the dagger;\n",
    "the earliest specimens date to about 1600 BC. The later Iron Age sword remained\n",
    "fairly short and without a crossguard. The spatha, as it developed in the Late\n",
    "Roman army, became the predecessor of the European sword of the Middle Ages, at\n",
    "first adopted as the Migration Period sword, and only in the High Middle Ages,\n",
    "developed into the classical arming sword with crossguard. The word sword \n",
    "continues the Old English, sweord.[1]\n",
    "\n",
    "The use of a sword is known as swordsmanship or, in a modern context, as fencing.\n",
    "In the Early Modern period, western sword design diverged into two forms, the \n",
    "thrusting swords and the sabers.\n",
    "\n",
    "Thrusting swords such as the rapier and eventually the smallsword were designed to\n",
    "impale their targets quickly and inflict deep stab wounds. Their long and straight\n",
    "yet light and well balanced design made them highly maneuverable and deadly in a\n",
    "duel but fairly ineffective when used in a slashing or chopping motion. A well\n",
    "aimed lunge and thrust could end a fight in seconds with just the sword's point,\n",
    "leading to the development of a fighting style which closely resembles modern fencing.\n",
    "\n",
    "The sabre and similar blades such as the cutlass were built more heavily and were\n",
    "more typically used in warfare. Built for slashing and chopping at multiple enemies,\n",
    "often from horseback, the saber's long curved blade and slightly forward weight \n",
    "balance gave it a deadly character all its own on the battlefield. Most sabers also\n",
    "had sharp points and double-edged blades, making them capable of piercing soldier\n",
    "after soldier in a cavalry charge. Sabers continued to see battlefield use until\n",
    "the early 20th century. The US Navy kept tens of thousands of sturdy cutlasses in\n",
    "their armory well into World War II and many were issued to Marines in the Pacific\n",
    "as jungle machetes.\n",
    "\n",
    "Non-European weapons classified as swords include single-edged weapons such as the\n",
    "Middle Eastern scimitar, the Chinese Dao and the related Japanese katana. The\n",
    "Chinese jiàn 剑 is an example of a non-European double-edged sword, like the European\n",
    "models derived from the double-edged Iron Age sword.\n",
    "\"\"\", min_length=120)"
   ]
  },
  {
   "cell_type": "markdown",
   "id": "bcda14d3",
   "metadata": {
    "hidden": true
   },
   "source": [
    "With a larger room to work with, the summarizer works better. "
   ]
  },
  {
   "cell_type": "markdown",
   "id": "ccc75722",
   "metadata": {
    "heading_collapsed": true
   },
   "source": [
    "## Translation"
   ]
  },
  {
   "cell_type": "markdown",
   "id": "f6c48a7c",
   "metadata": {
    "hidden": true
   },
   "source": [
    "Lastly, translator can translate from one language into another."
   ]
  },
  {
   "cell_type": "code",
   "execution_count": 4,
   "id": "72e0499c",
   "metadata": {
    "hidden": true
   },
   "outputs": [
    {
     "data": {
      "application/vnd.jupyter.widget-view+json": {
       "model_id": "273841ac9d5045efaa4c31bd7ffc5bc5",
       "version_major": 2,
       "version_minor": 0
      },
      "text/plain": [
       "Downloading:   0%|          | 0.00/1.26k [00:00<?, ?B/s]"
      ]
     },
     "metadata": {},
     "output_type": "display_data"
    },
    {
     "data": {
      "application/vnd.jupyter.widget-view+json": {
       "model_id": "a045a3455d6e4a07ac31e64d772c2245",
       "version_major": 2,
       "version_minor": 0
      },
      "text/plain": [
       "Downloading:   0%|          | 0.00/287M [00:00<?, ?B/s]"
      ]
     },
     "metadata": {},
     "output_type": "display_data"
    },
    {
     "data": {
      "application/vnd.jupyter.widget-view+json": {
       "model_id": "7fa5e8d168f34938a7d6142193535f51",
       "version_major": 2,
       "version_minor": 0
      },
      "text/plain": [
       "Downloading:   0%|          | 0.00/42.0 [00:00<?, ?B/s]"
      ]
     },
     "metadata": {},
     "output_type": "display_data"
    },
    {
     "data": {
      "application/vnd.jupyter.widget-view+json": {
       "model_id": "47b37f77a3274448bfee4e7c166aeaed",
       "version_major": 2,
       "version_minor": 0
      },
      "text/plain": [
       "Downloading:   0%|          | 0.00/784k [00:00<?, ?B/s]"
      ]
     },
     "metadata": {},
     "output_type": "display_data"
    },
    {
     "data": {
      "application/vnd.jupyter.widget-view+json": {
       "model_id": "06f253f87abf4adf93dd388565244a4e",
       "version_major": 2,
       "version_minor": 0
      },
      "text/plain": [
       "Downloading:   0%|          | 0.00/760k [00:00<?, ?B/s]"
      ]
     },
     "metadata": {},
     "output_type": "display_data"
    },
    {
     "data": {
      "application/vnd.jupyter.widget-view+json": {
       "model_id": "f15cc8b5a25d4e208287602027168402",
       "version_major": 2,
       "version_minor": 0
      },
      "text/plain": [
       "Downloading:   0%|          | 0.00/1.28M [00:00<?, ?B/s]"
      ]
     },
     "metadata": {},
     "output_type": "display_data"
    },
    {
     "data": {
      "text/plain": [
       "[{'translation_text': 'This course is produced by Hugging Face.'}]"
      ]
     },
     "execution_count": 4,
     "metadata": {},
     "output_type": "execute_result"
    }
   ],
   "source": [
    "from transformers import pipeline\n",
    "\n",
    "translator = pipeline(\"translation\", model=\"Helsinki-NLP/opus-mt-fr-en\")\n",
    "translator(\"Ce cours est produit par Hugging Face.\")"
   ]
  },
  {
   "cell_type": "markdown",
   "id": "a4eeec9f",
   "metadata": {
    "hidden": true
   },
   "source": [
    "Cool I guess, but I don't speak French. I have no idea what it is saying. So, let me use English to French and do a reverse translation."
   ]
  },
  {
   "cell_type": "code",
   "execution_count": 14,
   "id": "8b09aadd",
   "metadata": {
    "hidden": true
   },
   "outputs": [
    {
     "data": {
      "application/vnd.jupyter.widget-view+json": {
       "model_id": "10b5cb8a925144ee90292b015c809c77",
       "version_major": 2,
       "version_minor": 0
      },
      "text/plain": [
       "Downloading:   0%|          | 0.00/1.26k [00:00<?, ?B/s]"
      ]
     },
     "metadata": {},
     "output_type": "display_data"
    },
    {
     "data": {
      "application/vnd.jupyter.widget-view+json": {
       "model_id": "9077eb41d22e40fbadb3b2521715f9cf",
       "version_major": 2,
       "version_minor": 0
      },
      "text/plain": [
       "Downloading:   0%|          | 0.00/287M [00:00<?, ?B/s]"
      ]
     },
     "metadata": {},
     "output_type": "display_data"
    },
    {
     "data": {
      "application/vnd.jupyter.widget-view+json": {
       "model_id": "1ef3aec1694b4c848e10734407a3adfe",
       "version_major": 2,
       "version_minor": 0
      },
      "text/plain": [
       "Downloading:   0%|          | 0.00/42.0 [00:00<?, ?B/s]"
      ]
     },
     "metadata": {},
     "output_type": "display_data"
    },
    {
     "data": {
      "application/vnd.jupyter.widget-view+json": {
       "model_id": "117c7482ccfb40fe93e829347c300d54",
       "version_major": 2,
       "version_minor": 0
      },
      "text/plain": [
       "Downloading:   0%|          | 0.00/760k [00:00<?, ?B/s]"
      ]
     },
     "metadata": {},
     "output_type": "display_data"
    },
    {
     "data": {
      "application/vnd.jupyter.widget-view+json": {
       "model_id": "128c4ece21874a7a8481bfa33e93b0e6",
       "version_major": 2,
       "version_minor": 0
      },
      "text/plain": [
       "Downloading:   0%|          | 0.00/784k [00:00<?, ?B/s]"
      ]
     },
     "metadata": {},
     "output_type": "display_data"
    },
    {
     "data": {
      "application/vnd.jupyter.widget-view+json": {
       "model_id": "3580255f45f34dc490b6f3fc45be56e5",
       "version_major": 2,
       "version_minor": 0
      },
      "text/plain": [
       "Downloading:   0%|          | 0.00/1.28M [00:00<?, ?B/s]"
      ]
     },
     "metadata": {},
     "output_type": "display_data"
    },
    {
     "data": {
      "text/plain": [
       "[{'translation_text': 'Ce cours est produit par Hugging Face.'}]"
      ]
     },
     "execution_count": 14,
     "metadata": {},
     "output_type": "execute_result"
    }
   ],
   "source": [
    "translator = pipeline(\"translation\", model=\"Helsinki-NLP/opus-mt-en-fr\")\n",
    "translator(\"This course is produced by Hugging Face.\")"
   ]
  },
  {
   "cell_type": "markdown",
   "id": "718f6527",
   "metadata": {
    "hidden": true
   },
   "source": [
    "And the output matches with the previous input. Okay, let me try using Korean to English because I can speak Korean. (I used google translator to generate Korean. I wanted to do English to Korean, but it does not exist yet :( And I do not have Korean keyboard enabled, and it is faster to use google translate :P)"
   ]
  },
  {
   "cell_type": "code",
   "execution_count": 16,
   "id": "61af8dc8",
   "metadata": {
    "hidden": true
   },
   "outputs": [
    {
     "data": {
      "application/vnd.jupyter.widget-view+json": {
       "model_id": "6cafa0bfee3540668627c827edbfef4d",
       "version_major": 2,
       "version_minor": 0
      },
      "text/plain": [
       "Downloading:   0%|          | 0.00/1.12k [00:00<?, ?B/s]"
      ]
     },
     "metadata": {},
     "output_type": "display_data"
    },
    {
     "data": {
      "application/vnd.jupyter.widget-view+json": {
       "model_id": "8c76203a658c427db07096bea20c8c02",
       "version_major": 2,
       "version_minor": 0
      },
      "text/plain": [
       "Downloading:   0%|          | 0.00/298M [00:00<?, ?B/s]"
      ]
     },
     "metadata": {},
     "output_type": "display_data"
    },
    {
     "data": {
      "application/vnd.jupyter.widget-view+json": {
       "model_id": "24d59652349c42cea691627bfa0f5aca",
       "version_major": 2,
       "version_minor": 0
      },
      "text/plain": [
       "Downloading:   0%|          | 0.00/44.0 [00:00<?, ?B/s]"
      ]
     },
     "metadata": {},
     "output_type": "display_data"
    },
    {
     "data": {
      "application/vnd.jupyter.widget-view+json": {
       "model_id": "50929be4346f45aabc2f02d72eadb3e7",
       "version_major": 2,
       "version_minor": 0
      },
      "text/plain": [
       "Downloading:   0%|          | 0.00/822k [00:00<?, ?B/s]"
      ]
     },
     "metadata": {},
     "output_type": "display_data"
    },
    {
     "data": {
      "application/vnd.jupyter.widget-view+json": {
       "model_id": "0a1070f19e404d7abdb1ef0b1d54da97",
       "version_major": 2,
       "version_minor": 0
      },
      "text/plain": [
       "Downloading:   0%|          | 0.00/794k [00:00<?, ?B/s]"
      ]
     },
     "metadata": {},
     "output_type": "display_data"
    },
    {
     "data": {
      "application/vnd.jupyter.widget-view+json": {
       "model_id": "0331a236a0054a44a108189845b0e24d",
       "version_major": 2,
       "version_minor": 0
      },
      "text/plain": [
       "Downloading:   0%|          | 0.00/1.64M [00:00<?, ?B/s]"
      ]
     },
     "metadata": {},
     "output_type": "display_data"
    },
    {
     "data": {
      "text/plain": [
       "[{'translation_text': 'This is a course from Huggingspace.'}]"
      ]
     },
     "execution_count": 16,
     "metadata": {},
     "output_type": "execute_result"
    }
   ],
   "source": [
    "translator = pipeline(\"translation\", model=\"Helsinki-NLP/opus-mt-ko-en\")\n",
    "translator(\"허깅페이스에서 제작한 코스입니다.\")"
   ]
  },
  {
   "cell_type": "markdown",
   "id": "a8cd6244",
   "metadata": {
    "hidden": true
   },
   "source": [
    "That is almost correct. Huggingface is a name, and it can be tricky to translate. I am surprised to see that it is translated to Hunggingspace, instead of Huggingpace. Literal translation would be Huggingpace because 'p' is always substituted for 'f' because there is no 'f' in Korean. Maybe the model is work in progress and made a mistake."
   ]
  },
  {
   "cell_type": "markdown",
   "id": "e2e2f031",
   "metadata": {
    "heading_collapsed": true
   },
   "source": [
    "## Bias and limitation"
   ]
  },
  {
   "cell_type": "markdown",
   "id": "f1ccb517",
   "metadata": {
    "hidden": true
   },
   "source": [
    "Models have bias even if they were trained with unbibased data. Bert has a bias toward genders."
   ]
  },
  {
   "cell_type": "code",
   "execution_count": 1,
   "id": "789a208d",
   "metadata": {
    "hidden": true
   },
   "outputs": [
    {
     "data": {
      "application/vnd.jupyter.widget-view+json": {
       "model_id": "320c4156dd3e4137abbb1ff25036ab95",
       "version_major": 2,
       "version_minor": 0
      },
      "text/plain": [
       "Downloading:   0%|          | 0.00/570 [00:00<?, ?B/s]"
      ]
     },
     "metadata": {},
     "output_type": "display_data"
    },
    {
     "data": {
      "application/vnd.jupyter.widget-view+json": {
       "model_id": "aa4a933a0f6842cab8e9e8e38e525fe7",
       "version_major": 2,
       "version_minor": 0
      },
      "text/plain": [
       "Downloading:   0%|          | 0.00/420M [00:00<?, ?B/s]"
      ]
     },
     "metadata": {},
     "output_type": "display_data"
    },
    {
     "name": "stderr",
     "output_type": "stream",
     "text": [
      "Some weights of the model checkpoint at bert-base-uncased were not used when initializing BertForMaskedLM: ['cls.seq_relationship.weight', 'cls.seq_relationship.bias']\n",
      "- This IS expected if you are initializing BertForMaskedLM from the checkpoint of a model trained on another task or with another architecture (e.g. initializing a BertForSequenceClassification model from a BertForPreTraining model).\n",
      "- This IS NOT expected if you are initializing BertForMaskedLM from the checkpoint of a model that you expect to be exactly identical (initializing a BertForSequenceClassification model from a BertForSequenceClassification model).\n"
     ]
    },
    {
     "data": {
      "application/vnd.jupyter.widget-view+json": {
       "model_id": "6c4b46020cfd4de6bb70af92cddb0264",
       "version_major": 2,
       "version_minor": 0
      },
      "text/plain": [
       "Downloading:   0%|          | 0.00/28.0 [00:00<?, ?B/s]"
      ]
     },
     "metadata": {},
     "output_type": "display_data"
    },
    {
     "data": {
      "application/vnd.jupyter.widget-view+json": {
       "model_id": "37538b4b616c4dd385c04094304e4fb1",
       "version_major": 2,
       "version_minor": 0
      },
      "text/plain": [
       "Downloading:   0%|          | 0.00/226k [00:00<?, ?B/s]"
      ]
     },
     "metadata": {},
     "output_type": "display_data"
    },
    {
     "data": {
      "application/vnd.jupyter.widget-view+json": {
       "model_id": "a0aaaf93cec04f9fb9ec05a46c6af49f",
       "version_major": 2,
       "version_minor": 0
      },
      "text/plain": [
       "Downloading:   0%|          | 0.00/455k [00:00<?, ?B/s]"
      ]
     },
     "metadata": {},
     "output_type": "display_data"
    },
    {
     "name": "stdout",
     "output_type": "stream",
     "text": [
      "['carpenter', 'lawyer', 'farmer', 'businessman', 'doctor']\n",
      "['nurse', 'maid', 'teacher', 'waitress', 'prostitute']\n"
     ]
    }
   ],
   "source": [
    "from transformers import pipeline\n",
    "\n",
    "unmasker = pipeline(\"fill-mask\", model=\"bert-base-uncased\")\n",
    "result = unmasker(\"This man works as a [MASK].\")\n",
    "print([r[\"token_str\"] for r in result])\n",
    "\n",
    "result = unmasker(\"This woman works as a [MASK].\")\n",
    "print([r[\"token_str\"] for r in result])"
   ]
  },
  {
   "cell_type": "markdown",
   "id": "7de7e6b4",
   "metadata": {
    "hidden": true
   },
   "source": [
    "The model also has a bias with geographical location, which the model closely relates with race."
   ]
  },
  {
   "cell_type": "code",
   "execution_count": 30,
   "id": "1f42b796",
   "metadata": {
    "hidden": true
   },
   "outputs": [
    {
     "name": "stdout",
     "output_type": "stream",
     "text": [
      "['teacher', 'slave', 'missionary', 'priest', 'farmer']\n"
     ]
    }
   ],
   "source": [
    "# The model associates an African with a slave.\n",
    "result = unmasker(\"This African works as a [MASK].\")\n",
    "print([r[\"token_str\"] for r in result])"
   ]
  },
  {
   "cell_type": "code",
   "execution_count": 33,
   "id": "c31edcb9",
   "metadata": {
    "hidden": true
   },
   "outputs": [
    {
     "name": "stdout",
     "output_type": "stream",
     "text": [
      "['museum', 'laboratory', 'factory', 'school', 'library']\n"
     ]
    }
   ],
   "source": [
    "# A European with laboratory and factory.\n",
    "result = unmasker(\"This European works as a [MASK].\")\n",
    "print([r[\"token_str\"] for r in result])"
   ]
  },
  {
   "cell_type": "code",
   "execution_count": 32,
   "id": "6f74c888",
   "metadata": {
    "hidden": true
   },
   "outputs": [
    {
     "name": "stdout",
     "output_type": "stream",
     "text": [
      "['coach', 'museum', 'teacher', 'restaurant', 'toilet']\n"
     ]
    }
   ],
   "source": [
    "# An Asian with toilet.\n",
    "result = unmasker(\"This Asian works as a [MASK].\")\n",
    "print([r[\"token_str\"] for r in result])"
   ]
  },
  {
   "cell_type": "markdown",
   "id": "f7cef676",
   "metadata": {
    "hidden": true
   },
   "source": [
    "I am not sure what it means to work as a toilet, and a google search does not teach me anything useful. "
   ]
  },
  {
   "cell_type": "markdown",
   "id": "2eb7a06f",
   "metadata": {
    "hidden": true
   },
   "source": [
    "Anyway, the cause of the model's bias is from us. There are more women nurses than men nurses, more businessman than businesswoman. Although the world is changing rapidly recently, the data used to train, such as wikipedia, does not necessarily reflect our current society ethics or customs. "
   ]
  },
  {
   "cell_type": "markdown",
   "id": "ee92760b",
   "metadata": {
    "hidden": true
   },
   "source": [
    "It is a good thing we do not have robots walking around with bias and limitations yet. A police robot with a strong bias toward race would be a disaster."
   ]
  }
 ],
 "metadata": {
  "kernelspec": {
   "display_name": "Python 3 (ipykernel)",
   "language": "python",
   "name": "python3"
  },
  "language_info": {
   "codemirror_mode": {
    "name": "ipython",
    "version": 3
   },
   "file_extension": ".py",
   "mimetype": "text/x-python",
   "name": "python",
   "nbconvert_exporter": "python",
   "pygments_lexer": "ipython3",
   "version": "3.9.7"
  }
 },
 "nbformat": 4,
 "nbformat_minor": 5
}
