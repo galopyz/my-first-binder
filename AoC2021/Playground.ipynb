{
 "cells": [
  {
   "cell_type": "markdown",
   "id": "7eec8683",
   "metadata": {},
   "source": [
    "# Sand pit"
   ]
  },
  {
   "cell_type": "markdown",
   "id": "086ab715",
   "metadata": {},
   "source": [
    "When I worked on AoC 2015, I noticed I can do better than that. I had no idea what to expect, and my approach was horrible. After reading the assignment, I had to search the internet regarding certain features in python. However, I did not want to just sit down and read all the python documentations from the start to the end. So I got some important highlight of the language to focus on. So, I decided to get some hands on training on the toolset that Peter Norvig <a href='https://nbviewer.org/github/norvig/pytudes/blob/main/ipynb/Advent-2021.ipynb'>used</a>. After, I will solve the puzzles, then compare mine with his and see how horrible mine is."
   ]
  },
  {
   "cell_type": "code",
   "execution_count": 1,
   "id": "1affa156",
   "metadata": {},
   "outputs": [],
   "source": [
    "from __future__  import annotations\n",
    "from collections import Counter, defaultdict, namedtuple, deque\n",
    "from itertools   import permutations, combinations, chain, count as count_from, product as cross_product\n",
    "from typing      import *\n",
    "from statistics  import mean, median\n",
    "from math        import ceil, inf\n",
    "from functools   import lru_cache\n",
    "import matplotlib.pyplot as plt\n",
    "import re"
   ]
  },
  {
   "cell_type": "markdown",
   "id": "341c446d",
   "metadata": {
    "heading_collapsed": true
   },
   "source": [
    "## annotations"
   ]
  },
  {
   "cell_type": "markdown",
   "id": "3631cb80",
   "metadata": {
    "hidden": true
   },
   "source": [
    "<code>annotations</code> delays evaluation of function annotations. Without the future import, NameError is raised below. However, after the import, it works without any issue."
   ]
  },
  {
   "cell_type": "code",
   "execution_count": 2,
   "id": "957973f3",
   "metadata": {
    "hidden": true
   },
   "outputs": [],
   "source": [
    "class A:\n",
    "    def a(self) -> A:\n",
    "        return"
   ]
  },
  {
   "cell_type": "markdown",
   "id": "12a5980d",
   "metadata": {
    "heading_collapsed": true
   },
   "source": [
    "## Counter "
   ]
  },
  {
   "cell_type": "markdown",
   "id": "210612ee",
   "metadata": {
    "hidden": true
   },
   "source": [
    "Counter can be used to count things."
   ]
  },
  {
   "cell_type": "markdown",
   "id": "856bb5ec",
   "metadata": {
    "hidden": true
   },
   "source": [
    "There are many ways to initiate the Counter."
   ]
  },
  {
   "cell_type": "code",
   "execution_count": 3,
   "id": "8a02f988",
   "metadata": {
    "hidden": true
   },
   "outputs": [
    {
     "data": {
      "text/plain": [
       "Counter()"
      ]
     },
     "execution_count": 3,
     "metadata": {},
     "output_type": "execute_result"
    }
   ],
   "source": [
    "Counter()"
   ]
  },
  {
   "cell_type": "code",
   "execution_count": 4,
   "id": "03af2c63",
   "metadata": {
    "hidden": true
   },
   "outputs": [
    {
     "data": {
      "text/plain": [
       "Counter({'D': 1, 'a': 1, 'r': 1, 'k': 1, 'n': 1, 'e': 1, 's': 2})"
      ]
     },
     "execution_count": 4,
     "metadata": {},
     "output_type": "execute_result"
    }
   ],
   "source": [
    "Counter('Darkness')"
   ]
  },
  {
   "cell_type": "code",
   "execution_count": 5,
   "id": "c7be1434",
   "metadata": {
    "hidden": true
   },
   "outputs": [
    {
     "data": {
      "text/plain": [
       "Counter({'bacon': 4, 'eggs': 30})"
      ]
     },
     "execution_count": 5,
     "metadata": {},
     "output_type": "execute_result"
    }
   ],
   "source": [
    "Counter({'bacon': 4, 'eggs': 30})"
   ]
  },
  {
   "cell_type": "code",
   "execution_count": 6,
   "id": "46765970",
   "metadata": {
    "hidden": true
   },
   "outputs": [
    {
     "data": {
      "text/plain": [
       "Counter({'onions': 2, 'cucumber': 19, 'potato': 11, 'sweet_potato': 38})"
      ]
     },
     "execution_count": 6,
     "metadata": {},
     "output_type": "execute_result"
    }
   ],
   "source": [
    "c = Counter(onions=2, cucumber=19, potato=11, sweet_potato=38)\n",
    "c"
   ]
  },
  {
   "cell_type": "markdown",
   "id": "9d2fe4eb",
   "metadata": {
    "hidden": true
   },
   "source": [
    "Counts can be retrieved by using keys. If it does not exist in the Counter, count is 0."
   ]
  },
  {
   "cell_type": "code",
   "execution_count": 7,
   "id": "75a4f2a5",
   "metadata": {
    "hidden": true
   },
   "outputs": [
    {
     "data": {
      "text/plain": [
       "(2, 0)"
      ]
     },
     "execution_count": 7,
     "metadata": {},
     "output_type": "execute_result"
    }
   ],
   "source": [
    "c['onions'], c['zombie']"
   ]
  },
  {
   "cell_type": "markdown",
   "id": "60f33a06",
   "metadata": {
    "hidden": true
   },
   "source": [
    "Counts can be changed. It can be 0 or negative. "
   ]
  },
  {
   "cell_type": "code",
   "execution_count": 8,
   "id": "9bcbb371",
   "metadata": {
    "hidden": true
   },
   "outputs": [
    {
     "data": {
      "text/plain": [
       "True"
      ]
     },
     "execution_count": 8,
     "metadata": {},
     "output_type": "execute_result"
    }
   ],
   "source": [
    "c['sweet_potato'] = 0\n",
    "'sweet_potato' in c"
   ]
  },
  {
   "cell_type": "code",
   "execution_count": 9,
   "id": "8c764f68",
   "metadata": {
    "hidden": true
   },
   "outputs": [
    {
     "data": {
      "text/plain": [
       "True"
      ]
     },
     "execution_count": 9,
     "metadata": {},
     "output_type": "execute_result"
    }
   ],
   "source": [
    "c['sweet_potato'] = -100\n",
    "'sweet_potato' in c"
   ]
  },
  {
   "cell_type": "markdown",
   "id": "6023c0d6",
   "metadata": {
    "hidden": true
   },
   "source": [
    "Elements in the Counts can be deleted with del. "
   ]
  },
  {
   "cell_type": "code",
   "execution_count": 10,
   "id": "0b6d2ee2",
   "metadata": {
    "hidden": true
   },
   "outputs": [
    {
     "data": {
      "text/plain": [
       "False"
      ]
     },
     "execution_count": 10,
     "metadata": {},
     "output_type": "execute_result"
    }
   ],
   "source": [
    "del c['sweet_potato']\n",
    "'sweet_potato' in c"
   ]
  },
  {
   "cell_type": "markdown",
   "id": "1c8c629b",
   "metadata": {
    "hidden": true
   },
   "source": [
    "Counter has help methods. <code>elements</code> returns an iterator that generates all the elements."
   ]
  },
  {
   "cell_type": "code",
   "execution_count": 11,
   "id": "d3333788",
   "metadata": {
    "hidden": true
   },
   "outputs": [
    {
     "data": {
      "text/plain": [
       "['onions',\n",
       " 'onions',\n",
       " 'cucumber',\n",
       " 'cucumber',\n",
       " 'cucumber',\n",
       " 'cucumber',\n",
       " 'cucumber',\n",
       " 'cucumber',\n",
       " 'cucumber',\n",
       " 'cucumber',\n",
       " 'cucumber',\n",
       " 'cucumber',\n",
       " 'cucumber',\n",
       " 'cucumber',\n",
       " 'cucumber',\n",
       " 'cucumber',\n",
       " 'cucumber',\n",
       " 'cucumber',\n",
       " 'cucumber',\n",
       " 'cucumber',\n",
       " 'cucumber',\n",
       " 'potato',\n",
       " 'potato',\n",
       " 'potato',\n",
       " 'potato',\n",
       " 'potato',\n",
       " 'potato',\n",
       " 'potato',\n",
       " 'potato',\n",
       " 'potato',\n",
       " 'potato',\n",
       " 'potato']"
      ]
     },
     "execution_count": 11,
     "metadata": {},
     "output_type": "execute_result"
    }
   ],
   "source": [
    "list(c.elements())"
   ]
  },
  {
   "cell_type": "markdown",
   "id": "65b8fa48",
   "metadata": {
    "hidden": true
   },
   "source": [
    "Most common items from top to bottom."
   ]
  },
  {
   "cell_type": "code",
   "execution_count": 14,
   "id": "08ee7f6f",
   "metadata": {
    "hidden": true
   },
   "outputs": [
    {
     "data": {
      "text/plain": [
       "[('cucumber', 19), ('potato', 11), ('onions', 2)]"
      ]
     },
     "execution_count": 14,
     "metadata": {},
     "output_type": "execute_result"
    }
   ],
   "source": [
    "c.most_common()"
   ]
  },
  {
   "cell_type": "code",
   "execution_count": 13,
   "id": "e2701580",
   "metadata": {
    "hidden": true
   },
   "outputs": [
    {
     "data": {
      "text/plain": [
       "[('cucumber', 19)]"
      ]
     },
     "execution_count": 13,
     "metadata": {},
     "output_type": "execute_result"
    }
   ],
   "source": [
    "c.most_common(1)"
   ]
  },
  {
   "cell_type": "markdown",
   "id": "766b0181",
   "metadata": {
    "hidden": true
   },
   "source": [
    "Counter can subtract others, such as mappings or iterables. It is not an error if some elemtns are missing."
   ]
  },
  {
   "cell_type": "code",
   "execution_count": 17,
   "id": "9eed9d95",
   "metadata": {
    "hidden": true
   },
   "outputs": [
    {
     "data": {
      "text/plain": [
       "Counter({'a': 3, 'b': 0, 'c': -3, 'd': -6})"
      ]
     },
     "execution_count": 17,
     "metadata": {},
     "output_type": "execute_result"
    }
   ],
   "source": [
    "c = Counter(a=4, b=2, c=0, d=-2)\n",
    "d = Counter(a=1, b=2, c=3, d=4)\n",
    "c.subtract(d)\n",
    "c"
   ]
  },
  {
   "cell_type": "code",
   "execution_count": 18,
   "id": "32ff1b42",
   "metadata": {
    "hidden": true
   },
   "outputs": [
    {
     "data": {
      "text/plain": [
       "Counter({'a': 4, 'b': 0, 'c': -3, 'd': -6})"
      ]
     },
     "execution_count": 18,
     "metadata": {},
     "output_type": "execute_result"
    }
   ],
   "source": [
    "# Missing subtract element\n",
    "c = Counter(a=4, b=2, c=0, d=-2)\n",
    "d = Counter(b=2, c=3, d=4)\n",
    "c.subtract(d)\n",
    "c"
   ]
  },
  {
   "cell_type": "code",
   "execution_count": 20,
   "id": "fef1010b",
   "metadata": {
    "hidden": true
   },
   "outputs": [
    {
     "data": {
      "text/plain": [
       "Counter({'a': 3, 'b': 0, 'c': -3, 'd': -4})"
      ]
     },
     "execution_count": 20,
     "metadata": {},
     "output_type": "execute_result"
    }
   ],
   "source": [
    "# Missing original element\n",
    "c = Counter(a=4, b=2, c=0)\n",
    "d = Counter(a=1, b=2, c=3, d=4)\n",
    "c.subtract(d)\n",
    "c"
   ]
  },
  {
   "cell_type": "code",
   "execution_count": 27,
   "id": "d35aec3b",
   "metadata": {
    "hidden": true
   },
   "outputs": [
    {
     "data": {
      "text/plain": [
       "Counter({'a': 1, 'b': 2, 'c': 0, 'd': -2})"
      ]
     },
     "execution_count": 27,
     "metadata": {},
     "output_type": "execute_result"
    }
   ],
   "source": [
    "# Subtracting dictionary\n",
    "c = Counter(a=4, b=2, c=0, d=-2)\n",
    "d = {'a':3}\n",
    "c.subtract(d)\n",
    "c"
   ]
  },
  {
   "cell_type": "markdown",
   "id": "655386eb",
   "metadata": {
    "hidden": true
   },
   "source": [
    "Counter can also add, but it is called update. Instead of replacing, it simply adds counts."
   ]
  },
  {
   "cell_type": "code",
   "execution_count": 28,
   "id": "e22c5b13",
   "metadata": {
    "hidden": true
   },
   "outputs": [
    {
     "data": {
      "text/plain": [
       "Counter({'a': 2, 'b': 4, 'c': 3, 'd': -2})"
      ]
     },
     "execution_count": 28,
     "metadata": {},
     "output_type": "execute_result"
    }
   ],
   "source": [
    "c.update('abbccc')\n",
    "c"
   ]
  },
  {
   "cell_type": "markdown",
   "id": "9affa13a",
   "metadata": {
    "hidden": true
   },
   "source": [
    "Mathematical operations can be used with Counter objects. Negative counts are removed."
   ]
  },
  {
   "cell_type": "code",
   "execution_count": 45,
   "id": "e4e2b6c0",
   "metadata": {
    "hidden": true
   },
   "outputs": [],
   "source": [
    "c = Counter(a=2, b=-4, c=0, d=10)\n",
    "d = Counter(a=-1, b=2, c=3, d=17)"
   ]
  },
  {
   "cell_type": "code",
   "execution_count": 47,
   "id": "d033f63a",
   "metadata": {
    "hidden": true
   },
   "outputs": [
    {
     "data": {
      "text/plain": [
       "Counter({'a': 1, 'c': 3, 'd': 27})"
      ]
     },
     "execution_count": 47,
     "metadata": {},
     "output_type": "execute_result"
    }
   ],
   "source": [
    "# Add\n",
    "c + d"
   ]
  },
  {
   "cell_type": "code",
   "execution_count": 48,
   "id": "b15c8e3e",
   "metadata": {
    "hidden": true
   },
   "outputs": [
    {
     "data": {
      "text/plain": [
       "Counter({'a': 3})"
      ]
     },
     "execution_count": 48,
     "metadata": {},
     "output_type": "execute_result"
    }
   ],
   "source": [
    "# Subtract\n",
    "c - d"
   ]
  },
  {
   "cell_type": "code",
   "execution_count": 49,
   "id": "70641449",
   "metadata": {
    "hidden": true
   },
   "outputs": [
    {
     "data": {
      "text/plain": [
       "Counter({'d': 10})"
      ]
     },
     "execution_count": 49,
     "metadata": {},
     "output_type": "execute_result"
    }
   ],
   "source": [
    "# Intersection\n",
    "c & d"
   ]
  },
  {
   "cell_type": "code",
   "execution_count": 50,
   "id": "ed52e948",
   "metadata": {
    "hidden": true
   },
   "outputs": [
    {
     "data": {
      "text/plain": [
       "Counter({'a': 2, 'b': 2, 'c': 3, 'd': 17})"
      ]
     },
     "execution_count": 50,
     "metadata": {},
     "output_type": "execute_result"
    }
   ],
   "source": [
    "# Union\n",
    "c | d"
   ]
  },
  {
   "cell_type": "markdown",
   "id": "2f13122c",
   "metadata": {
    "hidden": true
   },
   "source": [
    "Unary operator + gets rid of negative and zero elements, and - gets rid of positive and zero elements."
   ]
  },
  {
   "cell_type": "code",
   "execution_count": 33,
   "id": "cae93302",
   "metadata": {
    "hidden": true
   },
   "outputs": [
    {
     "data": {
      "text/plain": [
       "Counter({'a': 2})"
      ]
     },
     "execution_count": 33,
     "metadata": {},
     "output_type": "execute_result"
    }
   ],
   "source": [
    "c = Counter(a=2, b=-4, c=0)\n",
    "+c"
   ]
  },
  {
   "cell_type": "code",
   "execution_count": 34,
   "id": "92d4bf60",
   "metadata": {
    "hidden": true
   },
   "outputs": [
    {
     "data": {
      "text/plain": [
       "Counter({'b': 4})"
      ]
     },
     "execution_count": 34,
     "metadata": {},
     "output_type": "execute_result"
    }
   ],
   "source": [
    "-c"
   ]
  }
 ],
 "metadata": {
  "kernelspec": {
   "display_name": "Python 3 (ipykernel)",
   "language": "python",
   "name": "python3"
  },
  "language_info": {
   "codemirror_mode": {
    "name": "ipython",
    "version": 3
   },
   "file_extension": ".py",
   "mimetype": "text/x-python",
   "name": "python",
   "nbconvert_exporter": "python",
   "pygments_lexer": "ipython3",
   "version": "3.9.7"
  }
 },
 "nbformat": 4,
 "nbformat_minor": 5
}
