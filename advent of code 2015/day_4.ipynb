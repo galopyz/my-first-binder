{
 "cells": [
  {
   "cell_type": "markdown",
   "id": "ea8a8041",
   "metadata": {},
   "source": [
    "# --- Day 4: The Ideal Stocking Stuffer ---"
   ]
  },
  {
   "cell_type": "markdown",
   "id": "a69568d2",
   "metadata": {},
   "source": [
    "Santa needs help mining some AdventCoins (very similar to bitcoins) to use as gifts for all the economically forward-thinking little girls and boys.\n",
    "\n",
    "To do this, he needs to find MD5 hashes which, in hexadecimal, start with at least five zeroes. The input to the MD5 hash is some secret key (your puzzle input, given below) followed by a number in decimal. To mine AdventCoins, you must find Santa the lowest positive number (no leading zeroes: 1, 2, 3, ...) that produces such a hash.\n",
    "\n",
    "For example:\n",
    "\n",
    "If your secret key is abcdef, the answer is 609043, because the MD5 hash of abcdef609043 starts with five zeroes (000001dbbfa...), and it is the lowest such number to do so.\n",
    "If your secret key is pqrstuv, the lowest number it combines with to make an MD5 hash starting with five zeroes is 1048970; that is, the MD5 hash of pqrstuv1048970 looks like 000006136ef...."
   ]
  },
  {
   "cell_type": "markdown",
   "id": "8f3d54ba",
   "metadata": {},
   "source": [
    ":P"
   ]
  },
  {
   "cell_type": "markdown",
   "id": "9a56bbc0",
   "metadata": {},
   "source": [
    "I have no idea what MD5 is, so I start researching online. After a little bit of surfing the web, I found out that it has something to do with cryptography and security. I also found out how to use it <a href='https://stackoverflow.com/questions/5297448/how-to-get-md5-sum-of-a-string-using-python'>here</a>. "
   ]
  },
  {
   "cell_type": "code",
   "execution_count": 5,
   "id": "90d061a4",
   "metadata": {},
   "outputs": [],
   "source": [
    "from hashlib import md5"
   ]
  },
  {
   "cell_type": "code",
   "execution_count": 16,
   "id": "960755c3",
   "metadata": {},
   "outputs": [],
   "source": [
    "md5?"
   ]
  },
  {
   "cell_type": "markdown",
   "id": "1652ff2a",
   "metadata": {},
   "source": [
    "This is how to use md5 in python3:"
   ]
  },
  {
   "cell_type": "code",
   "execution_count": 10,
   "id": "d9a93c57",
   "metadata": {},
   "outputs": [
    {
     "data": {
      "text/plain": [
       "'e80b5017098950fc58aad83c8c14978e'"
      ]
     },
     "execution_count": 10,
     "metadata": {},
     "output_type": "execute_result"
    }
   ],
   "source": [
    "md5('abcdef'.encode('utf-8')).hexdigest()"
   ]
  },
  {
   "cell_type": "code",
   "execution_count": 11,
   "id": "69f6c2f1",
   "metadata": {},
   "outputs": [
    {
     "data": {
      "text/plain": [
       "'cb793cb133428a12cec6e3e3b787abb9'"
      ]
     },
     "execution_count": 11,
     "metadata": {},
     "output_type": "execute_result"
    }
   ],
   "source": [
    "md5('abcdef0'.encode('utf-8')).hexdigest()"
   ]
  },
  {
   "cell_type": "markdown",
   "id": "52109368",
   "metadata": {},
   "source": [
    "Here is what it looks like after plugging in inputs from the examples:"
   ]
  },
  {
   "cell_type": "code",
   "execution_count": 62,
   "id": "1d97aea2",
   "metadata": {},
   "outputs": [
    {
     "data": {
      "text/plain": [
       "'000001dbbfa3a5c83a2d506429c7b00e'"
      ]
     },
     "execution_count": 62,
     "metadata": {},
     "output_type": "execute_result"
    }
   ],
   "source": [
    "md5('abcdef609043'.encode('utf-8')).hexdigest()"
   ]
  },
  {
   "cell_type": "code",
   "execution_count": 15,
   "id": "3e0ee52b",
   "metadata": {},
   "outputs": [
    {
     "data": {
      "text/plain": [
       "'000006136ef2ff3b291c85725f17325c'"
      ]
     },
     "execution_count": 15,
     "metadata": {},
     "output_type": "execute_result"
    }
   ],
   "source": [
    "md5('pqrstuv1048970'.encode('utf-8')).hexdigest()"
   ]
  },
  {
   "cell_type": "markdown",
   "id": "f47f07b2",
   "metadata": {},
   "source": [
    "Now, I can solve the puzzle."
   ]
  },
  {
   "cell_type": "code",
   "execution_count": 70,
   "id": "2c5d4b23",
   "metadata": {},
   "outputs": [],
   "source": [
    "def find_hash(prefix:str, puzzle_input:str):\n",
    "    \"\"\"\n",
    "    prefix: five zeroes in this case.\n",
    "    puzzle_input: Input given to me for this puzzle.\n",
    "    \"\"\"\n",
    "    start = '1'\n",
    "    inp = puzzle_input + start\n",
    "    hash_val = md5(inp.encode('utf-8')).hexdigest()\n",
    "    while hash_val[:len(prefix)] != prefix:\n",
    "        start = str(int(start) + 1)\n",
    "        inp = puzzle_input + start\n",
    "        hash_val = md5(inp.encode('utf-8')).hexdigest()\n",
    "    return start, hash_val"
   ]
  },
  {
   "cell_type": "markdown",
   "id": "6b2403fa",
   "metadata": {},
   "source": [
    "Let's try it on "
   ]
  },
  {
   "cell_type": "code",
   "execution_count": 71,
   "id": "f2315385",
   "metadata": {},
   "outputs": [
    {
     "data": {
      "text/plain": [
       "('609043', '000001dbbfa3a5c83a2d506429c7b00e')"
      ]
     },
     "execution_count": 71,
     "metadata": {},
     "output_type": "execute_result"
    }
   ],
   "source": [
    "find_hash('00000', 'abcdef')"
   ]
  },
  {
   "cell_type": "code",
   "execution_count": 72,
   "id": "f594313e",
   "metadata": {},
   "outputs": [
    {
     "data": {
      "text/plain": [
       "('1048970', '000006136ef2ff3b291c85725f17325c')"
      ]
     },
     "execution_count": 72,
     "metadata": {},
     "output_type": "execute_result"
    }
   ],
   "source": [
    "find_hash('00000', 'pqrstuv')"
   ]
  },
  {
   "cell_type": "code",
   "execution_count": 73,
   "id": "4791f904",
   "metadata": {},
   "outputs": [
    {
     "data": {
      "text/plain": [
       "('282749', '000002c655df7738246e88f6c1c43eb7')"
      ]
     },
     "execution_count": 73,
     "metadata": {},
     "output_type": "execute_result"
    }
   ],
   "source": [
    "find_hash('00000', 'yzbqklnj')"
   ]
  },
  {
   "cell_type": "markdown",
   "id": "2cf1eb5e",
   "metadata": {},
   "source": [
    "## --- Part Two ---"
   ]
  },
  {
   "cell_type": "markdown",
   "id": "5b765955",
   "metadata": {},
   "source": [
    "Now find one that starts with six zeroes."
   ]
  },
  {
   "cell_type": "markdown",
   "id": "9c10a146",
   "metadata": {},
   "source": [
    "That's cool. We just change the while loop to compare with six digits instead of five by getting the length of the prefix."
   ]
  },
  {
   "cell_type": "code",
   "execution_count": 79,
   "id": "73c5d6c1",
   "metadata": {},
   "outputs": [
    {
     "data": {
      "text/plain": [
       "('9962624', '0000004b347bf4b398b3f62ace7cd301')"
      ]
     },
     "execution_count": 79,
     "metadata": {},
     "output_type": "execute_result"
    }
   ],
   "source": [
    "find_hash('000000', 'yzbqklnj')"
   ]
  }
 ],
 "metadata": {
  "kernelspec": {
   "display_name": "Python 3 (ipykernel)",
   "language": "python",
   "name": "python3"
  },
  "language_info": {
   "codemirror_mode": {
    "name": "ipython",
    "version": 3
   },
   "file_extension": ".py",
   "mimetype": "text/x-python",
   "name": "python",
   "nbconvert_exporter": "python",
   "pygments_lexer": "ipython3",
   "version": "3.9.7"
  }
 },
 "nbformat": 4,
 "nbformat_minor": 5
}
