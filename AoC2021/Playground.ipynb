{
 "cells": [
  {
   "cell_type": "markdown",
   "id": "7eec8683",
   "metadata": {},
   "source": [
    "# Sand pit"
   ]
  },
  {
   "cell_type": "markdown",
   "id": "086ab715",
   "metadata": {},
   "source": [
    "When I worked on AoC 2015, I noticed I can do better than that. I had no idea what to expect, and my approach was horrible. After reading the assignment, I had to search the internet regarding certain features in python. However, I did not want to just sit down and read all the python documentations from the start to the end. So I got some important highlight of the language to focus on. So, I decided to get some hands on training on the toolset that Peter Norvig <a href='https://nbviewer.org/github/norvig/pytudes/blob/main/ipynb/Advent-2021.ipynb'>used</a>. After, I will solve the puzzles, then compare mine with his and see how horrible mine is."
   ]
  },
  {
   "cell_type": "code",
   "execution_count": 2,
   "id": "1affa156",
   "metadata": {},
   "outputs": [],
   "source": [
    "from __future__  import annotations\n",
    "from collections import Counter, defaultdict, namedtuple, deque\n",
    "from itertools   import permutations, combinations, chain, count as count_from, product as cross_product\n",
    "from typing      import *\n",
    "from statistics  import mean, median\n",
    "from math        import ceil, inf\n",
    "from functools   import lru_cache\n",
    "import matplotlib.pyplot as plt\n",
    "import re"
   ]
  },
  {
   "cell_type": "markdown",
   "id": "87454ce3",
   "metadata": {},
   "source": [
    "## Playing with imported libraries"
   ]
  },
  {
   "cell_type": "markdown",
   "id": "341c446d",
   "metadata": {
    "heading_collapsed": true
   },
   "source": [
    "### Annotations"
   ]
  },
  {
   "cell_type": "markdown",
   "id": "3631cb80",
   "metadata": {
    "hidden": true
   },
   "source": [
    "<code>annotations</code> delays evaluation of function annotations. Without the future import, NameError is raised below. However, after the import, it works without any issue."
   ]
  },
  {
   "cell_type": "code",
   "execution_count": 2,
   "id": "957973f3",
   "metadata": {
    "hidden": true
   },
   "outputs": [],
   "source": [
    "class A:\n",
    "    def a(self) -> A:\n",
    "        return"
   ]
  },
  {
   "cell_type": "markdown",
   "id": "2a26fee8",
   "metadata": {},
   "source": [
    "### Collections"
   ]
  },
  {
   "cell_type": "markdown",
   "id": "12a5980d",
   "metadata": {
    "heading_collapsed": true
   },
   "source": [
    "#### Counter "
   ]
  },
  {
   "cell_type": "markdown",
   "id": "210612ee",
   "metadata": {
    "hidden": true
   },
   "source": [
    "Counter can be used to count things."
   ]
  },
  {
   "cell_type": "markdown",
   "id": "856bb5ec",
   "metadata": {
    "hidden": true
   },
   "source": [
    "There are many ways to initiate the Counter."
   ]
  },
  {
   "cell_type": "code",
   "execution_count": 2,
   "id": "8a02f988",
   "metadata": {
    "hidden": true
   },
   "outputs": [
    {
     "data": {
      "text/plain": [
       "Counter()"
      ]
     },
     "execution_count": 2,
     "metadata": {},
     "output_type": "execute_result"
    }
   ],
   "source": [
    "Counter()"
   ]
  },
  {
   "cell_type": "code",
   "execution_count": 3,
   "id": "03af2c63",
   "metadata": {
    "hidden": true
   },
   "outputs": [
    {
     "data": {
      "text/plain": [
       "Counter({'D': 1, 'a': 1, 'r': 1, 'k': 1, 'n': 1, 'e': 1, 's': 2})"
      ]
     },
     "execution_count": 3,
     "metadata": {},
     "output_type": "execute_result"
    }
   ],
   "source": [
    "Counter('Darkness')"
   ]
  },
  {
   "cell_type": "code",
   "execution_count": 4,
   "id": "c7be1434",
   "metadata": {
    "hidden": true
   },
   "outputs": [
    {
     "data": {
      "text/plain": [
       "Counter({'bacon': 4, 'eggs': 30})"
      ]
     },
     "execution_count": 4,
     "metadata": {},
     "output_type": "execute_result"
    }
   ],
   "source": [
    "Counter({'bacon': 4, 'eggs': 30})"
   ]
  },
  {
   "cell_type": "code",
   "execution_count": 5,
   "id": "46765970",
   "metadata": {
    "hidden": true
   },
   "outputs": [
    {
     "data": {
      "text/plain": [
       "Counter({'onions': 2, 'cucumber': 19, 'potato': 11, 'sweet_potato': 38})"
      ]
     },
     "execution_count": 5,
     "metadata": {},
     "output_type": "execute_result"
    }
   ],
   "source": [
    "c = Counter(onions=2, cucumber=19, potato=11, sweet_potato=38)\n",
    "c"
   ]
  },
  {
   "cell_type": "markdown",
   "id": "9d2fe4eb",
   "metadata": {
    "hidden": true
   },
   "source": [
    "Counts can be retrieved by using keys. If it does not exist in the Counter, count is 0."
   ]
  },
  {
   "cell_type": "code",
   "execution_count": 6,
   "id": "75a4f2a5",
   "metadata": {
    "hidden": true
   },
   "outputs": [
    {
     "data": {
      "text/plain": [
       "(2, 0)"
      ]
     },
     "execution_count": 6,
     "metadata": {},
     "output_type": "execute_result"
    }
   ],
   "source": [
    "c['onions'], c['zombie']"
   ]
  },
  {
   "cell_type": "markdown",
   "id": "60f33a06",
   "metadata": {
    "hidden": true
   },
   "source": [
    "Counts can be changed. It can be 0 or negative. "
   ]
  },
  {
   "cell_type": "code",
   "execution_count": 7,
   "id": "9bcbb371",
   "metadata": {
    "hidden": true
   },
   "outputs": [
    {
     "data": {
      "text/plain": [
       "True"
      ]
     },
     "execution_count": 7,
     "metadata": {},
     "output_type": "execute_result"
    }
   ],
   "source": [
    "c['sweet_potato'] = 0\n",
    "'sweet_potato' in c"
   ]
  },
  {
   "cell_type": "code",
   "execution_count": 8,
   "id": "8c764f68",
   "metadata": {
    "hidden": true
   },
   "outputs": [
    {
     "data": {
      "text/plain": [
       "True"
      ]
     },
     "execution_count": 8,
     "metadata": {},
     "output_type": "execute_result"
    }
   ],
   "source": [
    "c['sweet_potato'] = -100\n",
    "'sweet_potato' in c"
   ]
  },
  {
   "cell_type": "markdown",
   "id": "6023c0d6",
   "metadata": {
    "hidden": true
   },
   "source": [
    "Elements in the Counts can be deleted with del. "
   ]
  },
  {
   "cell_type": "code",
   "execution_count": 9,
   "id": "0b6d2ee2",
   "metadata": {
    "hidden": true
   },
   "outputs": [
    {
     "data": {
      "text/plain": [
       "False"
      ]
     },
     "execution_count": 9,
     "metadata": {},
     "output_type": "execute_result"
    }
   ],
   "source": [
    "del c['sweet_potato']\n",
    "'sweet_potato' in c"
   ]
  },
  {
   "cell_type": "markdown",
   "id": "1c8c629b",
   "metadata": {
    "hidden": true
   },
   "source": [
    "Counter has help methods. <code>elements</code> returns an iterator that generates all the elements."
   ]
  },
  {
   "cell_type": "code",
   "execution_count": 10,
   "id": "d3333788",
   "metadata": {
    "hidden": true
   },
   "outputs": [
    {
     "data": {
      "text/plain": [
       "['onions',\n",
       " 'onions',\n",
       " 'cucumber',\n",
       " 'cucumber',\n",
       " 'cucumber',\n",
       " 'cucumber',\n",
       " 'cucumber',\n",
       " 'cucumber',\n",
       " 'cucumber',\n",
       " 'cucumber',\n",
       " 'cucumber',\n",
       " 'cucumber',\n",
       " 'cucumber',\n",
       " 'cucumber',\n",
       " 'cucumber',\n",
       " 'cucumber',\n",
       " 'cucumber',\n",
       " 'cucumber',\n",
       " 'cucumber',\n",
       " 'cucumber',\n",
       " 'cucumber',\n",
       " 'potato',\n",
       " 'potato',\n",
       " 'potato',\n",
       " 'potato',\n",
       " 'potato',\n",
       " 'potato',\n",
       " 'potato',\n",
       " 'potato',\n",
       " 'potato',\n",
       " 'potato',\n",
       " 'potato']"
      ]
     },
     "execution_count": 10,
     "metadata": {},
     "output_type": "execute_result"
    }
   ],
   "source": [
    "list(c.elements())"
   ]
  },
  {
   "cell_type": "markdown",
   "id": "65b8fa48",
   "metadata": {
    "hidden": true
   },
   "source": [
    "Most common items from top to bottom."
   ]
  },
  {
   "cell_type": "code",
   "execution_count": 11,
   "id": "08ee7f6f",
   "metadata": {
    "hidden": true
   },
   "outputs": [
    {
     "data": {
      "text/plain": [
       "[('cucumber', 19), ('potato', 11), ('onions', 2)]"
      ]
     },
     "execution_count": 11,
     "metadata": {},
     "output_type": "execute_result"
    }
   ],
   "source": [
    "c.most_common()"
   ]
  },
  {
   "cell_type": "code",
   "execution_count": 12,
   "id": "e2701580",
   "metadata": {
    "hidden": true
   },
   "outputs": [
    {
     "data": {
      "text/plain": [
       "[('cucumber', 19)]"
      ]
     },
     "execution_count": 12,
     "metadata": {},
     "output_type": "execute_result"
    }
   ],
   "source": [
    "c.most_common(1)"
   ]
  },
  {
   "cell_type": "markdown",
   "id": "766b0181",
   "metadata": {
    "hidden": true
   },
   "source": [
    "Counter can subtract others, such as mappings or iterables. It is not an error if some elemtns are missing."
   ]
  },
  {
   "cell_type": "code",
   "execution_count": 13,
   "id": "9eed9d95",
   "metadata": {
    "hidden": true
   },
   "outputs": [
    {
     "data": {
      "text/plain": [
       "Counter({'a': 3, 'b': 0, 'c': -3, 'd': -6})"
      ]
     },
     "execution_count": 13,
     "metadata": {},
     "output_type": "execute_result"
    }
   ],
   "source": [
    "c = Counter(a=4, b=2, c=0, d=-2)\n",
    "d = Counter(a=1, b=2, c=3, d=4)\n",
    "c.subtract(d)\n",
    "c"
   ]
  },
  {
   "cell_type": "code",
   "execution_count": 14,
   "id": "32ff1b42",
   "metadata": {
    "hidden": true
   },
   "outputs": [
    {
     "data": {
      "text/plain": [
       "Counter({'a': 4, 'b': 0, 'c': -3, 'd': -6})"
      ]
     },
     "execution_count": 14,
     "metadata": {},
     "output_type": "execute_result"
    }
   ],
   "source": [
    "# Missing subtract element\n",
    "c = Counter(a=4, b=2, c=0, d=-2)\n",
    "d = Counter(b=2, c=3, d=4)\n",
    "c.subtract(d)\n",
    "c"
   ]
  },
  {
   "cell_type": "code",
   "execution_count": 15,
   "id": "fef1010b",
   "metadata": {
    "hidden": true
   },
   "outputs": [
    {
     "data": {
      "text/plain": [
       "Counter({'a': 3, 'b': 0, 'c': -3, 'd': -4})"
      ]
     },
     "execution_count": 15,
     "metadata": {},
     "output_type": "execute_result"
    }
   ],
   "source": [
    "# Missing original element\n",
    "c = Counter(a=4, b=2, c=0)\n",
    "d = Counter(a=1, b=2, c=3, d=4)\n",
    "c.subtract(d)\n",
    "c"
   ]
  },
  {
   "cell_type": "code",
   "execution_count": 16,
   "id": "d35aec3b",
   "metadata": {
    "hidden": true
   },
   "outputs": [
    {
     "data": {
      "text/plain": [
       "Counter({'a': 1, 'b': 2, 'c': 0, 'd': -2})"
      ]
     },
     "execution_count": 16,
     "metadata": {},
     "output_type": "execute_result"
    }
   ],
   "source": [
    "# Subtracting dictionary\n",
    "c = Counter(a=4, b=2, c=0, d=-2)\n",
    "d = {'a':3}\n",
    "c.subtract(d)\n",
    "c"
   ]
  },
  {
   "cell_type": "markdown",
   "id": "655386eb",
   "metadata": {
    "hidden": true
   },
   "source": [
    "Counter can also add, but it is called update. Instead of replacing, it simply adds counts."
   ]
  },
  {
   "cell_type": "code",
   "execution_count": 17,
   "id": "e22c5b13",
   "metadata": {
    "hidden": true
   },
   "outputs": [
    {
     "data": {
      "text/plain": [
       "Counter({'a': 2, 'b': 4, 'c': 3, 'd': -2})"
      ]
     },
     "execution_count": 17,
     "metadata": {},
     "output_type": "execute_result"
    }
   ],
   "source": [
    "c.update('abbccc')\n",
    "c"
   ]
  },
  {
   "cell_type": "markdown",
   "id": "9affa13a",
   "metadata": {
    "hidden": true
   },
   "source": [
    "Mathematical operations can be used with Counter objects. Negative counts are removed."
   ]
  },
  {
   "cell_type": "code",
   "execution_count": 21,
   "id": "e4e2b6c0",
   "metadata": {
    "hidden": true
   },
   "outputs": [],
   "source": [
    "c = Counter(a=2, b=-4, c=0, d=10)\n",
    "d = Counter(a=-1, b=2, c=3, d=17)"
   ]
  },
  {
   "cell_type": "code",
   "execution_count": 22,
   "id": "d033f63a",
   "metadata": {
    "hidden": true
   },
   "outputs": [
    {
     "data": {
      "text/plain": [
       "Counter({'a': 1, 'c': 3, 'd': 27})"
      ]
     },
     "execution_count": 22,
     "metadata": {},
     "output_type": "execute_result"
    }
   ],
   "source": [
    "# Add\n",
    "c + d"
   ]
  },
  {
   "cell_type": "code",
   "execution_count": 23,
   "id": "b15c8e3e",
   "metadata": {
    "hidden": true
   },
   "outputs": [
    {
     "data": {
      "text/plain": [
       "Counter({'a': 3})"
      ]
     },
     "execution_count": 23,
     "metadata": {},
     "output_type": "execute_result"
    }
   ],
   "source": [
    "# Subtract\n",
    "c - d"
   ]
  },
  {
   "cell_type": "code",
   "execution_count": 24,
   "id": "70641449",
   "metadata": {
    "hidden": true
   },
   "outputs": [
    {
     "data": {
      "text/plain": [
       "Counter({'d': 10})"
      ]
     },
     "execution_count": 24,
     "metadata": {},
     "output_type": "execute_result"
    }
   ],
   "source": [
    "# Intersection\n",
    "c & d"
   ]
  },
  {
   "cell_type": "code",
   "execution_count": 25,
   "id": "ed52e948",
   "metadata": {
    "hidden": true
   },
   "outputs": [
    {
     "data": {
      "text/plain": [
       "Counter({'a': 2, 'b': 2, 'c': 3, 'd': 17})"
      ]
     },
     "execution_count": 25,
     "metadata": {},
     "output_type": "execute_result"
    }
   ],
   "source": [
    "# Union\n",
    "c | d"
   ]
  },
  {
   "cell_type": "markdown",
   "id": "2f13122c",
   "metadata": {
    "hidden": true
   },
   "source": [
    "Unary operator + gets rid of negative and zero elements, and - gets rid of positive and zero elements."
   ]
  },
  {
   "cell_type": "code",
   "execution_count": 26,
   "id": "cae93302",
   "metadata": {
    "hidden": true
   },
   "outputs": [
    {
     "data": {
      "text/plain": [
       "Counter({'a': 2})"
      ]
     },
     "execution_count": 26,
     "metadata": {},
     "output_type": "execute_result"
    }
   ],
   "source": [
    "c = Counter(a=2, b=-4, c=0)\n",
    "+c"
   ]
  },
  {
   "cell_type": "code",
   "execution_count": 27,
   "id": "92d4bf60",
   "metadata": {
    "hidden": true
   },
   "outputs": [
    {
     "data": {
      "text/plain": [
       "Counter({'b': 4})"
      ]
     },
     "execution_count": 27,
     "metadata": {},
     "output_type": "execute_result"
    }
   ],
   "source": [
    "-c"
   ]
  },
  {
   "cell_type": "markdown",
   "id": "49faca4e",
   "metadata": {
    "heading_collapsed": true
   },
   "source": [
    "#### Defaultdict"
   ]
  },
  {
   "cell_type": "markdown",
   "id": "05be080c",
   "metadata": {
    "hidden": true
   },
   "source": [
    "Instead of using dictionary's <code>setdefault</code>, </code>defaultdict</code> can achieve higher efficiency and more flexibility. Here, it uses a list for the default value. "
   ]
  },
  {
   "cell_type": "code",
   "execution_count": 28,
   "id": "8140468e",
   "metadata": {
    "hidden": true
   },
   "outputs": [
    {
     "data": {
      "text/plain": [
       "defaultdict(list, {})"
      ]
     },
     "execution_count": 28,
     "metadata": {},
     "output_type": "execute_result"
    }
   ],
   "source": [
    "l = [('bacon', 3), ('egg', 10), ('oj', 1), ('oj', 3), ('bacon', 11)]\n",
    "d = defaultdict(list)\n",
    "d"
   ]
  },
  {
   "cell_type": "code",
   "execution_count": 29,
   "id": "e00381b3",
   "metadata": {
    "hidden": true
   },
   "outputs": [
    {
     "data": {
      "text/plain": [
       "[('bacon', [3, 11]), ('egg', [10]), ('oj', [1, 3])]"
      ]
     },
     "execution_count": 29,
     "metadata": {},
     "output_type": "execute_result"
    }
   ],
   "source": [
    "for k, v in l:\n",
    "    d[k].append(v)\n",
    "\n",
    "sorted(d.items())"
   ]
  },
  {
   "cell_type": "markdown",
   "id": "772dd335",
   "metadata": {
    "hidden": true
   },
   "source": [
    "Same thing could have achieved using plain dictionary's <code>setdefault</code>."
   ]
  },
  {
   "cell_type": "code",
   "execution_count": 18,
   "id": "c915a449",
   "metadata": {
    "hidden": true
   },
   "outputs": [
    {
     "data": {
      "text/plain": [
       "[('bacon', [3, 11]), ('egg', [10]), ('oj', [1, 3])]"
      ]
     },
     "execution_count": 18,
     "metadata": {},
     "output_type": "execute_result"
    }
   ],
   "source": [
    "d2 = {}\n",
    "for k, v in l:\n",
    "    d2.setdefault(k, []).append(v)\n",
    "sorted(d2.items())"
   ]
  },
  {
   "cell_type": "markdown",
   "id": "680024c8",
   "metadata": {
    "hidden": true
   },
   "source": [
    "<code>defaultdict</code> can also use other type for the default value, such as integer. If integer is used, it can be used as a counter."
   ]
  },
  {
   "cell_type": "code",
   "execution_count": 41,
   "id": "e6b8c9b6",
   "metadata": {
    "hidden": true
   },
   "outputs": [
    {
     "data": {
      "text/plain": [
       "[('bacon', 5), ('egg', 2), ('oj', 1)]"
      ]
     },
     "execution_count": 41,
     "metadata": {},
     "output_type": "execute_result"
    }
   ],
   "source": [
    "l = ['bacon', 'egg', 'egg', 'oj', 'bacon', 'bacon', 'bacon', 'bacon']\n",
    "d = defaultdict(int)\n",
    "for k in l:\n",
    "    d[k] += 1\n",
    "sorted(d.items())"
   ]
  },
  {
   "cell_type": "markdown",
   "id": "245ee566",
   "metadata": {
    "hidden": true
   },
   "source": [
    "If I need a counter, it is better to use Counter()."
   ]
  },
  {
   "cell_type": "code",
   "execution_count": 33,
   "id": "9e9dde53",
   "metadata": {
    "hidden": true
   },
   "outputs": [
    {
     "data": {
      "text/plain": [
       "Counter({'bacon': 5, 'egg': 2, 'oj': 1})"
      ]
     },
     "execution_count": 33,
     "metadata": {},
     "output_type": "execute_result"
    }
   ],
   "source": [
    "d2 = Counter(l)\n",
    "d2"
   ]
  },
  {
   "cell_type": "code",
   "execution_count": 35,
   "id": "96c752e1",
   "metadata": {
    "hidden": true
   },
   "outputs": [
    {
     "data": {
      "text/plain": [
       "['bacon', 'bacon', 'bacon', 'bacon', 'bacon', 'egg', 'egg', 'oj']"
      ]
     },
     "execution_count": 35,
     "metadata": {},
     "output_type": "execute_result"
    }
   ],
   "source": [
    "list(d2.elements())"
   ]
  },
  {
   "cell_type": "code",
   "execution_count": 36,
   "id": "6de36a68",
   "metadata": {
    "hidden": true
   },
   "outputs": [
    {
     "data": {
      "text/plain": [
       "[('bacon', 5), ('egg', 2)]"
      ]
     },
     "execution_count": 36,
     "metadata": {},
     "output_type": "execute_result"
    }
   ],
   "source": [
    "d2.most_common(2)"
   ]
  },
  {
   "cell_type": "markdown",
   "id": "f3601b91",
   "metadata": {
    "hidden": true
   },
   "source": [
    "Set can also be used as a default type."
   ]
  },
  {
   "cell_type": "code",
   "execution_count": 43,
   "id": "d5caafb7",
   "metadata": {
    "hidden": true
   },
   "outputs": [
    {
     "data": {
      "text/plain": [
       "[('bacon', {3}), ('egg', {10}), ('oj', {1, 3})]"
      ]
     },
     "execution_count": 43,
     "metadata": {},
     "output_type": "execute_result"
    }
   ],
   "source": [
    "l = [('bacon', 3), ('egg', 10), ('oj', 1), ('oj', 3), ('bacon', 3)]\n",
    "d = defaultdict(set)\n",
    "for k, v in l:\n",
    "    d[k].add(v)\n",
    "sorted(d.items())"
   ]
  },
  {
   "cell_type": "markdown",
   "id": "fef24b0e",
   "metadata": {
    "hidden": true
   },
   "source": [
    "Default value does not have to be set by the type. By passing a value with lambda, any constant value can be set to default."
   ]
  },
  {
   "cell_type": "code",
   "execution_count": 46,
   "id": "4a795072",
   "metadata": {
    "hidden": true
   },
   "outputs": [
    {
     "data": {
      "text/plain": [
       "'John ran to <missing>'"
      ]
     },
     "execution_count": 46,
     "metadata": {},
     "output_type": "execute_result"
    }
   ],
   "source": [
    "def constant_factory(value):\n",
    "    return lambda: value\n",
    "d = defaultdict(constant_factory('<missing>'))\n",
    "d.update(name='John', action='ran')\n",
    "'%(name)s %(action)s to %(object)s' % d"
   ]
  },
  {
   "cell_type": "code",
   "execution_count": 48,
   "id": "5d33d37a",
   "metadata": {
    "hidden": true
   },
   "outputs": [
    {
     "data": {
      "text/plain": [
       "[('bacon', ['Must Have!', 3, 10, 1, 3, 11]),\n",
       " ('egg', ['Must Have!', 3, 10, 1, 3, 11]),\n",
       " ('oj', ['Must Have!', 3, 10, 1, 3, 11])]"
      ]
     },
     "execution_count": 48,
     "metadata": {},
     "output_type": "execute_result"
    }
   ],
   "source": [
    "d2 = defaultdict(constant_factory(['Must Have!']))\n",
    "l = [('bacon', 3), ('egg', 10), ('oj', 1), ('oj', 3), ('bacon', 11)]\n",
    "for k,v in l:\n",
    "    d2[k].append(v)\n",
    "sorted(d2.items())"
   ]
  },
  {
   "cell_type": "markdown",
   "id": "2a34ee91",
   "metadata": {},
   "source": [
    "#### Namedtuple"
   ]
  },
  {
   "cell_type": "markdown",
   "id": "125a4f94",
   "metadata": {},
   "source": [
    "Making breakfast is tough. Especially when there are many orders. Namedtuple can help with getting the menus straight. Here's a namedtuple regarding what James wants."
   ]
  },
  {
   "cell_type": "code",
   "execution_count": 3,
   "id": "06300a12",
   "metadata": {},
   "outputs": [
    {
     "data": {
      "text/plain": [
       "Breakfast(eggs=3, bacons=2, pancakes=3, oj=1)"
      ]
     },
     "execution_count": 3,
     "metadata": {},
     "output_type": "execute_result"
    }
   ],
   "source": [
    "Breakfast = namedtuple('Breakfast', 'eggs bacons pancakes oj')\n",
    "James = Breakfast(3, 2, 3, 1)\n",
    "James"
   ]
  },
  {
   "cell_type": "code",
   "execution_count": 31,
   "id": "775d9b89",
   "metadata": {},
   "outputs": [
    {
     "data": {
      "text/plain": [
       "(3, 2)"
      ]
     },
     "execution_count": 31,
     "metadata": {},
     "output_type": "execute_result"
    }
   ],
   "source": [
    "James.eggs, James.bacons"
   ]
  },
  {
   "cell_type": "markdown",
   "id": "4eb1ef74",
   "metadata": {},
   "source": [
    "Breakfast menu can also be a string with commas in it."
   ]
  },
  {
   "cell_type": "code",
   "execution_count": 32,
   "id": "ade60a8f",
   "metadata": {},
   "outputs": [
    {
     "data": {
      "text/plain": [
       "Breakfast(eggs=3, bacons=2, pancakes=3, oj=1)"
      ]
     },
     "execution_count": 32,
     "metadata": {},
     "output_type": "execute_result"
    }
   ],
   "source": [
    "Breakfast = namedtuple('Breakfast', 'eggs, bacons, pancakes, oj')\n",
    "James = Breakfast(3, 2, 3, 1)\n",
    "James"
   ]
  },
  {
   "cell_type": "markdown",
   "id": "8fa877d6",
   "metadata": {},
   "source": [
    "Or a iterable such as a list."
   ]
  },
  {
   "cell_type": "code",
   "execution_count": 33,
   "id": "4faf343e",
   "metadata": {},
   "outputs": [
    {
     "data": {
      "text/plain": [
       "Breakfast(eggs=3, bacons=2, pancakes=3, oj=1)"
      ]
     },
     "execution_count": 33,
     "metadata": {},
     "output_type": "execute_result"
    }
   ],
   "source": [
    "Breakfast = namedtuple('Breakfast', ['eggs', 'bacons', 'pancakes', 'oj'])\n",
    "James = Breakfast(3, 2, 3, 1)\n",
    "James"
   ]
  },
  {
   "cell_type": "markdown",
   "id": "c5c0b3ea",
   "metadata": {},
   "source": [
    "With <code>_make</code>, it is possible to use an iterable to create a namedtuple."
   ]
  },
  {
   "cell_type": "code",
   "execution_count": 34,
   "id": "8a307696",
   "metadata": {},
   "outputs": [
    {
     "data": {
      "text/plain": [
       "Breakfast(eggs=1, bacons=2, pancakes=3, oj=1)"
      ]
     },
     "execution_count": 34,
     "metadata": {},
     "output_type": "execute_result"
    }
   ],
   "source": [
    "quantities = [1, 2, 3, 1]\n",
    "Mary = Breakfast._make(quantities)\n",
    "Mary"
   ]
  },
  {
   "cell_type": "markdown",
   "id": "83ddc4ca",
   "metadata": {},
   "source": [
    "With <code>_asdict</code>, namedtuple returns a dictionary."
   ]
  },
  {
   "cell_type": "code",
   "execution_count": 35,
   "id": "f1bc35dc",
   "metadata": {},
   "outputs": [
    {
     "data": {
      "text/plain": [
       "{'eggs': 1, 'bacons': 2, 'pancakes': 3, 'oj': 1}"
      ]
     },
     "execution_count": 35,
     "metadata": {},
     "output_type": "execute_result"
    }
   ],
   "source": [
    "Mary._asdict()"
   ]
  },
  {
   "cell_type": "markdown",
   "id": "18d8d884",
   "metadata": {},
   "source": [
    "With <code>_replace</code>, namedtuple returns a new namedtuple with replaced elements. Mary changed her mind and now wants more eggs."
   ]
  },
  {
   "cell_type": "code",
   "execution_count": 36,
   "id": "9266d6e5",
   "metadata": {},
   "outputs": [
    {
     "data": {
      "text/plain": [
       "Breakfast(eggs=99, bacons=2, pancakes=3, oj=1)"
      ]
     },
     "execution_count": 36,
     "metadata": {},
     "output_type": "execute_result"
    }
   ],
   "source": [
    "Mary._replace(eggs=99)"
   ]
  },
  {
   "cell_type": "markdown",
   "id": "9560793f",
   "metadata": {},
   "source": [
    "With <code>_fields</code>, namedtuple can be combined into a new namedtuple. By combining Breakfast and Taste, I made VIP_Breakfast, which has more options, such as temperature, spiciness, and more. "
   ]
  },
  {
   "cell_type": "code",
   "execution_count": 37,
   "id": "d246a691",
   "metadata": {},
   "outputs": [
    {
     "data": {
      "text/plain": [
       "('eggs', 'bacons', 'pancakes', 'oj')"
      ]
     },
     "execution_count": 37,
     "metadata": {},
     "output_type": "execute_result"
    }
   ],
   "source": [
    "Breakfast._fields"
   ]
  },
  {
   "cell_type": "code",
   "execution_count": 38,
   "id": "8ff73338",
   "metadata": {},
   "outputs": [
    {
     "data": {
      "text/plain": [
       "VIP_Breakfast(eggs=1, bacons=3, pancakes=5, oj=7, temperature='hot', spiciness='spicy', sweetness='not sweet', savoriness='very savory')"
      ]
     },
     "execution_count": 38,
     "metadata": {},
     "output_type": "execute_result"
    }
   ],
   "source": [
    "Taste = namedtuple('Taste', 'temperature, spiciness, sweetness, savoriness')\n",
    "VIP_Breakfast = namedtuple('VIP_Breakfast', Breakfast._fields + Taste._fields)\n",
    "Nom = VIP_Breakfast(1, 3, 5, 7, 'hot', 'spicy', 'not sweet', 'very savory')\n",
    "Nom"
   ]
  },
  {
   "cell_type": "markdown",
   "id": "e9158b50",
   "metadata": {},
   "source": [
    "Passing defaults when initiating namedtuple sets defaults values starting from the farthest right parameters. By providing defaults with an array length of four, default values are set for Taste. It is possible to override default values by providing right positional argument or keyword argument."
   ]
  },
  {
   "cell_type": "code",
   "execution_count": 39,
   "id": "d4dcb293",
   "metadata": {},
   "outputs": [
    {
     "data": {
      "text/plain": [
       "VIP_Breakfast(eggs=1, bacons=3, pancakes=5, oj=7, temperature='cold', spiciness='regular', sweetness='semi-sweet', savoriness='not savory')"
      ]
     },
     "execution_count": 39,
     "metadata": {},
     "output_type": "execute_result"
    }
   ],
   "source": [
    "Taste = namedtuple('Taste', 'temperature, spiciness, sweetness, savoriness')\n",
    "VIP_Breakfast = namedtuple('VIP_Breakfast', \n",
    "                           Breakfast._fields + Taste._fields,\n",
    "                           defaults=['hot', 'regular', 'semi-sweet', 'savory'])\n",
    "Nom = VIP_Breakfast(1, 3, 5, 7, 'cold', savoriness='not savory')\n",
    "Nom"
   ]
  },
  {
   "cell_type": "markdown",
   "id": "85431492",
   "metadata": {},
   "source": [
    "Using <code>_field_defaults</code>, it is easy to check the default values."
   ]
  },
  {
   "cell_type": "code",
   "execution_count": 40,
   "id": "6509245c",
   "metadata": {},
   "outputs": [
    {
     "data": {
      "text/plain": [
       "{'temperature': 'hot',\n",
       " 'spiciness': 'regular',\n",
       " 'sweetness': 'semi-sweet',\n",
       " 'savoriness': 'savory'}"
      ]
     },
     "execution_count": 40,
     "metadata": {},
     "output_type": "execute_result"
    }
   ],
   "source": [
    "Nom._field_defaults"
   ]
  },
  {
   "cell_type": "markdown",
   "id": "8e78388f",
   "metadata": {},
   "source": [
    "Using getattr is another way to get the field of namedtuple."
   ]
  },
  {
   "cell_type": "code",
   "execution_count": 41,
   "id": "77b4ff9a",
   "metadata": {},
   "outputs": [
    {
     "data": {
      "text/plain": [
       "7"
      ]
     },
     "execution_count": 41,
     "metadata": {},
     "output_type": "execute_result"
    }
   ],
   "source": [
    "getattr(Nom, 'oj')"
   ]
  },
  {
   "cell_type": "markdown",
   "id": "6d0ea3f1",
   "metadata": {},
   "source": [
    "If a server wrote the order with a dictionary format, it is no problem. Namedtuple can be initialized with double stars."
   ]
  },
  {
   "cell_type": "code",
   "execution_count": 42,
   "id": "0ea73876",
   "metadata": {},
   "outputs": [
    {
     "data": {
      "text/plain": [
       "VIP_Breakfast(eggs=2, bacons=3, pancakes=9, oj=1, temperature='hot', spiciness='regular', sweetness='semi-sweet', savoriness='savory')"
      ]
     },
     "execution_count": 42,
     "metadata": {},
     "output_type": "execute_result"
    }
   ],
   "source": [
    "VIP_order = {'eggs': 2, 'bacons': 3, 'pancakes': 9, 'oj': 1}\n",
    "Nom = VIP_Breakfast(**VIP_order)\n",
    "Nom"
   ]
  },
  {
   "cell_type": "markdown",
   "id": "bfbbc260",
   "metadata": {
    "heading_collapsed": true
   },
   "source": [
    "#### Deque"
   ]
  },
  {
   "cell_type": "markdown",
   "id": "35c5fee3",
   "metadata": {
    "hidden": true
   },
   "source": [
    "Pronounced as \"deck,\" deque is used to work on only certain number of elements. For example, it is used for saving last five visits in history or saving last couple lines of a file. Another usage is inserting and popping elements in the beginning of the deque. "
   ]
  },
  {
   "cell_type": "code",
   "execution_count": 27,
   "id": "ac04d36e",
   "metadata": {
    "hidden": true
   },
   "outputs": [
    {
     "data": {
      "text/plain": [
       "deque(['a', 'b', 'c'])"
      ]
     },
     "execution_count": 27,
     "metadata": {},
     "output_type": "execute_result"
    }
   ],
   "source": [
    "d = deque('abc', 3)\n",
    "d"
   ]
  },
  {
   "cell_type": "code",
   "execution_count": 28,
   "id": "cc7a41f2",
   "metadata": {
    "hidden": true
   },
   "outputs": [
    {
     "data": {
      "text/plain": [
       "deque(['b', 'c', 'd'])"
      ]
     },
     "execution_count": 28,
     "metadata": {},
     "output_type": "execute_result"
    }
   ],
   "source": [
    "d.append('d')\n",
    "d"
   ]
  },
  {
   "cell_type": "code",
   "execution_count": 29,
   "id": "14d7b037",
   "metadata": {
    "hidden": true
   },
   "outputs": [
    {
     "data": {
      "text/plain": [
       "deque(['1', 'b', 'c'])"
      ]
     },
     "execution_count": 29,
     "metadata": {},
     "output_type": "execute_result"
    }
   ],
   "source": [
    "d.appendleft('1')\n",
    "d"
   ]
  },
  {
   "cell_type": "code",
   "execution_count": 30,
   "id": "142a0258",
   "metadata": {
    "hidden": true
   },
   "outputs": [
    {
     "data": {
      "text/plain": [
       "deque(['c', 'd', 'e'])"
      ]
     },
     "execution_count": 30,
     "metadata": {},
     "output_type": "execute_result"
    }
   ],
   "source": [
    "d.extend(['d', 'e'])\n",
    "d"
   ]
  },
  {
   "cell_type": "code",
   "execution_count": 31,
   "id": "09063089",
   "metadata": {
    "hidden": true
   },
   "outputs": [
    {
     "data": {
      "text/plain": [
       "deque([1, 0, 'c'])"
      ]
     },
     "execution_count": 31,
     "metadata": {},
     "output_type": "execute_result"
    }
   ],
   "source": [
    "# Extendleft's arguments are inserted in a reversed order.\n",
    "d.extendleft([0, 1])\n",
    "d"
   ]
  },
  {
   "cell_type": "code",
   "execution_count": 32,
   "id": "61896c82",
   "metadata": {
    "hidden": true
   },
   "outputs": [
    {
     "data": {
      "text/plain": [
       "1"
      ]
     },
     "execution_count": 32,
     "metadata": {},
     "output_type": "execute_result"
    }
   ],
   "source": [
    "d.index(0)"
   ]
  },
  {
   "cell_type": "code",
   "execution_count": 33,
   "id": "4d2108c4",
   "metadata": {
    "hidden": true
   },
   "outputs": [
    {
     "data": {
      "text/plain": [
       "'c'"
      ]
     },
     "execution_count": 33,
     "metadata": {},
     "output_type": "execute_result"
    }
   ],
   "source": [
    "d.pop()"
   ]
  },
  {
   "cell_type": "code",
   "execution_count": 34,
   "id": "3a873923",
   "metadata": {
    "hidden": true
   },
   "outputs": [
    {
     "data": {
      "text/plain": [
       "1"
      ]
     },
     "execution_count": 34,
     "metadata": {},
     "output_type": "execute_result"
    }
   ],
   "source": [
    "d.popleft()"
   ]
  },
  {
   "cell_type": "code",
   "execution_count": 35,
   "id": "e41539d3",
   "metadata": {
    "hidden": true
   },
   "outputs": [
    {
     "data": {
      "text/plain": [
       "deque([0])"
      ]
     },
     "execution_count": 35,
     "metadata": {},
     "output_type": "execute_result"
    }
   ],
   "source": [
    "d"
   ]
  },
  {
   "cell_type": "code",
   "execution_count": 36,
   "id": "b266cab4",
   "metadata": {
    "hidden": true
   },
   "outputs": [
    {
     "data": {
      "text/plain": [
       "deque([])"
      ]
     },
     "execution_count": 36,
     "metadata": {},
     "output_type": "execute_result"
    }
   ],
   "source": [
    "d.remove(0)\n",
    "d"
   ]
  },
  {
   "cell_type": "code",
   "execution_count": 38,
   "id": "a2fa0141",
   "metadata": {
    "hidden": true
   },
   "outputs": [
    {
     "data": {
      "text/plain": [
       "deque([0, 1, 2])"
      ]
     },
     "execution_count": 38,
     "metadata": {},
     "output_type": "execute_result"
    }
   ],
   "source": [
    "d.extend([0,1,2])\n",
    "d"
   ]
  },
  {
   "cell_type": "code",
   "execution_count": 41,
   "id": "fb83c3b9",
   "metadata": {
    "hidden": true
   },
   "outputs": [
    {
     "data": {
      "text/plain": [
       "deque([2, 1, 0])"
      ]
     },
     "execution_count": 41,
     "metadata": {},
     "output_type": "execute_result"
    }
   ],
   "source": [
    "d.reverse()\n",
    "d"
   ]
  },
  {
   "cell_type": "code",
   "execution_count": 43,
   "id": "d8ce29dc",
   "metadata": {
    "hidden": true
   },
   "outputs": [
    {
     "ename": "IndexError",
     "evalue": "deque already at its maximum size",
     "output_type": "error",
     "traceback": [
      "\u001b[0;31m---------------------------------------------------------------------------\u001b[0m",
      "\u001b[0;31mIndexError\u001b[0m                                Traceback (most recent call last)",
      "Input \u001b[0;32mIn [43]\u001b[0m, in \u001b[0;36m<cell line: 2>\u001b[0;34m()\u001b[0m\n\u001b[1;32m      1\u001b[0m \u001b[38;5;66;03m# cannot insert when it is full\u001b[39;00m\n\u001b[0;32m----> 2\u001b[0m \u001b[43md\u001b[49m\u001b[38;5;241;43m.\u001b[39;49m\u001b[43minsert\u001b[49m\u001b[43m(\u001b[49m\u001b[38;5;241;43m1\u001b[39;49m\u001b[43m,\u001b[49m\u001b[43m \u001b[49m\u001b[38;5;241;43m7\u001b[39;49m\u001b[43m)\u001b[49m\n\u001b[1;32m      3\u001b[0m d\n",
      "\u001b[0;31mIndexError\u001b[0m: deque already at its maximum size"
     ]
    }
   ],
   "source": [
    "# cannot insert when it is full\n",
    "d.insert(1, 7)\n",
    "d"
   ]
  },
  {
   "cell_type": "code",
   "execution_count": 47,
   "id": "2a292681",
   "metadata": {
    "hidden": true
   },
   "outputs": [
    {
     "data": {
      "text/plain": [
       "deque([0, 2, 1])"
      ]
     },
     "execution_count": 47,
     "metadata": {},
     "output_type": "execute_result"
    }
   ],
   "source": [
    "d.rotate()\n",
    "d"
   ]
  },
  {
   "cell_type": "code",
   "execution_count": 49,
   "id": "7b9f4083",
   "metadata": {
    "hidden": true
   },
   "outputs": [
    {
     "data": {
      "text/plain": [
       "deque([1, 0, 2])"
      ]
     },
     "execution_count": 49,
     "metadata": {},
     "output_type": "execute_result"
    }
   ],
   "source": [
    "d.rotate(-1)\n",
    "d"
   ]
  },
  {
   "cell_type": "code",
   "execution_count": 50,
   "id": "69ec005b",
   "metadata": {
    "hidden": true
   },
   "outputs": [
    {
     "data": {
      "text/plain": [
       "3"
      ]
     },
     "execution_count": 50,
     "metadata": {},
     "output_type": "execute_result"
    }
   ],
   "source": [
    "d.maxlen"
   ]
  },
  {
   "cell_type": "code",
   "execution_count": 51,
   "id": "b0b87b45",
   "metadata": {
    "hidden": true
   },
   "outputs": [
    {
     "data": {
      "text/plain": [
       "deque([])"
      ]
     },
     "execution_count": 51,
     "metadata": {},
     "output_type": "execute_result"
    }
   ],
   "source": [
    "d.clear()\n",
    "d"
   ]
  },
  {
   "cell_type": "markdown",
   "id": "04a8ccad",
   "metadata": {
    "hidden": true
   },
   "source": [
    "It is very similar to list, except that it has a fixed size, and it can accept elements in the beginning efficiently."
   ]
  },
  {
   "cell_type": "code",
   "execution_count": 52,
   "id": "7d1d68dd",
   "metadata": {
    "hidden": true
   },
   "outputs": [
    {
     "data": {
      "text/plain": [
       "deque([7, 8, 9])"
      ]
     },
     "execution_count": 52,
     "metadata": {},
     "output_type": "execute_result"
    }
   ],
   "source": [
    "# Just more exmaples.\n",
    "# last 3 numbers of data can be achieved like this\n",
    "for i in range(10):\n",
    "    d.append(i)\n",
    "d"
   ]
  },
  {
   "cell_type": "markdown",
   "id": "854c24c4",
   "metadata": {
    "hidden": true
   },
   "source": [
    "Deque can also be used for grabbing last 5 lines of file or getting moving averages. "
   ]
  },
  {
   "cell_type": "markdown",
   "id": "2f87a557",
   "metadata": {
    "heading_collapsed": true
   },
   "source": [
    "### Itertools"
   ]
  },
  {
   "cell_type": "markdown",
   "id": "6d598552",
   "metadata": {
    "heading_collapsed": true,
    "hidden": true
   },
   "source": [
    "#### Permutations"
   ]
  },
  {
   "cell_type": "markdown",
   "id": "42f0d2ed",
   "metadata": {
    "hidden": true
   },
   "source": [
    "Permutations function simply return permutations. It can be used for cases where order matters, and there is no overlap. For example, making a sequence of music notes with given possible notes without overlap is an example of using permutations."
   ]
  },
  {
   "cell_type": "code",
   "execution_count": 249,
   "id": "4a28d22e",
   "metadata": {
    "hidden": true
   },
   "outputs": [
    {
     "data": {
      "text/plain": [
       "[('A', 'B'), ('A', 'C'), ('B', 'A'), ('B', 'C'), ('C', 'A'), ('C', 'B')]"
      ]
     },
     "execution_count": 249,
     "metadata": {},
     "output_type": "execute_result"
    }
   ],
   "source": [
    "list(permutations('ABC', 2))"
   ]
  },
  {
   "cell_type": "markdown",
   "id": "ee0f465d",
   "metadata": {
    "hidden": true
   },
   "source": [
    "Here is my implementation that returns a list. However, itertools version returns a generator. "
   ]
  },
  {
   "cell_type": "code",
   "execution_count": 240,
   "id": "d3d1f37f",
   "metadata": {
    "hidden": true
   },
   "outputs": [],
   "source": [
    "def our_permutations(iterable, num=None):\n",
    "    \"\"\"Return a list of permutations.\"\"\"\n",
    "    length = len(iterable)\n",
    "    num = length if num is None else num\n",
    "    if num > length:\n",
    "        return []\n",
    "    elif num == 0:\n",
    "        return [()]\n",
    "    else:\n",
    "        result = []\n",
    "        for i in range(length):\n",
    "            rest = tuple(our_permutations(iterable[0:i] + iterable[i+1:], num - 1))\n",
    "            for j in range(len(rest)):\n",
    "                result.append(tuple(iterable[i]) + rest[j])\n",
    "        return result"
   ]
  },
  {
   "cell_type": "code",
   "execution_count": 243,
   "id": "a3a0286b",
   "metadata": {
    "hidden": true
   },
   "outputs": [
    {
     "data": {
      "text/plain": [
       "[('B',), ('C',)]"
      ]
     },
     "execution_count": 243,
     "metadata": {},
     "output_type": "execute_result"
    }
   ],
   "source": [
    "our_permutations('BC', 1)"
   ]
  },
  {
   "cell_type": "code",
   "execution_count": 244,
   "id": "959c009f",
   "metadata": {
    "hidden": true
   },
   "outputs": [
    {
     "data": {
      "text/plain": [
       "[('A', 'B', 'C', 'D'),\n",
       " ('A', 'B', 'D', 'C'),\n",
       " ('A', 'C', 'B', 'D'),\n",
       " ('A', 'C', 'D', 'B'),\n",
       " ('A', 'D', 'B', 'C'),\n",
       " ('A', 'D', 'C', 'B'),\n",
       " ('B', 'A', 'C', 'D'),\n",
       " ('B', 'A', 'D', 'C'),\n",
       " ('B', 'C', 'A', 'D'),\n",
       " ('B', 'C', 'D', 'A'),\n",
       " ('B', 'D', 'A', 'C'),\n",
       " ('B', 'D', 'C', 'A'),\n",
       " ('C', 'A', 'B', 'D'),\n",
       " ('C', 'A', 'D', 'B'),\n",
       " ('C', 'B', 'A', 'D'),\n",
       " ('C', 'B', 'D', 'A'),\n",
       " ('C', 'D', 'A', 'B'),\n",
       " ('C', 'D', 'B', 'A'),\n",
       " ('D', 'A', 'B', 'C'),\n",
       " ('D', 'A', 'C', 'B'),\n",
       " ('D', 'B', 'A', 'C'),\n",
       " ('D', 'B', 'C', 'A'),\n",
       " ('D', 'C', 'A', 'B'),\n",
       " ('D', 'C', 'B', 'A')]"
      ]
     },
     "execution_count": 244,
     "metadata": {},
     "output_type": "execute_result"
    }
   ],
   "source": [
    "our_permutations('ABCD')"
   ]
  },
  {
   "cell_type": "code",
   "execution_count": 205,
   "id": "56173438",
   "metadata": {
    "hidden": true
   },
   "outputs": [
    {
     "data": {
      "text/plain": [
       "[('A', 'B'),\n",
       " ('A', 'C'),\n",
       " ('A', 'D'),\n",
       " ('B', 'A'),\n",
       " ('B', 'C'),\n",
       " ('B', 'D'),\n",
       " ('C', 'A'),\n",
       " ('C', 'B'),\n",
       " ('C', 'D'),\n",
       " ('D', 'A'),\n",
       " ('D', 'B'),\n",
       " ('D', 'C')]"
      ]
     },
     "execution_count": 205,
     "metadata": {},
     "output_type": "execute_result"
    }
   ],
   "source": [
    "our_permutations('ABCD', 2)"
   ]
  },
  {
   "cell_type": "markdown",
   "id": "35a34116",
   "metadata": {
    "hidden": true
   },
   "source": [
    "And this is from python documentation. "
   ]
  },
  {
   "cell_type": "code",
   "execution_count": 171,
   "id": "8d111583",
   "metadata": {
    "hidden": true
   },
   "outputs": [],
   "source": [
    "def permutations(iterable, r=None):\n",
    "    # permutations('ABCD', 2) --> AB AC AD BA BC BD CA CB CD DA DB DC\n",
    "    # permutations(range(3)) --> 012 021 102 120 201 210\n",
    "    pool = tuple(iterable) # ('A', 'B', 'C', 'D')\n",
    "    n = len(pool) # 4\n",
    "    r = n if r is None else r # 2\n",
    "    if r > n:\n",
    "        return\n",
    "    indices = list(range(n)) # [0, 1, 2, 3]\n",
    "    cycles = list(range(n, n-r, -1)) # [1, 0]\n",
    "    yield tuple(pool[i] for i in indices[:r]) # tuple(pool[i] for i in [0, 1]) -> ('A', 'B')\n",
    "    while n: # 4\n",
    "        for i in reversed(range(r)): # i in reversed(range(2)) -> 1, 0\n",
    "            cycles[i] -= 1 # -1, 0\n",
    "            if cycles[i] == 0: \n",
    "                indices[i:] = indices[i+1:] + indices[i:i+1] \n",
    "                # indices[1:] = indices[2:] + indices[1:2]\n",
    "                # [1,2,3] = [2,3] + [1]\n",
    "                cycles[i] = n - i # cycles[0] = 4\n",
    "            else: # i: 1\n",
    "                j = cycles[i] # j: -1\n",
    "                indices[i], indices[-j] = indices[-j], indices[i] # 1, 1 = 1, 1\n",
    "                yield tuple(pool[i] for i in indices[:r]) \n",
    "                # tuple(pool[i] for i in [0, 1]) -> ('A', 'B')\n",
    "                break\n",
    "        else:\n",
    "            return"
   ]
  },
  {
   "cell_type": "code",
   "execution_count": 172,
   "id": "895a900d",
   "metadata": {
    "hidden": true
   },
   "outputs": [
    {
     "data": {
      "text/plain": [
       "<generator object permutations at 0x7f31ab408350>"
      ]
     },
     "execution_count": 172,
     "metadata": {},
     "output_type": "execute_result"
    }
   ],
   "source": [
    "permutations('ABC', 5)"
   ]
  },
  {
   "cell_type": "markdown",
   "id": "dd7982e4",
   "metadata": {
    "heading_collapsed": true,
    "hidden": true
   },
   "source": [
    "#### Combinations"
   ]
  },
  {
   "cell_type": "markdown",
   "id": "5c212ffd",
   "metadata": {
    "hidden": true
   },
   "source": [
    "Similar to permutations, it returns combinations. "
   ]
  },
  {
   "cell_type": "code",
   "execution_count": 44,
   "id": "e8ab6dfd",
   "metadata": {
    "hidden": true
   },
   "outputs": [
    {
     "data": {
      "text/plain": [
       "[('A', 'B', 'C'), ('A', 'B', 'D'), ('A', 'C', 'D'), ('B', 'C', 'D')]"
      ]
     },
     "execution_count": 44,
     "metadata": {},
     "output_type": "execute_result"
    }
   ],
   "source": [
    "list(combinations('ABCD', 3))"
   ]
  },
  {
   "cell_type": "markdown",
   "id": "6a11b672",
   "metadata": {
    "hidden": true
   },
   "source": [
    "Here is combinations that I wrote similar to our_permutations. "
   ]
  },
  {
   "cell_type": "code",
   "execution_count": 40,
   "id": "17ff3220",
   "metadata": {
    "hidden": true
   },
   "outputs": [],
   "source": [
    "def our_combinations(iterable, num=None):\n",
    "    \"\"\"Return a list of combinations.\"\"\"\n",
    "    length = len(iterable)\n",
    "    num = length if num is None else num\n",
    "    if num > length:\n",
    "        return []\n",
    "    elif num == 0:\n",
    "        return [()]\n",
    "    else:\n",
    "        result = []\n",
    "        for i in range(length - num + 1):\n",
    "            rest = tuple(our_combinations(iterable[i+1:], num - 1))\n",
    "                result.append(tuple(iterable[i]) + rest[j])\n",
    "        return result"
   ]
  },
  {
   "cell_type": "code",
   "execution_count": 45,
   "id": "2cb0d7d4",
   "metadata": {
    "hidden": true
   },
   "outputs": [
    {
     "data": {
      "text/plain": [
       "[('A', 'B', 'C'), ('A', 'B', 'D'), ('A', 'C', 'D'), ('B', 'C', 'D')]"
      ]
     },
     "execution_count": 45,
     "metadata": {},
     "output_type": "execute_result"
    }
   ],
   "source": [
    "our_combinations('ABCD', 3)"
   ]
  },
  {
   "cell_type": "markdown",
   "id": "60a30571",
   "metadata": {
    "hidden": true
   },
   "source": [
    "In python <a href=\"https://docs.python.org/3/library/itertools.html#itertools.combinations\">documentation</a>, combinations is written in terms of permutations. It uses permutations to create all the possible indices of making permutations. Then it checks whether the set of indices matches the sorted indices. Although it is an interesting way to implement combinations, it is not very efficient. "
   ]
  },
  {
   "cell_type": "code",
   "execution_count": null,
   "id": "f7d75853",
   "metadata": {
    "hidden": true
   },
   "outputs": [],
   "source": [
    "def p_combinations(iterable, r):\n",
    "    pool = tuple(iterable)\n",
    "    n = len(pool)\n",
    "    for indices in permutations(range(n), r):\n",
    "        if sorted(indices) == list(indices):\n",
    "            yield tuple(pool[i] for i in indices)"
   ]
  },
  {
   "cell_type": "markdown",
   "id": "6d50b0d6",
   "metadata": {
    "heading_collapsed": true,
    "hidden": true
   },
   "source": [
    "#### Chain"
   ]
  },
  {
   "cell_type": "markdown",
   "id": "d54cc1da",
   "metadata": {
    "hidden": true
   },
   "source": [
    "Chain is used to put multiple iterables together. "
   ]
  },
  {
   "cell_type": "code",
   "execution_count": 3,
   "id": "eb14a46b",
   "metadata": {
    "hidden": true
   },
   "outputs": [
    {
     "name": "stdout",
     "output_type": "stream",
     "text": [
      "a\n",
      "b\n",
      "c\n",
      "d\n",
      "e\n",
      "f\n"
     ]
    }
   ],
   "source": [
    "l1 = ['a', 'b', 'c']\n",
    "l2 = ['d', 'e', 'f']\n",
    "for element in chain(l1, l2):\n",
    "    print(element)"
   ]
  },
  {
   "cell_type": "markdown",
   "id": "e1e26391",
   "metadata": {
    "hidden": true
   },
   "source": [
    "I wonder whether using chain is faster than just using + with lists."
   ]
  },
  {
   "cell_type": "code",
   "execution_count": 4,
   "id": "e76e9be8",
   "metadata": {
    "hidden": true
   },
   "outputs": [],
   "source": [
    "long_lst = list(range(10000))\n",
    "long_lst2 = list(range(10000, 20000))"
   ]
  },
  {
   "cell_type": "code",
   "execution_count": 5,
   "id": "9f1eab21",
   "metadata": {
    "hidden": true
   },
   "outputs": [
    {
     "name": "stdout",
     "output_type": "stream",
     "text": [
      "830 µs ± 4.67 µs per loop (mean ± std. dev. of 7 runs, 1,000 loops each)\n"
     ]
    }
   ],
   "source": [
    "%timeit [x for x in long_lst+long_lst2]"
   ]
  },
  {
   "cell_type": "code",
   "execution_count": 6,
   "id": "8b82fbbf",
   "metadata": {
    "hidden": true
   },
   "outputs": [
    {
     "name": "stdout",
     "output_type": "stream",
     "text": [
      "792 µs ± 7.63 µs per loop (mean ± std. dev. of 7 runs, 1,000 loops each)\n"
     ]
    }
   ],
   "source": [
    "%timeit [x for x in chain(long_lst, long_lst2)]"
   ]
  },
  {
   "cell_type": "markdown",
   "id": "61817f4f",
   "metadata": {
    "hidden": true
   },
   "source": [
    "So, using chain is slighly faster than simply using +. How about using more + vs. chain?"
   ]
  },
  {
   "cell_type": "code",
   "execution_count": 7,
   "id": "f03f1624",
   "metadata": {
    "hidden": true
   },
   "outputs": [
    {
     "name": "stdout",
     "output_type": "stream",
     "text": [
      "2.16 ms ± 45 µs per loop (mean ± std. dev. of 7 runs, 100 loops each)\n"
     ]
    }
   ],
   "source": [
    "%timeit [x for x in long_lst+long_lst2+long_lst+long_lst2]"
   ]
  },
  {
   "cell_type": "code",
   "execution_count": 8,
   "id": "38cb6bab",
   "metadata": {
    "hidden": true
   },
   "outputs": [
    {
     "name": "stdout",
     "output_type": "stream",
     "text": [
      "1.59 ms ± 6.83 µs per loop (mean ± std. dev. of 7 runs, 1,000 loops each)\n"
     ]
    }
   ],
   "source": [
    "%timeit [x for x in chain(long_lst,long_lst2,long_lst,long_lst2)]"
   ]
  },
  {
   "cell_type": "markdown",
   "id": "f97c72d9",
   "metadata": {
    "hidden": true
   },
   "source": [
    "Using more chain is more efficient than +."
   ]
  },
  {
   "cell_type": "markdown",
   "id": "13fb5567",
   "metadata": {
    "heading_collapsed": true,
    "hidden": true
   },
   "source": [
    "#### Count"
   ]
  },
  {
   "cell_type": "markdown",
   "id": "9e2d6ef4",
   "metadata": {
    "hidden": true
   },
   "source": [
    "Even though it is count, it is imported as count_from here. It simply counts from a given input. "
   ]
  },
  {
   "cell_type": "code",
   "execution_count": 13,
   "id": "c1502e6e",
   "metadata": {
    "hidden": true
   },
   "outputs": [
    {
     "data": {
      "text/plain": [
       "[('a', 1), ('b', 2), ('c', 3), ('d', 4)]"
      ]
     },
     "execution_count": 13,
     "metadata": {},
     "output_type": "execute_result"
    }
   ],
   "source": [
    "list(zip(['a', 'b', 'c', 'd'], count_from(1)))"
   ]
  },
  {
   "cell_type": "code",
   "execution_count": 2,
   "id": "f591bfed",
   "metadata": {
    "hidden": true
   },
   "outputs": [
    {
     "data": {
      "text/plain": [
       "[('a', 1), ('c', 3), ('e', 5), ('g', 7)]"
      ]
     },
     "execution_count": 2,
     "metadata": {},
     "output_type": "execute_result"
    }
   ],
   "source": [
    "list(zip(['a', 'c', 'e', 'g'], count_from(1, 2)))"
   ]
  },
  {
   "cell_type": "markdown",
   "id": "54a9b799",
   "metadata": {
    "hidden": true
   },
   "source": [
    "Different from <code>range</code>, count_from does not take the end limit. "
   ]
  },
  {
   "cell_type": "markdown",
   "id": "6c6b1ac4",
   "metadata": {
    "heading_collapsed": true,
    "hidden": true
   },
   "source": [
    "#### Product"
   ]
  },
  {
   "cell_type": "markdown",
   "id": "99d6e5b8",
   "metadata": {
    "hidden": true
   },
   "source": [
    "It is basically nested for loops. "
   ]
  },
  {
   "cell_type": "code",
   "execution_count": 50,
   "id": "43474bd4",
   "metadata": {
    "hidden": true
   },
   "outputs": [
    {
     "data": {
      "text/plain": [
       "[('A',), ('B',), ('C',), ('D',)]"
      ]
     },
     "execution_count": 50,
     "metadata": {},
     "output_type": "execute_result"
    }
   ],
   "source": [
    "list(cross_product('ABCD', repeat=1))"
   ]
  },
  {
   "cell_type": "code",
   "execution_count": 49,
   "id": "1d4c3c7e",
   "metadata": {
    "hidden": true
   },
   "outputs": [
    {
     "data": {
      "text/plain": [
       "[('A', 'A'),\n",
       " ('A', 'B'),\n",
       " ('A', 'C'),\n",
       " ('A', 'D'),\n",
       " ('B', 'A'),\n",
       " ('B', 'B'),\n",
       " ('B', 'C'),\n",
       " ('B', 'D'),\n",
       " ('C', 'A'),\n",
       " ('C', 'B'),\n",
       " ('C', 'C'),\n",
       " ('C', 'D'),\n",
       " ('D', 'A'),\n",
       " ('D', 'B'),\n",
       " ('D', 'C'),\n",
       " ('D', 'D')]"
      ]
     },
     "execution_count": 49,
     "metadata": {},
     "output_type": "execute_result"
    }
   ],
   "source": [
    "list(cross_product('ABCD', repeat=2))"
   ]
  },
  {
   "cell_type": "code",
   "execution_count": 51,
   "id": "8b808a9c",
   "metadata": {
    "hidden": true
   },
   "outputs": [
    {
     "data": {
      "text/plain": [
       "[('A', 'A', 'A'),\n",
       " ('A', 'A', 'B'),\n",
       " ('A', 'A', 'C'),\n",
       " ('A', 'A', 'D'),\n",
       " ('A', 'B', 'A'),\n",
       " ('A', 'B', 'B'),\n",
       " ('A', 'B', 'C'),\n",
       " ('A', 'B', 'D'),\n",
       " ('A', 'C', 'A'),\n",
       " ('A', 'C', 'B'),\n",
       " ('A', 'C', 'C'),\n",
       " ('A', 'C', 'D'),\n",
       " ('A', 'D', 'A'),\n",
       " ('A', 'D', 'B'),\n",
       " ('A', 'D', 'C'),\n",
       " ('A', 'D', 'D'),\n",
       " ('B', 'A', 'A'),\n",
       " ('B', 'A', 'B'),\n",
       " ('B', 'A', 'C'),\n",
       " ('B', 'A', 'D'),\n",
       " ('B', 'B', 'A'),\n",
       " ('B', 'B', 'B'),\n",
       " ('B', 'B', 'C'),\n",
       " ('B', 'B', 'D'),\n",
       " ('B', 'C', 'A'),\n",
       " ('B', 'C', 'B'),\n",
       " ('B', 'C', 'C'),\n",
       " ('B', 'C', 'D'),\n",
       " ('B', 'D', 'A'),\n",
       " ('B', 'D', 'B'),\n",
       " ('B', 'D', 'C'),\n",
       " ('B', 'D', 'D'),\n",
       " ('C', 'A', 'A'),\n",
       " ('C', 'A', 'B'),\n",
       " ('C', 'A', 'C'),\n",
       " ('C', 'A', 'D'),\n",
       " ('C', 'B', 'A'),\n",
       " ('C', 'B', 'B'),\n",
       " ('C', 'B', 'C'),\n",
       " ('C', 'B', 'D'),\n",
       " ('C', 'C', 'A'),\n",
       " ('C', 'C', 'B'),\n",
       " ('C', 'C', 'C'),\n",
       " ('C', 'C', 'D'),\n",
       " ('C', 'D', 'A'),\n",
       " ('C', 'D', 'B'),\n",
       " ('C', 'D', 'C'),\n",
       " ('C', 'D', 'D'),\n",
       " ('D', 'A', 'A'),\n",
       " ('D', 'A', 'B'),\n",
       " ('D', 'A', 'C'),\n",
       " ('D', 'A', 'D'),\n",
       " ('D', 'B', 'A'),\n",
       " ('D', 'B', 'B'),\n",
       " ('D', 'B', 'C'),\n",
       " ('D', 'B', 'D'),\n",
       " ('D', 'C', 'A'),\n",
       " ('D', 'C', 'B'),\n",
       " ('D', 'C', 'C'),\n",
       " ('D', 'C', 'D'),\n",
       " ('D', 'D', 'A'),\n",
       " ('D', 'D', 'B'),\n",
       " ('D', 'D', 'C'),\n",
       " ('D', 'D', 'D')]"
      ]
     },
     "execution_count": 51,
     "metadata": {},
     "output_type": "execute_result"
    }
   ],
   "source": [
    "list(cross_product('ABCD', repeat=3))"
   ]
  },
  {
   "cell_type": "code",
   "execution_count": 52,
   "id": "bd9a7d69",
   "metadata": {
    "hidden": true
   },
   "outputs": [],
   "source": [
    "# A demostration version from python documentation\n",
    "def product(*args, repeat=1):\n",
    "    # product('ABCD', 'xy') --> Ax Ay Bx By Cx Cy Dx Dy\n",
    "    # product(range(2), repeat=3) --> 000 001 010 011 100 101 110 111\n",
    "    pools = [tuple(pool) for pool in args] * repeat\n",
    "    result = [[]]\n",
    "    for pool in pools:\n",
    "        result = [x+[y] for x in result for y in pool]\n",
    "    for prod in result:\n",
    "        yield tuple(prod)"
   ]
  },
  {
   "cell_type": "markdown",
   "id": "6b69c9ba",
   "metadata": {
    "heading_collapsed": true
   },
   "source": [
    "### Typing"
   ]
  },
  {
   "cell_type": "markdown",
   "id": "b4321a25",
   "metadata": {
    "hidden": true
   },
   "source": [
    "Skip typing for now."
   ]
  },
  {
   "cell_type": "markdown",
   "id": "c63d56f8",
   "metadata": {
    "heading_collapsed": true
   },
   "source": [
    "### Statistics"
   ]
  },
  {
   "cell_type": "markdown",
   "id": "dbbd46a0",
   "metadata": {
    "heading_collapsed": true,
    "hidden": true
   },
   "source": [
    "#### Mean"
   ]
  },
  {
   "cell_type": "markdown",
   "id": "a73d93ed",
   "metadata": {
    "hidden": true
   },
   "source": [
    "It is also called average. "
   ]
  },
  {
   "cell_type": "code",
   "execution_count": 57,
   "id": "0499f1f2",
   "metadata": {
    "hidden": true
   },
   "outputs": [
    {
     "data": {
      "text/plain": [
       "5"
      ]
     },
     "execution_count": 57,
     "metadata": {},
     "output_type": "execute_result"
    }
   ],
   "source": [
    "# Average of numbers from 0 to 10\n",
    "mean(range(11))"
   ]
  },
  {
   "cell_type": "code",
   "execution_count": 58,
   "id": "cdf2a3bb",
   "metadata": {
    "hidden": true
   },
   "outputs": [
    {
     "data": {
      "text/plain": [
       "50"
      ]
     },
     "execution_count": 58,
     "metadata": {},
     "output_type": "execute_result"
    }
   ],
   "source": [
    "mean(range(101))"
   ]
  },
  {
   "cell_type": "code",
   "execution_count": 61,
   "id": "dd891f44",
   "metadata": {
    "hidden": true
   },
   "outputs": [
    {
     "data": {
      "text/plain": [
       "8"
      ]
     },
     "execution_count": 61,
     "metadata": {},
     "output_type": "execute_result"
    }
   ],
   "source": [
    "mean([0, 10, 10, 10, 10])"
   ]
  },
  {
   "cell_type": "markdown",
   "id": "6d896c16",
   "metadata": {
    "heading_collapsed": true,
    "hidden": true
   },
   "source": [
    "#### Median"
   ]
  },
  {
   "cell_type": "markdown",
   "id": "323e4821",
   "metadata": {
    "hidden": true
   },
   "source": [
    "Median is a center value of data. If there are even number of data, it is average of two middle ones."
   ]
  },
  {
   "cell_type": "code",
   "execution_count": 59,
   "id": "9083b878",
   "metadata": {
    "hidden": true
   },
   "outputs": [
    {
     "data": {
      "text/plain": [
       "5"
      ]
     },
     "execution_count": 59,
     "metadata": {},
     "output_type": "execute_result"
    }
   ],
   "source": [
    "median(range(11))"
   ]
  },
  {
   "cell_type": "code",
   "execution_count": 60,
   "id": "d5166eeb",
   "metadata": {
    "hidden": true
   },
   "outputs": [
    {
     "data": {
      "text/plain": [
       "50"
      ]
     },
     "execution_count": 60,
     "metadata": {},
     "output_type": "execute_result"
    }
   ],
   "source": [
    "median(range(101))"
   ]
  },
  {
   "cell_type": "markdown",
   "id": "efb7618b",
   "metadata": {
    "hidden": true
   },
   "source": [
    "Median is different here."
   ]
  },
  {
   "cell_type": "code",
   "execution_count": 63,
   "id": "53483ce8",
   "metadata": {
    "hidden": true
   },
   "outputs": [
    {
     "data": {
      "text/plain": [
       "10"
      ]
     },
     "execution_count": 63,
     "metadata": {},
     "output_type": "execute_result"
    }
   ],
   "source": [
    "median([0, 10, 10, 10, 10])"
   ]
  },
  {
   "cell_type": "markdown",
   "id": "28bdf57c",
   "metadata": {
    "heading_collapsed": true
   },
   "source": [
    "### Math"
   ]
  },
  {
   "cell_type": "markdown",
   "id": "d21636d3",
   "metadata": {
    "heading_collapsed": true,
    "hidden": true
   },
   "source": [
    "#### ceil"
   ]
  },
  {
   "cell_type": "markdown",
   "id": "590cba08",
   "metadata": {
    "hidden": true
   },
   "source": [
    "It returns a ceiling of a float, and itself if it is an integer. It works with negative numbers as well."
   ]
  },
  {
   "cell_type": "code",
   "execution_count": 64,
   "id": "21259310",
   "metadata": {
    "hidden": true
   },
   "outputs": [
    {
     "data": {
      "text/plain": [
       "1"
      ]
     },
     "execution_count": 64,
     "metadata": {},
     "output_type": "execute_result"
    }
   ],
   "source": [
    "ceil(0.3)"
   ]
  },
  {
   "cell_type": "code",
   "execution_count": 69,
   "id": "4e686376",
   "metadata": {
    "hidden": true
   },
   "outputs": [
    {
     "data": {
      "text/plain": [
       "100"
      ]
     },
     "execution_count": 69,
     "metadata": {},
     "output_type": "execute_result"
    }
   ],
   "source": [
    "ceil(99.9)"
   ]
  },
  {
   "cell_type": "code",
   "execution_count": 65,
   "id": "0f593499",
   "metadata": {
    "hidden": true
   },
   "outputs": [
    {
     "data": {
      "text/plain": [
       "0"
      ]
     },
     "execution_count": 65,
     "metadata": {},
     "output_type": "execute_result"
    }
   ],
   "source": [
    "ceil(-0.3)"
   ]
  },
  {
   "cell_type": "code",
   "execution_count": 68,
   "id": "e4484e31",
   "metadata": {
    "hidden": true
   },
   "outputs": [
    {
     "data": {
      "text/plain": [
       "-10"
      ]
     },
     "execution_count": 68,
     "metadata": {},
     "output_type": "execute_result"
    }
   ],
   "source": [
    "ceil(-10.9)"
   ]
  },
  {
   "cell_type": "code",
   "execution_count": 66,
   "id": "3cf8b3c0",
   "metadata": {
    "hidden": true
   },
   "outputs": [
    {
     "data": {
      "text/plain": [
       "1"
      ]
     },
     "execution_count": 66,
     "metadata": {},
     "output_type": "execute_result"
    }
   ],
   "source": [
    "ceil(1)"
   ]
  },
  {
   "cell_type": "markdown",
   "id": "27cba8be",
   "metadata": {
    "hidden": true
   },
   "source": [
    "#### inf"
   ]
  },
  {
   "cell_type": "markdown",
   "id": "d2e62234",
   "metadata": {
    "hidden": true
   },
   "source": [
    "inf is a constant of infinity. "
   ]
  },
  {
   "cell_type": "code",
   "execution_count": 70,
   "id": "fba65f0c",
   "metadata": {
    "hidden": true
   },
   "outputs": [
    {
     "data": {
      "text/plain": [
       "inf"
      ]
     },
     "execution_count": 70,
     "metadata": {},
     "output_type": "execute_result"
    }
   ],
   "source": [
    "inf"
   ]
  },
  {
   "cell_type": "code",
   "execution_count": 80,
   "id": "571c1490",
   "metadata": {
    "hidden": true
   },
   "outputs": [
    {
     "data": {
      "text/plain": [
       "(inf, inf)"
      ]
     },
     "execution_count": 80,
     "metadata": {},
     "output_type": "execute_result"
    }
   ],
   "source": [
    "# No matter how we try to make it bigger, it is still infinity\n",
    "inf + 10000000, inf ** inf"
   ]
  },
  {
   "cell_type": "code",
   "execution_count": 72,
   "id": "bc9a222c",
   "metadata": {
    "hidden": true
   },
   "outputs": [
    {
     "data": {
      "text/plain": [
       "-inf"
      ]
     },
     "execution_count": 72,
     "metadata": {},
     "output_type": "execute_result"
    }
   ],
   "source": [
    "# Negative version of infinity\n",
    "-inf"
   ]
  },
  {
   "cell_type": "code",
   "execution_count": 73,
   "id": "bb841efb",
   "metadata": {
    "hidden": true
   },
   "outputs": [
    {
     "data": {
      "text/plain": [
       "-inf"
      ]
     },
     "execution_count": 73,
     "metadata": {},
     "output_type": "execute_result"
    }
   ],
   "source": [
    "# Still negative\n",
    "-inf + 10000000"
   ]
  },
  {
   "cell_type": "code",
   "execution_count": 74,
   "id": "30b4ce00",
   "metadata": {
    "hidden": true
   },
   "outputs": [
    {
     "data": {
      "text/plain": [
       "inf"
      ]
     },
     "execution_count": 74,
     "metadata": {},
     "output_type": "execute_result"
    }
   ],
   "source": [
    "# Making negative infinity positive\n",
    "-inf * -inf"
   ]
  },
  {
   "cell_type": "code",
   "execution_count": 83,
   "id": "4320351e",
   "metadata": {
    "hidden": true
   },
   "outputs": [
    {
     "data": {
      "text/plain": [
       "inf"
      ]
     },
     "execution_count": 83,
     "metadata": {},
     "output_type": "execute_result"
    }
   ],
   "source": [
    "# Just too big to be finite, but sign changes\n",
    "-inf * -0.000000001"
   ]
  },
  {
   "cell_type": "code",
   "execution_count": 82,
   "id": "1e3ece7d",
   "metadata": {
    "hidden": true
   },
   "outputs": [
    {
     "data": {
      "text/plain": [
       "inf"
      ]
     },
     "execution_count": 82,
     "metadata": {},
     "output_type": "execute_result"
    }
   ],
   "source": [
    "-inf * -1000"
   ]
  },
  {
   "cell_type": "code",
   "execution_count": 78,
   "id": "adc79940",
   "metadata": {
    "hidden": true
   },
   "outputs": [
    {
     "data": {
      "text/plain": [
       "nan"
      ]
     },
     "execution_count": 78,
     "metadata": {},
     "output_type": "execute_result"
    }
   ],
   "source": [
    "# This is not a number\n",
    "inf * 0"
   ]
  },
  {
   "cell_type": "markdown",
   "id": "8e9cf1eb",
   "metadata": {},
   "source": [
    "### Functools"
   ]
  },
  {
   "cell_type": "markdown",
   "id": "1a96218f",
   "metadata": {},
   "source": [
    "#### Cache"
   ]
  },
  {
   "cell_type": "markdown",
   "id": "f80a83ff",
   "metadata": {},
   "source": [
    "Before learning lru_cache, I want to learn about cache, first."
   ]
  },
  {
   "cell_type": "code",
   "execution_count": 2,
   "id": "f7c1204c",
   "metadata": {},
   "outputs": [],
   "source": [
    "# functools has cache if python's version >= 3.9\n",
    "# from functools import cache\n",
    "cache = lru_cache(None)"
   ]
  },
  {
   "cell_type": "code",
   "execution_count": 3,
   "id": "4a105d55",
   "metadata": {},
   "outputs": [],
   "source": [
    "@cache\n",
    "def factorial(n):\n",
    "    return n * factorial(n-1) if n else 1"
   ]
  },
  {
   "cell_type": "code",
   "execution_count": null,
   "id": "d6931751",
   "metadata": {},
   "outputs": [],
   "source": [
    "%time factorial(425)"
   ]
  },
  {
   "cell_type": "code",
   "execution_count": 5,
   "id": "c2334150",
   "metadata": {},
   "outputs": [
    {
     "name": "stdout",
     "output_type": "stream",
     "text": [
      "CPU times: user 0 ns, sys: 0 ns, total: 0 ns\n",
      "Wall time: 12.4 µs\n"
     ]
    },
    {
     "data": {
      "text/plain": [
       "15977543825580449039059028491802903127380338791863483049128370991067108396625766050267688895710574429084998108101039700641517381873763319601028149484002114693798393699491396328947757831366620306555297082031175675213705798463163227066295062015432599288847760596340315258786855260497719902961743066792834934241285332466334330976532707258804959387324668690208796476945391790915591031353635928193404280314886136458335477631166936908618143948819872191817526972357414781307615320059024031912964120178430314558792157725588006914593404752298568543044309034599056012503965564056636054142381603688108699830585169089536136973697948594333529771072449681268640636424890253957698622305602915377337745834781001890868690302403007357837222872688402785347907470873020865015995233051392945984572795828503249504365669280534212772911921618337423949824000000000000000000000000000000000000000000000000000000000000000000000000000000000000000000000000000000000"
      ]
     },
     "execution_count": 5,
     "metadata": {},
     "output_type": "execute_result"
    }
   ],
   "source": [
    "%time factorial(425)"
   ]
  },
  {
   "cell_type": "markdown",
   "id": "8eba5d0e",
   "metadata": {},
   "source": [
    "Because it is cached, it is very fast the second time. It can be written like this:"
   ]
  },
  {
   "cell_type": "code",
   "execution_count": 6,
   "id": "02adba2c",
   "metadata": {},
   "outputs": [],
   "source": [
    "def memoize (fn):\n",
    "    \"Memoize a function\"\n",
    "    results = dict()\n",
    "    def mem (x):\n",
    "        if x in results.keys():\n",
    "            return results[x]\n",
    "        else:\n",
    "            results[x] = fn(x)\n",
    "            return results[x]\n",
    "    return mem"
   ]
  },
  {
   "cell_type": "code",
   "execution_count": 7,
   "id": "69433c07",
   "metadata": {},
   "outputs": [],
   "source": [
    "@memoize\n",
    "def factorial2(n):\n",
    "    return n * factorial2(n-1) if n else 1"
   ]
  },
  {
   "cell_type": "code",
   "execution_count": 8,
   "id": "6c381a2e",
   "metadata": {},
   "outputs": [
    {
     "name": "stdout",
     "output_type": "stream",
     "text": [
      "CPU times: user 1e+03 µs, sys: 0 ns, total: 1e+03 µs\n",
      "Wall time: 924 µs\n"
     ]
    },
    {
     "data": {
      "text/plain": [
       "15977543825580449039059028491802903127380338791863483049128370991067108396625766050267688895710574429084998108101039700641517381873763319601028149484002114693798393699491396328947757831366620306555297082031175675213705798463163227066295062015432599288847760596340315258786855260497719902961743066792834934241285332466334330976532707258804959387324668690208796476945391790915591031353635928193404280314886136458335477631166936908618143948819872191817526972357414781307615320059024031912964120178430314558792157725588006914593404752298568543044309034599056012503965564056636054142381603688108699830585169089536136973697948594333529771072449681268640636424890253957698622305602915377337745834781001890868690302403007357837222872688402785347907470873020865015995233051392945984572795828503249504365669280534212772911921618337423949824000000000000000000000000000000000000000000000000000000000000000000000000000000000000000000000000000000000"
      ]
     },
     "execution_count": 8,
     "metadata": {},
     "output_type": "execute_result"
    }
   ],
   "source": [
    "%time factorial2(425)"
   ]
  },
  {
   "cell_type": "code",
   "execution_count": 9,
   "id": "ba191efd",
   "metadata": {},
   "outputs": [
    {
     "name": "stdout",
     "output_type": "stream",
     "text": [
      "CPU times: user 0 ns, sys: 0 ns, total: 0 ns\n",
      "Wall time: 14.5 µs\n"
     ]
    },
    {
     "data": {
      "text/plain": [
       "15977543825580449039059028491802903127380338791863483049128370991067108396625766050267688895710574429084998108101039700641517381873763319601028149484002114693798393699491396328947757831366620306555297082031175675213705798463163227066295062015432599288847760596340315258786855260497719902961743066792834934241285332466334330976532707258804959387324668690208796476945391790915591031353635928193404280314886136458335477631166936908618143948819872191817526972357414781307615320059024031912964120178430314558792157725588006914593404752298568543044309034599056012503965564056636054142381603688108699830585169089536136973697948594333529771072449681268640636424890253957698622305602915377337745834781001890868690302403007357837222872688402785347907470873020865015995233051392945984572795828503249504365669280534212772911921618337423949824000000000000000000000000000000000000000000000000000000000000000000000000000000000000000000000000000000000"
      ]
     },
     "execution_count": 9,
     "metadata": {},
     "output_type": "execute_result"
    }
   ],
   "source": [
    "%time factorial2(425)"
   ]
  },
  {
   "cell_type": "markdown",
   "id": "0a8b3318",
   "metadata": {},
   "source": [
    "#### lru_cache"
   ]
  },
  {
   "cell_type": "markdown",
   "id": "d3f5423a",
   "metadata": {},
   "source": [
    "It is same as cache except its size can be limited. "
   ]
  },
  {
   "cell_type": "markdown",
   "id": "3a7b46cf",
   "metadata": {},
   "source": [
    "## Playing with utilities"
   ]
  },
  {
   "cell_type": "markdown",
   "id": "3b54b338",
   "metadata": {},
   "source": [
    "After getting familiar with libraries, I'd like to look at the utilites or helper functions. "
   ]
  },
  {
   "cell_type": "markdown",
   "id": "f013305e",
   "metadata": {},
   "source": [
    "### Jumping into action"
   ]
  },
  {
   "cell_type": "markdown",
   "id": "c9e4285c",
   "metadata": {},
   "source": [
    "<code>answer</code> is just an assert that compares expected value with actual value."
   ]
  },
  {
   "cell_type": "code",
   "execution_count": null,
   "id": "c32f7eb4",
   "metadata": {},
   "outputs": [],
   "source": [
    "def answer(puzzle_number, got, expected) -> bool:\n",
    "    \"\"\"Verify the answer we got was the expected answer.\"\"\"\n",
    "    assert got == expected, f'For {puzzle_number}, expected {expected} but got {got}.'\n",
    "    return True"
   ]
  },
  {
   "cell_type": "code",
   "execution_count": 21,
   "id": "bfa3fa6f",
   "metadata": {},
   "outputs": [
    {
     "ename": "AssertionError",
     "evalue": "For 49, expected 1 but got 3.",
     "output_type": "error",
     "traceback": [
      "\u001b[0;31m---------------------------------------------------------------------------\u001b[0m",
      "\u001b[0;31mAssertionError\u001b[0m                            Traceback (most recent call last)",
      "Input \u001b[0;32mIn [21]\u001b[0m, in \u001b[0;36m<cell line: 1>\u001b[0;34m()\u001b[0m\n\u001b[0;32m----> 1\u001b[0m \u001b[43manswer\u001b[49m\u001b[43m(\u001b[49m\u001b[38;5;241;43m49\u001b[39;49m\u001b[43m,\u001b[49m\u001b[43m \u001b[49m\u001b[38;5;241;43m3\u001b[39;49m\u001b[43m,\u001b[49m\u001b[43m \u001b[49m\u001b[38;5;241;43m1\u001b[39;49m\u001b[43m \u001b[49m\u001b[38;5;241;43m+\u001b[39;49m\u001b[43m \u001b[49m\u001b[38;5;241;43m1\u001b[39;49m\u001b[43m \u001b[49m\u001b[38;5;241;43m-\u001b[39;49m\u001b[43m \u001b[49m\u001b[38;5;241;43m1\u001b[39;49m\u001b[43m)\u001b[49m\n",
      "Input \u001b[0;32mIn [14]\u001b[0m, in \u001b[0;36manswer\u001b[0;34m(puzzle_number, got, expected)\u001b[0m\n\u001b[1;32m      1\u001b[0m \u001b[38;5;28;01mdef\u001b[39;00m \u001b[38;5;21manswer\u001b[39m(puzzle_number, got, expected) \u001b[38;5;241m-\u001b[39m\u001b[38;5;241m>\u001b[39m \u001b[38;5;28mbool\u001b[39m:\n\u001b[1;32m      2\u001b[0m     \u001b[38;5;124;03m\"\"\"Verify the answer we got was the expected answer.\"\"\"\u001b[39;00m\n\u001b[0;32m----> 3\u001b[0m     \u001b[38;5;28;01massert\u001b[39;00m got \u001b[38;5;241m==\u001b[39m expected, \u001b[38;5;124mf\u001b[39m\u001b[38;5;124m'\u001b[39m\u001b[38;5;124mFor \u001b[39m\u001b[38;5;132;01m{\u001b[39;00mpuzzle_number\u001b[38;5;132;01m}\u001b[39;00m\u001b[38;5;124m, expected \u001b[39m\u001b[38;5;132;01m{\u001b[39;00mexpected\u001b[38;5;132;01m}\u001b[39;00m\u001b[38;5;124m but got \u001b[39m\u001b[38;5;132;01m{\u001b[39;00mgot\u001b[38;5;132;01m}\u001b[39;00m\u001b[38;5;124m.\u001b[39m\u001b[38;5;124m'\u001b[39m\n\u001b[1;32m      4\u001b[0m     \u001b[38;5;28;01mreturn\u001b[39;00m \u001b[38;5;28;01mTrue\u001b[39;00m\n",
      "\u001b[0;31mAssertionError\u001b[0m: For 49, expected 1 but got 3."
     ]
    }
   ],
   "source": [
    "answer(49, 3, 1 + 1 - 1)"
   ]
  },
  {
   "cell_type": "code",
   "execution_count": 11,
   "id": "a299f571",
   "metadata": {},
   "outputs": [
    {
     "data": {
      "text/plain": [
       "True"
      ]
     },
     "execution_count": 11,
     "metadata": {},
     "output_type": "execute_result"
    }
   ],
   "source": [
    "answer(81, 10, 5 + 5)"
   ]
  },
  {
   "cell_type": "markdown",
   "id": "c7fbb3ad",
   "metadata": {},
   "source": [
    "<code>mapt</code> is similar to map(fn, *args), but returns a tuple. So, it does not have to be wrapped around with list, tuple, or others in order to look at the contents. Another way to use is to convert types of its contents."
   ]
  },
  {
   "cell_type": "code",
   "execution_count": 15,
   "id": "3d902b96",
   "metadata": {},
   "outputs": [],
   "source": [
    "def mapt(fn, *args) -> tuple:\n",
    "    \"\"\"map(fn, *args) and return the result as a tuple.\"\"\"\n",
    "    return tuple(map(fn, *args))"
   ]
  },
  {
   "cell_type": "code",
   "execution_count": 16,
   "id": "657e2a48",
   "metadata": {},
   "outputs": [
    {
     "data": {
      "text/plain": [
       "([1, 2, '🚀'], [3, 4, '🚀'])"
      ]
     },
     "execution_count": 16,
     "metadata": {},
     "output_type": "execute_result"
    }
   ],
   "source": [
    "mapt(lambda x: x + ['🚀'], [[1, 2], [3, 4]])"
   ]
  },
  {
   "cell_type": "code",
   "execution_count": 17,
   "id": "ab740f4a",
   "metadata": {},
   "outputs": [
    {
     "data": {
      "text/plain": [
       "(2, 3, 4)"
      ]
     },
     "execution_count": 17,
     "metadata": {},
     "output_type": "execute_result"
    }
   ],
   "source": [
    "mapt(lambda x: x + 1, [1,2,3])"
   ]
  },
  {
   "cell_type": "code",
   "execution_count": 46,
   "id": "ffcf7480",
   "metadata": {},
   "outputs": [
    {
     "data": {
      "text/plain": [
       "(1, 2, 5)"
      ]
     },
     "execution_count": 46,
     "metadata": {},
     "output_type": "execute_result"
    }
   ],
   "source": [
    "mapt(int, ['1', '2', '5'])"
   ]
  },
  {
   "cell_type": "markdown",
   "id": "620aaf1e",
   "metadata": {},
   "source": [
    "<code>trunc</code> is very fun as well. If any string is longer than 100 characters, it truncates, and inserts dots in the middle. But it can also be customized. I can set different lengths for left and right, and different characters for dots. I can even use emojis for dots!"
   ]
  },
  {
   "cell_type": "code",
   "execution_count": 19,
   "id": "87ca49fe",
   "metadata": {},
   "outputs": [],
   "source": [
    "def trunc(s: str, left=70, right=25, dots=' ... ') -> str: \n",
    "    \"\"\"All of string s if it fits; else left and right ends of s with dots in the middle.\"\"\"\n",
    "#     dots = ' ... '\n",
    "    return s if len(s) <= left + right + len(dots) else s[:left] + dots + s[-right:]"
   ]
  },
  {
   "cell_type": "code",
   "execution_count": 20,
   "id": "21ca1571",
   "metadata": {},
   "outputs": [],
   "source": [
    "long_string = '''\n",
    "I am not sure what this is about, but I am a long string, okay? If you have any problem regarding me, talk to my boss. I simply do not get paid enough for any of this nonsense!'''"
   ]
  },
  {
   "cell_type": "code",
   "execution_count": 21,
   "id": "f8bc3c02",
   "metadata": {},
   "outputs": [
    {
     "data": {
      "text/plain": [
       "'I am not sure what this is about 🤐💀🤯 s nonsense!'"
      ]
     },
     "execution_count": 21,
     "metadata": {},
     "output_type": "execute_result"
    }
   ],
   "source": [
    "trunc(long_string.strip(), left=32, right=11, dots=' 🤐💀🤯 ')"
   ]
  },
  {
   "cell_type": "markdown",
   "id": "71513041",
   "metadata": {},
   "source": [
    "<code>parse</code> is a flexible way to parse inputs. Instead of changing the type of input manually or setting a different seperator, we can do all these at once. Another cool feature is its printing ability. It prints information about the input and parsed input. "
   ]
  },
  {
   "cell_type": "code",
   "execution_count": 22,
   "id": "74118994",
   "metadata": {},
   "outputs": [],
   "source": [
    "def parse(day, parser=str, sep='\\n', print_lines=7) -> tuple:\n",
    "    \"\"\"Split the day's input file into entries separated by `sep`, \n",
    "    and apply `parser` to each.\"\"\"\n",
    "    # updated filename for my for input file system\n",
    "    fname = f'input{day}.txt'\n",
    "    text  = open(fname).read()\n",
    "    entries = mapt(parser, text.rstrip().split(sep))\n",
    "    if print_lines:\n",
    "        all_lines = text.splitlines()\n",
    "        lines = all_lines[:print_lines]\n",
    "        head = f'{fname} ➜ {len(text)} chars, {len(all_lines)} lines; first {len(lines)} lines:'\n",
    "        dash = \"-\" * 100\n",
    "        print(f'{dash}\\n{head}\\n{dash}')\n",
    "        for line in lines:\n",
    "            print(trunc(line))\n",
    "        # I added parser.__name__ for fun\n",
    "        print(f'{dash}\\nparse({day}) ➜ {len(entries)} entries as {parser.__name__}:\\n'\n",
    "              f'{dash}\\n{trunc(str(entries))}\\n{dash}')\n",
    "    return entries"
   ]
  },
  {
   "cell_type": "code",
   "execution_count": 23,
   "id": "0f880426",
   "metadata": {},
   "outputs": [
    {
     "name": "stdout",
     "output_type": "stream",
     "text": [
      "int\n"
     ]
    }
   ],
   "source": [
    "print(int.__name__)"
   ]
  },
  {
   "cell_type": "code",
   "execution_count": 24,
   "id": "0c0ef31f",
   "metadata": {},
   "outputs": [
    {
     "name": "stdout",
     "output_type": "stream",
     "text": [
      "----------------------------------------------------------------------------------------------------\n",
      "input1.txt ➜ 9777 chars, 2000 lines; first 7 lines:\n",
      "----------------------------------------------------------------------------------------------------\n",
      "151\n",
      "152\n",
      "153\n",
      "158\n",
      "159\n",
      "163\n",
      "164\n",
      "----------------------------------------------------------------------------------------------------\n",
      "parse(1) ➜ 2000 entries as int:\n",
      "----------------------------------------------------------------------------------------------------\n",
      "(151, 152, 153, 158, 159, 163, 164, 162, 161, 167, 169, 168, 169, 170, ... , 8078, 8081, 8112, 8127)\n",
      "----------------------------------------------------------------------------------------------------\n"
     ]
    }
   ],
   "source": [
    "input1 = parse(1, parser=int)"
   ]
  },
  {
   "cell_type": "markdown",
   "id": "cf6bc7c9",
   "metadata": {},
   "source": [
    "Here are some \"type declaration.\" Although python does not actually have type declarations, we can use typing library and make a new type, such as Atom. We have to be careful about using Char, as it is essentially str. "
   ]
  },
  {
   "cell_type": "code",
   "execution_count": 27,
   "id": "386e3ef8",
   "metadata": {},
   "outputs": [],
   "source": [
    "Char = str # Intended as the type of a one-character string\n",
    "Atom = Union[float, int, str]"
   ]
  },
  {
   "cell_type": "markdown",
   "id": "e9bf9108",
   "metadata": {},
   "source": [
    "Next, we have functions that extracts certain types, such as ints, digits, atoms. Code itself is pretty self explanatory, and documentation explains exactly what it does."
   ]
  },
  {
   "cell_type": "code",
   "execution_count": 31,
   "id": "98c479ac",
   "metadata": {},
   "outputs": [],
   "source": [
    "def ints(text: str) -> Tuple[int]:\n",
    "    \"\"\"A tuple of all the integers in text, ignoring non-number characters.\"\"\"\n",
    "    return mapt(int, re.findall(r'-?[0-9]+', text))"
   ]
  },
  {
   "cell_type": "code",
   "execution_count": 32,
   "id": "de13a84c",
   "metadata": {},
   "outputs": [
    {
     "data": {
      "text/plain": [
       "(0, 1, 2, -34)"
      ]
     },
     "execution_count": 32,
     "metadata": {},
     "output_type": "execute_result"
    }
   ],
   "source": [
    "ints('a0b1c2-34z?-')"
   ]
  },
  {
   "cell_type": "code",
   "execution_count": 33,
   "id": "c00538e8",
   "metadata": {},
   "outputs": [],
   "source": [
    "def digits(text: str) -> Tuple[int]:\n",
    "    \"\"\"A tuple of all the digits in text (as ints 0–9), ignoring non-digit characters.\"\"\"\n",
    "    return mapt(int, re.findall(r'[0-9]', text))"
   ]
  },
  {
   "cell_type": "code",
   "execution_count": 34,
   "id": "b6be08a8",
   "metadata": {},
   "outputs": [
    {
     "data": {
      "text/plain": [
       "(0, 1, 2, 3, 4)"
      ]
     },
     "execution_count": 34,
     "metadata": {},
     "output_type": "execute_result"
    }
   ],
   "source": [
    "digits('a0b1c2-34z?-')"
   ]
  },
  {
   "cell_type": "code",
   "execution_count": 35,
   "id": "9a1548b8",
   "metadata": {},
   "outputs": [],
   "source": [
    "def words(text: str) -> List[str]:\n",
    "    \"\"\"A list of all the alphabetic words in text, ignoring non-letters.\"\"\"\n",
    "    return re.findall(r'[a-zA-Z]+', text)"
   ]
  },
  {
   "cell_type": "code",
   "execution_count": 36,
   "id": "82ab3b41",
   "metadata": {},
   "outputs": [
    {
     "data": {
      "text/plain": [
       "['I', 'have', 'apples', 'in', 'my', 'mouth']"
      ]
     },
     "execution_count": 36,
     "metadata": {},
     "output_type": "execute_result"
    }
   ],
   "source": [
    "words('I have 39 apples in my mouth.')"
   ]
  },
  {
   "cell_type": "code",
   "execution_count": 39,
   "id": "f62117eb",
   "metadata": {},
   "outputs": [],
   "source": [
    "def atom(text: str) -> Atom:\n",
    "    \"\"\"Parse text into a single float or int or str.\"\"\"\n",
    "    try:\n",
    "        x = float(text)\n",
    "        return round(x) if round(x) == x else x\n",
    "    except ValueError:\n",
    "        return text"
   ]
  },
  {
   "cell_type": "code",
   "execution_count": 40,
   "id": "01149e7b",
   "metadata": {},
   "outputs": [
    {
     "data": {
      "text/plain": [
       "38.4"
      ]
     },
     "execution_count": 40,
     "metadata": {},
     "output_type": "execute_result"
    }
   ],
   "source": [
    "atom('38.4')"
   ]
  },
  {
   "cell_type": "code",
   "execution_count": 41,
   "id": "6c6cc320",
   "metadata": {},
   "outputs": [
    {
     "data": {
      "text/plain": [
       "90"
      ]
     },
     "execution_count": 41,
     "metadata": {},
     "output_type": "execute_result"
    }
   ],
   "source": [
    "atom('90')"
   ]
  },
  {
   "cell_type": "code",
   "execution_count": 42,
   "id": "b4306faa",
   "metadata": {},
   "outputs": [
    {
     "data": {
      "text/plain": [
       "'atom'"
      ]
     },
     "execution_count": 42,
     "metadata": {},
     "output_type": "execute_result"
    }
   ],
   "source": [
    "atom('atom')"
   ]
  },
  {
   "cell_type": "code",
   "execution_count": 43,
   "id": "f97368c7",
   "metadata": {},
   "outputs": [
    {
     "data": {
      "text/plain": [
       "'We are building lisp with atoms. 🔬 How far can we go? 🚀'"
      ]
     },
     "execution_count": 43,
     "metadata": {},
     "output_type": "execute_result"
    }
   ],
   "source": [
    "atom('We are building lisp with atoms. 🔬 How far can we go? 🚀')"
   ]
  },
  {
   "cell_type": "code",
   "execution_count": 44,
   "id": "b285d94b",
   "metadata": {},
   "outputs": [],
   "source": [
    "def atoms(text: str) -> Tuple[Atom]:\n",
    "    \"\"\"A tuple of all the atoms (numbers or symbol names) in text.\"\"\"\n",
    "    return mapt(atom, re.findall(r'[a-zA-Z_0-9.+-]+', text))"
   ]
  },
  {
   "cell_type": "code",
   "execution_count": 45,
   "id": "014797ca",
   "metadata": {},
   "outputs": [
    {
     "data": {
      "text/plain": [
       "(12.8, 'billion', 'atoms', 'swimming', 'in', 'the', 'ocean.', 'Yeah')"
      ]
     },
     "execution_count": 45,
     "metadata": {},
     "output_type": "execute_result"
    }
   ],
   "source": [
    "atoms('12.8 billion atoms swimming in the ocean. Yeah? 🤯!')"
   ]
  },
  {
   "cell_type": "code",
   "execution_count": 1,
   "id": "bd54f5d6",
   "metadata": {},
   "outputs": [],
   "source": [
    "def quantify(iterable, pred=bool) -> int:\n",
    "    \"\"\"Count the number of items in iterable for which pred is true.\"\"\"\n",
    "    return sum(1 for item in iterable if pred(item))"
   ]
  },
  {
   "cell_type": "code",
   "execution_count": 2,
   "id": "8d5fde0b",
   "metadata": {},
   "outputs": [
    {
     "data": {
      "text/plain": [
       "6"
      ]
     },
     "execution_count": 2,
     "metadata": {},
     "output_type": "execute_result"
    }
   ],
   "source": [
    "quantify(range(10), lambda x: x & 2 == 0)"
   ]
  },
  {
   "cell_type": "code",
   "execution_count": 10,
   "id": "d1fbc887",
   "metadata": {},
   "outputs": [
    {
     "data": {
      "text/plain": [
       "3"
      ]
     },
     "execution_count": 10,
     "metadata": {},
     "output_type": "execute_result"
    }
   ],
   "source": [
    "quantify([0, 1, 'two', '3', 4, 'five'], lambda x: isinstance(x, int))"
   ]
  },
  {
   "cell_type": "markdown",
   "id": "864920b7",
   "metadata": {},
   "source": [
    "<code>multimap</code> returns a defaultdict with list as a default value. It makes using defaultdict with list easier. As we used defaultdict earlier, it is a little bit awkward to populate values ourselves using for loop with an iterable. It also gives us option to make values symmetric, which is useful."
   ]
  },
  {
   "cell_type": "code",
   "execution_count": 47,
   "id": "105bdd25",
   "metadata": {},
   "outputs": [],
   "source": [
    "class multimap(defaultdict):\n",
    "    \"\"\"A mapping of {key: [val1, val2, ...]}.\"\"\"\n",
    "    def __init__(self, pairs: Iterable[tuple], symmetric=False):\n",
    "        \"\"\"Given (key, val) pairs, return {key: [val, ...], ...}.\n",
    "        If `symmetric` is True, treat (key, val) as (key, val) plus (val, key).\"\"\"\n",
    "        self.default_factory = list\n",
    "        for (key, val) in pairs:\n",
    "            self[key].append(val)\n",
    "            if symmetric:\n",
    "                self[val].append(key)"
   ]
  },
  {
   "cell_type": "code",
   "execution_count": 57,
   "id": "ec01b922",
   "metadata": {},
   "outputs": [
    {
     "data": {
      "text/plain": [
       "multimap(list, {1: ['one'], 2: ['two'], 3: ['three']})"
      ]
     },
     "execution_count": 57,
     "metadata": {},
     "output_type": "execute_result"
    }
   ],
   "source": [
    "multimapped = multimap([(1, 'one'), (2, 'two'), (3, 'three')])\n",
    "multimapped"
   ]
  },
  {
   "cell_type": "code",
   "execution_count": 59,
   "id": "366304f0",
   "metadata": {},
   "outputs": [
    {
     "data": {
      "text/plain": [
       "multimap(list, {1: ['one', 'first'], 2: ['two'], 3: ['three']})"
      ]
     },
     "execution_count": 59,
     "metadata": {},
     "output_type": "execute_result"
    }
   ],
   "source": [
    "multimapped[1].append('first')\n",
    "multimapped"
   ]
  },
  {
   "cell_type": "code",
   "execution_count": 60,
   "id": "8c8267b7",
   "metadata": {},
   "outputs": [
    {
     "data": {
      "text/plain": [
       "multimap(list,\n",
       "         {1: ['one'],\n",
       "          'one': [1],\n",
       "          2: ['two'],\n",
       "          'two': [2],\n",
       "          3: ['three'],\n",
       "          'three': [3]})"
      ]
     },
     "execution_count": 60,
     "metadata": {},
     "output_type": "execute_result"
    }
   ],
   "source": [
    "multimapped = multimap([(1, 'one'), (2, 'two'), (3, 'three')], symmetric=True)\n",
    "multimapped"
   ]
  },
  {
   "cell_type": "markdown",
   "id": "4ad0f7a7",
   "metadata": {},
   "source": [
    "Python provides sum built in, but not prod. We can call math.prod as we have that as an option, or define our own. Compared to our prod, math.prod is faster."
   ]
  },
  {
   "cell_type": "code",
   "execution_count": 61,
   "id": "9c929fa1",
   "metadata": {},
   "outputs": [],
   "source": [
    "def prod(numbers) -> float: # Will be math.prod in Python 3.8\n",
    "    \"\"\"The product formed by multiplying `numbers` together.\"\"\"\n",
    "    result = 1\n",
    "    for x in numbers:\n",
    "        result *= x\n",
    "    return result"
   ]
  },
  {
   "cell_type": "code",
   "execution_count": 66,
   "id": "214e0a10",
   "metadata": {},
   "outputs": [
    {
     "name": "stdout",
     "output_type": "stream",
     "text": [
      "6.41 µs ± 111 ns per loop (mean ± std. dev. of 7 runs, 100,000 loops each)\n"
     ]
    }
   ],
   "source": [
    "%timeit prod(range(100))"
   ]
  },
  {
   "cell_type": "code",
   "execution_count": 67,
   "id": "58f0a920",
   "metadata": {},
   "outputs": [],
   "source": [
    "import math"
   ]
  },
  {
   "cell_type": "code",
   "execution_count": 68,
   "id": "153b00f7",
   "metadata": {},
   "outputs": [
    {
     "name": "stdout",
     "output_type": "stream",
     "text": [
      "2.28 µs ± 63.2 ns per loop (mean ± std. dev. of 7 runs, 100,000 loops each)\n"
     ]
    }
   ],
   "source": [
    "%timeit math.prod(range(100))"
   ]
  },
  {
   "cell_type": "markdown",
   "id": "b6850f39",
   "metadata": {},
   "source": [
    "<code>total</code> accepts a counter and returns a total number of counts. It would have been nice if it were built into Counter."
   ]
  },
  {
   "cell_type": "code",
   "execution_count": 70,
   "id": "c33bd8dd",
   "metadata": {},
   "outputs": [],
   "source": [
    "def total(counter: Counter) -> int: \n",
    "    \"\"\"The sum of all the counts in a Counter.\"\"\"\n",
    "    return sum(counter.values())"
   ]
  },
  {
   "cell_type": "code",
   "execution_count": 77,
   "id": "2fae5ebd",
   "metadata": {},
   "outputs": [
    {
     "data": {
      "text/plain": [
       "12"
      ]
     },
     "execution_count": 77,
     "metadata": {},
     "output_type": "execute_result"
    }
   ],
   "source": [
    "batman = 'I am batman.'\n",
    "c = Counter(batman)\n",
    "total(c)"
   ]
  },
  {
   "cell_type": "code",
   "execution_count": 78,
   "id": "844b0ebc",
   "metadata": {},
   "outputs": [
    {
     "data": {
      "text/plain": [
       "12"
      ]
     },
     "execution_count": 78,
     "metadata": {},
     "output_type": "execute_result"
    }
   ],
   "source": [
    "len(batman)"
   ]
  },
  {
   "cell_type": "markdown",
   "id": "b7684578",
   "metadata": {},
   "source": [
    "<code>sign</code> returns 1, 0, or -1 depending on the argument's sign."
   ]
  },
  {
   "cell_type": "code",
   "execution_count": 79,
   "id": "659fd0b8",
   "metadata": {},
   "outputs": [],
   "source": [
    "def sign(x) -> int: return (0 if x == 0 else +1 if x > 0 else -1)"
   ]
  },
  {
   "cell_type": "code",
   "execution_count": 80,
   "id": "a18061eb",
   "metadata": {},
   "outputs": [
    {
     "data": {
      "text/plain": [
       "1"
      ]
     },
     "execution_count": 80,
     "metadata": {},
     "output_type": "execute_result"
    }
   ],
   "source": [
    "sign(3)"
   ]
  },
  {
   "cell_type": "code",
   "execution_count": 81,
   "id": "a39db113",
   "metadata": {},
   "outputs": [
    {
     "data": {
      "text/plain": [
       "-1"
      ]
     },
     "execution_count": 81,
     "metadata": {},
     "output_type": "execute_result"
    }
   ],
   "source": [
    "sign(-1)"
   ]
  },
  {
   "cell_type": "code",
   "execution_count": 82,
   "id": "d868f088",
   "metadata": {},
   "outputs": [
    {
     "data": {
      "text/plain": [
       "0"
      ]
     },
     "execution_count": 82,
     "metadata": {},
     "output_type": "execute_result"
    }
   ],
   "source": [
    "sign(0)"
   ]
  },
  {
   "cell_type": "markdown",
   "id": "09ce248e",
   "metadata": {},
   "source": [
    "<code>transpose</code> transposes a matrix. Why would we transpose a matrix? To solve problems. What kind of problems? Well, matrix problems."
   ]
  },
  {
   "cell_type": "code",
   "execution_count": 83,
   "id": "e68fe516",
   "metadata": {},
   "outputs": [],
   "source": [
    "def transpose(matrix) -> list: return list(zip(*matrix))"
   ]
  },
  {
   "cell_type": "code",
   "execution_count": 84,
   "id": "f1a5a49c",
   "metadata": {},
   "outputs": [
    {
     "data": {
      "text/plain": [
       "[(0, 2), (1, 3)]"
      ]
     },
     "execution_count": 84,
     "metadata": {},
     "output_type": "execute_result"
    }
   ],
   "source": [
    "matrix = [[0, 1],\n",
    "          [2, 3]]\n",
    "transpose(matrix)"
   ]
  },
  {
   "cell_type": "markdown",
   "id": "1b5ed788",
   "metadata": {},
   "source": [
    "Nothing returns None."
   ]
  },
  {
   "cell_type": "code",
   "execution_count": 85,
   "id": "520b112d",
   "metadata": {},
   "outputs": [],
   "source": [
    "def nothing(*args) -> None: return None"
   ]
  },
  {
   "cell_type": "code",
   "execution_count": 87,
   "id": "3359cb0b",
   "metadata": {},
   "outputs": [
    {
     "name": "stdout",
     "output_type": "stream",
     "text": [
      "None\n"
     ]
    }
   ],
   "source": [
    "print(nothing('Something'))"
   ]
  },
  {
   "cell_type": "markdown",
   "id": "0831bfbd",
   "metadata": {},
   "source": [
    "Here are some aliases. We could use either version, and the code will work. Instead of using lru_cache(None), we can just use cache from functools. It is also faster than lru_cache."
   ]
  },
  {
   "cell_type": "code",
   "execution_count": 88,
   "id": "06ca0d08",
   "metadata": {},
   "outputs": [],
   "source": [
    "cat     = ''.join\n",
    "flatten = chain.from_iterable\n",
    "cache   = lru_cache(None)"
   ]
  },
  {
   "cell_type": "code",
   "execution_count": 98,
   "id": "6cb5dbca",
   "metadata": {},
   "outputs": [
    {
     "data": {
      "text/plain": [
       "'abc'"
      ]
     },
     "execution_count": 98,
     "metadata": {},
     "output_type": "execute_result"
    }
   ],
   "source": [
    "cat(['a', 'b', 'c'])"
   ]
  },
  {
   "cell_type": "code",
   "execution_count": 99,
   "id": "e6e4b837",
   "metadata": {},
   "outputs": [
    {
     "data": {
      "text/plain": [
       "[3, 5, 7, 9]"
      ]
     },
     "execution_count": 99,
     "metadata": {},
     "output_type": "execute_result"
    }
   ],
   "source": [
    "list(chain.from_iterable([[3], [5], [7, 9]]))"
   ]
  },
  {
   "cell_type": "code",
   "execution_count": 107,
   "id": "249e3283",
   "metadata": {},
   "outputs": [
    {
     "data": {
      "text/plain": [
       "[3, 5, [[7], 9], 11]"
      ]
     },
     "execution_count": 107,
     "metadata": {},
     "output_type": "execute_result"
    }
   ],
   "source": [
    "# Does not flatten deeply\n",
    "list(chain.from_iterable([[3], [5], [[[7], 9], 11]]))"
   ]
  },
  {
   "cell_type": "code",
   "execution_count": 103,
   "id": "20afe107",
   "metadata": {},
   "outputs": [],
   "source": [
    "import time\n",
    "@cache\n",
    "def waiting(seconds: int):\n",
    "    \"\"\"Wait for seconds. If already waited for that long,\n",
    "    skip waiting.\"\"\"\n",
    "    time.sleep(seconds)\n",
    "    return f'I waited for {seconds} seconds'"
   ]
  },
  {
   "cell_type": "code",
   "execution_count": 104,
   "id": "5564da99",
   "metadata": {},
   "outputs": [
    {
     "data": {
      "text/plain": [
       "'I waited for 1 seconds'"
      ]
     },
     "execution_count": 104,
     "metadata": {},
     "output_type": "execute_result"
    }
   ],
   "source": [
    "waiting(1)"
   ]
  },
  {
   "cell_type": "code",
   "execution_count": 106,
   "id": "7b2360db",
   "metadata": {},
   "outputs": [
    {
     "data": {
      "text/plain": [
       "'I waited for 1 seconds'"
      ]
     },
     "execution_count": 106,
     "metadata": {},
     "output_type": "execute_result"
    }
   ],
   "source": [
    "# Program starts to lie after calling once\n",
    "waiting(1)"
   ]
  },
  {
   "cell_type": "markdown",
   "id": "a951facf",
   "metadata": {},
   "source": [
    "Lastly, we go over utilities used for 2D. Basically, anything with x, y coordinates, we can use thes. "
   ]
  },
  {
   "cell_type": "code",
   "execution_count": 108,
   "id": "8cb6c976",
   "metadata": {},
   "outputs": [],
   "source": [
    "Point = Tuple[int, int] # (x, y) points on a grid\n",
    "\n",
    "neighbors4 = ((0, 1), (1, 0), (0, -1), (-1, 0))               \n",
    "neighbors8 = ((1, 1), (1, -1), (-1, 1), (-1, -1)) + neighbors4\n",
    "\n",
    "class Grid(dict):\n",
    "    \"\"\"A 2D grid, implemented as a mapping of {(x, y): cell_contents}.\"\"\"\n",
    "    def __init__(self, mapping=(), rows=(), neighbors=neighbors4):\n",
    "        \"\"\"Initialize with, e.g., either `mapping={(0, 0): 1, (1, 0): 2, ...}`,\n",
    "        or `rows=[(1, 2, 3), (4, 5, 6)].\n",
    "        `neighbors` is a collection of (dx, dy) deltas to neighboring points.`\"\"\"\n",
    "        self.update(mapping if mapping else\n",
    "                    {(x, y): val \n",
    "                     for y, row in enumerate(rows) \n",
    "                     for x, val in enumerate(row)})\n",
    "        self.width  = max(x for x, y in self) + 1\n",
    "        self.height = max(y for x, y in self) + 1\n",
    "        self.deltas = neighbors\n",
    "        \n",
    "    def copy(self) -> Grid: return Grid(self, neighbors=self.deltas)\n",
    "    \n",
    "    def neighbors(self, point) -> List[Point]:\n",
    "        \"\"\"Points on the grid that neighbor `point`.\"\"\"\n",
    "        x, y = point\n",
    "        return [(x+dx, y+dy) for (dx, dy) in self.deltas \n",
    "                if (x+dx, y+dy) in self]\n",
    "    \n",
    "    def to_rows(self) -> List[List[object]]:\n",
    "        \"\"\"The contents of the grid in a rectangular list of lists.\"\"\"\n",
    "        return [[self[x, y] for x in range(self.width)]\n",
    "                for y in range(self.height)]"
   ]
  },
  {
   "cell_type": "code",
   "execution_count": 109,
   "id": "00f07bbb",
   "metadata": {},
   "outputs": [
    {
     "data": {
      "text/plain": [
       "((0, 1), (1, 0), (0, -1), (-1, 0))"
      ]
     },
     "execution_count": 109,
     "metadata": {},
     "output_type": "execute_result"
    }
   ],
   "source": [
    "neighbors4"
   ]
  },
  {
   "cell_type": "code",
   "execution_count": 111,
   "id": "0c8011ce",
   "metadata": {},
   "outputs": [
    {
     "data": {
      "text/plain": [
       "typing.Tuple[int, int]"
      ]
     },
     "execution_count": 111,
     "metadata": {},
     "output_type": "execute_result"
    }
   ],
   "source": [
    "Point"
   ]
  },
  {
   "cell_type": "code",
   "execution_count": 137,
   "id": "701e5cc4",
   "metadata": {},
   "outputs": [
    {
     "data": {
      "text/plain": [
       "{(0, 0): 1}"
      ]
     },
     "execution_count": 137,
     "metadata": {},
     "output_type": "execute_result"
    }
   ],
   "source": [
    "# Initiating\n",
    "grid = Grid(mapping={(0,0): 1})\n",
    "grid"
   ]
  },
  {
   "cell_type": "code",
   "execution_count": 133,
   "id": "d1940214",
   "metadata": {},
   "outputs": [
    {
     "data": {
      "text/plain": [
       "{(0, 0): 1, (1, 0): 2, (2, 0): 3, (0, 1): 4, (1, 1): 5, (2, 1): 6}"
      ]
     },
     "execution_count": 133,
     "metadata": {},
     "output_type": "execute_result"
    }
   ],
   "source": [
    "# More ways to initiate\n",
    "grid = Grid(rows=[(1,2,3), (4,5,6)])\n",
    "grid"
   ]
  },
  {
   "cell_type": "code",
   "execution_count": 134,
   "id": "334803f4",
   "metadata": {},
   "outputs": [
    {
     "data": {
      "text/plain": [
       "[(1, 1), (2, 0), (0, 0)]"
      ]
     },
     "execution_count": 134,
     "metadata": {},
     "output_type": "execute_result"
    }
   ],
   "source": [
    "grid.neighbors((1,0))"
   ]
  },
  {
   "cell_type": "code",
   "execution_count": 135,
   "id": "ecb78cf1",
   "metadata": {},
   "outputs": [
    {
     "data": {
      "text/plain": [
       "(2, 3, ((0, 1), (1, 0), (0, -1), (-1, 0)))"
      ]
     },
     "execution_count": 135,
     "metadata": {},
     "output_type": "execute_result"
    }
   ],
   "source": [
    "grid.height, grid.width, grid.deltas"
   ]
  },
  {
   "cell_type": "code",
   "execution_count": 136,
   "id": "b4bfecd0",
   "metadata": {},
   "outputs": [
    {
     "data": {
      "text/plain": [
       "[[1, 2, 3], [4, 5, 6]]"
      ]
     },
     "execution_count": 136,
     "metadata": {},
     "output_type": "execute_result"
    }
   ],
   "source": [
    "# Back to rows\n",
    "rows = grid.to_rows()\n",
    "rows"
   ]
  },
  {
   "cell_type": "markdown",
   "id": "b77b208c",
   "metadata": {},
   "source": [
    "That's it. We went over utilities so that we can focus more on solving problems rather than building tools. With those tools on hand, we only have to figure out which ones to use. If there is nothing, then we can move on to building tools. Now that we are ready, we can move onto solving Advent of Code problems."
   ]
  }
 ],
 "metadata": {
  "kernelspec": {
   "display_name": "Python 3 (ipykernel)",
   "language": "python",
   "name": "python3"
  },
  "language_info": {
   "codemirror_mode": {
    "name": "ipython",
    "version": 3
   },
   "file_extension": ".py",
   "mimetype": "text/x-python",
   "name": "python",
   "nbconvert_exporter": "python",
   "pygments_lexer": "ipython3",
   "version": "3.8.10"
  }
 },
 "nbformat": 4,
 "nbformat_minor": 5
}
