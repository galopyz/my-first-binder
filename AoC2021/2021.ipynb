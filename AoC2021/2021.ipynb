{
 "cells": [
  {
   "cell_type": "markdown",
   "id": "c6a5c4f4",
   "metadata": {},
   "source": [
    "# Advent of Code 2021"
   ]
  },
  {
   "cell_type": "markdown",
   "id": "1464f90a",
   "metadata": {},
   "source": [
    "Import libraries and utilities."
   ]
  },
  {
   "cell_type": "code",
   "execution_count": 1,
   "id": "6356d62b",
   "metadata": {},
   "outputs": [],
   "source": [
    "from __future__  import annotations\n",
    "from collections import Counter, defaultdict, namedtuple, deque\n",
    "from itertools   import permutations, combinations, chain, count as count_from, product as cross_product\n",
    "from typing      import *\n",
    "from statistics  import mean, median\n",
    "from math        import ceil, inf\n",
    "from functools   import lru_cache\n",
    "import matplotlib.pyplot as plt\n",
    "import re\n",
    "\n",
    "def answer(puzzle_number, got, expected) -> bool:\n",
    "    \"\"\"Verify the answer we got was the expected answer.\"\"\"\n",
    "    assert got == expected, f'For {puzzle_number}, expected {expected} but got {got}.'\n",
    "    return True\n",
    "\n",
    "def parse(day, parser=str, sep='\\n', print_lines=7) -> tuple:\n",
    "    \"\"\"Split the day's input file into entries separated by `sep`, and apply `parser` to each.\"\"\"\n",
    "    fname = f'input{day}.txt' # Suited to my needs\n",
    "    text  = open(fname).read()\n",
    "    entries = mapt(parser, text.rstrip().split(sep))\n",
    "    if print_lines:\n",
    "        all_lines = text.splitlines()\n",
    "        lines = all_lines[:print_lines]\n",
    "        head = f'{fname} ➜ {len(text)} chars, {len(all_lines)} lines; first {len(lines)} lines:'\n",
    "        dash = \"-\" * 100\n",
    "        print(f'{dash}\\n{head}\\n{dash}')\n",
    "        for line in lines:\n",
    "            print(trunc(line))\n",
    "        print(f'{dash}\\nparse({day}) ➜ {len(entries)} entries:\\n'\n",
    "              f'{dash}\\n{trunc(str(entries))}\\n{dash}')\n",
    "    return entries\n",
    "\n",
    "def trunc(s: str, left=70, right=25, dots=' ... ') -> str: \n",
    "    \"\"\"All of string s if it fits; else left and right ends of s with dots in the middle.\"\"\"\n",
    "#     dots = ' ... ' No need\n",
    "    return s if len(s) <= left + right + len(dots) else s[:left] + dots + s[-right:]\n",
    "\n",
    "Char = str # Intended as the type of a one-character string\n",
    "Atom = Union[float, int, str]\n",
    "\n",
    "def ints(text: str) -> Tuple[int]:\n",
    "    \"\"\"A tuple of all the integers in text, ignoring non-number characters.\"\"\"\n",
    "    return mapt(int, re.findall(r'-?[0-9]+', text))\n",
    "\n",
    "def digits(text: str) -> Tuple[int]:\n",
    "    \"\"\"A tuple of all the digits in text (as ints 0–9), ignoring non-digit characters.\"\"\"\n",
    "    return mapt(int, re.findall(r'[0-9]', text))\n",
    "\n",
    "def words(text: str) -> List[str]:\n",
    "    \"\"\"A list of all the alphabetic words in text, ignoring non-letters.\"\"\"\n",
    "    return re.findall(r'[a-zA-Z]+', text)\n",
    "\n",
    "def atoms(text: str) -> Tuple[Atom]:\n",
    "    \"\"\"A tuple of all the atoms (numbers or symbol names) in text.\"\"\"\n",
    "    return mapt(atom, re.findall(r'[a-zA-Z_0-9.+-]+', text))\n",
    "\n",
    "def atom(text: str) -> Atom:\n",
    "    \"\"\"Parse text into a single float or int or str.\"\"\"\n",
    "    try:\n",
    "        x = float(text)\n",
    "        return round(x) if round(x) == x else x\n",
    "    except ValueError:\n",
    "        return text\n",
    "    \n",
    "def mapt(fn, *args) -> tuple:\n",
    "    \"\"\"map(fn, *args) and return the result as a tuple.\"\"\"\n",
    "    return tuple(map(fn, *args))\n",
    "\n",
    "def quantify(iterable, pred=bool) -> int:\n",
    "    \"\"\"Count the number of items in iterable for which pred is true.\"\"\"\n",
    "    return sum(1 for item in iterable if pred(item))\n",
    "\n",
    "class multimap(defaultdict):\n",
    "    \"\"\"A mapping of {key: [val1, val2, ...]}.\"\"\"\n",
    "    def __init__(self, pairs: Iterable[tuple], symmetric=False):\n",
    "        \"\"\"Given (key, val) pairs, return {key: [val, ...], ...}.\n",
    "        If `symmetric` is True, treat (key, val) as (key, val) plus (val, key).\"\"\"\n",
    "        self.default_factory = list\n",
    "        for (key, val) in pairs:\n",
    "            self[key].append(val)\n",
    "            if symmetric:\n",
    "                self[val].append(key)\n",
    "\n",
    "def prod(numbers) -> float: # Will be math.prod in Python 3.8\n",
    "    \"\"\"The product formed by multiplying `numbers` together.\"\"\"\n",
    "    result = 1\n",
    "    for x in numbers:\n",
    "        result *= x\n",
    "    return result\n",
    "\n",
    "def total(counter: Counter) -> int: \n",
    "    \"\"\"The sum of all the counts in a Counter.\"\"\"\n",
    "    return sum(counter.values())\n",
    "\n",
    "def sign(x) -> int: return (0 if x == 0 else +1 if x > 0 else -1)\n",
    "\n",
    "def transpose(matrix) -> list: return list(zip(*matrix))\n",
    "\n",
    "def nothing(*args) -> None: return None\n",
    "\n",
    "cat     = ''.join\n",
    "flatten = chain.from_iterable\n",
    "cache   = lru_cache(None)"
   ]
  },
  {
   "cell_type": "markdown",
   "id": "47958130",
   "metadata": {
    "heading_collapsed": true
   },
   "source": [
    "## Day 1"
   ]
  },
  {
   "cell_type": "markdown",
   "id": "443fbe98",
   "metadata": {
    "hidden": true
   },
   "source": [
    "Problem: How many times the value increased from the previous one?"
   ]
  },
  {
   "cell_type": "code",
   "execution_count": 8,
   "id": "5774d9ec",
   "metadata": {
    "hidden": true
   },
   "outputs": [
    {
     "name": "stdout",
     "output_type": "stream",
     "text": [
      "----------------------------------------------------------------------------------------------------\n",
      "input1.txt ➜ 9777 chars, 2000 lines; first 7 lines:\n",
      "----------------------------------------------------------------------------------------------------\n",
      "151\n",
      "152\n",
      "153\n",
      "158\n",
      "159\n",
      "163\n",
      "164\n",
      "----------------------------------------------------------------------------------------------------\n",
      "parse(1) ➜ 2000 entries:\n",
      "----------------------------------------------------------------------------------------------------\n",
      "(151, 152, 153, 158, 159, 163, 164, 162, 161, 167, 169, 168, 169, 170, ... , 8078, 8081, 8112, 8127)\n",
      "----------------------------------------------------------------------------------------------------\n"
     ]
    }
   ],
   "source": [
    "inp1 = parse(1, parser=int)"
   ]
  },
  {
   "cell_type": "code",
   "execution_count": 51,
   "id": "a7c8f1ef",
   "metadata": {
    "hidden": true
   },
   "outputs": [],
   "source": [
    "# A sample provided by Advent of Code\n",
    "sample1 = [199, 200, 208, 210, 200, 207, 240, 269, 260, 263]"
   ]
  },
  {
   "cell_type": "code",
   "execution_count": 35,
   "id": "c3e05925",
   "metadata": {
    "hidden": true
   },
   "outputs": [],
   "source": [
    "# My naive attempt to solve\n",
    "def deeper(inputs):\n",
    "    return sum(1 for x, y in zip(inputs[:-1], inputs[1:]) if y > x)"
   ]
  },
  {
   "cell_type": "code",
   "execution_count": 94,
   "id": "4dd871a3",
   "metadata": {
    "hidden": true
   },
   "outputs": [],
   "source": [
    "# Way better version with quantify\n",
    "def deeper_quant(inputs):\n",
    "    return quantify(inputs[i + 1] > inputs[i] for i in range(len(inputs) - 1))"
   ]
  },
  {
   "cell_type": "code",
   "execution_count": 92,
   "id": "e54fe868",
   "metadata": {
    "hidden": true
   },
   "outputs": [
    {
     "data": {
      "text/plain": [
       "7"
      ]
     },
     "execution_count": 92,
     "metadata": {},
     "output_type": "execute_result"
    }
   ],
   "source": [
    "deeper(sample1)"
   ]
  },
  {
   "cell_type": "code",
   "execution_count": 95,
   "id": "2702db2f",
   "metadata": {
    "hidden": true
   },
   "outputs": [
    {
     "data": {
      "text/plain": [
       "True"
      ]
     },
     "execution_count": 95,
     "metadata": {},
     "output_type": "execute_result"
    }
   ],
   "source": [
    "answer('sample1', deeper_quant(sample1), 7)"
   ]
  },
  {
   "cell_type": "code",
   "execution_count": 37,
   "id": "84ce7a03",
   "metadata": {
    "hidden": true
   },
   "outputs": [
    {
     "data": {
      "text/plain": [
       "1564"
      ]
     },
     "execution_count": 37,
     "metadata": {},
     "output_type": "execute_result"
    }
   ],
   "source": [
    "deeper(inp1)"
   ]
  },
  {
   "cell_type": "code",
   "execution_count": 96,
   "id": "4862be91",
   "metadata": {
    "hidden": true
   },
   "outputs": [
    {
     "data": {
      "text/plain": [
       "True"
      ]
     },
     "execution_count": 96,
     "metadata": {},
     "output_type": "execute_result"
    }
   ],
   "source": [
    "answer(1.1, deeper_quant(inp1), 1564)"
   ]
  },
  {
   "cell_type": "markdown",
   "id": "5382bf34",
   "metadata": {
    "hidden": true
   },
   "source": [
    "Problem 2: Three-measurement sliding window. Instead of comparing one item to another, we now compare a tripplet to next tripplet."
   ]
  },
  {
   "cell_type": "code",
   "execution_count": 54,
   "id": "029ba685",
   "metadata": {
    "hidden": true
   },
   "outputs": [],
   "source": [
    "# My naive version\n",
    "def deeper2(inputs):\n",
    "    three_measurements = [x+y+z for x, y, z in \n",
    "                          zip(inputs[:-2], inputs[1:-1], inputs[2:])]\n",
    "    return sum(1 for x, y in zip(three_measurements[:-1], three_measurements[1:]) if y > x)"
   ]
  },
  {
   "cell_type": "code",
   "execution_count": 86,
   "id": "5e1eb7f7",
   "metadata": {
    "hidden": true
   },
   "outputs": [],
   "source": [
    "# Better version with quantify\n",
    "def deeper_quant2(inputs):\n",
    "    return quantify(sum(inputs[i:i+3]) < sum(inputs[i+1:i+4])\n",
    "                   for i in range(len(inputs) - 3))"
   ]
  },
  {
   "cell_type": "code",
   "execution_count": 55,
   "id": "6f6dd7d2",
   "metadata": {
    "hidden": true
   },
   "outputs": [
    {
     "data": {
      "text/plain": [
       "5"
      ]
     },
     "execution_count": 55,
     "metadata": {},
     "output_type": "execute_result"
    }
   ],
   "source": [
    "deeper2(sample1)"
   ]
  },
  {
   "cell_type": "code",
   "execution_count": 87,
   "id": "ebe4eae6",
   "metadata": {
    "hidden": true
   },
   "outputs": [
    {
     "data": {
      "text/plain": [
       "True"
      ]
     },
     "execution_count": 87,
     "metadata": {},
     "output_type": "execute_result"
    }
   ],
   "source": [
    "answer('sample1', deeper_quant2(sample1), 5)"
   ]
  },
  {
   "cell_type": "code",
   "execution_count": 56,
   "id": "c440706d",
   "metadata": {
    "hidden": true
   },
   "outputs": [
    {
     "data": {
      "text/plain": [
       "6"
      ]
     },
     "execution_count": 56,
     "metadata": {},
     "output_type": "execute_result"
    }
   ],
   "source": [
    "deeper2(inp1[:10])"
   ]
  },
  {
   "cell_type": "code",
   "execution_count": 57,
   "id": "27ed46eb",
   "metadata": {
    "hidden": true
   },
   "outputs": [
    {
     "data": {
      "text/plain": [
       "1611"
      ]
     },
     "execution_count": 57,
     "metadata": {},
     "output_type": "execute_result"
    }
   ],
   "source": [
    "deeper2(inp1)"
   ]
  },
  {
   "cell_type": "code",
   "execution_count": 88,
   "id": "6ade058e",
   "metadata": {
    "hidden": true
   },
   "outputs": [
    {
     "data": {
      "text/plain": [
       "True"
      ]
     },
     "execution_count": 88,
     "metadata": {},
     "output_type": "execute_result"
    }
   ],
   "source": [
    "answer('sample1', deeper_quant2(inp1), 1611)"
   ]
  },
  {
   "cell_type": "markdown",
   "id": "26b4351f",
   "metadata": {},
   "source": [
    "## Day 2"
   ]
  }
 ],
 "metadata": {
  "kernelspec": {
   "display_name": "Python 3 (ipykernel)",
   "language": "python",
   "name": "python3"
  },
  "language_info": {
   "codemirror_mode": {
    "name": "ipython",
    "version": 3
   },
   "file_extension": ".py",
   "mimetype": "text/x-python",
   "name": "python",
   "nbconvert_exporter": "python",
   "pygments_lexer": "ipython3",
   "version": "3.8.10"
  }
 },
 "nbformat": 4,
 "nbformat_minor": 5
}
