{
 "cells": [
  {
   "cell_type": "markdown",
   "id": "c6a5c4f4",
   "metadata": {},
   "source": [
    "# Advent of Code 2021"
   ]
  },
  {
   "cell_type": "markdown",
   "id": "4ea40a6f",
   "metadata": {},
   "source": [
    "Here, I will solve problems from Advent of Code 2021 and compare my solution with Norvig's. After a quick glance at his solutions, I make improvements on mine. "
   ]
  },
  {
   "cell_type": "markdown",
   "id": "1464f90a",
   "metadata": {},
   "source": [
    "Import libraries and utilities."
   ]
  },
  {
   "cell_type": "code",
   "execution_count": 1,
   "id": "6356d62b",
   "metadata": {},
   "outputs": [],
   "source": [
    "from __future__  import annotations\n",
    "from collections import Counter, defaultdict, namedtuple, deque\n",
    "from itertools   import permutations, combinations, chain, count as count_from, product as cross_product\n",
    "from typing      import *\n",
    "from statistics  import mean, median\n",
    "from math        import ceil, inf\n",
    "from functools   import lru_cache\n",
    "import matplotlib.pyplot as plt\n",
    "import re\n",
    "\n",
    "def answer(puzzle_number, got, expected) -> bool:\n",
    "    \"\"\"Verify the answer we got was the expected answer.\"\"\"\n",
    "    assert got == expected, f'For {puzzle_number}, expected {expected} but got {got}.'\n",
    "    return True\n",
    "\n",
    "# Now able to parse given strings\n",
    "def parse(inp, parser=str, sep='\\n', print_lines=7) -> tuple:\n",
    "    \"\"\"Split the day's input file into entries separated by `sep`, \n",
    "    and apply `parser` to each. If a string is given, parse it instad.\"\"\"\n",
    "    if isinstance(inp, int):\n",
    "        title = f'input{inp}.txt' # Suited to my needs\n",
    "        text  = open(title).read()\n",
    "    elif isinstance(inp, str):\n",
    "        title = 'sample'\n",
    "        text = inp.strip()\n",
    "    entries = mapt(parser, text.rstrip().split(sep))\n",
    "    if print_lines:\n",
    "        all_lines = text.splitlines()\n",
    "        lines = all_lines[:print_lines]\n",
    "        head = f'{title} ➜ {len(text)} chars, {len(all_lines)} lines; first {len(lines)} lines:'\n",
    "        dash = \"-\" * 100\n",
    "        print(f'{dash}\\n{head}\\n{dash}')\n",
    "        for line in lines:\n",
    "            print(trunc(line))\n",
    "        print(f'{dash}\\nparse({inp}) ➜ {len(entries)} entries:\\n'\n",
    "              f'{dash}\\n{trunc(str(entries))}\\n{dash}')\n",
    "    return entries\n",
    "\n",
    "def trunc(s: str, left=70, right=25, dots=' ... ') -> str: \n",
    "    \"\"\"All of string s if it fits; else left and right ends of s with dots in the middle.\"\"\"\n",
    "#     dots = ' ... ' No need\n",
    "    return s if len(s) <= left + right + len(dots) else s[:left] + dots + s[-right:]\n",
    "\n",
    "Char = str # Intended as the type of a one-character string\n",
    "Atom = Union[float, int, str]\n",
    "\n",
    "def ints(text: str) -> Tuple[int]:\n",
    "    \"\"\"A tuple of all the integers in text, ignoring non-number characters.\"\"\"\n",
    "    return mapt(int, re.findall(r'-?[0-9]+', text))\n",
    "\n",
    "def digits(text: str) -> Tuple[int]:\n",
    "    \"\"\"A tuple of all the digits in text (as ints 0–9), ignoring non-digit characters.\"\"\"\n",
    "    return mapt(int, re.findall(r'[0-9]', text))\n",
    "\n",
    "def words(text: str) -> List[str]:\n",
    "    \"\"\"A list of all the alphabetic words in text, ignoring non-letters.\"\"\"\n",
    "    return re.findall(r'[a-zA-Z]+', text)\n",
    "\n",
    "def atoms(text: str) -> Tuple[Atom]:\n",
    "    \"\"\"A tuple of all the atoms (numbers or symbol names) in text.\"\"\"\n",
    "    return mapt(atom, re.findall(r'[a-zA-Z_0-9.+-]+', text))\n",
    "\n",
    "def atom(text: str) -> Atom:\n",
    "    \"\"\"Parse text into a single float or int or str.\"\"\"\n",
    "    try:\n",
    "        x = float(text)\n",
    "        return round(x) if round(x) == x else x\n",
    "    except ValueError:\n",
    "        return text\n",
    "    \n",
    "def mapt(fn, *args) -> tuple:\n",
    "    \"\"\"map(fn, *args) and return the result as a tuple.\"\"\"\n",
    "    return tuple(map(fn, *args))\n",
    "\n",
    "def quantify(iterable, pred=bool) -> int:\n",
    "    \"\"\"Count the number of items in iterable for which pred is true.\"\"\"\n",
    "    return sum(1 for item in iterable if pred(item))\n",
    "\n",
    "class multimap(defaultdict):\n",
    "    \"\"\"A mapping of {key: [val1, val2, ...]}.\"\"\"\n",
    "    def __init__(self, pairs: Iterable[tuple], symmetric=False):\n",
    "        \"\"\"Given (key, val) pairs, return {key: [val, ...], ...}.\n",
    "        If `symmetric` is True, treat (key, val) as (key, val) plus (val, key).\"\"\"\n",
    "        self.default_factory = list\n",
    "        for (key, val) in pairs:\n",
    "            self[key].append(val)\n",
    "            if symmetric:\n",
    "                self[val].append(key)\n",
    "\n",
    "def prod(numbers) -> float: # Will be math.prod in Python 3.8\n",
    "    \"\"\"The product formed by multiplying `numbers` together.\"\"\"\n",
    "    result = 1\n",
    "    for x in numbers:\n",
    "        result *= x\n",
    "    return result\n",
    "\n",
    "def total(counter: Counter) -> int: \n",
    "    \"\"\"The sum of all the counts in a Counter.\"\"\"\n",
    "    return sum(counter.values())\n",
    "\n",
    "def sign(x) -> int: return (0 if x == 0 else +1 if x > 0 else -1)\n",
    "\n",
    "def transpose(matrix) -> list: return list(zip(*matrix))\n",
    "\n",
    "def nothing(*args) -> None: return None\n",
    "\n",
    "cat     = ''.join\n",
    "flatten = chain.from_iterable\n",
    "cache   = lru_cache(None)\n",
    "\n",
    "Point = Tuple[int, int] # (x, y) points on a grid\n",
    "\n",
    "neighbors4 = ((0, 1), (1, 0), (0, -1), (-1, 0))               \n",
    "neighbors8 = ((1, 1), (1, -1), (-1, 1), (-1, -1)) + neighbors4\n",
    "\n",
    "class Grid(dict):\n",
    "    \"\"\"A 2D grid, implemented as a mapping of {(x, y): cell_contents}.\"\"\"\n",
    "    def __init__(self, mapping=(), rows=(), neighbors=neighbors4):\n",
    "        \"\"\"Initialize with, e.g., either `mapping={(0, 0): 1, (1, 0): 2, ...}`,\n",
    "        or `rows=[(1, 2, 3), (4, 5, 6)].\n",
    "        `neighbors` is a collection of (dx, dy) deltas to neighboring points.`\"\"\"\n",
    "        self.update(mapping if mapping else\n",
    "                    {(x, y): val \n",
    "                     for y, row in enumerate(rows) \n",
    "                     for x, val in enumerate(row)})\n",
    "        self.width  = max(x for x, y in self) + 1\n",
    "        self.height = max(y for x, y in self) + 1\n",
    "        self.deltas = neighbors\n",
    "        \n",
    "    def copy(self) -> Grid: return Grid(self, neighbors=self.deltas)\n",
    "    \n",
    "    def neighbors(self, point) -> List[Point]:\n",
    "        \"\"\"Points on the grid that neighbor `point`.\"\"\"\n",
    "        x, y = point\n",
    "        return [(x+dx, y+dy) for (dx, dy) in self.deltas \n",
    "                if (x+dx, y+dy) in self]\n",
    "    \n",
    "    def to_rows(self) -> List[List[object]]:\n",
    "        \"\"\"The contents of the grid in a rectangular list of lists.\"\"\"\n",
    "        return [[self[x, y] for x in range(self.width)]\n",
    "                for y in range(self.height)]"
   ]
  },
  {
   "cell_type": "markdown",
   "id": "47958130",
   "metadata": {
    "heading_collapsed": true
   },
   "source": [
    "## Day 1"
   ]
  },
  {
   "cell_type": "markdown",
   "id": "443fbe98",
   "metadata": {
    "hidden": true
   },
   "source": [
    "Problem 1.1: How many times the value increased from the previous one?"
   ]
  },
  {
   "cell_type": "code",
   "execution_count": 3,
   "id": "5774d9ec",
   "metadata": {
    "hidden": true
   },
   "outputs": [
    {
     "name": "stdout",
     "output_type": "stream",
     "text": [
      "----------------------------------------------------------------------------------------------------\n",
      "input1.txt ➜ 9797 chars, 2000 lines; first 7 lines:\n",
      "----------------------------------------------------------------------------------------------------\n",
      "178\n",
      "205\n",
      "212\n",
      "210\n",
      "215\n",
      "220\n",
      "223\n",
      "----------------------------------------------------------------------------------------------------\n",
      "parse(1) ➜ 2000 entries:\n",
      "----------------------------------------------------------------------------------------------------\n",
      "(178, 205, 212, 210, 215, 220, 223, 224, 230, 232, 235, 225, 226, 227, ... , 8741, 8750, 8753, 8755)\n",
      "----------------------------------------------------------------------------------------------------\n"
     ]
    }
   ],
   "source": [
    "inp1 = parse(1, parser=int)"
   ]
  },
  {
   "cell_type": "code",
   "execution_count": 4,
   "id": "a7c8f1ef",
   "metadata": {
    "hidden": true
   },
   "outputs": [],
   "source": [
    "# A sample provided by Advent of Code\n",
    "sample1 = [199, 200, 208, 210, 200, 207, 240, 269, 260, 263]"
   ]
  },
  {
   "cell_type": "code",
   "execution_count": 5,
   "id": "c3e05925",
   "metadata": {
    "hidden": true
   },
   "outputs": [],
   "source": [
    "# My naive attempt to solve\n",
    "def deeper(inputs):\n",
    "    return sum(1 for x, y in zip(inputs[:-1], inputs[1:]) if y > x)"
   ]
  },
  {
   "cell_type": "code",
   "execution_count": 6,
   "id": "4dd871a3",
   "metadata": {
    "hidden": true
   },
   "outputs": [],
   "source": [
    "# Way better version with quantify adopted from Norvig\n",
    "def deeper_quant(inputs):\n",
    "    return quantify(inputs[i + 1] > inputs[i] for i in range(len(inputs) - 1))"
   ]
  },
  {
   "cell_type": "code",
   "execution_count": 7,
   "id": "e54fe868",
   "metadata": {
    "hidden": true
   },
   "outputs": [
    {
     "data": {
      "text/plain": [
       "7"
      ]
     },
     "execution_count": 7,
     "metadata": {},
     "output_type": "execute_result"
    }
   ],
   "source": [
    "deeper(sample1)"
   ]
  },
  {
   "cell_type": "code",
   "execution_count": 8,
   "id": "2702db2f",
   "metadata": {
    "hidden": true
   },
   "outputs": [
    {
     "data": {
      "text/plain": [
       "True"
      ]
     },
     "execution_count": 8,
     "metadata": {},
     "output_type": "execute_result"
    }
   ],
   "source": [
    "answer('sample1', deeper_quant(sample1), 7)"
   ]
  },
  {
   "cell_type": "code",
   "execution_count": 9,
   "id": "84ce7a03",
   "metadata": {
    "hidden": true
   },
   "outputs": [
    {
     "data": {
      "text/plain": [
       "1676"
      ]
     },
     "execution_count": 9,
     "metadata": {},
     "output_type": "execute_result"
    }
   ],
   "source": [
    "deeper(inp1)"
   ]
  },
  {
   "cell_type": "code",
   "execution_count": 11,
   "id": "4862be91",
   "metadata": {
    "hidden": true
   },
   "outputs": [
    {
     "data": {
      "text/plain": [
       "True"
      ]
     },
     "execution_count": 11,
     "metadata": {},
     "output_type": "execute_result"
    }
   ],
   "source": [
    "answer(1.1, deeper_quant(inp1), 1676)"
   ]
  },
  {
   "cell_type": "markdown",
   "id": "5382bf34",
   "metadata": {
    "hidden": true
   },
   "source": [
    "Problem 1.2: Three-measurement sliding window. Instead of comparing one item to another, we now compare a tripplet to next tripplet."
   ]
  },
  {
   "cell_type": "code",
   "execution_count": 12,
   "id": "029ba685",
   "metadata": {
    "hidden": true
   },
   "outputs": [],
   "source": [
    "# My naive version\n",
    "def deeper2(inputs):\n",
    "    three_measurements = [x+y+z for x, y, z in \n",
    "                          zip(inputs[:-2], inputs[1:-1], inputs[2:])]\n",
    "    return sum(1 for x, y in zip(three_measurements[:-1], three_measurements[1:]) if y > x)"
   ]
  },
  {
   "cell_type": "code",
   "execution_count": 13,
   "id": "5e1eb7f7",
   "metadata": {
    "hidden": true
   },
   "outputs": [],
   "source": [
    "# Better version with quantify\n",
    "def deeper_quant2(inputs):\n",
    "    return quantify(sum(inputs[i:i+3]) < sum(inputs[i+1:i+4])\n",
    "                   for i in range(len(inputs) - 3))"
   ]
  },
  {
   "cell_type": "code",
   "execution_count": 14,
   "id": "6f6dd7d2",
   "metadata": {
    "hidden": true
   },
   "outputs": [
    {
     "data": {
      "text/plain": [
       "5"
      ]
     },
     "execution_count": 14,
     "metadata": {},
     "output_type": "execute_result"
    }
   ],
   "source": [
    "deeper2(sample1)"
   ]
  },
  {
   "cell_type": "code",
   "execution_count": 15,
   "id": "ebe4eae6",
   "metadata": {
    "hidden": true
   },
   "outputs": [
    {
     "data": {
      "text/plain": [
       "True"
      ]
     },
     "execution_count": 15,
     "metadata": {},
     "output_type": "execute_result"
    }
   ],
   "source": [
    "answer('sample1', deeper_quant2(sample1), 5)"
   ]
  },
  {
   "cell_type": "code",
   "execution_count": 16,
   "id": "c440706d",
   "metadata": {
    "hidden": true
   },
   "outputs": [
    {
     "data": {
      "text/plain": [
       "7"
      ]
     },
     "execution_count": 16,
     "metadata": {},
     "output_type": "execute_result"
    }
   ],
   "source": [
    "deeper2(inp1[:10])"
   ]
  },
  {
   "cell_type": "code",
   "execution_count": 17,
   "id": "27ed46eb",
   "metadata": {
    "hidden": true
   },
   "outputs": [
    {
     "data": {
      "text/plain": [
       "1706"
      ]
     },
     "execution_count": 17,
     "metadata": {},
     "output_type": "execute_result"
    }
   ],
   "source": [
    "deeper2(inp1)"
   ]
  },
  {
   "cell_type": "code",
   "execution_count": 88,
   "id": "6ade058e",
   "metadata": {
    "hidden": true
   },
   "outputs": [
    {
     "data": {
      "text/plain": [
       "True"
      ]
     },
     "execution_count": 88,
     "metadata": {},
     "output_type": "execute_result"
    }
   ],
   "source": [
    "answer('sample1', deeper_quant2(inp1), 1611)"
   ]
  },
  {
   "cell_type": "markdown",
   "id": "26b4351f",
   "metadata": {
    "heading_collapsed": true
   },
   "source": [
    "## Day 2"
   ]
  },
  {
   "cell_type": "markdown",
   "id": "becb2cc4",
   "metadata": {
    "hidden": true
   },
   "source": [
    "Problem 2.1: What is the product of distance travelled? "
   ]
  },
  {
   "cell_type": "code",
   "execution_count": 18,
   "id": "efbc89bf",
   "metadata": {
    "hidden": true
   },
   "outputs": [
    {
     "name": "stdout",
     "output_type": "stream",
     "text": [
      "----------------------------------------------------------------------------------------------------\n",
      "input2.txt ➜ 7733 chars, 1000 lines; first 7 lines:\n",
      "----------------------------------------------------------------------------------------------------\n",
      "forward 6\n",
      "forward 9\n",
      "down 9\n",
      "down 7\n",
      "forward 8\n",
      "down 4\n",
      "forward 7\n",
      "----------------------------------------------------------------------------------------------------\n",
      "parse(2) ➜ 1000 entries:\n",
      "----------------------------------------------------------------------------------------------------\n",
      "(['forward', '6'], ['forward', '9'], ['down', '9'], ['down', '7'], ['f ... , '3'], ['forward', '5'])\n",
      "----------------------------------------------------------------------------------------------------\n"
     ]
    }
   ],
   "source": [
    "inp2 = parse(2, parser=lambda x: x.split() )"
   ]
  },
  {
   "cell_type": "code",
   "execution_count": 19,
   "id": "39549fa0",
   "metadata": {
    "hidden": true
   },
   "outputs": [
    {
     "data": {
      "text/plain": [
       "[0, 0]"
      ]
     },
     "execution_count": 19,
     "metadata": {},
     "output_type": "execute_result"
    }
   ],
   "source": [
    "point = [0, 0]\n",
    "point"
   ]
  },
  {
   "cell_type": "code",
   "execution_count": 20,
   "id": "b0e3b717",
   "metadata": {
    "hidden": true
   },
   "outputs": [],
   "source": [
    "def dive(point, direction):\n",
    "    \"\"\"Follow direction from the point.\"\"\"\n",
    "    heading, distance = direction\n",
    "    distance = int(distance)\n",
    "    if heading == 'forward':\n",
    "        point[0] += distance\n",
    "    elif heading == 'down':\n",
    "        point[1] += distance\n",
    "    elif heading == 'up':\n",
    "        point[1] -= distance\n",
    "    else:\n",
    "        raise ValueError('Invalid direction')"
   ]
  },
  {
   "cell_type": "code",
   "execution_count": 21,
   "id": "62fa3125",
   "metadata": {
    "hidden": true
   },
   "outputs": [
    {
     "name": "stdout",
     "output_type": "stream",
     "text": [
      "----------------------------------------------------------------------------------------------------\n",
      "sample ➜ 48 chars, 6 lines; first 6 lines:\n",
      "----------------------------------------------------------------------------------------------------\n",
      "forward 5\n",
      "down 5\n",
      "forward 8\n",
      "up 3\n",
      "down 8\n",
      "forward 2\n",
      "----------------------------------------------------------------------------------------------------\n",
      "parse(\n",
      "forward 5\n",
      "down 5\n",
      "forward 8\n",
      "up 3\n",
      "down 8\n",
      "forward 2\n",
      ") ➜ 6 entries:\n",
      "----------------------------------------------------------------------------------------------------\n",
      "(['forward', '5'], ['down', '5'], ['forward', '8'], ['up', '3'], ['down', '8'], ['forward', '2'])\n",
      "----------------------------------------------------------------------------------------------------\n"
     ]
    }
   ],
   "source": [
    "sample_inp2 = '''\n",
    "forward 5\n",
    "down 5\n",
    "forward 8\n",
    "up 3\n",
    "down 8\n",
    "forward 2\n",
    "'''\n",
    "samples2 = parse(sample_inp2, parser=lambda x: x.split())"
   ]
  },
  {
   "cell_type": "code",
   "execution_count": 22,
   "id": "363c43e4",
   "metadata": {
    "hidden": true
   },
   "outputs": [],
   "source": [
    "def solve2_1(directions):\n",
    "    \"\"\"Solve problem 2.1\"\"\"\n",
    "    point = [0, 0]\n",
    "    for direction in directions:\n",
    "        dive(point, direction)\n",
    "    return prod(point)"
   ]
  },
  {
   "cell_type": "code",
   "execution_count": 23,
   "id": "3f7134d7",
   "metadata": {
    "hidden": true
   },
   "outputs": [
    {
     "data": {
      "text/plain": [
       "True"
      ]
     },
     "execution_count": 23,
     "metadata": {},
     "output_type": "execute_result"
    }
   ],
   "source": [
    "answer('sample 2.1', solve2_1(samples2), 150)"
   ]
  },
  {
   "cell_type": "code",
   "execution_count": 24,
   "id": "3e7e43d1",
   "metadata": {
    "hidden": true
   },
   "outputs": [
    {
     "data": {
      "text/plain": [
       "2027977"
      ]
     },
     "execution_count": 24,
     "metadata": {},
     "output_type": "execute_result"
    }
   ],
   "source": [
    "solve2_1(inp2)"
   ]
  },
  {
   "cell_type": "markdown",
   "id": "8b7df1a7",
   "metadata": {
    "hidden": true
   },
   "source": [
    "Problem 2.2: Now, down increases aim by X, up decreases aim by X, and forward moves horizontal distance and increases depth by aim multiplied by X."
   ]
  },
  {
   "cell_type": "code",
   "execution_count": 25,
   "id": "1fe59756",
   "metadata": {
    "hidden": true
   },
   "outputs": [],
   "source": [
    "def dive2(point, direction):\n",
    "    \"\"\"Follow direction from the point with aim.\"\"\"\n",
    "    heading, distance = direction\n",
    "    distance = int(distance)\n",
    "    if heading == 'forward':\n",
    "        point[0] += distance\n",
    "        point[1] += point[2] * distance\n",
    "    elif heading == 'down':\n",
    "        point[2] += distance\n",
    "    elif heading == 'up':\n",
    "        point[2] -= distance\n",
    "    else:\n",
    "        raise ValueError('Invalid direction')"
   ]
  },
  {
   "cell_type": "code",
   "execution_count": 26,
   "id": "c4c317fe",
   "metadata": {
    "hidden": true
   },
   "outputs": [],
   "source": [
    "def solve2_2(directions):\n",
    "    \"\"\"Solve problem 2.2\"\"\"\n",
    "    point = [0, 0, 0] # x, y, aim\n",
    "    for direction in directions:\n",
    "        dive2(point, direction)\n",
    "    return point[0] * point[1]"
   ]
  },
  {
   "cell_type": "code",
   "execution_count": 27,
   "id": "285680c2",
   "metadata": {
    "hidden": true
   },
   "outputs": [
    {
     "data": {
      "text/plain": [
       "True"
      ]
     },
     "execution_count": 27,
     "metadata": {},
     "output_type": "execute_result"
    }
   ],
   "source": [
    "answer('sample 2.2', solve2_2(samples2), 900)"
   ]
  },
  {
   "cell_type": "code",
   "execution_count": 28,
   "id": "35390f3f",
   "metadata": {
    "hidden": true
   },
   "outputs": [
    {
     "data": {
      "text/plain": [
       "1903644897"
      ]
     },
     "execution_count": 28,
     "metadata": {},
     "output_type": "execute_result"
    }
   ],
   "source": [
    "solve2_2(inp2)"
   ]
  },
  {
   "cell_type": "markdown",
   "id": "df699662",
   "metadata": {
    "hidden": true
   },
   "source": [
    "I used a list to store x, y, and aim, but I did not have to. Because it is such a simple problem, Norvig did not bother making a list. When parsing the input, I splitted the inputs by using lambda function, but atoms function can do exactly what I wanted to achieve by parsing integer as int."
   ]
  },
  {
   "cell_type": "code",
   "execution_count": 97,
   "id": "d1eafb4b",
   "metadata": {
    "hidden": true
   },
   "outputs": [
    {
     "name": "stdout",
     "output_type": "stream",
     "text": [
      "----------------------------------------------------------------------------------------------------\n",
      "input2.txt ➜ 7793 chars, 1000 lines; first 7 lines:\n",
      "----------------------------------------------------------------------------------------------------\n",
      "forward 6\n",
      "down 2\n",
      "forward 2\n",
      "down 8\n",
      "forward 3\n",
      "down 6\n",
      "down 8\n",
      "----------------------------------------------------------------------------------------------------\n",
      "parse(2) ➜ 1000 entries:\n",
      "----------------------------------------------------------------------------------------------------\n",
      "(('forward', 6), ('down', 2), ('forward', 2), ('down', 8), ('forward', ... own', 9), ('forward', 8))\n",
      "----------------------------------------------------------------------------------------------------\n"
     ]
    }
   ],
   "source": [
    "inp2 = parse(2, atoms)"
   ]
  },
  {
   "cell_type": "code",
   "execution_count": 104,
   "id": "87449ad7",
   "metadata": {
    "hidden": true
   },
   "outputs": [
    {
     "name": "stdout",
     "output_type": "stream",
     "text": [
      "----------------------------------------------------------------------------------------------------\n",
      "sample ➜ 48 chars, 6 lines; first 6 lines:\n",
      "----------------------------------------------------------------------------------------------------\n",
      "forward 5\n",
      "down 5\n",
      "forward 8\n",
      "up 3\n",
      "down 8\n",
      "forward 2\n",
      "----------------------------------------------------------------------------------------------------\n",
      "parse(\n",
      "forward 5\n",
      "down 5\n",
      "forward 8\n",
      "up 3\n",
      "down 8\n",
      "forward 2\n",
      ") ➜ 6 entries:\n",
      "----------------------------------------------------------------------------------------------------\n",
      "(('forward', 5), ('down', 5), ('forward', 8), ('up', 3), ('down', 8), ('forward', 2))\n",
      "----------------------------------------------------------------------------------------------------\n"
     ]
    }
   ],
   "source": [
    "sample_inp2 = '''\n",
    "forward 5\n",
    "down 5\n",
    "forward 8\n",
    "up 3\n",
    "down 8\n",
    "forward 2\n",
    "'''\n",
    "samples2 = parse(sample_inp2, atoms)"
   ]
  },
  {
   "cell_type": "code",
   "execution_count": 110,
   "id": "67291ed9",
   "metadata": {
    "hidden": true
   },
   "outputs": [],
   "source": [
    "def improved_solve2_1(directions):\n",
    "    x = y = 0\n",
    "    for heading, n in directions:\n",
    "        if heading == 'forward': x += n\n",
    "        elif heading == 'down': y += n\n",
    "        elif heading == 'up': y -= n\n",
    "    return x * y"
   ]
  },
  {
   "cell_type": "code",
   "execution_count": 111,
   "id": "24f04270",
   "metadata": {
    "hidden": true
   },
   "outputs": [
    {
     "data": {
      "text/plain": [
       "True"
      ]
     },
     "execution_count": 111,
     "metadata": {},
     "output_type": "execute_result"
    }
   ],
   "source": [
    "answer('improved sample 2.1', improved_solve2_1(samples2), 150)"
   ]
  },
  {
   "cell_type": "code",
   "execution_count": 112,
   "id": "4d4afa4c",
   "metadata": {
    "hidden": true
   },
   "outputs": [
    {
     "data": {
      "text/plain": [
       "True"
      ]
     },
     "execution_count": 112,
     "metadata": {},
     "output_type": "execute_result"
    }
   ],
   "source": [
    "answer('improved 2.1', improved_solve2_1(inp2), 2322630)"
   ]
  },
  {
   "cell_type": "code",
   "execution_count": 113,
   "id": "eb8cb325",
   "metadata": {
    "hidden": true
   },
   "outputs": [],
   "source": [
    "def improved_solve_2_2(directions):\n",
    "    x = y = aim = 0\n",
    "    for heading, n in directions:\n",
    "        if heading == 'forward': \n",
    "            x += n\n",
    "            y += n * aim\n",
    "        elif heading == 'down': \n",
    "            aim += n\n",
    "        elif heading == 'up': \n",
    "            aim -= n\n",
    "    return x * y"
   ]
  },
  {
   "cell_type": "code",
   "execution_count": 114,
   "id": "b7bd25f4",
   "metadata": {
    "hidden": true
   },
   "outputs": [
    {
     "data": {
      "text/plain": [
       "True"
      ]
     },
     "execution_count": 114,
     "metadata": {},
     "output_type": "execute_result"
    }
   ],
   "source": [
    "answer('sample 2.2', solve2_2(samples2), 900)"
   ]
  },
  {
   "cell_type": "code",
   "execution_count": 115,
   "id": "48e0d766",
   "metadata": {
    "hidden": true
   },
   "outputs": [
    {
     "data": {
      "text/plain": [
       "True"
      ]
     },
     "execution_count": 115,
     "metadata": {},
     "output_type": "execute_result"
    }
   ],
   "source": [
    "answer('sample 2.2', solve2_2(inp2), 2105273490)"
   ]
  },
  {
   "cell_type": "markdown",
   "id": "fbb71548",
   "metadata": {
    "heading_collapsed": true
   },
   "source": [
    "## Day 3"
   ]
  },
  {
   "cell_type": "markdown",
   "id": "e8d9acc0",
   "metadata": {
    "hidden": true
   },
   "source": [
    "Problem 3.1: What is a value of the most and least common digits in binary, convert them to decimal, then multiplied together?"
   ]
  },
  {
   "cell_type": "code",
   "execution_count": 29,
   "id": "1d476c1c",
   "metadata": {
    "hidden": true
   },
   "outputs": [
    {
     "name": "stdout",
     "output_type": "stream",
     "text": [
      "----------------------------------------------------------------------------------------------------\n",
      "input3.txt ➜ 12999 chars, 1000 lines; first 7 lines:\n",
      "----------------------------------------------------------------------------------------------------\n",
      "101001100010\n",
      "010100001011\n",
      "010010010101\n",
      "110100011010\n",
      "001100100001\n",
      "111111110110\n",
      "000000101100\n",
      "----------------------------------------------------------------------------------------------------\n",
      "parse(3) ➜ 1000 entries:\n",
      "----------------------------------------------------------------------------------------------------\n",
      "('101001100010', '010100001011', '010010010101', '110100011010', '0011 ... 1101111', '010100000111')\n",
      "----------------------------------------------------------------------------------------------------\n"
     ]
    }
   ],
   "source": [
    "inp3 = parse(3, lambda x: x)"
   ]
  },
  {
   "cell_type": "code",
   "execution_count": 30,
   "id": "c7fde88e",
   "metadata": {
    "hidden": true
   },
   "outputs": [
    {
     "data": {
      "text/plain": [
       "[('1', '0', '0'), ('0', '1', '0'), ('0', '1', '0'), ('1', '1', '0')]"
      ]
     },
     "execution_count": 30,
     "metadata": {},
     "output_type": "execute_result"
    }
   ],
   "source": [
    "nums = list(zip('1001', '0111', '0000'))\n",
    "nums"
   ]
  },
  {
   "cell_type": "code",
   "execution_count": 31,
   "id": "b870a8c6",
   "metadata": {
    "hidden": true
   },
   "outputs": [
    {
     "data": {
      "text/plain": [
       "[('0', 2), ('1', 1)]"
      ]
     },
     "execution_count": 31,
     "metadata": {},
     "output_type": "execute_result"
    }
   ],
   "source": [
    "c = Counter(nums[0])\n",
    "c.most_common()"
   ]
  },
  {
   "cell_type": "code",
   "execution_count": 32,
   "id": "4eb25fff",
   "metadata": {
    "hidden": true
   },
   "outputs": [
    {
     "data": {
      "text/plain": [
       "'0'"
      ]
     },
     "execution_count": 32,
     "metadata": {},
     "output_type": "execute_result"
    }
   ],
   "source": [
    "c.most_common()[0][0]"
   ]
  },
  {
   "cell_type": "code",
   "execution_count": 33,
   "id": "eb5b4481",
   "metadata": {
    "hidden": true
   },
   "outputs": [
    {
     "data": {
      "text/plain": [
       "[1, 2]"
      ]
     },
     "execution_count": 33,
     "metadata": {},
     "output_type": "execute_result"
    }
   ],
   "source": [
    "list(c.values())"
   ]
  },
  {
   "cell_type": "code",
   "execution_count": 34,
   "id": "95eed484",
   "metadata": {
    "hidden": true
   },
   "outputs": [
    {
     "data": {
      "text/plain": [
       "2"
      ]
     },
     "execution_count": 34,
     "metadata": {},
     "output_type": "execute_result"
    }
   ],
   "source": [
    "int('0b10', 2)"
   ]
  },
  {
   "cell_type": "code",
   "execution_count": 35,
   "id": "38223abc",
   "metadata": {
    "hidden": true
   },
   "outputs": [
    {
     "name": "stdout",
     "output_type": "stream",
     "text": [
      "----------------------------------------------------------------------------------------------------\n",
      "sample ➜ 71 chars, 12 lines; first 7 lines:\n",
      "----------------------------------------------------------------------------------------------------\n",
      "00100\n",
      "11110\n",
      "10110\n",
      "10111\n",
      "10101\n",
      "01111\n",
      "00111\n",
      "----------------------------------------------------------------------------------------------------\n",
      "parse(\n",
      "00100\n",
      "11110\n",
      "10110\n",
      "10111\n",
      "10101\n",
      "01111\n",
      "00111\n",
      "11100\n",
      "10000\n",
      "11001\n",
      "00010\n",
      "01010\n",
      ") ➜ 12 entries:\n",
      "----------------------------------------------------------------------------------------------------\n",
      "('00100', '11110', '10110', '10111', '10101', '01111', '00111', '11100 ... 11001', '00010', '01010')\n",
      "----------------------------------------------------------------------------------------------------\n"
     ]
    }
   ],
   "source": [
    "sample_inp3 = '''\n",
    "00100\n",
    "11110\n",
    "10110\n",
    "10111\n",
    "10101\n",
    "01111\n",
    "00111\n",
    "11100\n",
    "10000\n",
    "11001\n",
    "00010\n",
    "01010\n",
    "'''\n",
    "samples3 = parse(sample_inp3)"
   ]
  },
  {
   "cell_type": "code",
   "execution_count": 36,
   "id": "5447e32a",
   "metadata": {
    "hidden": true
   },
   "outputs": [],
   "source": [
    "def get_commons(iterable, rank=0):\n",
    "    \"\"\"Grab the most common item from an iterable and convert it to decimal number.\"\"\"\n",
    "    return int(cat(Counter(inp).most_common()[rank][0] for inp in zip(*iterable)), 2)"
   ]
  },
  {
   "cell_type": "code",
   "execution_count": 37,
   "id": "ac16bc35",
   "metadata": {
    "hidden": true
   },
   "outputs": [],
   "source": [
    "def solve3_1(iterable):\n",
    "    return get_commons(iterable) * get_commons(iterable, 1)"
   ]
  },
  {
   "cell_type": "code",
   "execution_count": 38,
   "id": "1a141523",
   "metadata": {
    "hidden": true
   },
   "outputs": [
    {
     "data": {
      "text/plain": [
       "True"
      ]
     },
     "execution_count": 38,
     "metadata": {},
     "output_type": "execute_result"
    }
   ],
   "source": [
    "answer('sample3.1', get_commons(samples3), 22)"
   ]
  },
  {
   "cell_type": "code",
   "execution_count": 39,
   "id": "5b50efd9",
   "metadata": {
    "hidden": true
   },
   "outputs": [
    {
     "data": {
      "text/plain": [
       "True"
      ]
     },
     "execution_count": 39,
     "metadata": {},
     "output_type": "execute_result"
    }
   ],
   "source": [
    "answer('sample3.1', get_commons(samples3, 1), 9)"
   ]
  },
  {
   "cell_type": "code",
   "execution_count": 40,
   "id": "8638a4c8",
   "metadata": {
    "hidden": true
   },
   "outputs": [
    {
     "data": {
      "text/plain": [
       "True"
      ]
     },
     "execution_count": 40,
     "metadata": {},
     "output_type": "execute_result"
    }
   ],
   "source": [
    "answer('sample3.1', solve3_1(samples3), 198)"
   ]
  },
  {
   "cell_type": "code",
   "execution_count": 41,
   "id": "5bbab179",
   "metadata": {
    "hidden": true
   },
   "outputs": [
    {
     "data": {
      "text/plain": [
       "741950"
      ]
     },
     "execution_count": 41,
     "metadata": {},
     "output_type": "execute_result"
    }
   ],
   "source": [
    "solve3_1(inp3)"
   ]
  },
  {
   "cell_type": "markdown",
   "id": "1927500f",
   "metadata": {
    "hidden": true
   },
   "source": [
    "Problem 3.2: We need to find O2 generator rating and CO2 scrubber rating. Here is how we find O2 generator rating. For first digit, find a most frequent digit, and filter numbers with that digit. Keep doing it until the last number is left or if there is a tie. If tie, keep the number with 1. To find CO2 scrubber rating, grab second frequent digits, and if there is a tie, grab a digit with 0. Then multiply O2 generator rating with CO2 scrubber rating."
   ]
  },
  {
   "cell_type": "code",
   "execution_count": 42,
   "id": "f8319fc2",
   "metadata": {
    "hidden": true
   },
   "outputs": [
    {
     "name": "stdout",
     "output_type": "stream",
     "text": [
      "0 checked\n",
      "2 checked\n",
      "4 checked\n"
     ]
    },
    {
     "data": {
      "text/plain": [
       "[1, 3, 5, 6, 7, 8, 9]"
      ]
     },
     "execution_count": 42,
     "metadata": {},
     "output_type": "execute_result"
    }
   ],
   "source": [
    "l = list(range(10))\n",
    "for n in l:\n",
    "    if len(l) == 7:\n",
    "        break\n",
    "    if n % 2 == 0:\n",
    "        l.remove(n)\n",
    "    print(f'{n} checked')\n",
    "l"
   ]
  },
  {
   "cell_type": "code",
   "execution_count": 43,
   "id": "5781b19b",
   "metadata": {
    "hidden": true
   },
   "outputs": [],
   "source": [
    "def get_commons2(iterable, rank=0):\n",
    "    \"\"\"For each digit, count occurrences and find a comparing number to compare.\n",
    "    Compare the number with result and filter out ones that don't satisfy the condition.\"\"\"\n",
    "    result = list(iterable)\n",
    "    for i in range(len(iterable[0])):\n",
    "        if len(result) == 1:\n",
    "            return result[0]\n",
    "        compare = find_comparing_num(result, rank, i)\n",
    "        result = list(filter(lambda x: x[i] == compare, result))\n",
    "    return result[0]\n",
    "\n",
    "def find_comparing_num(result, rank, i):\n",
    "    \"\"\"Find a number to compare with result by checking 'i'th digit of result.\"\"\"\n",
    "    most_common = Counter(res[i] for res in result).most_common()\n",
    "    compare = most_common[rank][0] \n",
    "    if most_common[0][1] == most_common[1][1]:\n",
    "        if rank == 0:\n",
    "            compare = '1'\n",
    "        else:\n",
    "            compare = '0'\n",
    "    return compare"
   ]
  },
  {
   "cell_type": "code",
   "execution_count": 44,
   "id": "4e7be37d",
   "metadata": {
    "hidden": true
   },
   "outputs": [
    {
     "data": {
      "text/plain": [
       "True"
      ]
     },
     "execution_count": 44,
     "metadata": {},
     "output_type": "execute_result"
    }
   ],
   "source": [
    "answer(3.2, get_commons2(samples3), '10111')"
   ]
  },
  {
   "cell_type": "code",
   "execution_count": 45,
   "id": "7bbe720d",
   "metadata": {
    "hidden": true
   },
   "outputs": [
    {
     "data": {
      "text/plain": [
       "True"
      ]
     },
     "execution_count": 45,
     "metadata": {},
     "output_type": "execute_result"
    }
   ],
   "source": [
    "answer(3.2, get_commons2(samples3, 1), '01010')"
   ]
  },
  {
   "cell_type": "code",
   "execution_count": 46,
   "id": "17a2715c",
   "metadata": {
    "hidden": true
   },
   "outputs": [],
   "source": [
    "def solve3_2(inputs):\n",
    "    return int(get_commons2(inputs), 2) * int(get_commons2(inputs, 1), 2)"
   ]
  },
  {
   "cell_type": "code",
   "execution_count": 47,
   "id": "e0f173f7",
   "metadata": {
    "hidden": true
   },
   "outputs": [
    {
     "data": {
      "text/plain": [
       "True"
      ]
     },
     "execution_count": 47,
     "metadata": {},
     "output_type": "execute_result"
    }
   ],
   "source": [
    "answer('sample3.2', solve3_2(samples3), 230)"
   ]
  },
  {
   "cell_type": "code",
   "execution_count": 49,
   "id": "ac390863",
   "metadata": {
    "hidden": true
   },
   "outputs": [
    {
     "data": {
      "text/plain": [
       "903810"
      ]
     },
     "execution_count": 49,
     "metadata": {},
     "output_type": "execute_result"
    }
   ],
   "source": [
    "solve3_2(inp3)"
   ]
  },
  {
   "cell_type": "markdown",
   "id": "8fac2cde",
   "metadata": {
    "hidden": true
   },
   "source": [
    "I used Counter to count occurrences, but Norvig used str.count instead. Also, I used iterative approaches, but his version used recursive one. I love recursion, and I wish python transforms tail recursion into iterative version. I wrote my own recursive version just for fun."
   ]
  },
  {
   "cell_type": "code",
   "execution_count": 50,
   "id": "953e14b3",
   "metadata": {
    "hidden": true
   },
   "outputs": [],
   "source": [
    "def get_commons2_rec(binaries, rank=0, i=0):\n",
    "    \"\"\"Solve problem 3.2 recursively.\"\"\"\n",
    "    if len(binaries) == 1:\n",
    "        return binaries[0]\n",
    "    compare = find_comparing_num(binaries, rank, i)\n",
    "    return get_commons2_rec(list(filter(lambda x: x[i] == compare, binaries)), rank, i + 1)"
   ]
  },
  {
   "cell_type": "code",
   "execution_count": 51,
   "id": "1ec8ddae",
   "metadata": {
    "hidden": true
   },
   "outputs": [],
   "source": [
    "def solve3_2_rec(inputs):\n",
    "    return int(get_commons2_rec(inputs), 2) * int(get_commons2_rec(inputs, 1), 2)"
   ]
  },
  {
   "cell_type": "code",
   "execution_count": 52,
   "id": "574dbb20",
   "metadata": {
    "hidden": true
   },
   "outputs": [
    {
     "data": {
      "text/plain": [
       "True"
      ]
     },
     "execution_count": 52,
     "metadata": {},
     "output_type": "execute_result"
    }
   ],
   "source": [
    "answer(3.2, get_commons2_rec(samples3), '10111')"
   ]
  },
  {
   "cell_type": "code",
   "execution_count": 53,
   "id": "39b5f02e",
   "metadata": {
    "hidden": true
   },
   "outputs": [
    {
     "data": {
      "text/plain": [
       "True"
      ]
     },
     "execution_count": 53,
     "metadata": {},
     "output_type": "execute_result"
    }
   ],
   "source": [
    "answer(3.2, get_commons2_rec(samples3, 1), '01010')"
   ]
  },
  {
   "cell_type": "code",
   "execution_count": 54,
   "id": "25003baf",
   "metadata": {
    "hidden": true
   },
   "outputs": [
    {
     "data": {
      "text/plain": [
       "True"
      ]
     },
     "execution_count": 54,
     "metadata": {},
     "output_type": "execute_result"
    }
   ],
   "source": [
    "answer('sample3.2', solve3_2_rec(samples3), 230)"
   ]
  },
  {
   "cell_type": "code",
   "execution_count": 56,
   "id": "6dfee2c6",
   "metadata": {
    "hidden": true
   },
   "outputs": [
    {
     "data": {
      "text/plain": [
       "True"
      ]
     },
     "execution_count": 56,
     "metadata": {},
     "output_type": "execute_result"
    }
   ],
   "source": [
    "answer(3.2, solve3_2_rec(inp3), 903810)"
   ]
  },
  {
   "cell_type": "markdown",
   "id": "b2717ce3",
   "metadata": {
    "heading_collapsed": true
   },
   "source": [
    "## Day 4"
   ]
  },
  {
   "cell_type": "markdown",
   "id": "d3b9eb8f",
   "metadata": {
    "hidden": true
   },
   "source": [
    "Play bingo."
   ]
  },
  {
   "cell_type": "markdown",
   "id": "000eb763",
   "metadata": {
    "hidden": true
   },
   "source": [
    "So, we keep track of boards with marked indices and check whether it is bingo. We have 100 boards, and we will just use one-dimension to solve this puzzle. A board has a bingo if a row or a column is marked."
   ]
  },
  {
   "cell_type": "markdown",
   "id": "51b19c41",
   "metadata": {
    "hidden": true
   },
   "source": [
    "Another strategy can be marking each number by setting it with -1. Then, we add each row and column and check for -5. If we do, return sum of list + 5. Here, we have to make sure index does not equal number of -1s. Sometimes the board does not include the draw."
   ]
  },
  {
   "cell_type": "code",
   "execution_count": 84,
   "id": "5eb3c1cf",
   "metadata": {
    "hidden": true
   },
   "outputs": [
    {
     "name": "stdout",
     "output_type": "stream",
     "text": [
      "----------------------------------------------------------------------------------------------------\n",
      "input4.txt ➜ 7889 chars, 601 lines; first 7 lines:\n",
      "----------------------------------------------------------------------------------------------------\n",
      "93,18,74,26,98,52,94,23,15,2,34,75,13,31,39,76,96,16,84,12,38,27,8,85, ... 37,73,70,68,97,61,95,53,1\n",
      "\n",
      "97 18 90 62 17\n",
      "98 88 49 41 74\n",
      "66  9 83 69 91\n",
      "33 57  3 71 43\n",
      "11 50  7 10 28\n",
      "----------------------------------------------------------------------------------------------------\n",
      "parse(4) ➜ 101 entries:\n",
      "----------------------------------------------------------------------------------------------------\n",
      "([93, 18, 74, 26, 98, 52, 94, 23, 15, 2, 34, 75, 13, 31, 39, 76, 96, 1 ... , 9, 22, 96, 21, 12, 65])\n",
      "----------------------------------------------------------------------------------------------------\n"
     ]
    }
   ],
   "source": [
    "inp4 = parse(4, parser=lambda x: list(atoms(x)), sep='\\n\\n')"
   ]
  },
  {
   "cell_type": "code",
   "execution_count": 85,
   "id": "28222fdb",
   "metadata": {
    "hidden": true
   },
   "outputs": [
    {
     "name": "stdout",
     "output_type": "stream",
     "text": [
      "----------------------------------------------------------------------------------------------------\n",
      "sample ➜ 298 chars, 19 lines; first 7 lines:\n",
      "----------------------------------------------------------------------------------------------------\n",
      "7,4,9,5,11,17,23,2,0,14,21,24,10,16,13,6,15,25,12,22,18,20,8,19,3,26,1\n",
      "\n",
      " 3 15  0  2 22\n",
      " 9 18 13 17  5\n",
      "19  8  7 25 23\n",
      "20 11 10 24  4\n",
      "14 21 16 12  6\n",
      "----------------------------------------------------------------------------------------------------\n",
      "parse(\n",
      "7,4,9,5,11,17,23,2,0,14,21,24,10,16,13,6,15,25,12,22,18,20,8,19,3,26,1\n",
      "\n",
      " 3 15  0  2 22\n",
      " 9 18 13 17  5\n",
      "19  8  7 25 23\n",
      "20 11 10 24  4\n",
      "14 21 16 12  6\n",
      "\n",
      "22 13 17 11  0\n",
      " 8  2 23  4 24\n",
      "21  9 14 16  7\n",
      " 6 10  3 18  5\n",
      " 1 12 20 15 19\n",
      "\n",
      "14 21 17 24  4\n",
      "10 16 15  9 19\n",
      "18  8 23 26 20\n",
      "22 11 13  6  5\n",
      " 2  0 12  3  7\n",
      ") ➜ 4 entries:\n",
      "----------------------------------------------------------------------------------------------------\n",
      "([7, 4, 9, 5, 11, 17, 23, 2, 0, 14, 21, 24, 10, 16, 13, 6, 15, 25, 12, ... 3, 6, 5, 2, 0, 12, 3, 7])\n",
      "----------------------------------------------------------------------------------------------------\n"
     ]
    }
   ],
   "source": [
    "# With 13, second one gets a bingo, and 3, 15, 22, 18, 19, 8, 25, 20, 12, 6\n",
    "sample_inp4 = \"\"\"\n",
    "7,4,9,5,11,17,23,2,0,14,21,24,10,16,13,6,15,25,12,22,18,20,8,19,3,26,1\n",
    "\n",
    " 3 15  0  2 22\n",
    " 9 18 13 17  5\n",
    "19  8  7 25 23\n",
    "20 11 10 24  4\n",
    "14 21 16 12  6\n",
    "\n",
    "22 13 17 11  0\n",
    " 8  2 23  4 24\n",
    "21  9 14 16  7\n",
    " 6 10  3 18  5\n",
    " 1 12 20 15 19\n",
    "\n",
    "14 21 17 24  4\n",
    "10 16 15  9 19\n",
    "18  8 23 26 20\n",
    "22 11 13  6  5\n",
    " 2  0 12  3  7\n",
    "\"\"\"\n",
    "samples4 = parse(sample_inp4, parser=lambda x: list(atoms(x)), sep='\\n\\n')"
   ]
  },
  {
   "cell_type": "code",
   "execution_count": 4,
   "id": "d4c3c109",
   "metadata": {
    "hidden": true
   },
   "outputs": [],
   "source": [
    "draws = inp4[0]"
   ]
  },
  {
   "cell_type": "code",
   "execution_count": 5,
   "id": "4f48d2d8",
   "metadata": {
    "collapsed": true,
    "hidden": true
   },
   "outputs": [
    {
     "data": {
      "text/plain": [
       "[97,\n",
       " 18,\n",
       " 90,\n",
       " 62,\n",
       " 17,\n",
       " 98,\n",
       " 88,\n",
       " 49,\n",
       " 41,\n",
       " 74,\n",
       " 66,\n",
       " 9,\n",
       " 83,\n",
       " 69,\n",
       " 91,\n",
       " 33,\n",
       " 57,\n",
       " 3,\n",
       " 71,\n",
       " 43,\n",
       " 11,\n",
       " 50,\n",
       " 7,\n",
       " 10,\n",
       " 28]"
      ]
     },
     "execution_count": 5,
     "metadata": {},
     "output_type": "execute_result"
    }
   ],
   "source": [
    "inp4[1]"
   ]
  },
  {
   "cell_type": "code",
   "execution_count": 6,
   "id": "9bb8d3f8",
   "metadata": {
    "hidden": true
   },
   "outputs": [
    {
     "data": {
      "text/plain": [
       "True"
      ]
     },
     "execution_count": 6,
     "metadata": {},
     "output_type": "execute_result"
    }
   ],
   "source": [
    "88 in inp4[1]"
   ]
  },
  {
   "cell_type": "code",
   "execution_count": 4,
   "id": "c145fc58",
   "metadata": {
    "hidden": true
   },
   "outputs": [
    {
     "data": {
      "text/plain": [
       "[(0, 1, 2, 3, 4),\n",
       " (5, 6, 7, 8, 9),\n",
       " (10, 11, 12, 13, 14),\n",
       " (15, 16, 17, 18, 19),\n",
       " (20, 21, 22, 23, 24),\n",
       " (0, 5, 10, 15, 20),\n",
       " (1, 6, 11, 16, 21),\n",
       " (2, 7, 12, 17, 22),\n",
       " (3, 8, 13, 18, 23),\n",
       " (4, 9, 14, 19, 24)]"
      ]
     },
     "execution_count": 4,
     "metadata": {},
     "output_type": "execute_result"
    }
   ],
   "source": [
    "# indicies that makes bingo\n",
    "bingo_indices = [tuple(x for x in range(y, y + 5)) for y in range(0, 25, 5)]\n",
    "bingo_indices += transpose(bingo_indices)\n",
    "bingo_indices"
   ]
  },
  {
   "cell_type": "code",
   "execution_count": 56,
   "id": "fae5eb41",
   "metadata": {
    "hidden": true
   },
   "outputs": [
    {
     "data": {
      "text/plain": [
       "1"
      ]
     },
     "execution_count": 56,
     "metadata": {},
     "output_type": "execute_result"
    }
   ],
   "source": [
    "[1,2,3].count(2)"
   ]
  },
  {
   "cell_type": "code",
   "execution_count": 5,
   "id": "5fc24189",
   "metadata": {
    "hidden": true
   },
   "outputs": [],
   "source": [
    "from IPython.core.debugger import set_trace"
   ]
  },
  {
   "cell_type": "code",
   "execution_count": 6,
   "id": "7e36b3b7",
   "metadata": {
    "hidden": true
   },
   "outputs": [],
   "source": [
    "def solve4_1(inp):\n",
    "    \"\"\"Setup a bingo game.\"\"\"\n",
    "    draws = inp[0]\n",
    "    boards = inp[1:]\n",
    "    for i in range(len(inp[1]) - 1):\n",
    "        draw = draws[i]\n",
    "        for board in boards:\n",
    "            if draw in board:\n",
    "                board[board.index(draw)] = -1\n",
    "            if is_bingo(board):\n",
    "                print('bingo!')\n",
    "#                 return (sum(board) + board.count(-1)) * draw"
   ]
  },
  {
   "cell_type": "code",
   "execution_count": 7,
   "id": "418aca83",
   "metadata": {
    "hidden": true
   },
   "outputs": [],
   "source": [
    "def is_bingo(board):\n",
    "    \"\"\"Check for -5 on sum of each row/column\"\"\"\n",
    "    return any([sum(board[i] for i in bingo_index) == -5 for bingo_index in bingo_indices])"
   ]
  },
  {
   "cell_type": "code",
   "execution_count": 140,
   "id": "1fe4b7f4",
   "metadata": {
    "collapsed": true,
    "hidden": true
   },
   "outputs": [
    {
     "name": "stdout",
     "output_type": "stream",
     "text": [
      "bingo!\n",
      "bingo!\n",
      "bingo!\n",
      "bingo!\n",
      "bingo!\n",
      "bingo!\n",
      "bingo!\n",
      "bingo!\n",
      "bingo!\n",
      "bingo!\n",
      "bingo!\n",
      "bingo!\n",
      "bingo!\n",
      "bingo!\n",
      "bingo!\n",
      "bingo!\n",
      "bingo!\n",
      "bingo!\n",
      "bingo!\n",
      "bingo!\n",
      "bingo!\n",
      "bingo!\n",
      "bingo!\n",
      "bingo!\n",
      "bingo!\n",
      "bingo!\n",
      "bingo!\n",
      "bingo!\n",
      "bingo!\n",
      "bingo!\n",
      "bingo!\n",
      "bingo!\n",
      "bingo!\n",
      "bingo!\n"
     ]
    },
    {
     "ename": "AssertionError",
     "evalue": "For sample4_1, expected 4512 but got None.",
     "output_type": "error",
     "traceback": [
      "\u001b[0;31m---------------------------------------------------------------------------\u001b[0m",
      "\u001b[0;31mAssertionError\u001b[0m                            Traceback (most recent call last)",
      "Input \u001b[0;32mIn [140]\u001b[0m, in \u001b[0;36m<cell line: 1>\u001b[0;34m()\u001b[0m\n\u001b[0;32m----> 1\u001b[0m \u001b[43manswer\u001b[49m\u001b[43m(\u001b[49m\u001b[38;5;124;43m'\u001b[39;49m\u001b[38;5;124;43msample4_1\u001b[39;49m\u001b[38;5;124;43m'\u001b[39;49m\u001b[43m,\u001b[49m\u001b[43m \u001b[49m\u001b[43msolve4_1\u001b[49m\u001b[43m(\u001b[49m\u001b[43msamples4\u001b[49m\u001b[43m)\u001b[49m\u001b[43m,\u001b[49m\u001b[43m \u001b[49m\u001b[38;5;241;43m4512\u001b[39;49m\u001b[43m)\u001b[49m\n",
      "Input \u001b[0;32mIn [1]\u001b[0m, in \u001b[0;36manswer\u001b[0;34m(puzzle_number, got, expected)\u001b[0m\n\u001b[1;32m     11\u001b[0m \u001b[38;5;28;01mdef\u001b[39;00m \u001b[38;5;21manswer\u001b[39m(puzzle_number, got, expected) \u001b[38;5;241m-\u001b[39m\u001b[38;5;241m>\u001b[39m \u001b[38;5;28mbool\u001b[39m:\n\u001b[1;32m     12\u001b[0m     \u001b[38;5;124;03m\"\"\"Verify the answer we got was the expected answer.\"\"\"\u001b[39;00m\n\u001b[0;32m---> 13\u001b[0m     \u001b[38;5;28;01massert\u001b[39;00m got \u001b[38;5;241m==\u001b[39m expected, \u001b[38;5;124mf\u001b[39m\u001b[38;5;124m'\u001b[39m\u001b[38;5;124mFor \u001b[39m\u001b[38;5;132;01m{\u001b[39;00mpuzzle_number\u001b[38;5;132;01m}\u001b[39;00m\u001b[38;5;124m, expected \u001b[39m\u001b[38;5;132;01m{\u001b[39;00mexpected\u001b[38;5;132;01m}\u001b[39;00m\u001b[38;5;124m but got \u001b[39m\u001b[38;5;132;01m{\u001b[39;00mgot\u001b[38;5;132;01m}\u001b[39;00m\u001b[38;5;124m.\u001b[39m\u001b[38;5;124m'\u001b[39m\n\u001b[1;32m     14\u001b[0m     \u001b[38;5;28;01mreturn\u001b[39;00m \u001b[38;5;28;01mTrue\u001b[39;00m\n",
      "\u001b[0;31mAssertionError\u001b[0m: For sample4_1, expected 4512 but got None."
     ]
    }
   ],
   "source": [
    "answer('sample4_1', solve4_1(samples4), 4512)"
   ]
  },
  {
   "cell_type": "code",
   "execution_count": 141,
   "id": "5311bf2b",
   "metadata": {
    "hidden": true
   },
   "outputs": [
    {
     "name": "stdout",
     "output_type": "stream",
     "text": [
      "bingo!\n",
      "bingo!\n"
     ]
    }
   ],
   "source": [
    "solve4_1(inp4)"
   ]
  },
  {
   "cell_type": "markdown",
   "id": "bd75144d",
   "metadata": {
    "hidden": true
   },
   "source": [
    "Problem 4.2: Choose the board that will win last."
   ]
  },
  {
   "cell_type": "code",
   "execution_count": 57,
   "id": "0927e936",
   "metadata": {
    "hidden": true
   },
   "outputs": [],
   "source": [
    "def solve4_2(inp):\n",
    "    \"\"\"Setup a bingo game.\"\"\"\n",
    "    draws = inp[0]\n",
    "    boards = list(inp[1:])\n",
    "    last_win = 0\n",
    "    for i in range(len(inp[0]) - 1):\n",
    "        draw = draws[i]\n",
    "        for j in range(len(boards)):\n",
    "            if draw in boards[j]:\n",
    "                boards[j][boards[j].index(draw)] = -1\n",
    "            if is_bingo(boards[j]):\n",
    "                last_win = (sum(boards[j]) + boards[j].count(-1)) * draw\n",
    "                boards[j] = reset(boards[j])\n",
    "    return last_win"
   ]
  },
  {
   "cell_type": "code",
   "execution_count": 58,
   "id": "3ab16ddc",
   "metadata": {
    "hidden": true
   },
   "outputs": [],
   "source": [
    "def reset(board):\n",
    "    \"\"\"Reset the board to 0s\"\"\"\n",
    "    return [-5 for _ in range(25)]"
   ]
  },
  {
   "cell_type": "code",
   "execution_count": 59,
   "id": "d9627a2d",
   "metadata": {
    "hidden": true
   },
   "outputs": [
    {
     "data": {
      "text/plain": [
       "1924"
      ]
     },
     "execution_count": 59,
     "metadata": {},
     "output_type": "execute_result"
    }
   ],
   "source": [
    "answer('sample 4.2', solve4_2(samples4), 1924)"
   ]
  },
  {
   "cell_type": "code",
   "execution_count": 60,
   "id": "9fbf1537",
   "metadata": {
    "hidden": true
   },
   "outputs": [
    {
     "data": {
      "text/plain": [
       "31755"
      ]
     },
     "execution_count": 60,
     "metadata": {},
     "output_type": "execute_result"
    }
   ],
   "source": [
    "answer(4.2, solve4_2(inp4), 31755)"
   ]
  },
  {
   "cell_type": "markdown",
   "id": "e7004b77",
   "metadata": {
    "hidden": true
   },
   "source": [
    "We managed to come to an answer with the strategy. However, I would like to improve this solution. Let's get some hints from Norvig's solutions. He has a much simpler solution. When I come up with strategies, I am not sure how complicated the code may turn out, so I do not know which strategy to implement. "
   ]
  },
  {
   "cell_type": "markdown",
   "id": "c3927ef0",
   "metadata": {
    "hidden": true
   },
   "source": [
    "After studying his code, I will come back later to implement his strategy by looking at pseudocode I wrote. "
   ]
  },
  {
   "cell_type": "code",
   "execution_count": 3,
   "id": "a94e3e75",
   "metadata": {
    "hidden": true
   },
   "outputs": [],
   "source": [
    "# Strategy\n",
    "# For each draw, check for bingo by looking at possible rows and columns.\n",
    "# It is bingo if either row or column are all marked.\n",
    "# If it is bingo, return a sum of unmakred numbers in the board multiplied by the draw."
   ]
  },
  {
   "cell_type": "markdown",
   "id": "56260e77",
   "metadata": {},
   "source": [
    "## Day 5"
   ]
  },
  {
   "cell_type": "code",
   "execution_count": null,
   "id": "8a9e5485",
   "metadata": {},
   "outputs": [],
   "source": []
  }
 ],
 "metadata": {
  "kernelspec": {
   "display_name": "Python 3",
   "language": "python",
   "name": "python3"
  },
  "language_info": {
   "codemirror_mode": {
    "name": "ipython",
    "version": 3
   },
   "file_extension": ".py",
   "mimetype": "text/x-python",
   "name": "python",
   "nbconvert_exporter": "python",
   "pygments_lexer": "ipython3",
   "version": "3.9.12"
  }
 },
 "nbformat": 4,
 "nbformat_minor": 5
}
