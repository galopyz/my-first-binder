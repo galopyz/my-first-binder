{
 "cells": [
  {
   "cell_type": "markdown",
   "id": "7eec8683",
   "metadata": {},
   "source": [
    "# Sand pit"
   ]
  },
  {
   "cell_type": "markdown",
   "id": "086ab715",
   "metadata": {},
   "source": [
    "When I worked on AoC 2015, I noticed I can do better than that. I had no idea what to expect, and my approach was horrible. After reading the assignment, I had to search the internet regarding certain features in python. However, I did not want to just sit down and read all the python documentations from the start to the end. So I got some important highlight of the language to focus on. So, I decided to get some hands on training on the toolset that Peter Norvig <a href='https://nbviewer.org/github/norvig/pytudes/blob/main/ipynb/Advent-2021.ipynb'>used</a>. After, I will solve the puzzles, then compare mine with his and see how horrible mine is."
   ]
  },
  {
   "cell_type": "code",
   "execution_count": 1,
   "id": "1affa156",
   "metadata": {},
   "outputs": [],
   "source": [
    "from __future__  import annotations\n",
    "from collections import Counter, defaultdict, namedtuple, deque\n",
    "from itertools   import permutations, combinations, chain, count as count_from, product as cross_product\n",
    "from typing      import *\n",
    "from statistics  import mean, median\n",
    "from math        import ceil, inf\n",
    "from functools   import lru_cache\n",
    "import matplotlib.pyplot as plt\n",
    "import re"
   ]
  },
  {
   "cell_type": "markdown",
   "id": "341c446d",
   "metadata": {
    "heading_collapsed": true
   },
   "source": [
    "## Annotations"
   ]
  },
  {
   "cell_type": "markdown",
   "id": "3631cb80",
   "metadata": {
    "hidden": true
   },
   "source": [
    "<code>annotations</code> delays evaluation of function annotations. Without the future import, NameError is raised below. However, after the import, it works without any issue."
   ]
  },
  {
   "cell_type": "code",
   "execution_count": 2,
   "id": "957973f3",
   "metadata": {
    "hidden": true
   },
   "outputs": [],
   "source": [
    "class A:\n",
    "    def a(self) -> A:\n",
    "        return"
   ]
  },
  {
   "cell_type": "markdown",
   "id": "2a26fee8",
   "metadata": {
    "heading_collapsed": true
   },
   "source": [
    "## Collections"
   ]
  },
  {
   "cell_type": "markdown",
   "id": "12a5980d",
   "metadata": {
    "heading_collapsed": true,
    "hidden": true
   },
   "source": [
    "### Counter "
   ]
  },
  {
   "cell_type": "markdown",
   "id": "210612ee",
   "metadata": {
    "hidden": true
   },
   "source": [
    "Counter can be used to count things."
   ]
  },
  {
   "cell_type": "markdown",
   "id": "856bb5ec",
   "metadata": {
    "hidden": true
   },
   "source": [
    "There are many ways to initiate the Counter."
   ]
  },
  {
   "cell_type": "code",
   "execution_count": 3,
   "id": "8a02f988",
   "metadata": {
    "hidden": true
   },
   "outputs": [
    {
     "data": {
      "text/plain": [
       "Counter()"
      ]
     },
     "execution_count": 3,
     "metadata": {},
     "output_type": "execute_result"
    }
   ],
   "source": [
    "Counter()"
   ]
  },
  {
   "cell_type": "code",
   "execution_count": 4,
   "id": "03af2c63",
   "metadata": {
    "hidden": true
   },
   "outputs": [
    {
     "data": {
      "text/plain": [
       "Counter({'D': 1, 'a': 1, 'r': 1, 'k': 1, 'n': 1, 'e': 1, 's': 2})"
      ]
     },
     "execution_count": 4,
     "metadata": {},
     "output_type": "execute_result"
    }
   ],
   "source": [
    "Counter('Darkness')"
   ]
  },
  {
   "cell_type": "code",
   "execution_count": 5,
   "id": "c7be1434",
   "metadata": {
    "hidden": true
   },
   "outputs": [
    {
     "data": {
      "text/plain": [
       "Counter({'bacon': 4, 'eggs': 30})"
      ]
     },
     "execution_count": 5,
     "metadata": {},
     "output_type": "execute_result"
    }
   ],
   "source": [
    "Counter({'bacon': 4, 'eggs': 30})"
   ]
  },
  {
   "cell_type": "code",
   "execution_count": 6,
   "id": "46765970",
   "metadata": {
    "hidden": true
   },
   "outputs": [
    {
     "data": {
      "text/plain": [
       "Counter({'onions': 2, 'cucumber': 19, 'potato': 11, 'sweet_potato': 38})"
      ]
     },
     "execution_count": 6,
     "metadata": {},
     "output_type": "execute_result"
    }
   ],
   "source": [
    "c = Counter(onions=2, cucumber=19, potato=11, sweet_potato=38)\n",
    "c"
   ]
  },
  {
   "cell_type": "markdown",
   "id": "9d2fe4eb",
   "metadata": {
    "hidden": true
   },
   "source": [
    "Counts can be retrieved by using keys. If it does not exist in the Counter, count is 0."
   ]
  },
  {
   "cell_type": "code",
   "execution_count": 7,
   "id": "75a4f2a5",
   "metadata": {
    "hidden": true
   },
   "outputs": [
    {
     "data": {
      "text/plain": [
       "(2, 0)"
      ]
     },
     "execution_count": 7,
     "metadata": {},
     "output_type": "execute_result"
    }
   ],
   "source": [
    "c['onions'], c['zombie']"
   ]
  },
  {
   "cell_type": "markdown",
   "id": "60f33a06",
   "metadata": {
    "hidden": true
   },
   "source": [
    "Counts can be changed. It can be 0 or negative. "
   ]
  },
  {
   "cell_type": "code",
   "execution_count": 8,
   "id": "9bcbb371",
   "metadata": {
    "hidden": true
   },
   "outputs": [
    {
     "data": {
      "text/plain": [
       "True"
      ]
     },
     "execution_count": 8,
     "metadata": {},
     "output_type": "execute_result"
    }
   ],
   "source": [
    "c['sweet_potato'] = 0\n",
    "'sweet_potato' in c"
   ]
  },
  {
   "cell_type": "code",
   "execution_count": 9,
   "id": "8c764f68",
   "metadata": {
    "hidden": true
   },
   "outputs": [
    {
     "data": {
      "text/plain": [
       "True"
      ]
     },
     "execution_count": 9,
     "metadata": {},
     "output_type": "execute_result"
    }
   ],
   "source": [
    "c['sweet_potato'] = -100\n",
    "'sweet_potato' in c"
   ]
  },
  {
   "cell_type": "markdown",
   "id": "6023c0d6",
   "metadata": {
    "hidden": true
   },
   "source": [
    "Elements in the Counts can be deleted with del. "
   ]
  },
  {
   "cell_type": "code",
   "execution_count": 10,
   "id": "0b6d2ee2",
   "metadata": {
    "hidden": true
   },
   "outputs": [
    {
     "data": {
      "text/plain": [
       "False"
      ]
     },
     "execution_count": 10,
     "metadata": {},
     "output_type": "execute_result"
    }
   ],
   "source": [
    "del c['sweet_potato']\n",
    "'sweet_potato' in c"
   ]
  },
  {
   "cell_type": "markdown",
   "id": "1c8c629b",
   "metadata": {
    "hidden": true
   },
   "source": [
    "Counter has help methods. <code>elements</code> returns an iterator that generates all the elements."
   ]
  },
  {
   "cell_type": "code",
   "execution_count": 11,
   "id": "d3333788",
   "metadata": {
    "hidden": true
   },
   "outputs": [
    {
     "data": {
      "text/plain": [
       "['onions',\n",
       " 'onions',\n",
       " 'cucumber',\n",
       " 'cucumber',\n",
       " 'cucumber',\n",
       " 'cucumber',\n",
       " 'cucumber',\n",
       " 'cucumber',\n",
       " 'cucumber',\n",
       " 'cucumber',\n",
       " 'cucumber',\n",
       " 'cucumber',\n",
       " 'cucumber',\n",
       " 'cucumber',\n",
       " 'cucumber',\n",
       " 'cucumber',\n",
       " 'cucumber',\n",
       " 'cucumber',\n",
       " 'cucumber',\n",
       " 'cucumber',\n",
       " 'cucumber',\n",
       " 'potato',\n",
       " 'potato',\n",
       " 'potato',\n",
       " 'potato',\n",
       " 'potato',\n",
       " 'potato',\n",
       " 'potato',\n",
       " 'potato',\n",
       " 'potato',\n",
       " 'potato',\n",
       " 'potato']"
      ]
     },
     "execution_count": 11,
     "metadata": {},
     "output_type": "execute_result"
    }
   ],
   "source": [
    "list(c.elements())"
   ]
  },
  {
   "cell_type": "markdown",
   "id": "65b8fa48",
   "metadata": {
    "hidden": true
   },
   "source": [
    "Most common items from top to bottom."
   ]
  },
  {
   "cell_type": "code",
   "execution_count": 14,
   "id": "08ee7f6f",
   "metadata": {
    "hidden": true
   },
   "outputs": [
    {
     "data": {
      "text/plain": [
       "[('cucumber', 19), ('potato', 11), ('onions', 2)]"
      ]
     },
     "execution_count": 14,
     "metadata": {},
     "output_type": "execute_result"
    }
   ],
   "source": [
    "c.most_common()"
   ]
  },
  {
   "cell_type": "code",
   "execution_count": 13,
   "id": "e2701580",
   "metadata": {
    "hidden": true
   },
   "outputs": [
    {
     "data": {
      "text/plain": [
       "[('cucumber', 19)]"
      ]
     },
     "execution_count": 13,
     "metadata": {},
     "output_type": "execute_result"
    }
   ],
   "source": [
    "c.most_common(1)"
   ]
  },
  {
   "cell_type": "markdown",
   "id": "766b0181",
   "metadata": {
    "hidden": true
   },
   "source": [
    "Counter can subtract others, such as mappings or iterables. It is not an error if some elemtns are missing."
   ]
  },
  {
   "cell_type": "code",
   "execution_count": 17,
   "id": "9eed9d95",
   "metadata": {
    "hidden": true
   },
   "outputs": [
    {
     "data": {
      "text/plain": [
       "Counter({'a': 3, 'b': 0, 'c': -3, 'd': -6})"
      ]
     },
     "execution_count": 17,
     "metadata": {},
     "output_type": "execute_result"
    }
   ],
   "source": [
    "c = Counter(a=4, b=2, c=0, d=-2)\n",
    "d = Counter(a=1, b=2, c=3, d=4)\n",
    "c.subtract(d)\n",
    "c"
   ]
  },
  {
   "cell_type": "code",
   "execution_count": 18,
   "id": "32ff1b42",
   "metadata": {
    "hidden": true
   },
   "outputs": [
    {
     "data": {
      "text/plain": [
       "Counter({'a': 4, 'b': 0, 'c': -3, 'd': -6})"
      ]
     },
     "execution_count": 18,
     "metadata": {},
     "output_type": "execute_result"
    }
   ],
   "source": [
    "# Missing subtract element\n",
    "c = Counter(a=4, b=2, c=0, d=-2)\n",
    "d = Counter(b=2, c=3, d=4)\n",
    "c.subtract(d)\n",
    "c"
   ]
  },
  {
   "cell_type": "code",
   "execution_count": 20,
   "id": "fef1010b",
   "metadata": {
    "hidden": true
   },
   "outputs": [
    {
     "data": {
      "text/plain": [
       "Counter({'a': 3, 'b': 0, 'c': -3, 'd': -4})"
      ]
     },
     "execution_count": 20,
     "metadata": {},
     "output_type": "execute_result"
    }
   ],
   "source": [
    "# Missing original element\n",
    "c = Counter(a=4, b=2, c=0)\n",
    "d = Counter(a=1, b=2, c=3, d=4)\n",
    "c.subtract(d)\n",
    "c"
   ]
  },
  {
   "cell_type": "code",
   "execution_count": 27,
   "id": "d35aec3b",
   "metadata": {
    "hidden": true
   },
   "outputs": [
    {
     "data": {
      "text/plain": [
       "Counter({'a': 1, 'b': 2, 'c': 0, 'd': -2})"
      ]
     },
     "execution_count": 27,
     "metadata": {},
     "output_type": "execute_result"
    }
   ],
   "source": [
    "# Subtracting dictionary\n",
    "c = Counter(a=4, b=2, c=0, d=-2)\n",
    "d = {'a':3}\n",
    "c.subtract(d)\n",
    "c"
   ]
  },
  {
   "cell_type": "markdown",
   "id": "655386eb",
   "metadata": {
    "hidden": true
   },
   "source": [
    "Counter can also add, but it is called update. Instead of replacing, it simply adds counts."
   ]
  },
  {
   "cell_type": "code",
   "execution_count": 28,
   "id": "e22c5b13",
   "metadata": {
    "hidden": true
   },
   "outputs": [
    {
     "data": {
      "text/plain": [
       "Counter({'a': 2, 'b': 4, 'c': 3, 'd': -2})"
      ]
     },
     "execution_count": 28,
     "metadata": {},
     "output_type": "execute_result"
    }
   ],
   "source": [
    "c.update('abbccc')\n",
    "c"
   ]
  },
  {
   "cell_type": "markdown",
   "id": "9affa13a",
   "metadata": {
    "hidden": true
   },
   "source": [
    "Mathematical operations can be used with Counter objects. Negative counts are removed."
   ]
  },
  {
   "cell_type": "code",
   "execution_count": 45,
   "id": "e4e2b6c0",
   "metadata": {
    "hidden": true
   },
   "outputs": [],
   "source": [
    "c = Counter(a=2, b=-4, c=0, d=10)\n",
    "d = Counter(a=-1, b=2, c=3, d=17)"
   ]
  },
  {
   "cell_type": "code",
   "execution_count": 47,
   "id": "d033f63a",
   "metadata": {
    "hidden": true
   },
   "outputs": [
    {
     "data": {
      "text/plain": [
       "Counter({'a': 1, 'c': 3, 'd': 27})"
      ]
     },
     "execution_count": 47,
     "metadata": {},
     "output_type": "execute_result"
    }
   ],
   "source": [
    "# Add\n",
    "c + d"
   ]
  },
  {
   "cell_type": "code",
   "execution_count": 48,
   "id": "b15c8e3e",
   "metadata": {
    "hidden": true
   },
   "outputs": [
    {
     "data": {
      "text/plain": [
       "Counter({'a': 3})"
      ]
     },
     "execution_count": 48,
     "metadata": {},
     "output_type": "execute_result"
    }
   ],
   "source": [
    "# Subtract\n",
    "c - d"
   ]
  },
  {
   "cell_type": "code",
   "execution_count": 49,
   "id": "70641449",
   "metadata": {
    "hidden": true
   },
   "outputs": [
    {
     "data": {
      "text/plain": [
       "Counter({'d': 10})"
      ]
     },
     "execution_count": 49,
     "metadata": {},
     "output_type": "execute_result"
    }
   ],
   "source": [
    "# Intersection\n",
    "c & d"
   ]
  },
  {
   "cell_type": "code",
   "execution_count": 50,
   "id": "ed52e948",
   "metadata": {
    "hidden": true
   },
   "outputs": [
    {
     "data": {
      "text/plain": [
       "Counter({'a': 2, 'b': 2, 'c': 3, 'd': 17})"
      ]
     },
     "execution_count": 50,
     "metadata": {},
     "output_type": "execute_result"
    }
   ],
   "source": [
    "# Union\n",
    "c | d"
   ]
  },
  {
   "cell_type": "markdown",
   "id": "2f13122c",
   "metadata": {
    "hidden": true
   },
   "source": [
    "Unary operator + gets rid of negative and zero elements, and - gets rid of positive and zero elements."
   ]
  },
  {
   "cell_type": "code",
   "execution_count": 33,
   "id": "cae93302",
   "metadata": {
    "hidden": true
   },
   "outputs": [
    {
     "data": {
      "text/plain": [
       "Counter({'a': 2})"
      ]
     },
     "execution_count": 33,
     "metadata": {},
     "output_type": "execute_result"
    }
   ],
   "source": [
    "c = Counter(a=2, b=-4, c=0)\n",
    "+c"
   ]
  },
  {
   "cell_type": "code",
   "execution_count": 34,
   "id": "92d4bf60",
   "metadata": {
    "hidden": true
   },
   "outputs": [
    {
     "data": {
      "text/plain": [
       "Counter({'b': 4})"
      ]
     },
     "execution_count": 34,
     "metadata": {},
     "output_type": "execute_result"
    }
   ],
   "source": [
    "-c"
   ]
  },
  {
   "cell_type": "markdown",
   "id": "49faca4e",
   "metadata": {
    "heading_collapsed": true,
    "hidden": true
   },
   "source": [
    "### Defaultdict"
   ]
  },
  {
   "cell_type": "markdown",
   "id": "05be080c",
   "metadata": {
    "hidden": true
   },
   "source": [
    "Instead of using dictionary's <code>setdefault</code>, </code>defaultdict</code> can achieve higher efficiency and more flexibility. Here, it uses a list for the default value. "
   ]
  },
  {
   "cell_type": "code",
   "execution_count": 38,
   "id": "8140468e",
   "metadata": {
    "hidden": true
   },
   "outputs": [
    {
     "data": {
      "text/plain": [
       "defaultdict(list, {})"
      ]
     },
     "execution_count": 38,
     "metadata": {},
     "output_type": "execute_result"
    }
   ],
   "source": [
    "l = [('bacon', 3), ('egg', 10), ('oj', 1), ('oj', 3), ('bacon', 11)]\n",
    "d = defaultdict(list)\n",
    "d"
   ]
  },
  {
   "cell_type": "code",
   "execution_count": 16,
   "id": "e00381b3",
   "metadata": {
    "hidden": true
   },
   "outputs": [
    {
     "data": {
      "text/plain": [
       "[('bacon', [3, 11]), ('egg', [10]), ('oj', [1, 3])]"
      ]
     },
     "execution_count": 16,
     "metadata": {},
     "output_type": "execute_result"
    }
   ],
   "source": [
    "for k, v in l:\n",
    "    d[k].append(v)\n",
    "\n",
    "sorted(d.items())"
   ]
  },
  {
   "cell_type": "markdown",
   "id": "772dd335",
   "metadata": {
    "hidden": true
   },
   "source": [
    "Same thing could have achieved using plain dictionary's <code>setdefault</code>."
   ]
  },
  {
   "cell_type": "code",
   "execution_count": 18,
   "id": "c915a449",
   "metadata": {
    "hidden": true
   },
   "outputs": [
    {
     "data": {
      "text/plain": [
       "[('bacon', [3, 11]), ('egg', [10]), ('oj', [1, 3])]"
      ]
     },
     "execution_count": 18,
     "metadata": {},
     "output_type": "execute_result"
    }
   ],
   "source": [
    "d2 = {}\n",
    "for k, v in l:\n",
    "    d2.setdefault(k, []).append(v)\n",
    "sorted(d2.items())"
   ]
  },
  {
   "cell_type": "markdown",
   "id": "680024c8",
   "metadata": {
    "hidden": true
   },
   "source": [
    "<code>defaultdict</code> can also use other type for the default value, such as integer. If integer is used, it can be used as a counter."
   ]
  },
  {
   "cell_type": "code",
   "execution_count": 41,
   "id": "e6b8c9b6",
   "metadata": {
    "hidden": true
   },
   "outputs": [
    {
     "data": {
      "text/plain": [
       "[('bacon', 5), ('egg', 2), ('oj', 1)]"
      ]
     },
     "execution_count": 41,
     "metadata": {},
     "output_type": "execute_result"
    }
   ],
   "source": [
    "l = ['bacon', 'egg', 'egg', 'oj', 'bacon', 'bacon', 'bacon', 'bacon']\n",
    "d = defaultdict(int)\n",
    "for k in l:\n",
    "    d[k] += 1\n",
    "sorted(d.items())"
   ]
  },
  {
   "cell_type": "markdown",
   "id": "245ee566",
   "metadata": {
    "hidden": true
   },
   "source": [
    "If I need a counter, it is better to use Counter()."
   ]
  },
  {
   "cell_type": "code",
   "execution_count": 33,
   "id": "9e9dde53",
   "metadata": {
    "hidden": true
   },
   "outputs": [
    {
     "data": {
      "text/plain": [
       "Counter({'bacon': 5, 'egg': 2, 'oj': 1})"
      ]
     },
     "execution_count": 33,
     "metadata": {},
     "output_type": "execute_result"
    }
   ],
   "source": [
    "d2 = Counter(l)\n",
    "d2"
   ]
  },
  {
   "cell_type": "code",
   "execution_count": 35,
   "id": "96c752e1",
   "metadata": {
    "hidden": true
   },
   "outputs": [
    {
     "data": {
      "text/plain": [
       "['bacon', 'bacon', 'bacon', 'bacon', 'bacon', 'egg', 'egg', 'oj']"
      ]
     },
     "execution_count": 35,
     "metadata": {},
     "output_type": "execute_result"
    }
   ],
   "source": [
    "list(d2.elements())"
   ]
  },
  {
   "cell_type": "code",
   "execution_count": 36,
   "id": "6de36a68",
   "metadata": {
    "hidden": true
   },
   "outputs": [
    {
     "data": {
      "text/plain": [
       "[('bacon', 5), ('egg', 2)]"
      ]
     },
     "execution_count": 36,
     "metadata": {},
     "output_type": "execute_result"
    }
   ],
   "source": [
    "d2.most_common(2)"
   ]
  },
  {
   "cell_type": "markdown",
   "id": "f3601b91",
   "metadata": {
    "hidden": true
   },
   "source": [
    "Set can also be used as a default type."
   ]
  },
  {
   "cell_type": "code",
   "execution_count": 43,
   "id": "d5caafb7",
   "metadata": {
    "hidden": true
   },
   "outputs": [
    {
     "data": {
      "text/plain": [
       "[('bacon', {3}), ('egg', {10}), ('oj', {1, 3})]"
      ]
     },
     "execution_count": 43,
     "metadata": {},
     "output_type": "execute_result"
    }
   ],
   "source": [
    "l = [('bacon', 3), ('egg', 10), ('oj', 1), ('oj', 3), ('bacon', 3)]\n",
    "d = defaultdict(set)\n",
    "for k, v in l:\n",
    "    d[k].add(v)\n",
    "sorted(d.items())"
   ]
  },
  {
   "cell_type": "markdown",
   "id": "fef24b0e",
   "metadata": {
    "hidden": true
   },
   "source": [
    "Default value does not have to be set by the type. By passing a value with lambda, any constant value can be set to default."
   ]
  },
  {
   "cell_type": "code",
   "execution_count": 46,
   "id": "4a795072",
   "metadata": {
    "hidden": true
   },
   "outputs": [
    {
     "data": {
      "text/plain": [
       "'John ran to <missing>'"
      ]
     },
     "execution_count": 46,
     "metadata": {},
     "output_type": "execute_result"
    }
   ],
   "source": [
    "def constant_factory(value):\n",
    "    return lambda: value\n",
    "d = defaultdict(constant_factory('<missing>'))\n",
    "d.update(name='John', action='ran')\n",
    "'%(name)s %(action)s to %(object)s' % d"
   ]
  },
  {
   "cell_type": "code",
   "execution_count": 48,
   "id": "5d33d37a",
   "metadata": {
    "hidden": true
   },
   "outputs": [
    {
     "data": {
      "text/plain": [
       "[('bacon', ['Must Have!', 3, 10, 1, 3, 11]),\n",
       " ('egg', ['Must Have!', 3, 10, 1, 3, 11]),\n",
       " ('oj', ['Must Have!', 3, 10, 1, 3, 11])]"
      ]
     },
     "execution_count": 48,
     "metadata": {},
     "output_type": "execute_result"
    }
   ],
   "source": [
    "d2 = defaultdict(constant_factory(['Must Have!']))\n",
    "l = [('bacon', 3), ('egg', 10), ('oj', 1), ('oj', 3), ('bacon', 11)]\n",
    "for k,v in l:\n",
    "    d2[k].append(v)\n",
    "sorted(d2.items())"
   ]
  },
  {
   "cell_type": "markdown",
   "id": "2a34ee91",
   "metadata": {
    "heading_collapsed": true,
    "hidden": true
   },
   "source": [
    "### Namedtuple"
   ]
  },
  {
   "cell_type": "markdown",
   "id": "125a4f94",
   "metadata": {
    "hidden": true
   },
   "source": [
    "Making breakfast is tough. Especially when there are many orders. Namedtuple can help with getting the menus straight. Here's a namedtuple regarding what James wants."
   ]
  },
  {
   "cell_type": "code",
   "execution_count": 10,
   "id": "06300a12",
   "metadata": {
    "hidden": true
   },
   "outputs": [
    {
     "data": {
      "text/plain": [
       "Breakfast(eggs=3, bacons=2, pancakes=3, oj=1)"
      ]
     },
     "execution_count": 10,
     "metadata": {},
     "output_type": "execute_result"
    }
   ],
   "source": [
    "Breakfast = namedtuple('Breakfast', 'eggs bacons pancakes oj')\n",
    "James = Breakfast(3, 2, 3, 1)\n",
    "James"
   ]
  },
  {
   "cell_type": "code",
   "execution_count": 15,
   "id": "775d9b89",
   "metadata": {
    "hidden": true
   },
   "outputs": [
    {
     "data": {
      "text/plain": [
       "(3, 2)"
      ]
     },
     "execution_count": 15,
     "metadata": {},
     "output_type": "execute_result"
    }
   ],
   "source": [
    "James.eggs, James.bacons"
   ]
  },
  {
   "cell_type": "markdown",
   "id": "4eb1ef74",
   "metadata": {
    "hidden": true
   },
   "source": [
    "Breakfast menu can also be a string with commans in it."
   ]
  },
  {
   "cell_type": "code",
   "execution_count": 16,
   "id": "ade60a8f",
   "metadata": {
    "hidden": true
   },
   "outputs": [
    {
     "data": {
      "text/plain": [
       "Breakfast(eggs=3, bacons=2, pancakes=3, oj=1)"
      ]
     },
     "execution_count": 16,
     "metadata": {},
     "output_type": "execute_result"
    }
   ],
   "source": [
    "Breakfast = namedtuple('Breakfast', 'eggs, bacons, pancakes, oj')\n",
    "James = Breakfast(3, 2, 3, 1)\n",
    "James"
   ]
  },
  {
   "cell_type": "markdown",
   "id": "8fa877d6",
   "metadata": {
    "hidden": true
   },
   "source": [
    "Or a iterable such as a list."
   ]
  },
  {
   "cell_type": "code",
   "execution_count": 17,
   "id": "4faf343e",
   "metadata": {
    "hidden": true
   },
   "outputs": [
    {
     "data": {
      "text/plain": [
       "Breakfast(eggs=3, bacons=2, pancakes=3, oj=1)"
      ]
     },
     "execution_count": 17,
     "metadata": {},
     "output_type": "execute_result"
    }
   ],
   "source": [
    "Breakfast = namedtuple('Breakfast', ['eggs', 'bacons', 'pancakes', 'oj'])\n",
    "James = Breakfast(3, 2, 3, 1)\n",
    "James"
   ]
  },
  {
   "cell_type": "markdown",
   "id": "c5c0b3ea",
   "metadata": {
    "hidden": true
   },
   "source": [
    "With <code>_make</code>, it is possible to use an iterable to create a namedtuple."
   ]
  },
  {
   "cell_type": "code",
   "execution_count": 19,
   "id": "8a307696",
   "metadata": {
    "hidden": true
   },
   "outputs": [
    {
     "data": {
      "text/plain": [
       "Breakfast(eggs=1, bacons=2, pancakes=3, oj=1)"
      ]
     },
     "execution_count": 19,
     "metadata": {},
     "output_type": "execute_result"
    }
   ],
   "source": [
    "quantities = [1, 2, 3, 1]\n",
    "Mary = Breakfast._make(quantities)\n",
    "Mary"
   ]
  },
  {
   "cell_type": "markdown",
   "id": "83ddc4ca",
   "metadata": {
    "hidden": true
   },
   "source": [
    "With <code>_asdict</code>, namedtuple returns a dictionary."
   ]
  },
  {
   "cell_type": "code",
   "execution_count": 20,
   "id": "f1bc35dc",
   "metadata": {
    "hidden": true
   },
   "outputs": [
    {
     "data": {
      "text/plain": [
       "{'eggs': 1, 'bacons': 2, 'pancakes': 3, 'oj': 1}"
      ]
     },
     "execution_count": 20,
     "metadata": {},
     "output_type": "execute_result"
    }
   ],
   "source": [
    "Mary._asdict()"
   ]
  },
  {
   "cell_type": "markdown",
   "id": "18d8d884",
   "metadata": {
    "hidden": true
   },
   "source": [
    "With <code>_replace</code>, namedtuple returns a new namedtuple with replaced elements. Mary changed her mind and now wants more eggs."
   ]
  },
  {
   "cell_type": "code",
   "execution_count": 21,
   "id": "9266d6e5",
   "metadata": {
    "hidden": true
   },
   "outputs": [
    {
     "data": {
      "text/plain": [
       "Breakfast(eggs=99, bacons=2, pancakes=3, oj=1)"
      ]
     },
     "execution_count": 21,
     "metadata": {},
     "output_type": "execute_result"
    }
   ],
   "source": [
    "Mary._replace(eggs=99)"
   ]
  },
  {
   "cell_type": "markdown",
   "id": "9560793f",
   "metadata": {
    "hidden": true
   },
   "source": [
    "With <code>_fields</code>, namedtuple can be combined into a new namedtuple. By combining Breakfast and Taste, I made VIP_Breakfast, which has more options, such as temperature, spiciness, and more. "
   ]
  },
  {
   "cell_type": "code",
   "execution_count": 22,
   "id": "d246a691",
   "metadata": {
    "hidden": true
   },
   "outputs": [
    {
     "data": {
      "text/plain": [
       "('eggs', 'bacons', 'pancakes', 'oj')"
      ]
     },
     "execution_count": 22,
     "metadata": {},
     "output_type": "execute_result"
    }
   ],
   "source": [
    "Breakfast._fields"
   ]
  },
  {
   "cell_type": "code",
   "execution_count": 24,
   "id": "8ff73338",
   "metadata": {
    "hidden": true
   },
   "outputs": [
    {
     "data": {
      "text/plain": [
       "VIP_Breakfast(eggs=1, bacons=3, pancakes=5, oj=7, temperature='hot', spiciness='spicy', sweetness='not sweet', savoriness='very savory')"
      ]
     },
     "execution_count": 24,
     "metadata": {},
     "output_type": "execute_result"
    }
   ],
   "source": [
    "Taste = namedtuple('Taste', 'temperature, spiciness, sweetness, savoriness')\n",
    "VIP_Breakfast = namedtuple('VIP_Breakfast', Breakfast._fields + Taste._fields)\n",
    "Nom = VIP_Breakfast(1, 3, 5, 7, 'hot', 'spicy', 'not sweet', 'very savory')\n",
    "Nom"
   ]
  },
  {
   "cell_type": "markdown",
   "id": "e9158b50",
   "metadata": {
    "hidden": true
   },
   "source": [
    "Passing defaults when initiating namedtuple sets defaults values starting from farthest right parameters. By providing defaults with an array length of four, default values are set for Taste. It is possible to override default values by providing right positional argument or keyword argument."
   ]
  },
  {
   "cell_type": "code",
   "execution_count": 32,
   "id": "d4dcb293",
   "metadata": {
    "hidden": true
   },
   "outputs": [
    {
     "data": {
      "text/plain": [
       "VIP_Breakfast(eggs=1, bacons=3, pancakes=5, oj=7, temperature='cold', spiciness='regular', sweetness='semi-sweet', savoriness='not savory')"
      ]
     },
     "execution_count": 32,
     "metadata": {},
     "output_type": "execute_result"
    }
   ],
   "source": [
    "Taste = namedtuple('Taste', 'temperature, spiciness, sweetness, savoriness')\n",
    "VIP_Breakfast = namedtuple('VIP_Breakfast', \n",
    "                           Breakfast._fields + Taste._fields,\n",
    "                           defaults=['hot', 'regular', 'semi-sweet', 'savory'])\n",
    "Nom = VIP_Breakfast(1, 3, 5, 7, 'cold', savoriness='not savory')\n",
    "Nom"
   ]
  },
  {
   "cell_type": "markdown",
   "id": "85431492",
   "metadata": {
    "hidden": true
   },
   "source": [
    "Using <code>_field_defaults</code>, it is easy to check the default values."
   ]
  },
  {
   "cell_type": "code",
   "execution_count": 31,
   "id": "6509245c",
   "metadata": {
    "hidden": true
   },
   "outputs": [
    {
     "data": {
      "text/plain": [
       "{'temperature': 'hot',\n",
       " 'spiciness': 'regular',\n",
       " 'sweetness': 'semi-sweet',\n",
       " 'savoriness': 'savory'}"
      ]
     },
     "execution_count": 31,
     "metadata": {},
     "output_type": "execute_result"
    }
   ],
   "source": [
    "Nom._field_defaults"
   ]
  },
  {
   "cell_type": "markdown",
   "id": "8e78388f",
   "metadata": {
    "hidden": true
   },
   "source": [
    "Using getattr is another way to get the field of namedtuple."
   ]
  },
  {
   "cell_type": "code",
   "execution_count": 33,
   "id": "77b4ff9a",
   "metadata": {
    "hidden": true
   },
   "outputs": [
    {
     "data": {
      "text/plain": [
       "7"
      ]
     },
     "execution_count": 33,
     "metadata": {},
     "output_type": "execute_result"
    }
   ],
   "source": [
    "getattr(Nom, 'oj')"
   ]
  },
  {
   "cell_type": "markdown",
   "id": "6d0ea3f1",
   "metadata": {
    "hidden": true
   },
   "source": [
    "If a server wrote the order with a dictionary format, it is no problem. Namedtuple can be initialized with double stars."
   ]
  },
  {
   "cell_type": "code",
   "execution_count": 36,
   "id": "0ea73876",
   "metadata": {
    "hidden": true
   },
   "outputs": [
    {
     "data": {
      "text/plain": [
       "VIP_Breakfast(eggs=2, bacons=3, pancakes=9, oj=1, temperature='hot', spiciness='regular', sweetness='semi-sweet', savoriness='savory')"
      ]
     },
     "execution_count": 36,
     "metadata": {},
     "output_type": "execute_result"
    }
   ],
   "source": [
    "VIP_order = {'eggs': 2, 'bacons': 3, 'pancakes': 9, 'oj': 1}\n",
    "Nom = VIP_Breakfast(**VIP_order)\n",
    "Nom"
   ]
  },
  {
   "cell_type": "markdown",
   "id": "bfbbc260",
   "metadata": {
    "heading_collapsed": true,
    "hidden": true
   },
   "source": [
    "### Deque"
   ]
  },
  {
   "cell_type": "markdown",
   "id": "35c5fee3",
   "metadata": {
    "hidden": true
   },
   "source": [
    "Pronounced as \"deck,\" deque is used to work on only certain number of elements. For example, it is used for saving last five visits in history or saving last couple lines of a file. Another usage is inserting and popping elements in the beginning of the deque. "
   ]
  },
  {
   "cell_type": "code",
   "execution_count": 27,
   "id": "ac04d36e",
   "metadata": {
    "hidden": true
   },
   "outputs": [
    {
     "data": {
      "text/plain": [
       "deque(['a', 'b', 'c'])"
      ]
     },
     "execution_count": 27,
     "metadata": {},
     "output_type": "execute_result"
    }
   ],
   "source": [
    "d = deque('abc', 3)\n",
    "d"
   ]
  },
  {
   "cell_type": "code",
   "execution_count": 28,
   "id": "cc7a41f2",
   "metadata": {
    "hidden": true
   },
   "outputs": [
    {
     "data": {
      "text/plain": [
       "deque(['b', 'c', 'd'])"
      ]
     },
     "execution_count": 28,
     "metadata": {},
     "output_type": "execute_result"
    }
   ],
   "source": [
    "d.append('d')\n",
    "d"
   ]
  },
  {
   "cell_type": "code",
   "execution_count": 29,
   "id": "14d7b037",
   "metadata": {
    "hidden": true
   },
   "outputs": [
    {
     "data": {
      "text/plain": [
       "deque(['1', 'b', 'c'])"
      ]
     },
     "execution_count": 29,
     "metadata": {},
     "output_type": "execute_result"
    }
   ],
   "source": [
    "d.appendleft('1')\n",
    "d"
   ]
  },
  {
   "cell_type": "code",
   "execution_count": 30,
   "id": "142a0258",
   "metadata": {
    "hidden": true
   },
   "outputs": [
    {
     "data": {
      "text/plain": [
       "deque(['c', 'd', 'e'])"
      ]
     },
     "execution_count": 30,
     "metadata": {},
     "output_type": "execute_result"
    }
   ],
   "source": [
    "d.extend(['d', 'e'])\n",
    "d"
   ]
  },
  {
   "cell_type": "code",
   "execution_count": 31,
   "id": "09063089",
   "metadata": {
    "hidden": true
   },
   "outputs": [
    {
     "data": {
      "text/plain": [
       "deque([1, 0, 'c'])"
      ]
     },
     "execution_count": 31,
     "metadata": {},
     "output_type": "execute_result"
    }
   ],
   "source": [
    "# Extendleft's arguments are inserted in a reversed order.\n",
    "d.extendleft([0, 1])\n",
    "d"
   ]
  },
  {
   "cell_type": "code",
   "execution_count": 32,
   "id": "61896c82",
   "metadata": {
    "hidden": true
   },
   "outputs": [
    {
     "data": {
      "text/plain": [
       "1"
      ]
     },
     "execution_count": 32,
     "metadata": {},
     "output_type": "execute_result"
    }
   ],
   "source": [
    "d.index(0)"
   ]
  },
  {
   "cell_type": "code",
   "execution_count": 33,
   "id": "4d2108c4",
   "metadata": {
    "hidden": true
   },
   "outputs": [
    {
     "data": {
      "text/plain": [
       "'c'"
      ]
     },
     "execution_count": 33,
     "metadata": {},
     "output_type": "execute_result"
    }
   ],
   "source": [
    "d.pop()"
   ]
  },
  {
   "cell_type": "code",
   "execution_count": 34,
   "id": "3a873923",
   "metadata": {
    "hidden": true
   },
   "outputs": [
    {
     "data": {
      "text/plain": [
       "1"
      ]
     },
     "execution_count": 34,
     "metadata": {},
     "output_type": "execute_result"
    }
   ],
   "source": [
    "d.popleft()"
   ]
  },
  {
   "cell_type": "code",
   "execution_count": 35,
   "id": "e41539d3",
   "metadata": {
    "hidden": true
   },
   "outputs": [
    {
     "data": {
      "text/plain": [
       "deque([0])"
      ]
     },
     "execution_count": 35,
     "metadata": {},
     "output_type": "execute_result"
    }
   ],
   "source": [
    "d"
   ]
  },
  {
   "cell_type": "code",
   "execution_count": 36,
   "id": "b266cab4",
   "metadata": {
    "hidden": true
   },
   "outputs": [
    {
     "data": {
      "text/plain": [
       "deque([])"
      ]
     },
     "execution_count": 36,
     "metadata": {},
     "output_type": "execute_result"
    }
   ],
   "source": [
    "d.remove(0)\n",
    "d"
   ]
  },
  {
   "cell_type": "code",
   "execution_count": 38,
   "id": "a2fa0141",
   "metadata": {
    "hidden": true
   },
   "outputs": [
    {
     "data": {
      "text/plain": [
       "deque([0, 1, 2])"
      ]
     },
     "execution_count": 38,
     "metadata": {},
     "output_type": "execute_result"
    }
   ],
   "source": [
    "d.extend([0,1,2])\n",
    "d"
   ]
  },
  {
   "cell_type": "code",
   "execution_count": 41,
   "id": "fb83c3b9",
   "metadata": {
    "hidden": true
   },
   "outputs": [
    {
     "data": {
      "text/plain": [
       "deque([2, 1, 0])"
      ]
     },
     "execution_count": 41,
     "metadata": {},
     "output_type": "execute_result"
    }
   ],
   "source": [
    "d.reverse()\n",
    "d"
   ]
  },
  {
   "cell_type": "code",
   "execution_count": 43,
   "id": "d8ce29dc",
   "metadata": {
    "hidden": true
   },
   "outputs": [
    {
     "ename": "IndexError",
     "evalue": "deque already at its maximum size",
     "output_type": "error",
     "traceback": [
      "\u001b[0;31m---------------------------------------------------------------------------\u001b[0m",
      "\u001b[0;31mIndexError\u001b[0m                                Traceback (most recent call last)",
      "Input \u001b[0;32mIn [43]\u001b[0m, in \u001b[0;36m<cell line: 2>\u001b[0;34m()\u001b[0m\n\u001b[1;32m      1\u001b[0m \u001b[38;5;66;03m# cannot insert when it is full\u001b[39;00m\n\u001b[0;32m----> 2\u001b[0m \u001b[43md\u001b[49m\u001b[38;5;241;43m.\u001b[39;49m\u001b[43minsert\u001b[49m\u001b[43m(\u001b[49m\u001b[38;5;241;43m1\u001b[39;49m\u001b[43m,\u001b[49m\u001b[43m \u001b[49m\u001b[38;5;241;43m7\u001b[39;49m\u001b[43m)\u001b[49m\n\u001b[1;32m      3\u001b[0m d\n",
      "\u001b[0;31mIndexError\u001b[0m: deque already at its maximum size"
     ]
    }
   ],
   "source": [
    "# cannot insert when it is full\n",
    "d.insert(1, 7)\n",
    "d"
   ]
  },
  {
   "cell_type": "code",
   "execution_count": 47,
   "id": "2a292681",
   "metadata": {
    "hidden": true
   },
   "outputs": [
    {
     "data": {
      "text/plain": [
       "deque([0, 2, 1])"
      ]
     },
     "execution_count": 47,
     "metadata": {},
     "output_type": "execute_result"
    }
   ],
   "source": [
    "d.rotate()\n",
    "d"
   ]
  },
  {
   "cell_type": "code",
   "execution_count": 49,
   "id": "7b9f4083",
   "metadata": {
    "hidden": true
   },
   "outputs": [
    {
     "data": {
      "text/plain": [
       "deque([1, 0, 2])"
      ]
     },
     "execution_count": 49,
     "metadata": {},
     "output_type": "execute_result"
    }
   ],
   "source": [
    "d.rotate(-1)\n",
    "d"
   ]
  },
  {
   "cell_type": "code",
   "execution_count": 50,
   "id": "69ec005b",
   "metadata": {
    "hidden": true
   },
   "outputs": [
    {
     "data": {
      "text/plain": [
       "3"
      ]
     },
     "execution_count": 50,
     "metadata": {},
     "output_type": "execute_result"
    }
   ],
   "source": [
    "d.maxlen"
   ]
  },
  {
   "cell_type": "code",
   "execution_count": 51,
   "id": "b0b87b45",
   "metadata": {
    "hidden": true
   },
   "outputs": [
    {
     "data": {
      "text/plain": [
       "deque([])"
      ]
     },
     "execution_count": 51,
     "metadata": {},
     "output_type": "execute_result"
    }
   ],
   "source": [
    "d.clear()\n",
    "d"
   ]
  },
  {
   "cell_type": "markdown",
   "id": "04a8ccad",
   "metadata": {
    "hidden": true
   },
   "source": [
    "It is very similar to list, except that it has a fixed size, and it can accept elements in the beginning efficiently."
   ]
  },
  {
   "cell_type": "code",
   "execution_count": 52,
   "id": "7d1d68dd",
   "metadata": {
    "hidden": true
   },
   "outputs": [
    {
     "data": {
      "text/plain": [
       "deque([7, 8, 9])"
      ]
     },
     "execution_count": 52,
     "metadata": {},
     "output_type": "execute_result"
    }
   ],
   "source": [
    "# Just more exmaples.\n",
    "# last 3 numbers of data can be achieved like this\n",
    "for i in range(10):\n",
    "    d.append(i)\n",
    "d"
   ]
  },
  {
   "cell_type": "markdown",
   "id": "854c24c4",
   "metadata": {
    "hidden": true
   },
   "source": [
    "Deque can also be used for grabbing last 5 lines of file or getting moving averages. "
   ]
  },
  {
   "cell_type": "markdown",
   "id": "2f87a557",
   "metadata": {},
   "source": [
    "## Itertools"
   ]
  },
  {
   "cell_type": "markdown",
   "id": "6d598552",
   "metadata": {
    "heading_collapsed": true
   },
   "source": [
    "### Permutations"
   ]
  },
  {
   "cell_type": "markdown",
   "id": "42f0d2ed",
   "metadata": {
    "hidden": true
   },
   "source": [
    "Permutations function simply return permutations. It can be used for cases where order matters, and there is no overlap. For example, making a sequence of music notes with given possible notes without overlap is an example of using permutations."
   ]
  },
  {
   "cell_type": "code",
   "execution_count": 249,
   "id": "4a28d22e",
   "metadata": {
    "hidden": true
   },
   "outputs": [
    {
     "data": {
      "text/plain": [
       "[('A', 'B'), ('A', 'C'), ('B', 'A'), ('B', 'C'), ('C', 'A'), ('C', 'B')]"
      ]
     },
     "execution_count": 249,
     "metadata": {},
     "output_type": "execute_result"
    }
   ],
   "source": [
    "list(permutations('ABC', 2))"
   ]
  },
  {
   "cell_type": "markdown",
   "id": "ee0f465d",
   "metadata": {
    "hidden": true
   },
   "source": [
    "Here is my implementation that returns a list. However, itertools version returns a generator. "
   ]
  },
  {
   "cell_type": "code",
   "execution_count": 240,
   "id": "d3d1f37f",
   "metadata": {
    "hidden": true
   },
   "outputs": [],
   "source": [
    "def our_permutations(iterable, num=None):\n",
    "    \"\"\"Return a list of permutations.\"\"\"\n",
    "    length = len(iterable)\n",
    "    num = length if num is None else num\n",
    "    if num > length:\n",
    "        return []\n",
    "    elif num == 0:\n",
    "        return [()]\n",
    "    else:\n",
    "        result = []\n",
    "        for i in range(length):\n",
    "            rest = tuple(our_permutations(iterable[0:i] + iterable[i+1:], num - 1))\n",
    "            for j in range(len(rest)):\n",
    "                result.append(tuple(iterable[i]) + rest[j])\n",
    "        return result"
   ]
  },
  {
   "cell_type": "code",
   "execution_count": 243,
   "id": "a3a0286b",
   "metadata": {
    "hidden": true
   },
   "outputs": [
    {
     "data": {
      "text/plain": [
       "[('B',), ('C',)]"
      ]
     },
     "execution_count": 243,
     "metadata": {},
     "output_type": "execute_result"
    }
   ],
   "source": [
    "our_permutations('BC', 1)"
   ]
  },
  {
   "cell_type": "code",
   "execution_count": 244,
   "id": "959c009f",
   "metadata": {
    "hidden": true
   },
   "outputs": [
    {
     "data": {
      "text/plain": [
       "[('A', 'B', 'C', 'D'),\n",
       " ('A', 'B', 'D', 'C'),\n",
       " ('A', 'C', 'B', 'D'),\n",
       " ('A', 'C', 'D', 'B'),\n",
       " ('A', 'D', 'B', 'C'),\n",
       " ('A', 'D', 'C', 'B'),\n",
       " ('B', 'A', 'C', 'D'),\n",
       " ('B', 'A', 'D', 'C'),\n",
       " ('B', 'C', 'A', 'D'),\n",
       " ('B', 'C', 'D', 'A'),\n",
       " ('B', 'D', 'A', 'C'),\n",
       " ('B', 'D', 'C', 'A'),\n",
       " ('C', 'A', 'B', 'D'),\n",
       " ('C', 'A', 'D', 'B'),\n",
       " ('C', 'B', 'A', 'D'),\n",
       " ('C', 'B', 'D', 'A'),\n",
       " ('C', 'D', 'A', 'B'),\n",
       " ('C', 'D', 'B', 'A'),\n",
       " ('D', 'A', 'B', 'C'),\n",
       " ('D', 'A', 'C', 'B'),\n",
       " ('D', 'B', 'A', 'C'),\n",
       " ('D', 'B', 'C', 'A'),\n",
       " ('D', 'C', 'A', 'B'),\n",
       " ('D', 'C', 'B', 'A')]"
      ]
     },
     "execution_count": 244,
     "metadata": {},
     "output_type": "execute_result"
    }
   ],
   "source": [
    "our_permutations('ABCD')"
   ]
  },
  {
   "cell_type": "code",
   "execution_count": 205,
   "id": "56173438",
   "metadata": {
    "hidden": true
   },
   "outputs": [
    {
     "data": {
      "text/plain": [
       "[('A', 'B'),\n",
       " ('A', 'C'),\n",
       " ('A', 'D'),\n",
       " ('B', 'A'),\n",
       " ('B', 'C'),\n",
       " ('B', 'D'),\n",
       " ('C', 'A'),\n",
       " ('C', 'B'),\n",
       " ('C', 'D'),\n",
       " ('D', 'A'),\n",
       " ('D', 'B'),\n",
       " ('D', 'C')]"
      ]
     },
     "execution_count": 205,
     "metadata": {},
     "output_type": "execute_result"
    }
   ],
   "source": [
    "our_permutations('ABCD', 2)"
   ]
  },
  {
   "cell_type": "markdown",
   "id": "35a34116",
   "metadata": {
    "hidden": true
   },
   "source": [
    "And this is from python documentation. "
   ]
  },
  {
   "cell_type": "code",
   "execution_count": 171,
   "id": "8d111583",
   "metadata": {
    "hidden": true
   },
   "outputs": [],
   "source": [
    "def permutations(iterable, r=None):\n",
    "    # permutations('ABCD', 2) --> AB AC AD BA BC BD CA CB CD DA DB DC\n",
    "    # permutations(range(3)) --> 012 021 102 120 201 210\n",
    "    pool = tuple(iterable) # ('A', 'B', 'C', 'D')\n",
    "    n = len(pool) # 4\n",
    "    r = n if r is None else r # 2\n",
    "    if r > n:\n",
    "        return\n",
    "    indices = list(range(n)) # [0, 1, 2, 3]\n",
    "    cycles = list(range(n, n-r, -1)) # [1, 0]\n",
    "    yield tuple(pool[i] for i in indices[:r]) # tuple(pool[i] for i in [0, 1]) -> ('A', 'B')\n",
    "    while n: # 4\n",
    "        for i in reversed(range(r)): # i in reversed(range(2)) -> 1, 0\n",
    "            cycles[i] -= 1 # -1, 0\n",
    "            if cycles[i] == 0: \n",
    "                indices[i:] = indices[i+1:] + indices[i:i+1] \n",
    "                # indices[1:] = indices[2:] + indices[1:2]\n",
    "                # [1,2,3] = [2,3] + [1]\n",
    "                cycles[i] = n - i # cycles[0] = 4\n",
    "            else: # i: 1\n",
    "                j = cycles[i] # j: -1\n",
    "                indices[i], indices[-j] = indices[-j], indices[i] # 1, 1 = 1, 1\n",
    "                yield tuple(pool[i] for i in indices[:r]) \n",
    "                # tuple(pool[i] for i in [0, 1]) -> ('A', 'B')\n",
    "                break\n",
    "        else:\n",
    "            return"
   ]
  },
  {
   "cell_type": "code",
   "execution_count": 172,
   "id": "895a900d",
   "metadata": {
    "hidden": true
   },
   "outputs": [
    {
     "data": {
      "text/plain": [
       "<generator object permutations at 0x7f31ab408350>"
      ]
     },
     "execution_count": 172,
     "metadata": {},
     "output_type": "execute_result"
    }
   ],
   "source": [
    "permutations('ABC', 5)"
   ]
  },
  {
   "cell_type": "markdown",
   "id": "dd7982e4",
   "metadata": {
    "heading_collapsed": true
   },
   "source": [
    "### Combinations"
   ]
  },
  {
   "cell_type": "markdown",
   "id": "5c212ffd",
   "metadata": {
    "hidden": true
   },
   "source": [
    "Similar to permutations, it returns combinations. "
   ]
  },
  {
   "cell_type": "code",
   "execution_count": 44,
   "id": "e8ab6dfd",
   "metadata": {
    "hidden": true
   },
   "outputs": [
    {
     "data": {
      "text/plain": [
       "[('A', 'B', 'C'), ('A', 'B', 'D'), ('A', 'C', 'D'), ('B', 'C', 'D')]"
      ]
     },
     "execution_count": 44,
     "metadata": {},
     "output_type": "execute_result"
    }
   ],
   "source": [
    "list(combinations('ABCD', 3))"
   ]
  },
  {
   "cell_type": "markdown",
   "id": "6a11b672",
   "metadata": {
    "hidden": true
   },
   "source": [
    "Here is combinations that I wrote similar to our_permutations. "
   ]
  },
  {
   "cell_type": "code",
   "execution_count": 40,
   "id": "17ff3220",
   "metadata": {
    "hidden": true
   },
   "outputs": [],
   "source": [
    "def our_combinations(iterable, num=None):\n",
    "    \"\"\"Return a list of combinations.\"\"\"\n",
    "    length = len(iterable)\n",
    "    num = length if num is None else num\n",
    "    if num > length:\n",
    "        return []\n",
    "    elif num == 0:\n",
    "        return [()]\n",
    "    else:\n",
    "        result = []\n",
    "        for i in range(length - num + 1):\n",
    "            rest = tuple(our_combinations(iterable[i+1:], num - 1))\n",
    "                result.append(tuple(iterable[i]) + rest[j])\n",
    "        return result"
   ]
  },
  {
   "cell_type": "code",
   "execution_count": 45,
   "id": "2cb0d7d4",
   "metadata": {
    "hidden": true
   },
   "outputs": [
    {
     "data": {
      "text/plain": [
       "[('A', 'B', 'C'), ('A', 'B', 'D'), ('A', 'C', 'D'), ('B', 'C', 'D')]"
      ]
     },
     "execution_count": 45,
     "metadata": {},
     "output_type": "execute_result"
    }
   ],
   "source": [
    "our_combinations('ABCD', 3)"
   ]
  },
  {
   "cell_type": "markdown",
   "id": "60a30571",
   "metadata": {
    "hidden": true
   },
   "source": [
    "In python <a href=\"https://docs.python.org/3/library/itertools.html#itertools.combinations\">documentation</a>, combinations is written in terms of permutations. It uses permutations to create all the possible indices of making permutations. Then it checks whether the set of indices matches the sorted indices. Although it is an interesting way to implement combinations, it is not very efficient. "
   ]
  },
  {
   "cell_type": "code",
   "execution_count": null,
   "id": "f7d75853",
   "metadata": {
    "hidden": true
   },
   "outputs": [],
   "source": [
    "def p_combinations(iterable, r):\n",
    "    pool = tuple(iterable)\n",
    "    n = len(pool)\n",
    "    for indices in permutations(range(n), r):\n",
    "        if sorted(indices) == list(indices):\n",
    "            yield tuple(pool[i] for i in indices)"
   ]
  },
  {
   "cell_type": "markdown",
   "id": "6d50b0d6",
   "metadata": {
    "heading_collapsed": true
   },
   "source": [
    "### Chain"
   ]
  },
  {
   "cell_type": "markdown",
   "id": "d54cc1da",
   "metadata": {
    "hidden": true
   },
   "source": [
    "Chain is used to put multiple iterables together. "
   ]
  },
  {
   "cell_type": "code",
   "execution_count": 3,
   "id": "eb14a46b",
   "metadata": {
    "hidden": true
   },
   "outputs": [
    {
     "name": "stdout",
     "output_type": "stream",
     "text": [
      "a\n",
      "b\n",
      "c\n",
      "d\n",
      "e\n",
      "f\n"
     ]
    }
   ],
   "source": [
    "l1 = ['a', 'b', 'c']\n",
    "l2 = ['d', 'e', 'f']\n",
    "for element in chain(l1, l2):\n",
    "    print(element)"
   ]
  },
  {
   "cell_type": "markdown",
   "id": "e1e26391",
   "metadata": {
    "hidden": true
   },
   "source": [
    "I wonder whether using chain is faster than just using + with lists."
   ]
  },
  {
   "cell_type": "code",
   "execution_count": 4,
   "id": "e76e9be8",
   "metadata": {
    "hidden": true
   },
   "outputs": [],
   "source": [
    "long_lst = list(range(10000))\n",
    "long_lst2 = list(range(10000, 20000))"
   ]
  },
  {
   "cell_type": "code",
   "execution_count": 5,
   "id": "9f1eab21",
   "metadata": {
    "hidden": true
   },
   "outputs": [
    {
     "name": "stdout",
     "output_type": "stream",
     "text": [
      "830 µs ± 4.67 µs per loop (mean ± std. dev. of 7 runs, 1,000 loops each)\n"
     ]
    }
   ],
   "source": [
    "%timeit [x for x in long_lst+long_lst2]"
   ]
  },
  {
   "cell_type": "code",
   "execution_count": 6,
   "id": "8b82fbbf",
   "metadata": {
    "hidden": true
   },
   "outputs": [
    {
     "name": "stdout",
     "output_type": "stream",
     "text": [
      "792 µs ± 7.63 µs per loop (mean ± std. dev. of 7 runs, 1,000 loops each)\n"
     ]
    }
   ],
   "source": [
    "%timeit [x for x in chain(long_lst, long_lst2)]"
   ]
  },
  {
   "cell_type": "markdown",
   "id": "61817f4f",
   "metadata": {
    "hidden": true
   },
   "source": [
    "So, using chain is slighly faster than simply using +. How about using more + vs. chain?"
   ]
  },
  {
   "cell_type": "code",
   "execution_count": 7,
   "id": "f03f1624",
   "metadata": {
    "hidden": true
   },
   "outputs": [
    {
     "name": "stdout",
     "output_type": "stream",
     "text": [
      "2.16 ms ± 45 µs per loop (mean ± std. dev. of 7 runs, 100 loops each)\n"
     ]
    }
   ],
   "source": [
    "%timeit [x for x in long_lst+long_lst2+long_lst+long_lst2]"
   ]
  },
  {
   "cell_type": "code",
   "execution_count": 8,
   "id": "38cb6bab",
   "metadata": {
    "hidden": true
   },
   "outputs": [
    {
     "name": "stdout",
     "output_type": "stream",
     "text": [
      "1.59 ms ± 6.83 µs per loop (mean ± std. dev. of 7 runs, 1,000 loops each)\n"
     ]
    }
   ],
   "source": [
    "%timeit [x for x in chain(long_lst,long_lst2,long_lst,long_lst2)]"
   ]
  },
  {
   "cell_type": "markdown",
   "id": "f97c72d9",
   "metadata": {
    "hidden": true
   },
   "source": [
    "Using more chain is more efficient than +."
   ]
  },
  {
   "cell_type": "markdown",
   "id": "13fb5567",
   "metadata": {
    "heading_collapsed": true
   },
   "source": [
    "### Count"
   ]
  },
  {
   "cell_type": "markdown",
   "id": "9e2d6ef4",
   "metadata": {
    "hidden": true
   },
   "source": [
    "Even though it is count, it is imported as count_from here. It simply counts from a given input. "
   ]
  },
  {
   "cell_type": "code",
   "execution_count": 13,
   "id": "c1502e6e",
   "metadata": {
    "hidden": true
   },
   "outputs": [
    {
     "data": {
      "text/plain": [
       "[('a', 1), ('b', 2), ('c', 3), ('d', 4)]"
      ]
     },
     "execution_count": 13,
     "metadata": {},
     "output_type": "execute_result"
    }
   ],
   "source": [
    "list(zip(['a', 'b', 'c', 'd'], count_from(1)))"
   ]
  },
  {
   "cell_type": "code",
   "execution_count": 2,
   "id": "f591bfed",
   "metadata": {
    "hidden": true
   },
   "outputs": [
    {
     "data": {
      "text/plain": [
       "[('a', 1), ('c', 3), ('e', 5), ('g', 7)]"
      ]
     },
     "execution_count": 2,
     "metadata": {},
     "output_type": "execute_result"
    }
   ],
   "source": [
    "list(zip(['a', 'c', 'e', 'g'], count_from(1, 2)))"
   ]
  },
  {
   "cell_type": "markdown",
   "id": "54a9b799",
   "metadata": {
    "hidden": true
   },
   "source": [
    "Different from <code>range</code>, count_from does not take the end limit. "
   ]
  },
  {
   "cell_type": "markdown",
   "id": "6c6b1ac4",
   "metadata": {},
   "source": [
    "### "
   ]
  }
 ],
 "metadata": {
  "kernelspec": {
   "display_name": "Python 3 (ipykernel)",
   "language": "python",
   "name": "python3"
  },
  "language_info": {
   "codemirror_mode": {
    "name": "ipython",
    "version": 3
   },
   "file_extension": ".py",
   "mimetype": "text/x-python",
   "name": "python",
   "nbconvert_exporter": "python",
   "pygments_lexer": "ipython3",
   "version": "3.9.7"
  }
 },
 "nbformat": 4,
 "nbformat_minor": 5
}
