{
 "cells": [
  {
   "cell_type": "markdown",
   "id": "a18c4384",
   "metadata": {},
   "source": [
    "# --- Day 7: Some Assembly Required ---"
   ]
  },
  {
   "cell_type": "markdown",
   "id": "3195dd63",
   "metadata": {},
   "source": [
    "This year, Santa brought little Bobby Tables a set of wires and bitwise logic gates! Unfortunately, little Bobby is a little under the recommended age range, and he needs help assembling the circuit.\n",
    "\n",
    "Each wire has an identifier (some lowercase letters) and can carry a 16-bit signal (a number from 0 to 65535). A signal is provided to each wire by a gate, another wire, or some specific value. Each wire can only get a signal from one source, but can provide its signal to multiple destinations. A gate provides no signal until all of its inputs have a signal.\n",
    "\n",
    "The included instructions booklet describes how to connect the parts together: x AND y -> z means to connect wires x and y to an AND gate, and then connect its output to wire z.\n",
    "\n",
    "For example:\n",
    "\n",
    "- 123 -> x means that the signal 123 is provided to wire x.\n",
    "- x AND y -> z means that the bitwise AND of wire x and wire y is provided to wire z.\n",
    "- p LSHIFT 2 -> q means that the value from wire p is left-shifted by 2 and then provided to wire q.\n",
    "- NOT e -> f means that the bitwise complement of the value from wire e is provided to wire f.\n",
    "- Other possible gates include OR (bitwise OR) and RSHIFT (right-shift). If, for some reason, you'd like to emulate the circuit instead, almost all programming languages (for example, C, JavaScript, or Python) provide operators for these gates.\n",
    "\n",
    "For example, here is a simple circuit:\n",
    "\n",
    "- 123 -> x\n",
    "- 456 -> y\n",
    "- x AND y -> d\n",
    "- x OR y -> e\n",
    "- x LSHIFT 2 -> f\n",
    "- y RSHIFT 2 -> g\n",
    "- NOT x -> h\n",
    "- NOT y -> i\n",
    "\n",
    "After it is run, these are the signals on the wires:\n",
    "\n",
    "- d: 72\n",
    "- e: 507\n",
    "- f: 492\n",
    "- g: 114\n",
    "- h: 65412\n",
    "- i: 65079\n",
    "- x: 123\n",
    "- y: 456\n",
    "\n",
    "In little Bobby's kit's instructions booklet (provided as your puzzle input), what signal is ultimately provided to wire a?"
   ]
  },
  {
   "cell_type": "code",
   "execution_count": 1,
   "id": "a5edece1",
   "metadata": {},
   "outputs": [],
   "source": [
    "inputs = '''\n",
    "af AND ah -> ai\n",
    "NOT lk -> ll\n",
    "hz RSHIFT 1 -> is\n",
    "NOT go -> gp\n",
    "du OR dt -> dv\n",
    "x RSHIFT 5 -> aa\n",
    "at OR az -> ba\n",
    "eo LSHIFT 15 -> es\n",
    "ci OR ct -> cu\n",
    "b RSHIFT 5 -> f\n",
    "fm OR fn -> fo\n",
    "NOT ag -> ah\n",
    "v OR w -> x\n",
    "g AND i -> j\n",
    "an LSHIFT 15 -> ar\n",
    "1 AND cx -> cy\n",
    "jq AND jw -> jy\n",
    "iu RSHIFT 5 -> ix\n",
    "gl AND gm -> go\n",
    "NOT bw -> bx\n",
    "jp RSHIFT 3 -> jr\n",
    "hg AND hh -> hj\n",
    "bv AND bx -> by\n",
    "er OR es -> et\n",
    "kl OR kr -> ks\n",
    "et RSHIFT 1 -> fm\n",
    "e AND f -> h\n",
    "u LSHIFT 1 -> ao\n",
    "he RSHIFT 1 -> hx\n",
    "eg AND ei -> ej\n",
    "bo AND bu -> bw\n",
    "dz OR ef -> eg\n",
    "dy RSHIFT 3 -> ea\n",
    "gl OR gm -> gn\n",
    "da LSHIFT 1 -> du\n",
    "au OR av -> aw\n",
    "gj OR gu -> gv\n",
    "eu OR fa -> fb\n",
    "lg OR lm -> ln\n",
    "e OR f -> g\n",
    "NOT dm -> dn\n",
    "NOT l -> m\n",
    "aq OR ar -> as\n",
    "gj RSHIFT 5 -> gm\n",
    "hm AND ho -> hp\n",
    "ge LSHIFT 15 -> gi\n",
    "jp RSHIFT 1 -> ki\n",
    "hg OR hh -> hi\n",
    "lc LSHIFT 1 -> lw\n",
    "km OR kn -> ko\n",
    "eq LSHIFT 1 -> fk\n",
    "1 AND am -> an\n",
    "gj RSHIFT 1 -> hc\n",
    "aj AND al -> am\n",
    "gj AND gu -> gw\n",
    "ko AND kq -> kr\n",
    "ha OR gz -> hb\n",
    "bn OR by -> bz\n",
    "iv OR jb -> jc\n",
    "NOT ac -> ad\n",
    "bo OR bu -> bv\n",
    "d AND j -> l\n",
    "bk LSHIFT 1 -> ce\n",
    "de OR dk -> dl\n",
    "dd RSHIFT 1 -> dw\n",
    "hz AND ik -> im\n",
    "NOT jd -> je\n",
    "fo RSHIFT 2 -> fp\n",
    "hb LSHIFT 1 -> hv\n",
    "lf RSHIFT 2 -> lg\n",
    "gj RSHIFT 3 -> gl\n",
    "ki OR kj -> kk\n",
    "NOT ak -> al\n",
    "ld OR le -> lf\n",
    "ci RSHIFT 3 -> ck\n",
    "1 AND cc -> cd\n",
    "NOT kx -> ky\n",
    "fp OR fv -> fw\n",
    "ev AND ew -> ey\n",
    "dt LSHIFT 15 -> dx\n",
    "NOT ax -> ay\n",
    "bp AND bq -> bs\n",
    "NOT ii -> ij\n",
    "ci AND ct -> cv\n",
    "iq OR ip -> ir\n",
    "x RSHIFT 2 -> y\n",
    "fq OR fr -> fs\n",
    "bn RSHIFT 5 -> bq\n",
    "0 -> c\n",
    "14146 -> b\n",
    "d OR j -> k\n",
    "z OR aa -> ab\n",
    "gf OR ge -> gg\n",
    "df OR dg -> dh\n",
    "NOT hj -> hk\n",
    "NOT di -> dj\n",
    "fj LSHIFT 15 -> fn\n",
    "lf RSHIFT 1 -> ly\n",
    "b AND n -> p\n",
    "jq OR jw -> jx\n",
    "gn AND gp -> gq\n",
    "x RSHIFT 1 -> aq\n",
    "ex AND ez -> fa\n",
    "NOT fc -> fd\n",
    "bj OR bi -> bk\n",
    "as RSHIFT 5 -> av\n",
    "hu LSHIFT 15 -> hy\n",
    "NOT gs -> gt\n",
    "fs AND fu -> fv\n",
    "dh AND dj -> dk\n",
    "bz AND cb -> cc\n",
    "dy RSHIFT 1 -> er\n",
    "hc OR hd -> he\n",
    "fo OR fz -> ga\n",
    "t OR s -> u\n",
    "b RSHIFT 2 -> d\n",
    "NOT jy -> jz\n",
    "hz RSHIFT 2 -> ia\n",
    "kk AND kv -> kx\n",
    "ga AND gc -> gd\n",
    "fl LSHIFT 1 -> gf\n",
    "bn AND by -> ca\n",
    "NOT hr -> hs\n",
    "NOT bs -> bt\n",
    "lf RSHIFT 3 -> lh\n",
    "au AND av -> ax\n",
    "1 AND gd -> ge\n",
    "jr OR js -> jt\n",
    "fw AND fy -> fz\n",
    "NOT iz -> ja\n",
    "c LSHIFT 1 -> t\n",
    "dy RSHIFT 5 -> eb\n",
    "bp OR bq -> br\n",
    "NOT h -> i\n",
    "1 AND ds -> dt\n",
    "ab AND ad -> ae\n",
    "ap LSHIFT 1 -> bj\n",
    "br AND bt -> bu\n",
    "NOT ca -> cb\n",
    "NOT el -> em\n",
    "s LSHIFT 15 -> w\n",
    "gk OR gq -> gr\n",
    "ff AND fh -> fi\n",
    "kf LSHIFT 15 -> kj\n",
    "fp AND fv -> fx\n",
    "lh OR li -> lj\n",
    "bn RSHIFT 3 -> bp\n",
    "jp OR ka -> kb\n",
    "lw OR lv -> lx\n",
    "iy AND ja -> jb\n",
    "dy OR ej -> ek\n",
    "1 AND bh -> bi\n",
    "NOT kt -> ku\n",
    "ao OR an -> ap\n",
    "ia AND ig -> ii\n",
    "NOT ey -> ez\n",
    "bn RSHIFT 1 -> cg\n",
    "fk OR fj -> fl\n",
    "ce OR cd -> cf\n",
    "eu AND fa -> fc\n",
    "kg OR kf -> kh\n",
    "jr AND js -> ju\n",
    "iu RSHIFT 3 -> iw\n",
    "df AND dg -> di\n",
    "dl AND dn -> do\n",
    "la LSHIFT 15 -> le\n",
    "fo RSHIFT 1 -> gh\n",
    "NOT gw -> gx\n",
    "NOT gb -> gc\n",
    "ir LSHIFT 1 -> jl\n",
    "x AND ai -> ak\n",
    "he RSHIFT 5 -> hh\n",
    "1 AND lu -> lv\n",
    "NOT ft -> fu\n",
    "gh OR gi -> gj\n",
    "lf RSHIFT 5 -> li\n",
    "x RSHIFT 3 -> z\n",
    "b RSHIFT 3 -> e\n",
    "he RSHIFT 2 -> hf\n",
    "NOT fx -> fy\n",
    "jt AND jv -> jw\n",
    "hx OR hy -> hz\n",
    "jp AND ka -> kc\n",
    "fb AND fd -> fe\n",
    "hz OR ik -> il\n",
    "ci RSHIFT 1 -> db\n",
    "fo AND fz -> gb\n",
    "fq AND fr -> ft\n",
    "gj RSHIFT 2 -> gk\n",
    "cg OR ch -> ci\n",
    "cd LSHIFT 15 -> ch\n",
    "jm LSHIFT 1 -> kg\n",
    "ih AND ij -> ik\n",
    "fo RSHIFT 3 -> fq\n",
    "fo RSHIFT 5 -> fr\n",
    "1 AND fi -> fj\n",
    "1 AND kz -> la\n",
    "iu AND jf -> jh\n",
    "cq AND cs -> ct\n",
    "dv LSHIFT 1 -> ep\n",
    "hf OR hl -> hm\n",
    "km AND kn -> kp\n",
    "de AND dk -> dm\n",
    "dd RSHIFT 5 -> dg\n",
    "NOT lo -> lp\n",
    "NOT ju -> jv\n",
    "NOT fg -> fh\n",
    "cm AND co -> cp\n",
    "ea AND eb -> ed\n",
    "dd RSHIFT 3 -> df\n",
    "gr AND gt -> gu\n",
    "ep OR eo -> eq\n",
    "cj AND cp -> cr\n",
    "lf OR lq -> lr\n",
    "gg LSHIFT 1 -> ha\n",
    "et RSHIFT 2 -> eu\n",
    "NOT jh -> ji\n",
    "ek AND em -> en\n",
    "jk LSHIFT 15 -> jo\n",
    "ia OR ig -> ih\n",
    "gv AND gx -> gy\n",
    "et AND fe -> fg\n",
    "lh AND li -> lk\n",
    "1 AND io -> ip\n",
    "kb AND kd -> ke\n",
    "kk RSHIFT 5 -> kn\n",
    "id AND if -> ig\n",
    "NOT ls -> lt\n",
    "dw OR dx -> dy\n",
    "dd AND do -> dq\n",
    "lf AND lq -> ls\n",
    "NOT kc -> kd\n",
    "dy AND ej -> el\n",
    "1 AND ke -> kf\n",
    "et OR fe -> ff\n",
    "hz RSHIFT 5 -> ic\n",
    "dd OR do -> dp\n",
    "cj OR cp -> cq\n",
    "NOT dq -> dr\n",
    "kk RSHIFT 1 -> ld\n",
    "jg AND ji -> jj\n",
    "he OR hp -> hq\n",
    "hi AND hk -> hl\n",
    "dp AND dr -> ds\n",
    "dz AND ef -> eh\n",
    "hz RSHIFT 3 -> ib\n",
    "db OR dc -> dd\n",
    "hw LSHIFT 1 -> iq\n",
    "he AND hp -> hr\n",
    "NOT cr -> cs\n",
    "lg AND lm -> lo\n",
    "hv OR hu -> hw\n",
    "il AND in -> io\n",
    "NOT eh -> ei\n",
    "gz LSHIFT 15 -> hd\n",
    "gk AND gq -> gs\n",
    "1 AND en -> eo\n",
    "NOT kp -> kq\n",
    "et RSHIFT 5 -> ew\n",
    "lj AND ll -> lm\n",
    "he RSHIFT 3 -> hg\n",
    "et RSHIFT 3 -> ev\n",
    "as AND bd -> bf\n",
    "cu AND cw -> cx\n",
    "jx AND jz -> ka\n",
    "b OR n -> o\n",
    "be AND bg -> bh\n",
    "1 AND ht -> hu\n",
    "1 AND gy -> gz\n",
    "NOT hn -> ho\n",
    "ck OR cl -> cm\n",
    "ec AND ee -> ef\n",
    "lv LSHIFT 15 -> lz\n",
    "ks AND ku -> kv\n",
    "NOT ie -> if\n",
    "hf AND hl -> hn\n",
    "1 AND r -> s\n",
    "ib AND ic -> ie\n",
    "hq AND hs -> ht\n",
    "y AND ae -> ag\n",
    "NOT ed -> ee\n",
    "bi LSHIFT 15 -> bm\n",
    "dy RSHIFT 2 -> dz\n",
    "ci RSHIFT 2 -> cj\n",
    "NOT bf -> bg\n",
    "NOT im -> in\n",
    "ev OR ew -> ex\n",
    "ib OR ic -> id\n",
    "bn RSHIFT 2 -> bo\n",
    "dd RSHIFT 2 -> de\n",
    "bl OR bm -> bn\n",
    "as RSHIFT 1 -> bl\n",
    "ea OR eb -> ec\n",
    "ln AND lp -> lq\n",
    "kk RSHIFT 3 -> km\n",
    "is OR it -> iu\n",
    "iu RSHIFT 2 -> iv\n",
    "as OR bd -> be\n",
    "ip LSHIFT 15 -> it\n",
    "iw OR ix -> iy\n",
    "kk RSHIFT 2 -> kl\n",
    "NOT bb -> bc\n",
    "ci RSHIFT 5 -> cl\n",
    "ly OR lz -> ma\n",
    "z AND aa -> ac\n",
    "iu RSHIFT 1 -> jn\n",
    "cy LSHIFT 15 -> dc\n",
    "cf LSHIFT 1 -> cz\n",
    "as RSHIFT 3 -> au\n",
    "cz OR cy -> da\n",
    "kw AND ky -> kz\n",
    "lx -> a\n",
    "iw AND ix -> iz\n",
    "lr AND lt -> lu\n",
    "jp RSHIFT 5 -> js\n",
    "aw AND ay -> az\n",
    "jc AND je -> jf\n",
    "lb OR la -> lc\n",
    "NOT cn -> co\n",
    "kh LSHIFT 1 -> lb\n",
    "1 AND jj -> jk\n",
    "y OR ae -> af\n",
    "ck AND cl -> cn\n",
    "kk OR kv -> kw\n",
    "NOT cv -> cw\n",
    "kl AND kr -> kt\n",
    "iu OR jf -> jg\n",
    "at AND az -> bb\n",
    "jp RSHIFT 2 -> jq\n",
    "iv AND jb -> jd\n",
    "jn OR jo -> jp\n",
    "x OR ai -> aj\n",
    "ba AND bc -> bd\n",
    "jl OR jk -> jm\n",
    "b RSHIFT 1 -> v\n",
    "o AND q -> r\n",
    "NOT p -> q\n",
    "k AND m -> n\n",
    "as RSHIFT 2 -> at\n",
    "'''"
   ]
  },
  {
   "cell_type": "markdown",
   "id": "5cb678ae",
   "metadata": {},
   "source": [
    "Good thing Advent of Code provided hyperlinks about bitwise operations. After looking over these, I implemented the examples provided."
   ]
  },
  {
   "cell_type": "code",
   "execution_count": 2,
   "id": "94e0846d",
   "metadata": {},
   "outputs": [],
   "source": [
    "x = 123\n",
    "y = 456"
   ]
  },
  {
   "cell_type": "code",
   "execution_count": 3,
   "id": "4fc6ea74",
   "metadata": {},
   "outputs": [
    {
     "data": {
      "text/plain": [
       "72"
      ]
     },
     "execution_count": 3,
     "metadata": {},
     "output_type": "execute_result"
    }
   ],
   "source": [
    "d = x & y\n",
    "d"
   ]
  },
  {
   "cell_type": "code",
   "execution_count": 4,
   "id": "95e88e4c",
   "metadata": {},
   "outputs": [
    {
     "data": {
      "text/plain": [
       "507"
      ]
     },
     "execution_count": 4,
     "metadata": {},
     "output_type": "execute_result"
    }
   ],
   "source": [
    "e = x | y\n",
    "e"
   ]
  },
  {
   "cell_type": "code",
   "execution_count": 5,
   "id": "dabe859c",
   "metadata": {},
   "outputs": [
    {
     "data": {
      "text/plain": [
       "492"
      ]
     },
     "execution_count": 5,
     "metadata": {},
     "output_type": "execute_result"
    }
   ],
   "source": [
    "f = x << 2\n",
    "f"
   ]
  },
  {
   "cell_type": "code",
   "execution_count": 6,
   "id": "f6f7edfe",
   "metadata": {},
   "outputs": [
    {
     "data": {
      "text/plain": [
       "30"
      ]
     },
     "execution_count": 6,
     "metadata": {},
     "output_type": "execute_result"
    }
   ],
   "source": [
    "g = x >> 2\n",
    "g"
   ]
  },
  {
   "cell_type": "code",
   "execution_count": 7,
   "id": "a1188bb9",
   "metadata": {},
   "outputs": [
    {
     "data": {
      "text/plain": [
       "-124"
      ]
     },
     "execution_count": 7,
     "metadata": {},
     "output_type": "execute_result"
    }
   ],
   "source": [
    "h = ~x\n",
    "h"
   ]
  },
  {
   "cell_type": "markdown",
   "id": "080ec830",
   "metadata": {},
   "source": [
    "Wait a minute, this is supposed to be 65412, not -124. Data type should be unsigned 16 bit integer, but in python, it is not possible to set that data type. However, there is a way to work around. One way is to add 2**16 because it is 16bit."
   ]
  },
  {
   "cell_type": "code",
   "execution_count": 8,
   "id": "34c08783",
   "metadata": {},
   "outputs": [
    {
     "data": {
      "text/plain": [
       "65412"
      ]
     },
     "execution_count": 8,
     "metadata": {},
     "output_type": "execute_result"
    }
   ],
   "source": [
    "h = ~x + 2**16\n",
    "h"
   ]
  },
  {
   "cell_type": "code",
   "execution_count": 9,
   "id": "ff13f814",
   "metadata": {},
   "outputs": [
    {
     "data": {
      "text/plain": [
       "65079"
      ]
     },
     "execution_count": 9,
     "metadata": {},
     "output_type": "execute_result"
    }
   ],
   "source": [
    "i = ~y + 2**16\n",
    "i"
   ]
  },
  {
   "cell_type": "markdown",
   "id": "978f0bb8",
   "metadata": {},
   "source": [
    "Another way is to add (1 << 16). A pair of parenthesis is required."
   ]
  },
  {
   "cell_type": "code",
   "execution_count": 10,
   "id": "839c2d2f",
   "metadata": {},
   "outputs": [
    {
     "data": {
      "text/plain": [
       "65412"
      ]
     },
     "execution_count": 10,
     "metadata": {},
     "output_type": "execute_result"
    }
   ],
   "source": [
    "~x + (1 << 16)"
   ]
  },
  {
   "cell_type": "code",
   "execution_count": 11,
   "id": "cb77d816",
   "metadata": {},
   "outputs": [
    {
     "data": {
      "text/plain": [
       "[['af', 'AND', 'ah', '->', 'ai'],\n",
       " ['NOT', 'lk', '->', 'll'],\n",
       " ['hz', 'RSHIFT', '1', '->', 'is']]"
      ]
     },
     "execution_count": 11,
     "metadata": {},
     "output_type": "execute_result"
    }
   ],
   "source": [
    "# Prepare our inputs into something more convenient\n",
    "inputs = [x.split(' ') for x in inputs.strip().split('\\n')]\n",
    "inputs[:3]"
   ]
  },
  {
   "cell_type": "code",
   "execution_count": 12,
   "id": "c5dc4b38",
   "metadata": {},
   "outputs": [
    {
     "data": {
      "text/plain": [
       "{'x': 123, 'y': 456}"
      ]
     },
     "execution_count": 12,
     "metadata": {},
     "output_type": "execute_result"
    }
   ],
   "source": [
    "# Initial wirings\n",
    "wirings = {'x':123, \n",
    "           'y':456}\n",
    "wirings"
   ]
  },
  {
   "cell_type": "code",
   "execution_count": 13,
   "id": "263ea460",
   "metadata": {},
   "outputs": [],
   "source": [
    "def make_wirings(inp):\n",
    "    \"Make wirings from inputs.\"\n",
    "    extend_wiring(inp)\n",
    "    if inp[0] == 'NOT' and inp[1] in wirings:\n",
    "        wirings[inp[-1]] = ~wirings[inp[1]] + (1 << 16)\n",
    "    elif inp[1] == 'AND' and inp[0] in wirings and inp[2] in wirings:\n",
    "        wirings[inp[-1]] = wirings[inp[0]] & wirings[inp[2]]\n",
    "    elif inp[1] == 'OR' and inp[0] in wirings and inp[2] in wirings:\n",
    "        wirings[inp[-1]] = wirings[inp[0]] | wirings[inp[2]]\n",
    "    elif inp[1] == 'LSHIFT' and inp[0] in wirings:\n",
    "        wirings[inp[-1]] = wirings[inp[0]] << int(inp[2])\n",
    "    elif inp[1] == 'RSHIFT' and inp[0] in wirings:\n",
    "        wirings[inp[-1]] = wirings[inp[0]] >> int(inp[2])\n",
    "    elif inp[1] == '->' and inp[0] in wirings:\n",
    "        wirings[inp[-1]] = wirings[inp[0]]"
   ]
  },
  {
   "cell_type": "code",
   "execution_count": 14,
   "id": "a0089fd8",
   "metadata": {},
   "outputs": [],
   "source": [
    "def extend_wiring(inp):\n",
    "    \"Add integers in the wirings\"\n",
    "    for i in inp:\n",
    "        if i[0].isnumeric():\n",
    "            wirings[i] = int(i)"
   ]
  },
  {
   "cell_type": "code",
   "execution_count": 15,
   "id": "b285bf97",
   "metadata": {},
   "outputs": [
    {
     "data": {
      "text/plain": [
       "{'x': 123, 'y': 456, '10': 10}"
      ]
     },
     "execution_count": 15,
     "metadata": {},
     "output_type": "execute_result"
    }
   ],
   "source": [
    "extend_wiring(['a', '10'])\n",
    "wirings"
   ]
  },
  {
   "cell_type": "markdown",
   "id": "530253b7",
   "metadata": {},
   "source": [
    "Made mini_inputs from the Bobby's kit instructions. I am testing my functions and adding values into the wirings."
   ]
  },
  {
   "cell_type": "code",
   "execution_count": 16,
   "id": "171e552d",
   "metadata": {},
   "outputs": [],
   "source": [
    "mini_inputs = '''\n",
    "x AND y -> d\n",
    "x OR y -> e\n",
    "x LSHIFT 2 -> f\n",
    "y RSHIFT 2 -> g\n",
    "NOT x -> h\n",
    "NOT y -> i\n",
    "'''"
   ]
  },
  {
   "cell_type": "code",
   "execution_count": 17,
   "id": "4202e8dd",
   "metadata": {},
   "outputs": [
    {
     "data": {
      "text/plain": [
       "[['x', 'AND', 'y', '->', 'd'], ['x', 'OR', 'y', '->', 'e']]"
      ]
     },
     "execution_count": 17,
     "metadata": {},
     "output_type": "execute_result"
    }
   ],
   "source": [
    "mini_inputs = [x.split(' ') for x in mini_inputs.strip().split('\\n')]\n",
    "mini_inputs[:2]"
   ]
  },
  {
   "cell_type": "code",
   "execution_count": 18,
   "id": "6867b0f1",
   "metadata": {},
   "outputs": [
    {
     "data": {
      "text/plain": [
       "{'x': 123,\n",
       " 'y': 456,\n",
       " '10': 10,\n",
       " 'd': 72,\n",
       " 'e': 507,\n",
       " '2': 2,\n",
       " 'f': 492,\n",
       " 'g': 114,\n",
       " 'h': 65412,\n",
       " 'i': 65079}"
      ]
     },
     "execution_count": 18,
     "metadata": {},
     "output_type": "execute_result"
    }
   ],
   "source": [
    "for inp in mini_inputs:\n",
    "    make_wirings(inp)\n",
    "wirings"
   ]
  },
  {
   "cell_type": "markdown",
   "id": "a6c90a90",
   "metadata": {},
   "source": [
    "Looks good. Now, it is time to try it on our real input."
   ]
  },
  {
   "cell_type": "code",
   "execution_count": 19,
   "id": "3ec058c5",
   "metadata": {},
   "outputs": [],
   "source": [
    "def find_wiring(inputs):\n",
    "    for i in range(len(inputs)):\n",
    "        if 'a' in wirings:\n",
    "            return wirings['a']\n",
    "        for inp in inputs:\n",
    "            make_wirings(inp)\n",
    "    return 'Failed'"
   ]
  },
  {
   "cell_type": "code",
   "execution_count": 20,
   "id": "4efe8681",
   "metadata": {},
   "outputs": [
    {
     "data": {
      "text/plain": [
       "956"
      ]
     },
     "execution_count": 20,
     "metadata": {},
     "output_type": "execute_result"
    }
   ],
   "source": [
    "find_wiring(inputs)"
   ]
  },
  {
   "cell_type": "markdown",
   "id": "66d28afd",
   "metadata": {},
   "source": [
    "YAY 'a' is 956! In the worst case, <code>find_wiring()</code> loops as many times as the length of inputs. "
   ]
  },
  {
   "cell_type": "markdown",
   "id": "bb453249",
   "metadata": {},
   "source": [
    "## --- Part Two ---"
   ]
  },
  {
   "cell_type": "markdown",
   "id": "0a38dc5e",
   "metadata": {},
   "source": [
    "Now, take the signal you got on wire a, override wire b to that signal, and reset the other wires (including wire a). What new signal is ultimately provided to wire a?"
   ]
  },
  {
   "cell_type": "markdown",
   "id": "afe0ac42",
   "metadata": {},
   "source": [
    "I change initial wirings and a little bit of tenderize, I can solve this problem."
   ]
  },
  {
   "cell_type": "code",
   "execution_count": 21,
   "id": "17e856f4",
   "metadata": {},
   "outputs": [
    {
     "data": {
      "text/plain": [
       "{'x': 123, 'y': 456, 'b': 956}"
      ]
     },
     "execution_count": 21,
     "metadata": {},
     "output_type": "execute_result"
    }
   ],
   "source": [
    "wirings = {'x': 123, \n",
    "           'y': 456,\n",
    "           'b': 956}\n",
    "wirings"
   ]
  },
  {
   "cell_type": "code",
   "execution_count": 22,
   "id": "2c109434",
   "metadata": {},
   "outputs": [],
   "source": [
    "def make_wirings2(inp):\n",
    "    if 'b' == inp[-1]: return\n",
    "    extend_wiring(inp)\n",
    "    if inp[0] == 'NOT' and inp[1] in wirings:\n",
    "        wirings[inp[-1]] = ~wirings[inp[1]] + (1 << 16)\n",
    "    elif inp[1] == 'AND' and inp[0] in wirings and inp[2] in wirings:\n",
    "        wirings[inp[-1]] = wirings[inp[0]] & wirings[inp[2]]\n",
    "    elif inp[1] == 'OR' and inp[0] in wirings and inp[2] in wirings:\n",
    "        wirings[inp[-1]] = wirings[inp[0]] | wirings[inp[2]]\n",
    "    elif inp[1] == 'LSHIFT' and inp[0] in wirings:\n",
    "        wirings[inp[-1]] = wirings[inp[0]] << int(inp[2])\n",
    "    elif inp[1] == 'RSHIFT' and inp[0] in wirings:\n",
    "        wirings[inp[-1]] = wirings[inp[0]] >> int(inp[2])\n",
    "    elif inp[1] == '->' and inp[0] in wirings:\n",
    "        wirings[inp[-1]] = wirings[inp[0]]"
   ]
  },
  {
   "cell_type": "code",
   "execution_count": 23,
   "id": "e229ca46",
   "metadata": {},
   "outputs": [
    {
     "data": {
      "text/plain": [
       "{'x': 123,\n",
       " 'y': 456,\n",
       " 'b': 956,\n",
       " 'd': 72,\n",
       " 'e': 507,\n",
       " '2': 2,\n",
       " 'f': 492,\n",
       " 'g': 114,\n",
       " 'h': 65412,\n",
       " 'i': 65079}"
      ]
     },
     "execution_count": 23,
     "metadata": {},
     "output_type": "execute_result"
    }
   ],
   "source": [
    "# [make_wirings2(x) for x in mini_inputs];\n",
    "for inp in mini_inputs:\n",
    "    make_wirings2(inp)\n",
    "wirings"
   ]
  },
  {
   "cell_type": "code",
   "execution_count": 24,
   "id": "3c39f419",
   "metadata": {},
   "outputs": [],
   "source": [
    "def find_wiring(inputs):\n",
    "    for i in range(len(inputs)):\n",
    "        if 'a' in wirings:\n",
    "            return wirings['a']\n",
    "        for inp in inputs:\n",
    "            make_wirings2(inp)\n",
    "    return 'Failed'"
   ]
  },
  {
   "cell_type": "code",
   "execution_count": 25,
   "id": "6394f2e6",
   "metadata": {},
   "outputs": [
    {
     "data": {
      "text/plain": [
       "40149"
      ]
     },
     "execution_count": 25,
     "metadata": {},
     "output_type": "execute_result"
    }
   ],
   "source": [
    "find_wiring(inputs)"
   ]
  },
  {
   "cell_type": "code",
   "execution_count": 26,
   "id": "b16485c6",
   "metadata": {},
   "outputs": [
    {
     "data": {
      "text/plain": [
       "956"
      ]
     },
     "execution_count": 26,
     "metadata": {},
     "output_type": "execute_result"
    }
   ],
   "source": [
    "wirings['b']"
   ]
  },
  {
   "cell_type": "markdown",
   "id": "80b63597",
   "metadata": {},
   "source": [
    "I never use bitwise operations, but this problem forced me to learn about it. I also learned about bits in more detail. It might not be very helpful in other problems in Advent of Code, but if it comes out again, I can jump into solving the problem isntead of doing research."
   ]
  },
  {
   "cell_type": "code",
   "execution_count": null,
   "id": "bca28817",
   "metadata": {},
   "outputs": [],
   "source": []
  }
 ],
 "metadata": {
  "kernelspec": {
   "display_name": "Python 3 (ipykernel)",
   "language": "python",
   "name": "python3"
  },
  "language_info": {
   "codemirror_mode": {
    "name": "ipython",
    "version": 3
   },
   "file_extension": ".py",
   "mimetype": "text/x-python",
   "name": "python",
   "nbconvert_exporter": "python",
   "pygments_lexer": "ipython3",
   "version": "3.9.7"
  }
 },
 "nbformat": 4,
 "nbformat_minor": 5
}
