{
 "cells": [
  {
   "cell_type": "markdown",
   "id": "9dd3f3d5",
   "metadata": {},
   "source": [
    "# Huggingface Transformers"
   ]
  },
  {
   "cell_type": "code",
   "execution_count": null,
   "id": "2cbc26e3",
   "metadata": {},
   "outputs": [],
   "source": [
    "# For binder or google colab\n",
    "# !pip install \"transformers[sentencepiece]\""
   ]
  },
  {
   "cell_type": "code",
   "execution_count": 1,
   "id": "c458ab49",
   "metadata": {},
   "outputs": [
    {
     "name": "stderr",
     "output_type": "stream",
     "text": [
      "No model was supplied, defaulted to distilbert-base-uncased-finetuned-sst-2-english (https://huggingface.co/distilbert-base-uncased-finetuned-sst-2-english)\n"
     ]
    },
    {
     "data": {
      "text/plain": [
       "[{'label': 'POSITIVE', 'score': 0.9598048329353333}]"
      ]
     },
     "execution_count": 1,
     "metadata": {},
     "output_type": "execute_result"
    }
   ],
   "source": [
    "from transformers import pipeline\n",
    "\n",
    "classifier = pipeline(\"sentiment-analysis\")\n",
    "classifier(\"I've been waiting for a HuggingFace course my whole life.\")"
   ]
  },
  {
   "cell_type": "markdown",
   "id": "d5ae76e4",
   "metadata": {},
   "source": [
    "That is crazy! Let me try something else."
   ]
  },
  {
   "cell_type": "code",
   "execution_count": 2,
   "id": "cd50da09",
   "metadata": {},
   "outputs": [
    {
     "data": {
      "text/plain": [
       "[{'label': 'NEGATIVE', 'score': 0.994057297706604}]"
      ]
     },
     "execution_count": 2,
     "metadata": {},
     "output_type": "execute_result"
    }
   ],
   "source": [
    "classifier(\"I want a hotdog.\")"
   ]
  },
  {
   "cell_type": "code",
   "execution_count": 3,
   "id": "eaf64fff",
   "metadata": {},
   "outputs": [
    {
     "data": {
      "text/plain": [
       "[{'label': 'NEGATIVE', 'score': 0.9984250068664551}]"
      ]
     },
     "execution_count": 3,
     "metadata": {},
     "output_type": "execute_result"
    }
   ],
   "source": [
    "classifier(\"Oh, I really can't wait to see myself get killed today.\")"
   ]
  },
  {
   "cell_type": "code",
   "execution_count": 4,
   "id": "0e3e6808",
   "metadata": {},
   "outputs": [
    {
     "data": {
      "text/plain": [
       "[{'label': 'POSITIVE', 'score': 0.999748170375824}]"
      ]
     },
     "execution_count": 4,
     "metadata": {},
     "output_type": "execute_result"
    }
   ],
   "source": [
    "classifier(\"I am so full\")"
   ]
  },
  {
   "cell_type": "code",
   "execution_count": 5,
   "id": "cead91b7",
   "metadata": {},
   "outputs": [
    {
     "data": {
      "text/plain": [
       "[{'label': 'NEGATIVE', 'score': 0.9731490612030029}]"
      ]
     },
     "execution_count": 5,
     "metadata": {},
     "output_type": "execute_result"
    }
   ],
   "source": [
    "classifier(\"I am so stuffed\")"
   ]
  },
  {
   "cell_type": "code",
   "execution_count": 6,
   "id": "982d7f8d",
   "metadata": {},
   "outputs": [
    {
     "data": {
      "text/plain": [
       "[{'label': 'POSITIVE', 'score': 0.795582115650177}]"
      ]
     },
     "execution_count": 6,
     "metadata": {},
     "output_type": "execute_result"
    }
   ],
   "source": [
    "classifier(\"I am so stuffed!\")"
   ]
  },
  {
   "cell_type": "markdown",
   "id": "b3fbc995",
   "metadata": {},
   "source": [
    "I am very imprssed with results, but there are some mysterious outcomes as well. How can adding an exclamation to the same sentence change the sentiment from negative to positive? And why does \"I want a hotdog.\" have 99% negative?"
   ]
  },
  {
   "cell_type": "markdown",
   "id": "85bf8e44",
   "metadata": {},
   "source": [
    "But it is nice to pass different number of sentences int othe classifier."
   ]
  },
  {
   "cell_type": "code",
   "execution_count": 7,
   "id": "fcf13344",
   "metadata": {},
   "outputs": [
    {
     "data": {
      "text/plain": [
       "[{'label': 'POSITIVE', 'score': 0.9598048329353333},\n",
       " {'label': 'NEGATIVE', 'score': 0.9994558691978455}]"
      ]
     },
     "execution_count": 7,
     "metadata": {},
     "output_type": "execute_result"
    }
   ],
   "source": [
    "classifier(\n",
    "    [\"I've been waiting for a HuggingFace course my whole life.\", \"I hate this so much!\"]\n",
    ")"
   ]
  },
  {
   "cell_type": "markdown",
   "id": "ce004239",
   "metadata": {},
   "source": [
    "In binder, running zero-shot-classification fails kills the kernel. "
   ]
  },
  {
   "cell_type": "code",
   "execution_count": 1,
   "id": "4b0e8147",
   "metadata": {},
   "outputs": [
    {
     "name": "stderr",
     "output_type": "stream",
     "text": [
      "No model was supplied, defaulted to facebook/bart-large-mnli (https://huggingface.co/facebook/bart-large-mnli)\n"
     ]
    },
    {
     "data": {
      "text/plain": [
       "{'sequence': 'This is a course about the Transformers library',\n",
       " 'labels': ['education', 'business', 'politics'],\n",
       " 'scores': [0.8445993661880493, 0.11197400093078613, 0.04342660307884216]}"
      ]
     },
     "execution_count": 1,
     "metadata": {},
     "output_type": "execute_result"
    }
   ],
   "source": [
    "# This cell may fail in binder.\n",
    "from transformers import pipeline\n",
    "\n",
    "classifier = pipeline(\"zero-shot-classification\")\n",
    "classifier(\n",
    "    \"This is a course about the Transformers library\",\n",
    "    candidate_labels=[\"education\", \"politics\", \"business\"],\n",
    ")"
   ]
  },
  {
   "cell_type": "code",
   "execution_count": 2,
   "id": "a6d2495e",
   "metadata": {},
   "outputs": [
    {
     "data": {
      "text/plain": [
       "{'sequence': 'I must have a hotdog for the baseball game',\n",
       " 'labels': ['food', 'sports', 'game', 'business', 'politics'],\n",
       " 'scores': [0.413107693195343,\n",
       "  0.4104064106941223,\n",
       "  0.17006781697273254,\n",
       "  0.005597190000116825,\n",
       "  0.0008209337247535586]}"
      ]
     },
     "execution_count": 2,
     "metadata": {},
     "output_type": "execute_result"
    }
   ],
   "source": [
    "classifier(\n",
    "    \"I must have a hotdog for the baseball game\",\n",
    "    candidate_labels=[\"game\", \"sports\", \"politics\", \"business\", \"food\"],\n",
    ")"
   ]
  },
  {
   "cell_type": "markdown",
   "id": "134f2e52",
   "metadata": {},
   "source": [
    "These are very interesting result. "
   ]
  },
  {
   "cell_type": "code",
   "execution_count": 3,
   "id": "93be5716",
   "metadata": {},
   "outputs": [
    {
     "name": "stderr",
     "output_type": "stream",
     "text": [
      "No model was supplied, defaulted to gpt2 (https://huggingface.co/gpt2)\n"
     ]
    },
    {
     "data": {
      "application/vnd.jupyter.widget-view+json": {
       "model_id": "f3719129b0fa4a02af60af057243c788",
       "version_major": 2,
       "version_minor": 0
      },
      "text/plain": [
       "Downloading:   0%|          | 0.00/665 [00:00<?, ?B/s]"
      ]
     },
     "metadata": {},
     "output_type": "display_data"
    },
    {
     "data": {
      "application/vnd.jupyter.widget-view+json": {
       "model_id": "faebd7a054a44e8e9bea6b09b2017adc",
       "version_major": 2,
       "version_minor": 0
      },
      "text/plain": [
       "Downloading:   0%|          | 0.00/523M [00:00<?, ?B/s]"
      ]
     },
     "metadata": {},
     "output_type": "display_data"
    },
    {
     "data": {
      "application/vnd.jupyter.widget-view+json": {
       "model_id": "251db8739e68438b84aeda76801c7353",
       "version_major": 2,
       "version_minor": 0
      },
      "text/plain": [
       "Downloading:   0%|          | 0.00/0.99M [00:00<?, ?B/s]"
      ]
     },
     "metadata": {},
     "output_type": "display_data"
    },
    {
     "data": {
      "application/vnd.jupyter.widget-view+json": {
       "model_id": "d314a847c09b45d0b1a3e88671848cee",
       "version_major": 2,
       "version_minor": 0
      },
      "text/plain": [
       "Downloading:   0%|          | 0.00/446k [00:00<?, ?B/s]"
      ]
     },
     "metadata": {},
     "output_type": "display_data"
    },
    {
     "data": {
      "application/vnd.jupyter.widget-view+json": {
       "model_id": "fc544af4069e476cb31462614ae3ede2",
       "version_major": 2,
       "version_minor": 0
      },
      "text/plain": [
       "Downloading:   0%|          | 0.00/1.29M [00:00<?, ?B/s]"
      ]
     },
     "metadata": {},
     "output_type": "display_data"
    },
    {
     "name": "stderr",
     "output_type": "stream",
     "text": [
      "Setting `pad_token_id` to `eos_token_id`:50256 for open-end generation.\n"
     ]
    },
    {
     "data": {
      "text/plain": [
       "[{'generated_text': 'In this course, we will teach you how to use C++ templates in your Java application. But first we will also see how to find the proper path on Android devices.\\n\\nHow Should I Prepare my Google Cloud Apps for a Virtual Machine ('}]"
      ]
     },
     "execution_count": 3,
     "metadata": {},
     "output_type": "execute_result"
    }
   ],
   "source": [
    "from transformers import pipeline\n",
    "\n",
    "generator = pipeline(\"text-generation\")\n",
    "generator(\"In this course, we will teach you how to\")"
   ]
  },
  {
   "cell_type": "markdown",
   "id": "11c56c29",
   "metadata": {},
   "source": [
    "This seems fun. I can generate a story to read or start writing."
   ]
  },
  {
   "cell_type": "code",
   "execution_count": 4,
   "id": "d0efb0ec",
   "metadata": {},
   "outputs": [
    {
     "name": "stderr",
     "output_type": "stream",
     "text": [
      "Setting `pad_token_id` to `eos_token_id`:50256 for open-end generation.\n"
     ]
    },
    {
     "data": {
      "text/plain": [
       "[{'generated_text': 'When I go to grocery shopping, \\xa0I often try to give my daughter an empty bag and just leave it on the counter until she\\'s done. I tell her my favorite foods, when she asks I\\'ve had a \"temptation.\"'}]"
      ]
     },
     "execution_count": 4,
     "metadata": {},
     "output_type": "execute_result"
    }
   ],
   "source": [
    "generator(\"When I go to grocery shopping, \")"
   ]
  },
  {
   "cell_type": "markdown",
   "id": "556f1574",
   "metadata": {},
   "source": [
    "When I don't know what I want to eat for dinner, I can generate an answer."
   ]
  },
  {
   "cell_type": "code",
   "execution_count": 7,
   "id": "ba113ac5",
   "metadata": {},
   "outputs": [
    {
     "name": "stderr",
     "output_type": "stream",
     "text": [
      "Setting `pad_token_id` to `eos_token_id`:50256 for open-end generation.\n"
     ]
    },
    {
     "data": {
      "text/plain": [
       "[{'generated_text': 'For dinner, I want to eat iced coffee with a bunch of coffee grilling to a taste soapy and not overly spicy.\\n\\nThen I want to cook my dessert with cream cheese and a couple of chopped berries on top. If I'}]"
      ]
     },
     "execution_count": 7,
     "metadata": {},
     "output_type": "execute_result"
    }
   ],
   "source": [
    "generator(\"For dinner, I want to eat \")"
   ]
  },
  {
   "cell_type": "markdown",
   "id": "c852fa46",
   "metadata": {},
   "source": [
    "I can even figure out the meaning of life."
   ]
  },
  {
   "cell_type": "code",
   "execution_count": 6,
   "id": "6b3cf828",
   "metadata": {},
   "outputs": [
    {
     "name": "stderr",
     "output_type": "stream",
     "text": [
      "Setting `pad_token_id` to `eos_token_id`:50256 for open-end generation.\n"
     ]
    },
    {
     "data": {
      "text/plain": [
       "[{'generated_text': 'Meaning of life is \\xa0a gift that gives you that life you\\'ve always wanted or will forever have. What other value does life have? A big part of this \"big life\" is a little thing called the self.\\xa0 You\\'re'}]"
      ]
     },
     "execution_count": 6,
     "metadata": {},
     "output_type": "execute_result"
    }
   ],
   "source": [
    "generator(\"Meaning of life is \")"
   ]
  },
  {
   "cell_type": "markdown",
   "id": "f291a8a5",
   "metadata": {},
   "source": [
    "With <code>num_return_sequences</code>, I can get more options to choose from."
   ]
  },
  {
   "cell_type": "code",
   "execution_count": 9,
   "id": "be5eaf22",
   "metadata": {},
   "outputs": [
    {
     "name": "stderr",
     "output_type": "stream",
     "text": [
      "Setting `pad_token_id` to `eos_token_id`:50256 for open-end generation.\n"
     ]
    },
    {
     "data": {
      "text/plain": [
       "[{'generated_text': \"For the vacation, I want to \\xa0try out my new wardrobe. After seeing the runway, I love the look I've got here; I've had so much fun. I really feel like I'm getting my legs built because of these changes\"},\n",
       " {'generated_text': 'For the vacation, I want to \\xa0just relax a little bit and go for a walk and a little yoga.\\xa0 I do a lot of meditation exercises to break my hang-ups (and I did a lot of my relaxation stuff before I'}]"
      ]
     },
     "execution_count": 9,
     "metadata": {},
     "output_type": "execute_result"
    }
   ],
   "source": [
    "generator(\"For the vacation, I want to \", num_return_sequences=2)"
   ]
  },
  {
   "cell_type": "markdown",
   "id": "68187999",
   "metadata": {},
   "source": [
    "When I want shorter options, I can limit it with <code>max_length</code>."
   ]
  },
  {
   "cell_type": "code",
   "execution_count": 11,
   "id": "92e3cf67",
   "metadata": {},
   "outputs": [
    {
     "name": "stderr",
     "output_type": "stream",
     "text": [
      "Setting `pad_token_id` to `eos_token_id`:50256 for open-end generation.\n"
     ]
    },
    {
     "data": {
      "text/plain": [
       "[{'generated_text': 'When I visited Uzbekistan, \\xa0I learnt through word of mouth that this town was a major'},\n",
       " {'generated_text': 'When I visited Uzbekistan, \\xa0I came across some fantastic stories from that country.\\xa0\\n'},\n",
       " {'generated_text': \"When I visited Uzbekistan, \\xa0it's been my job to show our country what it does\"}]"
      ]
     },
     "execution_count": 11,
     "metadata": {},
     "output_type": "execute_result"
    }
   ],
   "source": [
    "generator(\"When I visited Uzbekistan, \", max_length=20, num_return_sequences=3)"
   ]
  }
 ],
 "metadata": {
  "kernelspec": {
   "display_name": "Python 3 (ipykernel)",
   "language": "python",
   "name": "python3"
  },
  "language_info": {
   "codemirror_mode": {
    "name": "ipython",
    "version": 3
   },
   "file_extension": ".py",
   "mimetype": "text/x-python",
   "name": "python",
   "nbconvert_exporter": "python",
   "pygments_lexer": "ipython3",
   "version": "3.9.7"
  }
 },
 "nbformat": 4,
 "nbformat_minor": 5
}
